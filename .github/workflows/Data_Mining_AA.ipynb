{
 "cells": [
  {
   "cell_type": "markdown",
   "metadata": {},
   "source": [
    "<center><h1 style='color: ##154360; font-size: 70px'>Data Mining</h1></center>\n",
    "<center><h2 style='color: #FFC300'>Group Project</h2></center>\n",
    "<center><h3 style='color: #FF5733'>Group AA </h3></center>\n",
    "<center><h5 style='font-weight:normal; font-style: normal;'>Abdallah Zaher, ?</h5></center>\n",
    "<center><h5 style='font-weight:normal; font-style: normal;'>Cristina Mousinho, M20190303</h5></center>\n",
    "<center><h5 style='font-weight:normal; font-style: normal;'>Gabriel Ravi, ?</h5></center>"
   ]
  },
  {
   "cell_type": "markdown",
   "metadata": {},
   "source": [
    "<b style='color: ##154360;font-size:19px'>Table of contents</b>\n",
    "<ul>\n",
    "    <li><a href=\"#intro\">Introduction</a></li>\n",
    "    <li><a href=\"#understanding\">Business Understanding</a></li>\n",
    "    <li><a href=\"#understanding\">Data Understanding </a></li>\n",
    "    <li><a href=\"#references\">References </a></li>\n",
    "</ul>"
   ]
  },
  {
   "cell_type": "markdown",
   "metadata": {},
   "source": [
    "<hr>\n",
    "<b style='color: ##154360;font-size:19px' id=\"intro\"> Introduction</b>"
   ]
  },
  {
   "cell_type": "markdown",
   "metadata": {},
   "source": [
    "As part of the 2019 Data Mining course for the Master in Data Sience and Advanced Analytics, we were challenged to see ourselves as part of a fictional insurance company located in Portugal. \n",
    "We were given a data set to work with, from each we are expected to find different costumers' profiles, to group them and to recommend marketing approachs based on those clusters.\n",
    "\n",
    "By the end of this report, we should not only have an understanding of how our costumers' behave and how we can group them, but also a way to explain our findings and what could be done with them to the Marketing Department of our company. \n",
    "\n",
    "We will begin by understading the business we were asked to imagine ourselves in. After we feel confortable with our knowledge on the subject, we will move on to getting to know the provided data. An analysis of each factor will be conducted. In this first stage, we will most likely face problems with our data. If so, the next step will be to take a closer look at those problems and find solutions for each of them. "
   ]
  },
  {
   "cell_type": "markdown",
   "metadata": {},
   "source": [
    "<hr>\n",
    "<b style='color: ##154360;font-size:19px' id=\"understanding\">Business Understanding </b>"
   ]
  },
  {
   "cell_type": "markdown",
   "metadata": {},
   "source": [
    "<b style=\"color:#FF5733\">Setting bussiness goals</b>"
   ]
  },
  {
   "cell_type": "markdown",
   "metadata": {},
   "source": [
    "As stated already, the aim is to deliver insights to the Marketing Departament of the ensurance company. <br>\n",
    "We know the end goal for a company is always to generate more profit. <br>\n",
    "So even though our job is to group costumers into clusters, it is very important to keep in mind which clients bring us more profits (higher customer monetary value), and smaller losses (lower claim rates). <br>\n",
    "Eventually we will want to target new costumers, but the ones we already have may also become interested in new premiums, so we definetly can't forget them!"
   ]
  },
  {
   "cell_type": "markdown",
   "metadata": {},
   "source": [
    "<b style=\"color:#FF5733\">Setting data mining goals</b>"
   ]
  },
  {
   "cell_type": "markdown",
   "metadata": {},
   "source": [
    "<p style='color:red; font-size:20px'>\" define the criteria for a successful outcome to the project in technical terms—for example, a certain level of predictive accuracy or a propensity-to-purchase profile with a given degree of “lift.” As with business success criteria, it may be necessary to describe these in subjective terms, in which case the person or persons making the subjective judgment should be identified. \"</p>"
   ]
  },
  {
   "cell_type": "markdown",
   "metadata": {},
   "source": [
    "<hr>\n",
    "<b style='color: ##154360;font-size:19px' id=\"understanding\">Data Understanding </b>"
   ]
  },
  {
   "cell_type": "markdown",
   "metadata": {},
   "source": [
    "<b style=\"color:#FF5733\">Getting to know the data</b>"
   ]
  },
  {
   "cell_type": "code",
   "execution_count": 1,
   "metadata": {},
   "outputs": [],
   "source": [
    "import numpy as np\n",
    "import pandas as pd \n",
    "import matplotlib.pyplot as plt\n",
    "%matplotlib inline\n",
    "import seaborn as sns\n",
    "\n",
    "import statsmodels.api as sm\n",
    "from sklearn import linear_model\n",
    "from copy import deepcopy"
   ]
  },
  {
   "cell_type": "code",
   "execution_count": 2,
   "metadata": {},
   "outputs": [
    {
     "data": {
      "text/html": [
       "<div>\n",
       "<style scoped>\n",
       "    .dataframe tbody tr th:only-of-type {\n",
       "        vertical-align: middle;\n",
       "    }\n",
       "\n",
       "    .dataframe tbody tr th {\n",
       "        vertical-align: top;\n",
       "    }\n",
       "\n",
       "    .dataframe thead th {\n",
       "        text-align: right;\n",
       "    }\n",
       "</style>\n",
       "<table border=\"1\" class=\"dataframe\">\n",
       "  <thead>\n",
       "    <tr style=\"text-align: right;\">\n",
       "      <th></th>\n",
       "      <th>First Policy´s Year</th>\n",
       "      <th>Brithday Year</th>\n",
       "      <th>Educational Degree</th>\n",
       "      <th>Gross Monthly Salary</th>\n",
       "      <th>Geographic Living Area</th>\n",
       "      <th>Has Children (Y=1)</th>\n",
       "      <th>Customer Monetary Value</th>\n",
       "      <th>Claims Rate</th>\n",
       "      <th>Premiums in LOB: Motor</th>\n",
       "      <th>Premiums in LOB: Household</th>\n",
       "      <th>Premiums in LOB: Health</th>\n",
       "      <th>Premiums in LOB:  Life</th>\n",
       "      <th>Premiums in LOB: Work Compensations</th>\n",
       "    </tr>\n",
       "    <tr>\n",
       "      <th>Customer Identity</th>\n",
       "      <th></th>\n",
       "      <th></th>\n",
       "      <th></th>\n",
       "      <th></th>\n",
       "      <th></th>\n",
       "      <th></th>\n",
       "      <th></th>\n",
       "      <th></th>\n",
       "      <th></th>\n",
       "      <th></th>\n",
       "      <th></th>\n",
       "      <th></th>\n",
       "      <th></th>\n",
       "    </tr>\n",
       "  </thead>\n",
       "  <tbody>\n",
       "    <tr>\n",
       "      <th>1</th>\n",
       "      <td>1985.0</td>\n",
       "      <td>1982.0</td>\n",
       "      <td>2 - High School</td>\n",
       "      <td>2177.0</td>\n",
       "      <td>1.0</td>\n",
       "      <td>1.0</td>\n",
       "      <td>380.97</td>\n",
       "      <td>0.39</td>\n",
       "      <td>375.85</td>\n",
       "      <td>79.45</td>\n",
       "      <td>146.36</td>\n",
       "      <td>47.01</td>\n",
       "      <td>16.89</td>\n",
       "    </tr>\n",
       "    <tr>\n",
       "      <th>2</th>\n",
       "      <td>1981.0</td>\n",
       "      <td>1995.0</td>\n",
       "      <td>2 - High School</td>\n",
       "      <td>677.0</td>\n",
       "      <td>4.0</td>\n",
       "      <td>1.0</td>\n",
       "      <td>-131.13</td>\n",
       "      <td>1.12</td>\n",
       "      <td>77.46</td>\n",
       "      <td>416.20</td>\n",
       "      <td>116.69</td>\n",
       "      <td>194.48</td>\n",
       "      <td>106.13</td>\n",
       "    </tr>\n",
       "    <tr>\n",
       "      <th>3</th>\n",
       "      <td>1991.0</td>\n",
       "      <td>1970.0</td>\n",
       "      <td>1 - Basic</td>\n",
       "      <td>2277.0</td>\n",
       "      <td>3.0</td>\n",
       "      <td>0.0</td>\n",
       "      <td>504.67</td>\n",
       "      <td>0.28</td>\n",
       "      <td>206.15</td>\n",
       "      <td>224.50</td>\n",
       "      <td>124.58</td>\n",
       "      <td>86.35</td>\n",
       "      <td>99.02</td>\n",
       "    </tr>\n",
       "    <tr>\n",
       "      <th>4</th>\n",
       "      <td>1990.0</td>\n",
       "      <td>1981.0</td>\n",
       "      <td>3 - BSc/MSc</td>\n",
       "      <td>1099.0</td>\n",
       "      <td>4.0</td>\n",
       "      <td>1.0</td>\n",
       "      <td>-16.99</td>\n",
       "      <td>0.99</td>\n",
       "      <td>182.48</td>\n",
       "      <td>43.35</td>\n",
       "      <td>311.17</td>\n",
       "      <td>35.34</td>\n",
       "      <td>28.34</td>\n",
       "    </tr>\n",
       "    <tr>\n",
       "      <th>5</th>\n",
       "      <td>1986.0</td>\n",
       "      <td>1973.0</td>\n",
       "      <td>3 - BSc/MSc</td>\n",
       "      <td>1763.0</td>\n",
       "      <td>4.0</td>\n",
       "      <td>1.0</td>\n",
       "      <td>35.23</td>\n",
       "      <td>0.90</td>\n",
       "      <td>338.62</td>\n",
       "      <td>47.80</td>\n",
       "      <td>182.59</td>\n",
       "      <td>18.78</td>\n",
       "      <td>41.45</td>\n",
       "    </tr>\n",
       "  </tbody>\n",
       "</table>\n",
       "</div>"
      ],
      "text/plain": [
       "                   First Policy´s Year  Brithday Year Educational Degree  \\\n",
       "Customer Identity                                                          \n",
       "1                               1985.0         1982.0    2 - High School   \n",
       "2                               1981.0         1995.0    2 - High School   \n",
       "3                               1991.0         1970.0          1 - Basic   \n",
       "4                               1990.0         1981.0        3 - BSc/MSc   \n",
       "5                               1986.0         1973.0        3 - BSc/MSc   \n",
       "\n",
       "                   Gross Monthly Salary  Geographic Living Area  \\\n",
       "Customer Identity                                                 \n",
       "1                                2177.0                     1.0   \n",
       "2                                 677.0                     4.0   \n",
       "3                                2277.0                     3.0   \n",
       "4                                1099.0                     4.0   \n",
       "5                                1763.0                     4.0   \n",
       "\n",
       "                   Has Children (Y=1)  Customer Monetary Value  Claims Rate  \\\n",
       "Customer Identity                                                             \n",
       "1                                 1.0                   380.97         0.39   \n",
       "2                                 1.0                  -131.13         1.12   \n",
       "3                                 0.0                   504.67         0.28   \n",
       "4                                 1.0                   -16.99         0.99   \n",
       "5                                 1.0                    35.23         0.90   \n",
       "\n",
       "                   Premiums in LOB: Motor  Premiums in LOB: Household  \\\n",
       "Customer Identity                                                       \n",
       "1                                  375.85                       79.45   \n",
       "2                                   77.46                      416.20   \n",
       "3                                  206.15                      224.50   \n",
       "4                                  182.48                       43.35   \n",
       "5                                  338.62                       47.80   \n",
       "\n",
       "                   Premiums in LOB: Health  Premiums in LOB:  Life  \\\n",
       "Customer Identity                                                    \n",
       "1                                   146.36                   47.01   \n",
       "2                                   116.69                  194.48   \n",
       "3                                   124.58                   86.35   \n",
       "4                                   311.17                   35.34   \n",
       "5                                   182.59                   18.78   \n",
       "\n",
       "                   Premiums in LOB: Work Compensations  \n",
       "Customer Identity                                       \n",
       "1                                                16.89  \n",
       "2                                               106.13  \n",
       "3                                                99.02  \n",
       "4                                                28.34  \n",
       "5                                                41.45  "
      ]
     },
     "execution_count": 2,
     "metadata": {},
     "output_type": "execute_result"
    }
   ],
   "source": [
    "insurance_df = pd.read_csv('A2Z_Insurance.csv', index_col = ['Customer Identity']) # Loading the provided data\n",
    "insurance_df.head() # Checking features and the first 5 rows"
   ]
  },
  {
   "cell_type": "code",
   "execution_count": 3,
   "metadata": {
    "scrolled": true
   },
   "outputs": [
    {
     "name": "stdout",
     "output_type": "stream",
     "text": [
      "<class 'pandas.core.frame.DataFrame'>\n",
      "Int64Index: 10296 entries, 1 to 10296\n",
      "Data columns (total 13 columns):\n",
      "First Policy´s Year                    10266 non-null float64\n",
      "Brithday Year                          10279 non-null float64\n",
      "Educational Degree                     10279 non-null object\n",
      "Gross Monthly Salary                   10260 non-null float64\n",
      "Geographic Living Area                 10295 non-null float64\n",
      "Has Children (Y=1)                     10275 non-null float64\n",
      "Customer Monetary Value                10296 non-null float64\n",
      "Claims Rate                            10296 non-null float64\n",
      "Premiums in LOB: Motor                 10262 non-null float64\n",
      "Premiums in LOB: Household             10296 non-null float64\n",
      "Premiums in LOB: Health                10253 non-null float64\n",
      "Premiums in LOB:  Life                 10192 non-null float64\n",
      "Premiums in LOB: Work Compensations    10210 non-null float64\n",
      "dtypes: float64(12), object(1)\n",
      "memory usage: 1.1+ MB\n"
     ]
    }
   ],
   "source": [
    "insurance_df.info() # Checking columns and their types"
   ]
  },
  {
   "cell_type": "markdown",
   "metadata": {},
   "source": [
    "Even though only one of our columns is categorized as an object, it is important to keep in mind that some of the others are categorical and not numerical variables. To make sure we don't get confused, let's list our variables and their type of measurement scale: <br>\n",
    "\n",
    "<b> Categorical: nominal </b>\n",
    "<ul><li>Educational Degree</li>\n",
    "    <li>Geographic Living Area</li>\n",
    "    <li>Has Children (Y=1)</li></ul>\n",
    "    \n",
    "<b> Numerical: ratio </b>\n",
    "<ul><li>First Policy´s Year</li>\n",
    "    <li>Brithday Year</li>\n",
    "    <li>Gross Monthly Salary</li>\n",
    "    <li>Claims Rate</li>\n",
    "    <li>Customer Monetary Value</li>\n",
    "    <li>Premiums in LOB: Motor</li>\n",
    "    <li>Premiums in LOB: Household</li>\n",
    "    <li>Premiums in LOB: Health</li>\n",
    "    <li>Premiums in LOB: Life</li>\n",
    "    <li>Premiums in LOB: Work Compensations</li></ul>"
   ]
  },
  {
   "cell_type": "code",
   "execution_count": 4,
   "metadata": {},
   "outputs": [],
   "source": [
    "nominal = ['Educational Degree','Geographic Living Area','Has Children (Y=1)']\n",
    "ratio = ['First Policy´s Year','Brithday Year','Gross Monthly Salary','Claims Rate','Customer Monetary Value',\n",
    "         'Premiums in LOB: Motor','Premiums in LOB: Household','Premiums in LOB: Health','Premiums in LOB:  Life',\n",
    "         'Premiums in LOB: Work Compensations']"
   ]
  },
  {
   "cell_type": "markdown",
   "metadata": {},
   "source": [
    "<b style=\"color:#FF5733\">Exploring the data and verifying its quality</b>"
   ]
  },
  {
   "cell_type": "code",
   "execution_count": 5,
   "metadata": {},
   "outputs": [
    {
     "data": {
      "text/html": [
       "<div>\n",
       "<style scoped>\n",
       "    .dataframe tbody tr th:only-of-type {\n",
       "        vertical-align: middle;\n",
       "    }\n",
       "\n",
       "    .dataframe tbody tr th {\n",
       "        vertical-align: top;\n",
       "    }\n",
       "\n",
       "    .dataframe thead th {\n",
       "        text-align: right;\n",
       "    }\n",
       "</style>\n",
       "<table border=\"1\" class=\"dataframe\">\n",
       "  <thead>\n",
       "    <tr style=\"text-align: right;\">\n",
       "      <th></th>\n",
       "      <th>Educational Degree</th>\n",
       "      <th>Geographic Living Area</th>\n",
       "      <th>Has Children (Y=1)</th>\n",
       "    </tr>\n",
       "  </thead>\n",
       "  <tbody>\n",
       "    <tr>\n",
       "      <th>count</th>\n",
       "      <td>10279</td>\n",
       "      <td>10295.0</td>\n",
       "      <td>10275.0</td>\n",
       "    </tr>\n",
       "    <tr>\n",
       "      <th>unique</th>\n",
       "      <td>4</td>\n",
       "      <td>4.0</td>\n",
       "      <td>2.0</td>\n",
       "    </tr>\n",
       "    <tr>\n",
       "      <th>top</th>\n",
       "      <td>3 - BSc/MSc</td>\n",
       "      <td>4.0</td>\n",
       "      <td>1.0</td>\n",
       "    </tr>\n",
       "    <tr>\n",
       "      <th>freq</th>\n",
       "      <td>4799</td>\n",
       "      <td>4145.0</td>\n",
       "      <td>7262.0</td>\n",
       "    </tr>\n",
       "  </tbody>\n",
       "</table>\n",
       "</div>"
      ],
      "text/plain": [
       "       Educational Degree  Geographic Living Area  Has Children (Y=1)\n",
       "count               10279                 10295.0             10275.0\n",
       "unique                  4                     4.0                 2.0\n",
       "top           3 - BSc/MSc                     4.0                 1.0\n",
       "freq                 4799                  4145.0              7262.0"
      ]
     },
     "execution_count": 5,
     "metadata": {},
     "output_type": "execute_result"
    }
   ],
   "source": [
    "# Getting information on nominal variables\n",
    "insurance_df[nominal] = insurance_df[nominal].astype(object)\n",
    "insurance_df[nominal].describe(include='all')"
   ]
  },
  {
   "cell_type": "code",
   "execution_count": 6,
   "metadata": {},
   "outputs": [
    {
     "data": {
      "text/html": [
       "<div>\n",
       "<style scoped>\n",
       "    .dataframe tbody tr th:only-of-type {\n",
       "        vertical-align: middle;\n",
       "    }\n",
       "\n",
       "    .dataframe tbody tr th {\n",
       "        vertical-align: top;\n",
       "    }\n",
       "\n",
       "    .dataframe thead th {\n",
       "        text-align: right;\n",
       "    }\n",
       "</style>\n",
       "<table border=\"1\" class=\"dataframe\">\n",
       "  <thead>\n",
       "    <tr style=\"text-align: right;\">\n",
       "      <th></th>\n",
       "      <th>First Policy´s Year</th>\n",
       "      <th>Brithday Year</th>\n",
       "      <th>Gross Monthly Salary</th>\n",
       "      <th>Customer Monetary Value</th>\n",
       "      <th>Claims Rate</th>\n",
       "      <th>Premiums in LOB: Motor</th>\n",
       "      <th>Premiums in LOB: Household</th>\n",
       "      <th>Premiums in LOB: Health</th>\n",
       "      <th>Premiums in LOB:  Life</th>\n",
       "      <th>Premiums in LOB: Work Compensations</th>\n",
       "    </tr>\n",
       "  </thead>\n",
       "  <tbody>\n",
       "    <tr>\n",
       "      <th>count</th>\n",
       "      <td>10266.000000</td>\n",
       "      <td>10279.000000</td>\n",
       "      <td>10260.000000</td>\n",
       "      <td>10296.000000</td>\n",
       "      <td>10296.000000</td>\n",
       "      <td>10262.000000</td>\n",
       "      <td>10296.000000</td>\n",
       "      <td>10253.000000</td>\n",
       "      <td>10192.000000</td>\n",
       "      <td>10210.000000</td>\n",
       "    </tr>\n",
       "    <tr>\n",
       "      <th>mean</th>\n",
       "      <td>1991.062634</td>\n",
       "      <td>1968.007783</td>\n",
       "      <td>2506.667057</td>\n",
       "      <td>177.892605</td>\n",
       "      <td>0.742772</td>\n",
       "      <td>300.470252</td>\n",
       "      <td>210.431192</td>\n",
       "      <td>171.580833</td>\n",
       "      <td>41.855782</td>\n",
       "      <td>41.277514</td>\n",
       "    </tr>\n",
       "    <tr>\n",
       "      <th>std</th>\n",
       "      <td>511.267913</td>\n",
       "      <td>19.709476</td>\n",
       "      <td>1157.449634</td>\n",
       "      <td>1945.811505</td>\n",
       "      <td>2.916964</td>\n",
       "      <td>211.914997</td>\n",
       "      <td>352.595984</td>\n",
       "      <td>296.405976</td>\n",
       "      <td>47.480632</td>\n",
       "      <td>51.513572</td>\n",
       "    </tr>\n",
       "    <tr>\n",
       "      <th>min</th>\n",
       "      <td>1974.000000</td>\n",
       "      <td>1028.000000</td>\n",
       "      <td>333.000000</td>\n",
       "      <td>-165680.420000</td>\n",
       "      <td>0.000000</td>\n",
       "      <td>-4.110000</td>\n",
       "      <td>-75.000000</td>\n",
       "      <td>-2.110000</td>\n",
       "      <td>-7.000000</td>\n",
       "      <td>-12.000000</td>\n",
       "    </tr>\n",
       "    <tr>\n",
       "      <th>25%</th>\n",
       "      <td>1980.000000</td>\n",
       "      <td>1953.000000</td>\n",
       "      <td>1706.000000</td>\n",
       "      <td>-9.440000</td>\n",
       "      <td>0.390000</td>\n",
       "      <td>190.590000</td>\n",
       "      <td>49.450000</td>\n",
       "      <td>111.800000</td>\n",
       "      <td>9.890000</td>\n",
       "      <td>10.670000</td>\n",
       "    </tr>\n",
       "    <tr>\n",
       "      <th>50%</th>\n",
       "      <td>1986.000000</td>\n",
       "      <td>1968.000000</td>\n",
       "      <td>2501.500000</td>\n",
       "      <td>186.870000</td>\n",
       "      <td>0.720000</td>\n",
       "      <td>298.610000</td>\n",
       "      <td>132.800000</td>\n",
       "      <td>162.810000</td>\n",
       "      <td>25.560000</td>\n",
       "      <td>25.670000</td>\n",
       "    </tr>\n",
       "    <tr>\n",
       "      <th>75%</th>\n",
       "      <td>1992.000000</td>\n",
       "      <td>1983.000000</td>\n",
       "      <td>3290.250000</td>\n",
       "      <td>399.777500</td>\n",
       "      <td>0.980000</td>\n",
       "      <td>408.300000</td>\n",
       "      <td>290.050000</td>\n",
       "      <td>219.820000</td>\n",
       "      <td>57.790000</td>\n",
       "      <td>56.790000</td>\n",
       "    </tr>\n",
       "    <tr>\n",
       "      <th>max</th>\n",
       "      <td>53784.000000</td>\n",
       "      <td>2001.000000</td>\n",
       "      <td>55215.000000</td>\n",
       "      <td>11875.890000</td>\n",
       "      <td>256.200000</td>\n",
       "      <td>11604.420000</td>\n",
       "      <td>25048.800000</td>\n",
       "      <td>28272.000000</td>\n",
       "      <td>398.300000</td>\n",
       "      <td>1988.700000</td>\n",
       "    </tr>\n",
       "  </tbody>\n",
       "</table>\n",
       "</div>"
      ],
      "text/plain": [
       "       First Policy´s Year  Brithday Year  Gross Monthly Salary  \\\n",
       "count         10266.000000   10279.000000          10260.000000   \n",
       "mean           1991.062634    1968.007783           2506.667057   \n",
       "std             511.267913      19.709476           1157.449634   \n",
       "min            1974.000000    1028.000000            333.000000   \n",
       "25%            1980.000000    1953.000000           1706.000000   \n",
       "50%            1986.000000    1968.000000           2501.500000   \n",
       "75%            1992.000000    1983.000000           3290.250000   \n",
       "max           53784.000000    2001.000000          55215.000000   \n",
       "\n",
       "       Customer Monetary Value   Claims Rate  Premiums in LOB: Motor  \\\n",
       "count             10296.000000  10296.000000            10262.000000   \n",
       "mean                177.892605      0.742772              300.470252   \n",
       "std                1945.811505      2.916964              211.914997   \n",
       "min             -165680.420000      0.000000               -4.110000   \n",
       "25%                  -9.440000      0.390000              190.590000   \n",
       "50%                 186.870000      0.720000              298.610000   \n",
       "75%                 399.777500      0.980000              408.300000   \n",
       "max               11875.890000    256.200000            11604.420000   \n",
       "\n",
       "       Premiums in LOB: Household  Premiums in LOB: Health  \\\n",
       "count                10296.000000             10253.000000   \n",
       "mean                   210.431192               171.580833   \n",
       "std                    352.595984               296.405976   \n",
       "min                    -75.000000                -2.110000   \n",
       "25%                     49.450000               111.800000   \n",
       "50%                    132.800000               162.810000   \n",
       "75%                    290.050000               219.820000   \n",
       "max                  25048.800000             28272.000000   \n",
       "\n",
       "       Premiums in LOB:  Life  Premiums in LOB: Work Compensations  \n",
       "count            10192.000000                         10210.000000  \n",
       "mean                41.855782                            41.277514  \n",
       "std                 47.480632                            51.513572  \n",
       "min                 -7.000000                           -12.000000  \n",
       "25%                  9.890000                            10.670000  \n",
       "50%                 25.560000                            25.670000  \n",
       "75%                 57.790000                            56.790000  \n",
       "max                398.300000                          1988.700000  "
      ]
     },
     "execution_count": 6,
     "metadata": {},
     "output_type": "execute_result"
    }
   ],
   "source": [
    "# Getting information on numerical variables\n",
    "insurance_df.describe() "
   ]
  },
  {
   "cell_type": "code",
   "execution_count": 7,
   "metadata": {},
   "outputs": [
    {
     "data": {
      "text/plain": [
       "First Policy´s Year                     30\n",
       "Brithday Year                           17\n",
       "Educational Degree                      17\n",
       "Gross Monthly Salary                    36\n",
       "Geographic Living Area                   1\n",
       "Has Children (Y=1)                      21\n",
       "Customer Monetary Value                  0\n",
       "Claims Rate                              0\n",
       "Premiums in LOB: Motor                  34\n",
       "Premiums in LOB: Household               0\n",
       "Premiums in LOB: Health                 43\n",
       "Premiums in LOB:  Life                 104\n",
       "Premiums in LOB: Work Compensations     86\n",
       "dtype: int64"
      ]
     },
     "execution_count": 7,
     "metadata": {},
     "output_type": "execute_result"
    }
   ],
   "source": [
    "insurance_df.isna().sum()"
   ]
  },
  {
   "cell_type": "markdown",
   "metadata": {},
   "source": [
    "Just by a simple overlook of our data, we can already detect some mistakes present in it: the first policy's year takes numbers up to 53784, a year which we are clearly very far away from reaching, and there's at least one costumer born in 1028, which is just impossible.<br>\n",
    "Also, we have a lot of missing information.<br>\n",
    "Let's start by solving these problems. "
   ]
  },
  {
   "cell_type": "markdown",
   "metadata": {},
   "source": [
    "<hr>\n",
    "<b style='color: ##154360;font-size:19px' id=\"preparation\">Data Preparation</b>"
   ]
  },
  {
   "cell_type": "markdown",
   "metadata": {},
   "source": [
    "Since we only have 13 features and all of them can influence our final results, we won't get rid of any of them. \n",
    "In this step, we will start by creating new features from the existent ones.<br>"
   ]
  },
  {
   "cell_type": "markdown",
   "metadata": {},
   "source": [
    "<b style=\"color:#FF5733\">Creating features</b>"
   ]
  },
  {
   "cell_type": "code",
   "execution_count": 8,
   "metadata": {},
   "outputs": [
    {
     "data": {
      "text/html": [
       "<div>\n",
       "<style scoped>\n",
       "    .dataframe tbody tr th:only-of-type {\n",
       "        vertical-align: middle;\n",
       "    }\n",
       "\n",
       "    .dataframe tbody tr th {\n",
       "        vertical-align: top;\n",
       "    }\n",
       "\n",
       "    .dataframe thead th {\n",
       "        text-align: right;\n",
       "    }\n",
       "</style>\n",
       "<table border=\"1\" class=\"dataframe\">\n",
       "  <thead>\n",
       "    <tr style=\"text-align: right;\">\n",
       "      <th></th>\n",
       "      <th>First Policy´s Year</th>\n",
       "      <th>Brithday Year</th>\n",
       "      <th>Educational Degree</th>\n",
       "      <th>Gross Monthly Salary</th>\n",
       "      <th>Geographic Living Area</th>\n",
       "      <th>Has Children (Y=1)</th>\n",
       "      <th>Customer Monetary Value</th>\n",
       "      <th>Claims Rate</th>\n",
       "      <th>Premiums in LOB: Motor</th>\n",
       "      <th>Premiums in LOB: Household</th>\n",
       "      <th>Premiums in LOB: Health</th>\n",
       "      <th>Premiums in LOB:  Life</th>\n",
       "      <th>Premiums in LOB: Work Compensations</th>\n",
       "      <th>Age when doing first policy</th>\n",
       "    </tr>\n",
       "    <tr>\n",
       "      <th>Customer Identity</th>\n",
       "      <th></th>\n",
       "      <th></th>\n",
       "      <th></th>\n",
       "      <th></th>\n",
       "      <th></th>\n",
       "      <th></th>\n",
       "      <th></th>\n",
       "      <th></th>\n",
       "      <th></th>\n",
       "      <th></th>\n",
       "      <th></th>\n",
       "      <th></th>\n",
       "      <th></th>\n",
       "      <th></th>\n",
       "    </tr>\n",
       "  </thead>\n",
       "  <tbody>\n",
       "    <tr>\n",
       "      <th>1</th>\n",
       "      <td>1985.0</td>\n",
       "      <td>1982.0</td>\n",
       "      <td>2 - High School</td>\n",
       "      <td>2177.0</td>\n",
       "      <td>1</td>\n",
       "      <td>1</td>\n",
       "      <td>380.97</td>\n",
       "      <td>0.39</td>\n",
       "      <td>375.85</td>\n",
       "      <td>79.45</td>\n",
       "      <td>146.36</td>\n",
       "      <td>47.01</td>\n",
       "      <td>16.89</td>\n",
       "      <td>3.0</td>\n",
       "    </tr>\n",
       "    <tr>\n",
       "      <th>2</th>\n",
       "      <td>1981.0</td>\n",
       "      <td>1995.0</td>\n",
       "      <td>2 - High School</td>\n",
       "      <td>677.0</td>\n",
       "      <td>4</td>\n",
       "      <td>1</td>\n",
       "      <td>-131.13</td>\n",
       "      <td>1.12</td>\n",
       "      <td>77.46</td>\n",
       "      <td>416.20</td>\n",
       "      <td>116.69</td>\n",
       "      <td>194.48</td>\n",
       "      <td>106.13</td>\n",
       "      <td>-14.0</td>\n",
       "    </tr>\n",
       "    <tr>\n",
       "      <th>3</th>\n",
       "      <td>1991.0</td>\n",
       "      <td>1970.0</td>\n",
       "      <td>1 - Basic</td>\n",
       "      <td>2277.0</td>\n",
       "      <td>3</td>\n",
       "      <td>0</td>\n",
       "      <td>504.67</td>\n",
       "      <td>0.28</td>\n",
       "      <td>206.15</td>\n",
       "      <td>224.50</td>\n",
       "      <td>124.58</td>\n",
       "      <td>86.35</td>\n",
       "      <td>99.02</td>\n",
       "      <td>21.0</td>\n",
       "    </tr>\n",
       "    <tr>\n",
       "      <th>4</th>\n",
       "      <td>1990.0</td>\n",
       "      <td>1981.0</td>\n",
       "      <td>3 - BSc/MSc</td>\n",
       "      <td>1099.0</td>\n",
       "      <td>4</td>\n",
       "      <td>1</td>\n",
       "      <td>-16.99</td>\n",
       "      <td>0.99</td>\n",
       "      <td>182.48</td>\n",
       "      <td>43.35</td>\n",
       "      <td>311.17</td>\n",
       "      <td>35.34</td>\n",
       "      <td>28.34</td>\n",
       "      <td>9.0</td>\n",
       "    </tr>\n",
       "    <tr>\n",
       "      <th>5</th>\n",
       "      <td>1986.0</td>\n",
       "      <td>1973.0</td>\n",
       "      <td>3 - BSc/MSc</td>\n",
       "      <td>1763.0</td>\n",
       "      <td>4</td>\n",
       "      <td>1</td>\n",
       "      <td>35.23</td>\n",
       "      <td>0.90</td>\n",
       "      <td>338.62</td>\n",
       "      <td>47.80</td>\n",
       "      <td>182.59</td>\n",
       "      <td>18.78</td>\n",
       "      <td>41.45</td>\n",
       "      <td>13.0</td>\n",
       "    </tr>\n",
       "  </tbody>\n",
       "</table>\n",
       "</div>"
      ],
      "text/plain": [
       "                   First Policy´s Year  Brithday Year Educational Degree  \\\n",
       "Customer Identity                                                          \n",
       "1                               1985.0         1982.0    2 - High School   \n",
       "2                               1981.0         1995.0    2 - High School   \n",
       "3                               1991.0         1970.0          1 - Basic   \n",
       "4                               1990.0         1981.0        3 - BSc/MSc   \n",
       "5                               1986.0         1973.0        3 - BSc/MSc   \n",
       "\n",
       "                   Gross Monthly Salary Geographic Living Area  \\\n",
       "Customer Identity                                                \n",
       "1                                2177.0                      1   \n",
       "2                                 677.0                      4   \n",
       "3                                2277.0                      3   \n",
       "4                                1099.0                      4   \n",
       "5                                1763.0                      4   \n",
       "\n",
       "                  Has Children (Y=1)  Customer Monetary Value  Claims Rate  \\\n",
       "Customer Identity                                                            \n",
       "1                                  1                   380.97         0.39   \n",
       "2                                  1                  -131.13         1.12   \n",
       "3                                  0                   504.67         0.28   \n",
       "4                                  1                   -16.99         0.99   \n",
       "5                                  1                    35.23         0.90   \n",
       "\n",
       "                   Premiums in LOB: Motor  Premiums in LOB: Household  \\\n",
       "Customer Identity                                                       \n",
       "1                                  375.85                       79.45   \n",
       "2                                   77.46                      416.20   \n",
       "3                                  206.15                      224.50   \n",
       "4                                  182.48                       43.35   \n",
       "5                                  338.62                       47.80   \n",
       "\n",
       "                   Premiums in LOB: Health  Premiums in LOB:  Life  \\\n",
       "Customer Identity                                                    \n",
       "1                                   146.36                   47.01   \n",
       "2                                   116.69                  194.48   \n",
       "3                                   124.58                   86.35   \n",
       "4                                   311.17                   35.34   \n",
       "5                                   182.59                   18.78   \n",
       "\n",
       "                   Premiums in LOB: Work Compensations  \\\n",
       "Customer Identity                                        \n",
       "1                                                16.89   \n",
       "2                                               106.13   \n",
       "3                                                99.02   \n",
       "4                                                28.34   \n",
       "5                                                41.45   \n",
       "\n",
       "                   Age when doing first policy  \n",
       "Customer Identity                               \n",
       "1                                          3.0  \n",
       "2                                        -14.0  \n",
       "3                                         21.0  \n",
       "4                                          9.0  \n",
       "5                                         13.0  "
      ]
     },
     "execution_count": 8,
     "metadata": {},
     "output_type": "execute_result"
    }
   ],
   "source": [
    "insurance_df['Age when doing first policy'] = insurance_df['First Policy´s Year']-insurance_df['Brithday Year']\n",
    "insurance_df.head()"
   ]
  },
  {
   "cell_type": "code",
   "execution_count": 9,
   "metadata": {},
   "outputs": [
    {
     "data": {
      "text/plain": [
       "count    10252.000000\n",
       "mean        23.052087\n",
       "std        512.199471\n",
       "min        -27.000000\n",
       "25%          3.000000\n",
       "50%         18.000000\n",
       "75%         33.000000\n",
       "max      51836.000000\n",
       "Name: Age when doing first policy, dtype: float64"
      ]
     },
     "execution_count": 9,
     "metadata": {},
     "output_type": "execute_result"
    }
   ],
   "source": [
    "insurance_df['Age when doing first policy'].describe() "
   ]
  },
  {
   "cell_type": "markdown",
   "metadata": {},
   "source": [
    "More problems for us: some clients \"were\" -27 years when doing their first policy, which is obviously an error. <br>\n",
    "Also, looks like 25% of our clients were 3 or less years old when doing their first policy, which is again totally impossible. \n",
    "\n",
    "Let's remove this column for now, in order to not have it influence our missing values count (since it is a direct result of two of our columns)"
   ]
  },
  {
   "cell_type": "code",
   "execution_count": 10,
   "metadata": {},
   "outputs": [],
   "source": [
    "insurance_df.drop('Age when doing first policy', axis = 1, inplace=True)"
   ]
  },
  {
   "cell_type": "markdown",
   "metadata": {},
   "source": [
    "<b style=\"color:#FF5733\">Taking care of premiums missing values</b>"
   ]
  },
  {
   "cell_type": "code",
   "execution_count": 11,
   "metadata": {
    "scrolled": false
   },
   "outputs": [
    {
     "name": "stdout",
     "output_type": "stream",
     "text": [
      "--------------- Premiums in LOB: Motor\n",
      "Empty DataFrame\n",
      "Columns: [First Policy´s Year, Brithday Year, Educational Degree, Gross Monthly Salary, Geographic Living Area, Has Children (Y=1), Customer Monetary Value, Claims Rate, Premiums in LOB: Motor, Premiums in LOB: Household, Premiums in LOB: Health, Premiums in LOB:  Life, Premiums in LOB: Work Compensations]\n",
      "Index: []\n",
      "--------------- Premiums in LOB: Health\n",
      "Empty DataFrame\n",
      "Columns: [First Policy´s Year, Brithday Year, Educational Degree, Gross Monthly Salary, Geographic Living Area, Has Children (Y=1), Customer Monetary Value, Claims Rate, Premiums in LOB: Motor, Premiums in LOB: Household, Premiums in LOB: Health, Premiums in LOB:  Life, Premiums in LOB: Work Compensations]\n",
      "Index: []\n",
      "--------------- Premiums in LOB: Life\n",
      "Empty DataFrame\n",
      "Columns: [First Policy´s Year, Brithday Year, Educational Degree, Gross Monthly Salary, Geographic Living Area, Has Children (Y=1), Customer Monetary Value, Claims Rate, Premiums in LOB: Motor, Premiums in LOB: Household, Premiums in LOB: Health, Premiums in LOB:  Life, Premiums in LOB: Work Compensations]\n",
      "Index: []\n",
      "--------------- Premiums in LOB: Work Compensations\n",
      "Empty DataFrame\n",
      "Columns: [First Policy´s Year, Brithday Year, Educational Degree, Gross Monthly Salary, Geographic Living Area, Has Children (Y=1), Customer Monetary Value, Claims Rate, Premiums in LOB: Motor, Premiums in LOB: Household, Premiums in LOB: Health, Premiums in LOB:  Life, Premiums in LOB: Work Compensations]\n",
      "Index: []\n"
     ]
    }
   ],
   "source": [
    "print('--------------- Premiums in LOB: Motor')\n",
    "print(insurance_df.loc[insurance_df['Premiums in LOB: Motor'] == 0])\n",
    "print('--------------- Premiums in LOB: Health')\n",
    "print(insurance_df.loc[insurance_df['Premiums in LOB: Health'] == 0])\n",
    "print('--------------- Premiums in LOB: Life')\n",
    "print(insurance_df.loc[insurance_df['Premiums in LOB:  Life'] == 0])\n",
    "print('--------------- Premiums in LOB: Work Compensations')\n",
    "print(insurance_df.loc[insurance_df['Premiums in LOB: Work Compensations'] == 0])"
   ]
  },
  {
   "cell_type": "markdown",
   "metadata": {},
   "source": [
    "Even though there's still a possibility all this data is actually missing, it does seem like the missing data in these columns represent unexistence of premium contracts and not lack of information. Because of that, let's fill those non-existenting values with 0. "
   ]
  },
  {
   "cell_type": "code",
   "execution_count": 12,
   "metadata": {
    "scrolled": true
   },
   "outputs": [
    {
     "data": {
      "text/plain": [
       "First Policy´s Year                    30\n",
       "Brithday Year                          17\n",
       "Educational Degree                     17\n",
       "Gross Monthly Salary                   36\n",
       "Geographic Living Area                  1\n",
       "Has Children (Y=1)                     21\n",
       "Customer Monetary Value                 0\n",
       "Claims Rate                             0\n",
       "Premiums in LOB: Motor                  0\n",
       "Premiums in LOB: Household              0\n",
       "Premiums in LOB: Health                 0\n",
       "Premiums in LOB:  Life                  0\n",
       "Premiums in LOB: Work Compensations     0\n",
       "dtype: int64"
      ]
     },
     "execution_count": 12,
     "metadata": {},
     "output_type": "execute_result"
    }
   ],
   "source": [
    "insurance_df[['Premiums in LOB: Motor', 'Premiums in LOB: Health',\n",
    "              'Premiums in LOB:  Life',\n",
    "              'Premiums in LOB: Work Compensations']] = insurance_df[['Premiums in LOB: Motor', \n",
    "                                                                      'Premiums in LOB: Health',\n",
    "                                                                      'Premiums in LOB:  Life',\n",
    "                                                                      'Premiums in LOB: Work Compensations']].fillna(value=0)\n",
    "insurance_df.isna().sum()"
   ]
  },
  {
   "cell_type": "markdown",
   "metadata": {},
   "source": [
    "<b style=\"color:#FF5733\">Fiding missing values</b>"
   ]
  },
  {
   "cell_type": "code",
   "execution_count": 13,
   "metadata": {},
   "outputs": [
    {
     "name": "stdout",
     "output_type": "stream",
     "text": [
      "0.8999999999999999% of rows have values missing\n"
     ]
    },
    {
     "data": {
      "text/plain": [
       "(10296, 13)"
      ]
     },
     "execution_count": 13,
     "metadata": {},
     "output_type": "execute_result"
    }
   ],
   "source": [
    "list_missing_data = {}\n",
    "l = len([i for i in (insurance_df.isnull().sum(axis=1)/insurance_df.shape[1]).tolist() if i > 0.0])\n",
    "print(str(round(l/insurance_df.shape[0],3)*100)+\"% of rows have values missing\")\n",
    "\n",
    "insurance_df.shape"
   ]
  },
  {
   "cell_type": "markdown",
   "metadata": {},
   "source": [
    "<b style=\"color:#FF5733\">Filling missing values</b>"
   ]
  },
  {
   "cell_type": "markdown",
   "metadata": {},
   "source": [
    "Using only the rows with no missing data, we will take 75% of them and use them to make predictions on the other 25%. <br>"
   ]
  },
  {
   "cell_type": "code",
   "execution_count": 24,
   "metadata": {},
   "outputs": [
    {
     "name": "stdout",
     "output_type": "stream",
     "text": [
      "[630, 6091, 8207, 9233, 10139, 1504, 8801, 3207, 6780, 2409, 7683, 5725, 8047, 2727, 9131, 5091, 1301, 8201, 9648, 335, 9870, 8150, 8600, 9246, 3268, 9197, 9451, 4762, 3582, 5166, 6029, 8060, 3224, 241, 8800, 401, 8880, 1863, 4120, 5620, 3765, 187, 747, 2684, 4676, 1262, 2971, 4663, 7368, 2974, 9700, 8580, 243, 6591, 4386, 699, 6805, 1855, 8072, 2480, 8348, 4077, 7738, 6345, 5866, 5873, 1157, 4849, 8943, 7673, 8312, 4061, 5932, 2432, 8253, 1773, 4960, 2805, 9718, 3706, 1316, 6018, 1467, 3674, 5497, 7993, 8776, 129, 944, 1826, 3940, 188, 2659, 1274, 4256, 5110, 6529, 7486, 5017, 7406, 2020, 6758, 8833, 218, 380, 6557, 9855, 2365, 1636, 232, 6697, 3432, 6301, 4716, 6482, 5805, 6825, 4726, 3805, 7025, 861, 2883, 6303, 658, 1811, 5488, 5231, 6178, 7877, 3784, 2481, 10285, 3436, 5788, 9902, 3222, 4750, 4742, 9966, 907, 2934, 8876, 2189, 4592, 8015, 5814, 9532, 5419, 5318, 3120, 261, 3925, 8803, 10131, 3744, 5161, 4368, 3663, 1800, 5610, 1711, 5657, 5160, 6523, 4916, 5455, 2558, 5916, 6021, 3066, 955, 3326, 4850, 4759, 9840, 9558, 6171, 10046, 821, 7039, 4401, 8893, 3739, 522, 397, 5245, 8109, 3514, 6585, 2516, 5021, 9335, 3604, 2470, 7649, 9703, 2873, 2583, 5958, 54, 2746, 6900, 7392, 191, 6092, 7514, 3503, 9038, 909, 6622, 2610, 9895, 3392, 3996, 9860, 1821, 2858, 1177, 262, 10015, 9252, 5429, 7564, 7199, 4707, 9770, 2857, 4294, 1200, 439, 8818, 6755, 2668, 7913, 9046, 2258, 2603, 3783, 6124, 10200, 2833, 443, 6114, 1515, 3312, 8703, 5456, 7487, 4714, 7589, 10075, 2615, 8520, 5462, 3884, 9736, 5947, 1444, 6103, 1518, 2520, 6218, 9765, 9569, 9314, 929, 23, 9288, 5875, 6995, 1923, 3365, 6702, 6628, 2098, 1104, 3237, 6943, 10103, 605, 6163, 86, 1327, 7645, 3788, 5101, 8917, 7461, 8094, 3320, 8178, 891, 3991, 4732, 1858, 2920, 5415, 5185, 10205, 6820, 5987, 6487, 8303, 3218, 4089, 8981, 836, 6741, 6696, 1112, 5888, 3378, 2535, 2765, 6676, 2605, 1541, 5135, 4776, 749, 7080, 6432, 6431, 10040, 4188, 6552, 1037, 1772, 9125, 9555, 9498, 2691, 47, 8604, 577, 6828, 3266, 8658, 5802, 7420, 9170, 10038, 3139, 4758, 9746, 6355, 1280, 9769, 5929, 5341, 1122, 4139, 9564, 9149, 7050, 9289, 5673, 8040, 8061, 1462, 3904, 9653, 4542, 3376, 1656, 5699, 9941, 3614, 11, 6849, 6261, 3737, 7701, 2030, 10012, 2561, 5791, 7104, 3552, 5327, 5928, 2257, 4908, 8641, 9439, 1293, 6507, 5813, 3113, 6963, 8064, 6364, 6195, 3340, 6256, 8512, 5059, 1420, 6606, 4786, 9795, 4852, 3448, 2618, 7629, 5615, 9021, 6325, 10291, 4552, 9864, 9386, 3033, 3337, 5953, 3065, 9291, 3562, 3870, 6, 9261, 2999, 340, 3890, 313, 9815, 6779, 3867, 8466, 3957, 7148, 5015, 7096, 4826, 7596, 6095, 8120, 6698, 2440, 5379, 633, 2806, 2850, 3896, 4992, 2586, 3696, 3194, 6734, 959, 4986, 1506, 10084, 10244, 966, 810, 2086, 9957, 3412, 4946, 8001, 1315, 1188, 1813, 3717, 6162, 10201, 3597, 2812, 2552, 10083, 4606, 9742, 7053, 2475, 4961, 6059, 2468, 5640, 7837, 6603, 717, 5495, 664, 7061, 10272, 8543, 1958, 3485, 2848, 8267, 9752, 3107, 2369, 6430, 4297, 1146, 4863, 7680, 4727, 8067, 1442, 1939, 8704, 2399, 4436, 233, 6405, 5989, 1803, 6860, 9071, 9667, 8103, 6461, 3699, 7473, 2320, 1935, 1138, 10000, 4756, 1134, 9018, 481, 4805, 6219, 3258, 8334, 8270, 7218, 6744, 9223, 8736, 6478, 2852, 2823, 9085, 4611, 3704, 6073, 4541, 2442, 1143, 8036, 6756, 2685, 9985, 1068, 3828, 631, 9307, 2965, 3575, 7230, 8386, 2306, 8462, 9503, 4389, 1458, 9089, 7001, 1680, 7624, 6020, 9917, 1765, 1553, 6638, 4218, 3895, 9684, 2854, 3156, 9992, 1469, 987, 1011, 6298, 3615, 8407, 6646, 950, 4808, 5411, 9028, 1325, 6264, 769, 7543, 2423, 2897, 1273, 730, 9644, 4103, 5561, 3942, 1585, 1896, 9069, 103, 8087, 4378, 1739, 334, 10235, 7585, 3148, 6609, 2353, 7801, 2403, 5309, 5942, 7965, 2513, 10124, 440, 4439, 1853, 3244, 720, 9068, 4142, 5801, 993, 6488, 3379, 4737, 6630, 352, 8932, 6131, 4743, 10043, 7156, 3620, 3470, 4169, 7345, 8102, 7125, 4440, 9678, 7605, 9959, 3901, 7919, 8357, 4905, 4337, 4222, 2576, 7761, 3853, 9255, 7350, 8757, 4644, 2575, 124, 6543, 9424, 1784, 7889, 6101, 796, 6022, 1509, 2494, 7378, 8046, 9760, 9128, 8971, 4366, 7855, 10256, 5555, 3936, 8095, 2791, 2277, 8905, 3933, 4278, 10032, 9737, 5857, 9750, 2402, 1374, 3921, 4748, 2355, 6910, 31, 6636, 8919, 6042, 3995, 1364, 6535, 9912, 306, 2267, 3250, 1366, 5027, 4311, 4704, 1519, 8426, 7999, 4283, 3602, 7412, 4683, 8079, 385, 2194, 8755, 3498, 8569, 9702, 6788, 9143, 1631, 1793, 8744, 57, 1966, 5380, 6085, 4525, 532, 7883, 35, 7528, 1748, 6806, 4699, 7557, 578, 9874, 1167, 1694, 7105, 9332, 4270, 5314, 6282, 7734, 2702, 8576, 9249, 9101, 3680, 4350, 9250, 1900, 10210, 9673, 4407, 7356, 5723, 3928, 6955, 646, 6960, 9599, 1466, 8777, 8850, 5914, 2436, 4478, 5986, 10250, 9328, 8689, 8022, 9908, 5427, 366, 3319, 500, 254, 7672, 8575, 6420, 9758, 441, 4628, 502, 1305, 6581, 5211, 7297, 3541, 3618, 2679, 8771, 2185, 3104, 1578, 2044, 1206, 5444, 736, 8646, 7637, 1235, 6902, 1289, 1454, 8808, 4373, 7582, 1295, 9111, 7312, 2343, 8815, 6126, 6898, 4475, 9362, 4708, 5121, 2859, 6456, 9136, 4861, 566, 8477, 9793, 3274, 6038, 1369, 5698, 3627, 521, 9299, 1091, 2587, 1635, 2563, 368, 1630, 9741, 4145, 8403, 8922, 9192, 6550, 2649, 205, 10258, 7697, 2443, 9572, 9486, 10228, 5624, 3774, 3965, 5474, 30, 6460, 4890, 5019, 2459, 648, 509, 5484, 618, 5732, 8515, 10172, 6555, 5598, 5428, 10167, 10028, 7465, 6375, 1777, 10091, 7058, 2918, 6403, 9658, 8564, 7182, 1125, 1564, 8169, 5881, 9647, 8126, 6315, 4013, 2361, 2571, 7337, 1955, 5479, 8229, 1032, 2326, 2905, 2749, 9294, 3195, 2669, 5646, 3364, 199, 5759, 7518, 9172, 2930, 5792, 6588, 5668, 8024, 9881, 2540, 5375, 5382, 3509, 4318, 4765, 2319, 744, 1460, 6919, 6337, 8232, 2062, 1100, 2836, 6740, 1191, 9531, 3930, 8868, 1333, 3810, 9476, 6249, 4123, 6736, 2916, 2658, 5183, 2205, 9190, 6502, 1583, 3044, 9426, 8287, 6443, 2105, 1618, 10013, 138, 5704, 3923, 1737, 1097, 4122, 4774, 3264, 8968, 8657, 2842, 3362, 1812, 6040, 4719, 4448, 2557, 8088, 5564, 7043, 9088, 8797, 2730, 7055, 4659, 6231, 7989, 9921, 8864, 5236, 8773, 4964, 8897, 6948, 3068, 5696, 10007, 6911, 5845, 8718, 8882, 5931, 3713, 5529, 1686, 7213, 3865, 3567, 6281, 2505, 3158, 10076, 3845, 2016, 173, 710, 3689, 8091, 9873, 4503, 4645, 274, 9682, 7057, 4747, 9756, 3454, 8166, 9078, 3700, 4829, 757, 5549, 286, 7711, 7459, 92, 1830, 1149, 184, 8599, 7997, 6866, 803, 2428, 6351, 6649, 8114, 2514, 7823, 2395, 4788, 5806, 9405, 1055, 3980, 4001, 3897, 7499, 3764, 3775, 2843, 7112, 6514, 6497, 9669, 764, 8393, 2820, 6199, 6530, 2161, 3167, 6938, 8926, 4662, 4242, 8399, 6602, 1825, 6618, 6730, 9953, 8335, 6632, 7260, 556, 4496, 8935, 6921, 4264, 6988, 295, 2582, 3223, 6028, 5770, 1285, 1320, 1414, 4943, 10108, 9867, 5525, 6221, 5591, 5184, 9310, 10180, 8320, 6586, 6969, 1891, 6582, 2370, 1972, 5599, 734, 289, 9979, 6809, 9784, 6598, 273, 1003, 2297, 3771, 8236, 7702, 7872, 7466, 2881, 659, 7034, 2541, 8844, 10116, 1111, 9859, 9580, 986, 6366, 8869, 2744, 3451, 2579, 6802, 9219, 8728, 9696, 9311, 9922, 9595, 3561, 8557, 9305, 4569, 6377, 1023, 9409, 9027, 7063, 8670, 3725, 3926, 8610, 8625, 2143, 4872, 8230, 5710, 5534, 4876, 8861, 784, 2559, 7841, 587, 7984, 2612, 2145, 3251, 8750, 7479, 8211, 8939, 3473, 2024, 9005, 3270, 7202, 7423, 6134, 5007, 166, 1559, 6657, 6926, 5633, 5658, 7735, 7285, 6169, 8107, 2453, 4229, 4372, 693, 6408, 8888, 740, 9728, 7249, 9685, 663, 6732, 9336, 3469, 7562, 221, 4589, 9043, 1758, 5678, 5772, 1836, 2283, 9915, 672, 3293, 4070, 6792, 4211, 9269, 4418, 5104, 10191, 8421, 3644, 2379, 6769, 8647, 9935, 3094, 9853, 7390, 9430, 1928, 2807, 1536, 3595, 6665, 6357, 2767, 7979, 2492, 5775, 216, 3400, 7331, 5546, 8611, 9463, 8474, 9357, 7800, 3986, 6250, 2247, 8388, 9450, 2259, 8411, 7982, 18, 2592, 9987, 9777, 4044, 1113, 2885, 1566, 7029, 6496, 10101, 5934, 1323, 4377, 7706, 112, 827, 10086, 5143, 6270, 9937, 4022, 304, 9186, 5234, 1326, 7189, 4501, 9844, 8288, 8588, 5632, 1610, 8514, 1190, 2689, 10218, 7975, 7313, 7819, 1804, 5580, 6715, 9950, 2989, 6386, 8696, 5131, 7165, 10279, 1763, 7584, 2466, 167, 7847, 2863, 5189, 3077, 8695, 1906, 3132, 9429, 3913, 4347, 3778, 5719, 1967, 3000, 6489, 344, 989, 8224, 770, 6934, 4721, 6941, 6139, 9389, 8282, 1794, 10206, 10026, 978, 5562, 3808, 7938, 6551, 3090, 6027, 8459, 8200, 4889, 2775, 7744, 9278, 5298, 4548, 1665, 2300, 5034, 3844, 6449, 4221, 2425, 4607, 1543, 3679, 7077, 8584, 806, 4950, 1151, 1404, 8699, 4649, 263, 2640, 8183, 2908, 7476, 1685, 10237, 6043, 5697, 2962, 3879, 4464, 7181, 6458, 8793, 9497, 1580, 6829, 5048, 1105, 2862, 2985, 8021, 7227, 311, 8606, 468, 2473, 5463, 1511, 3073, 1160, 8825, 1131, 7743, 5075, 5399, 6485, 4797, 7932, 9011, 7288, 4240, 5507, 339, 3718, 9596, 990, 1299, 6612, 3899, 8003, 1213, 2990, 3569, 310, 8809, 17, 1705, 6690, 681, 4559, 6222, 9210, 7095, 2031, 5453, 5279, 9411, 3823, 8480, 728, 8069, 9976, 3911, 10057, 8203, 6324, 8161, 8656, 4375, 7611, 8906, 220, 8381, 477, 4474, 9674, 1002, 8292, 1126, 5509, 2886, 7319, 3011, 862, 4340, 3202, 1057, 7667, 9417, 4090, 1609, 8141, 8197, 7733, 9360, 1854, 413, 4009, 2856, 155, 8714, 8517, 6950, 7325, 2282, 7604, 2426, 2925, 3943, 2526, 9354, 7143, 4868, 1485, 6554, 3145, 5014, 2994, 1030, 9627, 871, 958, 2022, 7874, 4590, 9187, 1288, 6599, 4980, 9108, 2590, 3609, 7022, 2041, 5606, 712, 946, 1787, 4248, 8655, 5214, 753, 4473, 8012, 8073, 7608, 1251, 6407, 127, 6102, 5872, 4492, 1562, 3229, 7163, 1370, 5964, 6838, 9006, 8973, 661, 7745, 6212, 5684, 1477, 5230, 2032, 1827, 5537, 6647, 1832, 7544, 4813, 7480, 4907, 7098, 4470, 8723, 830, 8481, 3110, 13, 7113, 6323, 38, 3815, 8837, 5408, 9619, 2107, 5393, 3070, 8398, 5796, 7836, 196, 2200, 5711, 6054, 2349, 9382, 7432, 10240, 5088, 9009, 4997, 277, 1982, 6395, 3988, 8297, 3449, 4730, 5703, 9778, 2216, 7995, 6445, 669, 3263, 4193, 2698, 4007, 6346, 8383, 2945, 6770, 2240, 7576, 1373, 3347, 4207, 4689, 751, 4912, 6626, 9152, 9944, 3832, 3790, 7760, 7931, 8661, 5800, 6892, 2875, 8912, 6504, 8181, 4923, 8951, 9066, 2770, 8427, 8532, 774, 4835, 1480, 7329, 1045, 8029, 1644, 4281, 5112, 4713, 5269, 4144, 6273, 8962, 4317, 4159, 4194, 5797, 2063, 3975, 8189, 5692, 9806, 1479, 3686, 8144, 9227, 1226, 9037, 10113, 5326, 2035, 10123, 3181, 9098, 998, 3225, 567, 9655, 5396, 5432, 3513, 1590, 1684, 8416, 7732, 9858, 229, 3963, 829, 4993, 9576, 694, 3240, 6831, 6914, 8807, 2456, 4102, 676, 8261, 9695, 8814, 1856, 6383, 5607, 9996, 3703, 4842, 768, 6168, 9598, 3122, 8504, 7622, 8983, 1427, 8527, 8904, 7271, 941, 5820, 5749, 8620, 4884, 7845, 1816, 9968, 738, 1782, 2922, 2176, 4244, 1886, 6247, 7305, 6068, 5979, 2077, 6763, 4086, 9394, 9139, 1074, 9156, 10097, 2162, 8881, 5974, 4935, 1197, 6183, 5556, 6188, 5786, 8396, 3716, 7122, 8782, 4753, 4, 2629, 3768, 6111, 6597, 6664, 1171, 1542, 2008, 5949, 882, 5282, 1828, 7328, 8614, 5847, 9660, 4787, 1604, 9478, 7961, 1931, 5096, 7749, 9604, 8054, 8026, 6422, 7195, 5803, 9320, 487, 3062, 2186, 6329, 5359, 19, 8220, 4257, 5062, 5997, 6110, 8871, 1252, 3732, 4110, 5071, 9694, 5353, 7087, 168, 786, 4322, 7396, 1567, 9076, 6248, 8361, 7237, 1676, 1394, 6940, 4947, 8925, 964, 457, 7851, 8552, 5030, 9537, 7868, 5751, 7920, 524, 4246, 9241, 6204, 4195, 4701, 238, 767, 2793, 9783, 4807, 6576, 2613, 6350, 3463, 1242, 8449, 2688, 9092, 3154, 835, 5244, 8307, 7167, 1076, 45, 1551, 2210, 4050, 665, 6887, 2601, 9719, 1439, 4299, 9510, 1264, 4393, 8121, 8413, 8650, 2776, 5972, 3499, 10128, 9804, 7795, 7937, 9492, 2663, 269, 4454, 4582, 6515, 1926, 10224, 20, 6856, 10095, 9724, 165, 3820, 10195, 8377, 6146, 6748, 4648, 5065, 5115, 9120, 2118, 7897, 7295, 6562, 2589, 653, 9361, 3606, 1761, 3034, 9745, 6826, 6223, 1225, 8084, 3659, 10295, 3953, 7654, 6686, 6113, 2923, 1678, 4725, 8578, 5816, 5336, 5068, 4287, 9799, 9303, 6759, 2023, 8078, 6713, 7121, 7093, 9826, 461, 6699, 7785, 4981, 9368, 793, 6968, 1178, 7020, 4410, 5471, 8875, 6624, 7949, 4802, 9885, 8638, 9513, 1013, 4468, 3840, 9479, 3734, 480, 1042, 1449, 2251, 7108, 2784, 10202, 1066, 8038, 9865, 1152, 5368, 1490, 7387, 4224, 9610, 9651, 8544, 10280, 9423, 1927, 453, 9082, 5854, 4529, 7728, 8356, 7264, 5193, 2059, 10053, 7032, 5132, 2907, 5588, 10137, 9415, 1403, 2034, 2992, 3117, 3667, 908, 9064, 8500, 7636, 7309, 4670, 7269, 2960, 3108, 2167, 3987, 142, 4866, 1692, 4033, 2909, 9010, 6260, 5998, 5308, 6440, 969, 3592, 1488, 3147, 9146, 2502, 2622, 3355, 6774, 9017, 1870, 608, 2866, 6257, 10283, 7650, 5063, 3887, 253, 3786, 7762, 10275, 8108, 2639, 5025, 2474, 6034, 242, 141, 10157, 6107, 2625, 1215, 7822, 3093, 5405, 5126, 2510, 2060, 5156, 10004, 4919, 1205, 8878, 5508, 7203, 6143, 7229, 3797, 5540, 8969, 8812, 5483, 1407, 9309, 80, 1297, 3081, 8727, 309, 8113, 8847, 5448, 5076, 7945, 3173, 4929, 953, 3166, 4879, 8385, 8321, 8711, 1810, 3013, 5693, 1991, 8289, 5812, 6789, 6466, 9117, 3711, 4764, 6534, 6579, 8493, 3554, 8025, 639, 7510, 7355, 9805, 5148, 6844, 128, 3262, 2027, 6634, 4971, 5100, 6214, 9297, 1954, 4018, 4958, 5491, 1561, 1245, 9733, 2472, 9554, 2040, 4413, 1094, 2870, 5266, 175, 6123, 4871, 2386, 7658, 7901, 10282, 745, 8039, 4558, 4480, 4263, 8590, 4334, 3241, 5762, 9545, 7217, 6505, 6030, 8929, 9208, 6306, 2352, 7021, 9436, 6130, 431, 3005, 808, 4217, 28, 1869, 3500, 10175, 4977, 4556, 7496, 3594, 8688, 91, 5572, 6861, 9199, 10255, 5403, 9000, 10060, 4137, 9542, 9869, 5504, 9385, 7234, 8122, 7977, 74, 7106, 8367, 8083, 3842, 9416, 5842, 2944, 4755, 9402, 3170, 8530, 6398, 7748, 3545, 2484, 3179, 5000, 7247, 8582, 1628, 4367, 8999, 7535, 2533, 222, 3342, 8563, 1734, 5157, 2219, 4230, 7521, 8313, 3536, 7830, 9456, 7652, 5402, 4524, 9624, 6229, 1600, 1207, 9035, 5362, 55, 5128, 2755, 846, 2497, 4057, 2454, 2043, 6434, 1993, 7887, 6915, 9483, 4681, 4779, 952, 214, 5255, 2340, 456, 7441, 5140, 9352, 8492, 305, 9837, 5283, 597, 2263, 4053, 4395, 5241, 1697, 7529, 6668, 2810, 7065, 3741, 7764, 8542, 8424, 5730, 8184, 8740, 5596, 8430, 2724, 3591, 10220, 3789, 8858, 8681, 8446, 9550, 1623, 398, 3494, 8458, 687, 8669, 9701, 713, 6157, 8315, 1049, 5272, 6328, 6703, 4673, 4271, 8051, 5679, 9338, 158, 5010, 10127, 9370, 5664, 8911, 9211, 1192, 2315, 2245, 852, 3979, 5691, 5194, 4097, 315, 5665, 6202, 7126, 7431, 4432, 2515, 8306, 3468, 9279, 6361, 7485, 1889, 2181, 415, 6447, 1948, 2851, 9380, 9144, 3982, 5744, 8551, 4717, 7164, 2280, 7289, 2170, 511, 5971, 9421, 733, 2788, 9112, 4301, 10293, 826, 5200, 8928, 7351, 8795, 482, 8977, 5267, 7015, 9002, 1422, 1769, 8008, 8978, 7220, 2523, 652, 3755, 3846, 4286, 8280, 4680, 8987, 270, 8697, 3580, 8540, 9351, 1820, 8585, 9861, 7618, 4956, 331, 5724, 3584, 7152, 9863, 9553, 3759, 1017, 5884, 6700, 7263, 8949, 6896, 849, 4741, 4457, 5659, 4237, 5753, 2499, 9224, 615, 2761, 5817, 2835, 3029, 6374, 5822, 4384, 5201, 6180, 6596, 765, 5249, 7253, 9180, 3477, 4724, 2408, 1915, 4794, 9080, 1040, 6518, 5199, 8537, 10090, 9603, 3983, 9914, 3794, 7251, 10079, 7556, 3028, 2226, 7867, 9716, 8251, 160, 3199, 4652, 9109, 6376, 9003, 3859, 9744, 4514, 5042, 8452, 1503, 4694, 971, 134, 3736, 2742, 6879, 5414, 2734, 9883, 2430, 5895, 1552, 7684, 105, 1277, 2405, 1736, 115, 8066, 963, 9754, 7179, 3391, 3519, 4738, 4543, 5945, 7377, 1069, 9099, 5122, 4295, 2766, 4040, 564, 4599, 2208, 7664, 5652, 4171, 2287, 2005, 8529, 1386, 3375, 5760, 2871, 8826, 6185, 1944, 7873, 8788, 8507, 8456, 10072, 7978, 4172, 9943, 9496, 6735, 7700, 8799, 7884, 5099, 4259, 2697, 1606, 940, 2175, 6442, 252, 2125, 4642, 4228, 9621, 5137, 677, 1862, 5557, 5655, 4678, 1785, 9147, 4081, 4594, 4832, 3001, 7170, 3971, 3453, 2507, 5761, 6670, 9836, 3660, 4041, 3087, 4598, 3912, 16, 2773, 8779, 2893, 3069, 4353, 995, 1768, 6335, 3974, 50, 8296, 3907, 1801, 2457, 9509, 9473, 3714, 5297, 6090, 6326, 10189, 3654, 1053, 1595, 859, 5595, 9641, 903, 293, 5982, 8023, 1846, 3283, 4877, 7614, 2733, 4185, 2002, 7946, 4754, 6633, 7287, 4482, 2082, 1633, 3831, 8612, 4918, 4249, 1090, 9631, 7780, 2052, 4134, 8228, 7806, 2089, 869, 10071, 9579, 9471, 2487, 4045, 2295, 855, 1393, 1654, 2132, 6908, 8365, 1622, 5072, 7878, 5294, 4385, 7832, 3121, 6641, 3091, 1725, 4187, 377, 7756, 6539, 6235, 6991, 217, 7266, 4962, 9609, 4767, 4869, 3176, 3715, 7047, 1275, 8487, 9022, 754, 9500, 5505, 8246, 7875, 4966, 9994, 5754, 3037, 8371, 3004, 7644, 2217, 9281, 5302, 1339, 8979, 494, 333, 3267, 1799, 1310, 5141, 8908, 2384, 6173, 9490, 3683, 312, 9618, 3227, 3149, 8031, 8440, 8341, 609, 2278, 5493, 7175, 6239, 3027, 673, 1570, 9376, 9911, 3243, 9802, 5858, 7173, 886, 2758, 4870, 739, 1424, 6998, 7559, 67, 9356, 157, 4593, 726, 3193, 5622, 4254, 783, 7866, 9803, 2671, 885, 3829, 6467, 742, 3401, 1372, 6556, 4778, 6619, 1276, 4838, 1158, 735, 2748, 9014, 6358, 8485, 4637, 8185, 1392, 4925, 1843, 3213, 7600, 718, 6097, 6117, 3670, 4213, 4674, 2772, 685, 9903, 1624, 5774, 4531, 2543, 9842, 4928, 980, 7384, 8665, 9113, 4856, 9854, 2422, 954, 1643, 7709, 1253, 7342, 428, 4021, 1456, 8460, 8478, 5798, 2101, 5209, 3748, 9168, 4736, 2745, 2783, 6196, 5779, 9302, 1977, 7525, 5782, 8009, 5451, 10211, 5708, 6396, 9896, 690, 6840, 2220, 9817, 6120, 7808, 6653, 8903, 3042, 3729, 8941, 1243, 9243, 2255, 10186, 890, 2203, 1791, 7490, 9730, 4915, 8052, 4942, 3811, 7447, 5388, 3827, 4855, 670, 5839, 6511, 1021, 2599, 9629, 4327, 8156, 1116, 1371, 435, 7450, 10142, 8445, 1308, 4723, 4175, 3795, 6918, 46, 8566, 4314, 3115, 4718, 1300, 711, 847, 9521, 5147, 6041, 1497, 8414, 4402, 7794, 3941, 1141, 8293, 7314, 6419, 7583, 1038, 513, 3247, 178, 3599, 5700, 1054, 3047, 2530, 4124, 3745, 3893, 5587, 9659, 10170, 1443, 1691, 7455, 1204, 10161, 6371, 8402, 7327, 2342, 5827, 4789, 1605, 9349, 6311, 9212, 5637, 3386, 9936, 4387, 7860, 4603, 8821, 2001, 8225, 1410, 9930, 8842, 6457, 2509, 731, 1348, 9790, 10121, 8124, 9091, 2573, 5423, 3060, 7899, 9165, 2488, 2434, 9494, 5009, 2757, 6637, 6683, 6890, 8222, 70, 1722, 9377, 6733, 5924, 689, 8884, 1349, 132, 197, 316, 2500, 288, 8860, 7306, 4692, 8806, 1389, 939, 1474, 10226, 7394, 5363, 3333, 5726, 5780, 1839, 204, 8707, 7713, 8883, 3712, 5243, 10203, 7460, 4583, 8071, 7017, 2130, 3403, 4273, 4540, 10020, 7820, 2906, 61, 2995, 6777, 2750, 3371, 4705, 7426, 2151, 330, 2782, 6465, 7661, 359, 626, 5654, 6471, 9876, 2396, 1473, 5012, 3045, 3607, 2137, 6764, 1470, 1925, 4430, 5381, 3271, 8603, 4012, 4161, 8170, 1216, 517, 3481, 3061, 8765, 4481, 5896, 3763, 2273, 1674, 10048, 9676, 1638, 2028, 9505, 7715, 3881, 5061, 2921, 8006, 5903, 616, 866, 42, 7910, 997, 5734, 1528, 8902, 9403, 8097, 7101, 5123, 2155, 9781, 2150, 5619, 9568, 901, 3168, 1577, 5993, 9715, 3676, 5217, 759, 7775, 8136, 3529, 2110, 8988, 2891, 8119, 7765, 4427, 9657, 9888, 5583, 8712, 5722, 5536, 4613, 4107, 6663, 1689, 2418, 3458, 9276, 3558, 7298, 1754, 4969, 4817, 8004, 7638, 6144, 9934, 7885, 5190, 6486, 5739, 7828, 6112, 3203, 1139, 322, 7970, 5466, 3960, 2344, 3025, 9623, 4831, 1714, 3374, 1936, 2984, 6816, 5232, 6149, 9884, 6832, 6228, 9181, 1952, 8013, 3067, 1065, 3612, 6226, 8836, 8535, 7922, 1901, 1263, 9012, 458, 1640, 7146, 9851, 2872, 6309, 4495, 4364, 5921, 2112, 460, 3336, 6775, 6469, 9039, 6627, 1359, 6053, 8350, 4864, 2643, 2445, 5662, 7640, 8364, 9974, 8472, 9986, 7983, 5400, 2152, 6192, 76, 3388, 4927, 602, 2628, 698, 1970, 2598, 761, 8404, 5746, 8863, 3396, 1240, 8340, 9262, 2556, 2687, 1943, 7193, 7730, 850, 6279, 323, 4039, 504, 5229, 1526, 4500, 3697, 3446, 9116, 3779, 9371, 4491, 9477, 2630, 8693, 6271, 610, 5467, 3932, 10276, 8823, 5224, 8636, 508, 6291, 805, 4629, 4893, 5205, 1016, 2790, 5769, 6984, 3475, 2550, 8453, 6607, 614, 8816, 5897, 4573, 9220, 3295, 1026, 9348, 3018, 6865, 4917, 7255, 8879, 4036, 7155, 4362, 2374, 9722, 10169, 5250, 4048, 3444, 6047, 6495, 6929, 9059, 798, 4267, 4130, 2318, 1823, 245, 4111, 9020, 632, 530, 7714, 9163, 2163, 4026, 2336, 1568, 8048, 3528, 4799, 4709, 6997, 3339, 3916, 10030, 5517, 4414, 4277, 2261, 9938, 5022, 2138, 6949, 1018, 2413, 348, 9993, 4554, 2025, 2446, 1217, 5233, 327, 6037, 490, 1399, 4624, 4752, 1616, 679, 5169, 2166, 917, 4379, 2070, 5631, 8154, 1258, 6380, 2710, 2360, 5636, 3408, 9060, 1619, 4076, 6494, 1318, 5482, 6159, 3442, 5644, 6935, 7522, 5685, 181, 5005, 27, 2272, 9809, 66, 3787, 1808, 1632, 9401, 5460, 6643, 8005, 8162, 7726, 8173, 8338, 4392, 3165, 2800, 4165, 4898, 7588, 3970, 1634, 1408, 8709, 8358, 4266, 258, 6973, 1524, 9375, 8706, 3192, 2056, 7144, 627, 1061, 4345, 1572, 6893, 3590, 1916, 5983, 5175, 8310, 6542, 10239, 5263, 6675, 8901, 5675, 247, 10059, 6292, 1822, 6836, 10159, 1174, 3404, 3301, 7424, 4815, 7905, 2021, 1087, 174, 8461, 3950, 3848, 4060, 3472, 3085, 7262, 3329, 1312, 7005, 9390, 2053, 6797, 5748, 351, 7379, 3671, 4459, 863, 4697, 2690, 7171, 10150, 2634, 3, 7051, 5284, 9455, 7560, 2469, 3863, 5422, 4063, 1182, 8524, 8873, 1502, 4733, 7609, 2256, 2476, 921, 2958, 5911, 9093, 7962, 4084, 1548, 6986, 1256, 1607, 1727, 7859, 898, 1447, 8592, 4640, 7512, 8118, 10092, 1186, 7016, 4507, 7554, 7141, 4565, 4435, 87, 6165, 7833, 7239, 2548, 5721, 9185, 2448, 2780, 9945, 5347, 6251, 8990, 1599, 1960, 5740, 6767, 7862, 7457, 872, 4181, 3824, 4814, 3439, 4516, 7385, 5757, 1921, 423, 474, 3871, 10247, 5320, 2917, 7958, 9849, 9893, 3269, 5254, 6201, 8333, 1423, 8188, 3216, 2324, 5228, 3135, 1973, 7818, 9973, 9298, 3488, 8384, 1457, 9506, 2817, 4533, 3993, 7332, 2039, 9952, 9789, 8214, 5868, 9709, 9207, 6750, 250, 525, 4279, 8314, 6413, 5170, 9444, 4677, 462, 3707, 8298, 282, 1809, 2720, 7413, 758, 5449, 3026, 651, 5985, 6177, 3927, 4845, 2814, 9967, 9717, 9877, 4657, 6762, 4892, 5008, 2377, 8164, 7371, 9213, 8147, 4967, 7601, 4588, 10031, 4065, 2661, 3287, 4834, 1133, 5733, 2471, 3501, 4262, 3898, 4522, 9774, 1085, 3892, 4853, 617, 3585, 8412, 3903, 4586, 3543, 2913, 10050, 785, 7376, 5036, 4445, 3204, 2693, 3345, 4899, 5781, 4199, 8081, 4604, 819, 6855, 10140, 8832, 680, 7590, 7257, 8378, 1783, 9628, 4553, 9461, 1646, 5369, 7902, 8593, 8601, 7771, 4184, 4974, 1059, 5530, 7530, 125, 7011, 7145, 9732, 8140, 2975, 5500, 109, 6527, 6846, 1710, 4069, 1798, 2356, 3648, 7565, 9344, 9061, 9768, 382, 6080, 10064, 6725, 8368, 3334, 1365, 8855, 5119, 3798, 5560, 7386, 7685, 1857, 5738, 4499, 9577, 6611, 1831, 4037, 4720, 1347, 3296, 5461, 853, 236, 3425, 6833, 3289, 1964, 6837, 7232, 10267, 4313, 2496, 7541, 5352, 5785, 7267, 4584, 9462, 9019, 5717, 876, 1861, 8743, 8619, 2314, 10080, 1806, 8176, 1416, 10151, 7097, 1996, 2901, 4160, 4846, 8089, 8042, 2647, 6372, 2009, 2752, 2084, 5202, 7467, 3777, 136, 8621, 7951, 1848, 568, 5923, 3603, 7383, 3424, 5828, 7375, 2911, 6446, 706, 5783, 3540, 5481, 3821, 6069, 10081, 5093, 4636, 3978, 3746, 2292, 6719, 5197, 3931, 7959, 4308, 825, 2224, 2187, 8034, 8434, 1314, 10230, 2438, 7361, 5680, 3984, 1904, 6972, 6327, 1156, 8465, 6974, 6745, 2390, 1303, 9267, 5905, 5023, 4781, 2943, 4545, 7655, 3126, 8622, 5969, 3302, 6072, 4376, 94, 4538, 4509, 8747, 8810, 592, 3032, 1613, 9040, 4214, 6830, 4518, 714, 1586, 8128, 6347, 8605, 2736, 6454, 1418, 5933, 161, 845, 3212, 889, 5457, 10055, 8921, 558, 794, 4513, 2437, 7848, 2722, 7519, 809, 4994, 3036, 10153, 3807, 621, 4757, 5705, 1918, 4135, 4079, 4467, 3307, 8737, 4523, 5826, 2010, 3550, 6772, 4517, 9437, 2308, 150, 542, 2367, 4359, 4025, 8519, 432, 840, 3652, 3252, 7352, 4528, 4119, 2235, 7159, 381, 8167, 8568, 4487, 6287, 404, 3997, 8432, 8598, 6056, 2415, 135, 642, 9392, 573, 1332, 3684, 3383, 5582, 1924, 2845, 5038, 1193, 772, 1044, 6925, 2339, 2932, 6990, 7500, 485, 2123, 7248, 9830, 9675, 3601, 6232, 7012, 7, 2113, 4989, 3361, 4749, 3487, 5943, 7809, 4291, 5290, 7969, 5383, 7517, 5394, 3330, 9373, 9897, 4276, 727, 2382, 3877, 9105, 9286, 9075, 291, 3855, 9177, 10027, 230, 3955, 528, 1975, 1717, 2075, 7696, 5417, 7400, 436, 7693, 4546, 8572, 7338, 2617, 6406, 10232, 716, 1851, 2147, 5370, 8093, 8090, 1311, 2986, 6842, 2350, 107, 10088, 9991, 9431, 7183, 7599, 6878, 10174, 6057, 9683, 347, 2096, 6587, 8285, 6003, 5097, 3935, 3447, 5795, 2290, 4388, 9931, 9414, 9047, 3146, 9482, 6354, 3369, 3856, 2525, 9920, 7690, 240, 5589, 4651, 9134, 2532, 4055, 111, 2954, 5867, 1478, 4343, 2840, 4143, 3643, 6875, 8032, 5861, 8326, 6009, 3215, 5638, 6189, 2013, 3560, 7974, 2973, 4550, 2735, 497, 3304, 8058, 3273, 2090, 8428, 10054, 7157, 1402, 8787, 6118, 682, 7633, 9661, 7631, 3411, 8373, 9051, 8567, 4164, 3869, 7537, 5384, 4728, 8168, 3961, 8676, 9198, 4630, 942, 1878, 4505, 5742, 172, 3402, 931, 84, 2119, 2196, 4798, 6476, 5686, 9274, 1397, 2120, 5111, 1985, 775, 7994, 9369, 5011, 10125, 328, 3886, 7369, 2341, 8255, 982, 5626, 4734, 2981, 2159, 5643, 9237, 6179, 2099, 5360, 6074, 6811, 77, 1814, 5389, 4803, 2199, 4867, 6874, 8301, 6519, 3838, 6526, 9776, 6035, 7952, 834, 6766, 4115, 1560, 5709, 4030, 2168, 255, 6506, 4903, 5373, 79, 9395, 1805, 5840, 8272, 5988, 2602, 8454, 8913, 6882, 6333, 10273, 2763, 3097, 4405, 3891, 6317, 2072, 10025, 5865, 5328, 9015, 5590, 3885, 880, 3100, 3430, 4859, 7172, 5666, 6577, 7682, 8363, 8874, 6106, 3835, 2570, 6336, 2565, 5880, 1036, 1114, 8824, 6216, 6800, 6580, 4646, 264, 4875, 3588, 7547, 3197, 4348, 7676, 6088, 2957, 1155, 1136, 5154, 9670, 6786, 1749, 3586, 6824, 8239, 1250, 9472, 7470, 8789, 6220, 10217, 7546, 6031, 4840, 4581, 5787, 8044, 3757, 4094, 7123, 1614, 9230, 974, 64, 792, 8148, 10198, 2078, 3163, 5885, 1357, 88, 9103, 7930, 9445, 3512, 4489, 9419, 591, 1268, 7316, 9256, 1677, 8448, 5300, 1709, 7757, 9024, 8464, 2037, 7311, 3989, 1720, 8076, 9107, 4092, 3819, 33, 992, 3171, 8275, 4068, 8059, 9656, 2849, 3161, 2719, 1707, 1007, 5790, 9800, 6500, 9502, 7846, 8516, 7137, 10290, 6859, 2926, 1185, 7153, 2108, 7534, 4996, 3106, 4508, 7216, 9318, 8761, 894, 3814, 3387, 4660, 6768, 5927, 8470, 3803, 375, 6280, 5376, 2081, 3799, 9485, 5410, 3574, 8562, 9095, 1209, 329, 8980, 10265, 5496, 3621, 2346, 8944, 4557, 7407, 2135, 4422, 6213, 6937, 7427, 5153, 193, 2003, 3630, 10133, 4857, 10099, 8123, 6583, 6980, 2712, 7542, 9886, 4180, 6782, 143, 1391, 5351, 9940, 7957, 5968, 6209, 430, 3008, 2778, 7030, 5614, 8829, 6814, 2824, 7130, 9871, 8839, 5248, 8010, 6692, 363, 9381, 5883, 5755, 9833, 3861, 832, 9960, 555, 7939, 10154, 4344, 8242, 2464, 8305, 408, 9023, 8143, 3041, 1514, 7296, 9407, 1383, 833, 7717, 5139, 8299, 4127, 5053, 4700, 4836, 6531, 1304, 5433, 4669, 2447, 5364, 4536, 5764, 8257, 1248, 9901, 9321, 3231, 8433, 538, 2246, 116, 349, 4146, 2264, 4374, 10219, 7634, 2127, 15, 5339, 2477, 7326, 4461, 3101, 2371, 7986, 7842, 10254, 9982, 8849, 7074, 4688, 6850, 10208, 8687, 5418, 3443, 4062, 9350, 10138, 3331, 3300, 6746, 1342, 9251, 4486, 5635, 6962, 7250, 9041, 7291, 8644, 2286, 3054, 9594, 1239, 4527, 3279, 5310, 932, 8764, 8731, 1328, 7418, 7274, 2551, 2572, 5515, 9167, 2877, 5882, 1751, 6268, 9764, 2312, 1865, 3184, 1067, 9617, 1645, 7852, 10214, 8372, 8819, 4136, 8163, 5334, 7853, 4131, 8324, 6795, 9342, 2709, 3945, 1106, 4900, 1914, 9929, 1999, 228, 1210, 9517, 8018, 5102, 8597, 4658, 3669, 1601, 3673, 1790, 1946, 6688, 8045, 551, 2549, 7787, 8501, 8778, 3483, 8248, 1959, 7747, 9525, 3576, 9408, 325, 2902, 1223, 479, 7906, 7336, 8907, 3693, 5219, 5568, 10221, 8209, 1415, 5908, 9420, 574, 2233, 1005, 378, 3151, 9466, 5925, 1481, 5033, 1079, 10034, 2648, 2177, 1778, 6340, 9487, 4608, 778, 779, 8479, 9301, 8180, 5581, 1815, 2197, 10014, 6563, 2268, 5612, 4054, 2616, 8235, 6245, 976, 7956, 9808, 7864, 9725, 3640, 4083, 2961, 455, 2250, 6300, 8521, 3305, 419, 6046, 1379, 6468, 6517, 1726, 9823, 6191, 10023, 1835, 9142, 3571, 9073, 4465, 2420, 1741, 192, 3722, 8672, 8002, 6310, 4924, 9562, 6947, 52, 2146, 342, 3977, 1482, 2114, 983, 9501, 1718, 10070, 7196, 5287, 4458, 3817, 8369, 536, 1043, 4955, 5569, 3753, 8422, 1034, 3467, 7587, 6307, 2223, 7888, 5386, 2330, 2511, 2071, 2839, 1969, 8007, 4712, 9171, 118, 9958, 1789, 622, 6252, 3456, 1489, 8063, 1317, 10268, 3196, 4016, 2294, 9271, 2743, 1338, 4687, 4038, 961, 1221, 6135, 884, 6269, 280, 3497, 9755, 4504, 7921, 24, 8623, 1663, 3246, 324, 9102, 4951, 4639, 5265, 7705, 2869, 7998, 8798, 8395, 3311, 6138, 9374, 2604, 464, 6501, 8258, 1884, 1145, 7036, 6274, 7620, 3051, 8667, 1294, 1058, 3332, 7478, 8322, 9587, 5736, 9767, 5623, 8654, 6423, 5793, 5366, 1719, 7579, 3812, 8738, 3681, 848, 4234, 10058, 2085, 2083, 7656, 8017, 4153, 6142, 9326, 2896, 6390, 6133, 6365, 4203, 7894, 991, 4827, 7687, 9033, 5218, 5846, 1941, 9697, 4073, 9393, 9272, 9814, 7918, 9591, 913, 7282, 10190, 4570, 402, 8055, 945, 6867, 3125, 10143, 4409, 5280, 5377, 182, 78, 4963, 7815, 4316, 8561, 585, 6834, 9397, 4988, 7088, 8730, 5973, 7259, 7111, 5962, 4358, 8503, 1647, 4304, 8720, 2237, 3189, 5776, 246, 2460, 5446, 6524, 2794, 8037, 985, 7225, 6709, 3692, 1611, 9273, 1759, 5832, 1208, 4411, 8276, 9057, 2042, 6474, 5838, 6956, 6982, 6959, 6381, 7602, 9434, 2449, 8538, 9575, 9126, 1932, 864, 1062, 8645, 8075, 2359, 1660, 637, 6876, 1871, 7598, 4008, 9546, 9123, 8841, 9084, 3854, 6369, 5261, 9412, 5605, 2281, 2483, 5450, 506, 2478, 1849, 2831, 6451, 4032, 7746, 867, 671, 7876, 6852, 537, 6854, 3909, 816, 5105, 1894, 2721, 21, 6682, 8205, 5095, 8835, 8366, 6055, 6724, 5260, 1494, 4488, 3088, 6426, 1910, 2049, 943, 4544, 8780, 418, 6888, 4128, 5413, 9159, 5117, 7551, 8976, 3180, 9757, 5026, 6961, 2912, 6564, 3610, 486, 4015, 7613, 2631, 7339, 6778, 5618, 6033, 2660, 2621, 8967, 1198, 9056, 9296, 5222, 7533, 336, 2762, 4532, 9574, 5576, 3947, 8134, 6016, 9586, 4668, 7966, 4910, 818, 887, 1913, 1917, 3504, 2213, 8300, 7073, 3608, 9643, 3200, 9761, 2844, 2818, 799, 292, 2047, 2581, 5447, 2316, 7360, 2715, 4664, 4600, 6880, 1902, 6096, 8360, 580, 6160, 1231, 3022, 275, 3015, 6234, 2976, 10259, 800, 5799, 284, 5349, 975, 6572, 3505, 9727, 7435, 8284, 1535, 8634, 3874, 5676, 6401, 7147, 5647, 2455, 3542, 2650, 2389, 3003, 2664, 2106, 1887, 2275, 5701, 3349, 8262, 7871, 9191, 10182, 6000, 2301, 7219, 2739, 3917, 900, 198, 3198, 6568, 207, 10242, 2391, 7308, 8686, 3080, 5274, 8767, 200, 4173, 9988, 5677, 414, 4768, 6754, 2310, 902, 3235, 760, 8541, 9195, 1681, 4011, 7752, 6913, 8202, 4397, 3290, 6394, 2225, 9541, 5165, 916, 893, 9980, 9158, 8139, 8431, 7497, 9664, 10077, 189, 1573, 2299, 8811, 8157, 4485, 4957, 361, 1020, 9962, 1309, 9887, 9998, 9384, 547, 1099, 3847, 2321, 6048, 8279, 4236, 6129, 8846, 5031, 1346, 5563, 6871, 7198, 3006, 180, 8346, 25, 9792, 5611, 417, 8254, 2655, 224, 8171, 9520, 9083, 4404, 5991, 9560, 8508, 2305, 3323, 3205, 8955, 2626, 2149, 5565, 7109, 7659, 6886, 2328, 6654, 1655, 6267, 5465, 8933, 353, 6615, 6437, 2451, 2654, 877, 1582, 8475, 7154, 1164, 1214, 3834, 656, 1868, 8692, 9995, 3105, 10296, 1163, 3521, 7452, 9435, 10162, 2795, 9257, 3690, 3413, 7569, 1672, 4108, 899, 3206, 5392, 8785, 3598, 5378, 6508, 9222, 2632, 9906, 7954, 1517, 5240, 9312, 98, 1282, 10029, 1378, 1052, 7532, 5930, 4878, 8389, 8274, 9387, 2827, 10056, 10194, 1953, 4822, 4315, 4616, 5150, 294, 5716, 5454, 3525, 4441, 8870, 9074, 2753, 6402, 1621, 8302, 7716, 9898, 1688, 5511, 1417, 3678, 5082, 4095, 5295, 4968, 1060, 9346, 2465, 1979, 3556, 146, 5940, 7429, 981, 5821, 2458, 3394, 10042, 3420, 5682, 2207, 895, 4100, 6776, 4391, 2435, 7692, 1807, 4261, 2357, 9030, 7362, 5653, 1468, 9989, 2444, 4226, 1555, 4383, 10197, 8813, 2141, 607, 9825, 9282, 5909, 1617, 534, 7300, 5544, 4562, 654, 5967, 5690, 2097, 8729, 9388, 8441, 1565, 5559, 10115, 4791, 2064, 425, 5077, 4801, 4150, 3520, 1721, 10274, 9688, 5343, 9559, 6024, 2397, 364, 2304, 6013, 5901, 8510, 4189, 9215, 145, 9214, 3233, 3629, 3129, 612, 5766, 9526, 10207, 5794, 1531, 1453, 5835, 1083, 3175, 3272, 3705, 83, 6439, 9544, 7737, 9759, 1989, 6343, 5346, 7489, 10173, 6036, 4469, 3723, 1409, 231, 6560, 2652, 4042, 3142, 4948, 8629, 6166, 4274, 6470, 6254, 6006, 9613, 3666, 3040, 3359, 6050, 979, 5464, 4268, 5238, 10243, 5004, 9468, 1118, 8887, 3118, 10112, 9585, 4761, 5946, 6516, 6822, 9726, 1594, 4675, 2148, 841, 41, 8204, 8100, 7679, 9016, 9766, 1872, 6727, 930, 6726, 8898, 9665, 4790, 1375, 641, 5550, 5527, 7318, 97, 3159, 6640, 5745, 219, 3710, 9441, 6979, 10271, 1841, 3990, 131, 1380, 7812, 9771, 9148, 1129, 1949, 4731, 285, 4336, 1450, 6584, 4357, 5337, 9292, 7235, 3431, 7839, 8760, 3515, 272, 2830, 391, 802, 7151, 185, 1978, 9622, 5046, 123, 5145, 5276, 9866, 562, 1387, 7783, 8673, 5391, 9582, 3750, 3833, 7940, 6297, 10156, 2136, 7299, 3382, 4841, 8896, 1829, 5192, 8196, 2606, 6977, 9634, 9489, 8409, 1451, 1172, 8318, 3075, 6571, 5003, 6812, 6783, 72, 8786, 100, 7453, 7858, 10171, 10168, 9467, 5108, 10082, 4665, 9065, 4157, 10018, 7076, 7402, 6077, 737, 9971, 463, 2546, 2789, 7840, 8035, 7501, 5057, 5074, 5292, 8631, 8553, 1670, 6154, 527, 9942, 8041, 4303, 2676, 4351, 6674, 7610, 5910, 7436, 6314, 225, 5639, 5720, 1956, 147, 6659, 5955, 5085, 3096, 7580, 9529, 10141, 5543, 6901, 3994, 5039, 7042, 5142, 1957, 10294, 675, 3491, 2433, 9534, 8117, 5804, 1432, 9918, 6917, 9150, 10177, 2983, 9094, 1419, 7943, 3934, 8278, 7593, 5841, 595, 10074, 9343, 2636, 2946, 2867, 9398, 9204, 7284, 3082, 2100, 6417, 7947, 2860, 2380, 3646, 1093, 5970, 8717, 6070, 3549, 4519, 4521, 7603, 7520, 9747, 6099, 1890, 3738, 2809, 688, 7550, 208, 4354, 7458, 4722, 8674, 9106, 8415, 9824, 9438, 10017, 8471, 5155, 3613, 7149, 625, 1505, 8774, 4051, 300, 910, 7484, 9527, 7046, 1009, 9963, 9425, 1779, 332, 8948, 2868, 8439, 5253, 4578, 4783, 6817, 4811, 3785, 9635, 2838, 6044, 2705, 3546, 2169, 5252, 4937, 6066, 5486, 8014, 9578, 3136, 163, 9072, 3023, 10179, 7928, 9448, 8768, 4891, 4860, 4502, 469, 1244, 2584, 9592, 8936, 8721, 3633, 60, 9913, 8970, 6104, 6176, 8918, 6198, 7067, 4770, 7988, 5178, 575, 10132, 9048, 5499, 7843, 6464, 5066, 9600, 4635, 9536, 44, 5609, 9329, 7944, 9868, 9533, 1994, 3119, 3972, 472, 3924, 2262, 8237, 5634, 1166, 2206, 1507, 2756, 1353, 9662, 1756, 7616, 4178, 5773, 3967, 1501, 4066, 5513, 7509, 3050, 4991, 7515, 2568, 227, 6532, 9516, 4212, 7341, 2696, 8964, 8984, 1745, 6731, 2486, 7174, 9406, 4886, 3631, 3452, 5960, 2054, 1307, 820, 8451, 4990, 2045, 667, 7506, 1706, 1495, 6510, 9130, 8956, 4671, 4170, 39, 2489, 1550, 9507, 6964, 8909, 643, 2887, 5890, 804, 5492, 9155, 9801, 3321, 1321, 2600, 790, 5113, 3150, 9638, 3938, 438, 2802, 4617, 1220, 9413, 10019, 1920, 1296, 2614, 8872, 9983, 5152, 839, 6098, 3058, 2979, 8571, 1591, 6600, 8028, 3806, 9946, 9322, 9240, 7462, 6899, 7791, 8068, 7736, 2068, 3818, 8325, 8934, 9947, 788, 3875, 1742, 6412, 8227, 5731, 6863, 8609, 7415, 3111, 9175, 5333, 2608, 3511, 3968, 8790, 657, 2728, 6367, 9899, 4498, 7573, 4423, 8110, 10253, 2619, 2725, 5305, 6540, 1883, 9201, 1847, 7446, 8264, 9642, 298, 5060, 5067, 9671, 5526, 387, 7660, 2969, 4585, 1137, 5485, 7118, 4745, 5915, 4049, 465, 3450, 5688, 7981, 8848, 3772, 6771, 8112, 8831, 8423, 7923, 1833, 7273, 9063, 4399, 9300, 1629, 3019, 5995, 1602, 579, 7359, 9365, 5948, 7437, 2955, 9852, 6522, 7086, 8190, 3531, 6545, 8685, 8125, 8380, 9228, 4888, 7131, 1169, 7221, 3555, 5850, 5304, 8199, 3944, 721, 8127, 8766, 7498, 649, 4695, 9924, 5608, 3239, 9280, 1322, 8193, 7103, 9293, 6087, 5502, 10181, 7558, 2638, 101, 4154, 1527, 3316, 2545, 8724, 1620, 4326, 7403, 9567, 3256, 5172, 1997, 3381, 5035, 1712, 3999, 9707, 2209, 9909, 8991, 6295, 3217, 9169, 7040, 5043, 6658, 4052, 69, 7209, 1534, 9751, 6625, 3770, 148, 6108, 9317, 3709, 6387, 8323, 636, 4998, 4087, 1860, 7256, 1766, 8149, 3647, 3860, 1247, 1652, 5107, 3523, 1637, 9263, 9686, 1219, 8499, 5208, 5051, 8498, 6590, 7410, 2069, 9031, 10263, 2325, 1202, 1413, 8900, 6635, 7724, 2779, 6951, 6897, 4534, 5894, 10233, 1292, 2607, 3804, 5196, 2416, 7268, 3841, 5809, 666, 780, 8092, 7303, 888, 7421, 2014, 5130, 7850, 5871, 4706, 5815, 598, 1168, 2828, 9427, 6039, 7915, 4220, 8998, 2193, 2588, 842, 6877, 1001, 5001, 3380, 3083, 5182, 9654, 3566, 7539, 2642, 5348, 1281, 7041, 6773, 2229, 1986, 7469, 4830, 3344, 10152, 6321, 3677, 4949, 9791, 6996, 7027, 1144, 896, 10033, 1776, 2681, 7581, 265, 7363, 4433, 9234, 5554, 5535, 6262, 2011, 7903, 6258, 6480, 1199, 4408, 4579, 8608, 3878, 9216, 9787, 8390, 5212, 7643, 2121, 3948, 7753, 2296, 8591, 2417, 7572, 635, 4129, 7710, 8175, 3064, 4306, 1668, 9140, 4620, 5594, 1329, 2407, 4341, 4816, 7089, 3776, 879, 4227, 553, 372, 9904, 8526, 5522, 320, 2670, 7799, 8931, 5944, 7953, 2260, 1438, 9383, 8327, 4310, 7784, 8215, 2179, 925, 7391, 2406, 6685, 3496, 7788, 707, 8651, 9464, 6225, 604, 6752, 4820, 9796, 3351, 6695, 6608, 9729, 7755, 5954, 3524, 8995, 7626, 801, 6348, 8972, 7805, 4839, 6790, 9459, 9132, 2792, 7028, 1933, 3433, 8940, 9964, 2815, 3623, 9333, 7107, 3762, 9355, 6916, 3389, 7731, 1525, 6987, 8684, 5510, 4152, 3187, 1150, 6701, 6601, 10148, 6565, 6621, 552, 6737, 2879, 6521, 2894, 4319, 3063, 4293, 4885, 2937, 3102, 6666, 5671, 4979, 7768, 6718, 6137, 5528, 5681, 9179, 4766, 1981, 9372, 6172, 6872, 314, 695, 6954, 6153, 8594, 4179, 5853, 7782, 7494, 9589, 7422, 8437, 6807, 2832, 2804, 5980, 459, 7286, 9196, 2376, 6528, 8250, 8853, 2876, 2174, 81, 4837, 10155, 376, 10245, 6705, 8447, 2644, 6672, 6971, 2241, 4746, 392, 5390, 6392, 1181, 5898, 257, 7136, 7688, 10288, 9948, 8671, 5114, 4412, 4332, 4113, 7548, 8910, 1368, 9115, 1284, 2695, 8595, 5965, 2914, 9221, 5621, 8160, 3905, 3384, 1228, 130, 5291, 5516, 7210, 6436, 5862, 8206, 1463, 5630, 4602, 9182, 9189, 1355, 1246, 7924, 2, 411, 817, 7797, 5548, 9488, 8548, 4446, 3245, 4784, 4320, 967, 9797, 7044, 239, 701, 8792, 3261, 2088, 9713, 499, 6011, 1774, 6639, 4735, 918, 9034, 1436, 529, 4563, 1046, 1834, 3822, 3966, 6706, 9315, 4452, 1764, 3826, 2853, 36, 4425, 2675, 7188, 7380, 2717, 1687, 7933, 7401, 3185, 2564, 1592, 3427, 5271, 881, 704, 63, 752, 5571, 3850, 7996, 7948, 678, 6684, 3128, 4535, 2372, 9340, 531, 3782, 9399, 2066, 93, 1907, 8419, 7133, 4216, 2882, 8662, 9157, 1142, 3395, 3675, 4190, 4483, 203, 7895, 4641, 9184, 3124, 2993, 4191, 278, 9997, 8316, 4622, 8158, 3259, 7571, 10129, 8043, 4824, 1471, 10223, 2033, 6650, 6233, 8653, 9284, 495, 743, 5494, 9236, 6429, 6631, 4292, 7821, 600, 491, 6105, 2611, 2192, 8682, 176, 668, 5340, 8342, 10135, 6263, 7739, 2774, 1492, 9633, 6883, 1351, 1376, 6691, 3611, 4939, 1356, 9432, 5045, 571, 6743, 3701, 1437, 6151, 7135, 5037, 4298, 9050, 9254, 9205, 96, 4369, 9900, 9475, 6953, 9786, 6490, 1797, 326, 7925, 824, 1024, 6265, 2485, 7834, 2038, 1344, 9443, 8558, 1877, 6499, 5585, 6025, 4349, 1682, 2637, 9570, 8283, 8435, 8011, 5747, 5926, 624, 9122, 5431, 1000, 924, 3579, 8633, 2651, 915, 3502, 3474, 5977, 2861, 8281, 8783, 3399, 7187, 8974, 8886, 1176, 2633, 4497, 3160, 7686, 2410, 5899, 5361, 3422, 10292, 6648, 6870, 2358, 9153, 2991, 6804, 9265, 4209, 4121, 5407, 1544, 5452, 5180, 8489, 1898, 3226, 2198, 5490, 8138, 4329, 1545, 1603, 1840, 2188, 9708, 1084, 519, 5728, 2048, 4526, 5216, 6064, 999, 2337, 2172, 9519, 8539, 8511, 2364, 7208, 8865, 8351, 2829, 8252, 7464, 5603, 8245, 9620, 3294, 1556, 152, 213, 266, 7463, 6594, 5195, 3471, 3298, 7641, 6693, 4158, 9118, 5889, 6620, 6567, 424, 7980, 5313, 9710, 6989, 1701, 5055, 10257, 3908, 7914, 3951, 6255, 2212, 2747, 9004, 5830, 3314, 2803, 1004, 1446, 3417, 7238, 1236, 8268, 2759, 977, 5441, 1291, 5570, 4922, 748, 7280, 7184, 9235, 2065, 9819, 7960, 8099, 683, 4004, 9939, 8769, 1523, 2439, 9969, 5144, 5171, 3255, 3538, 3393, 4954, 2536, 9079, 7056, 3946, 2708, 8212, 7628, 5963, 6015, 10193, 5567, 9114, 10238, 4282, 9174, 4455, 708, 9862, 6416, 10062, 3234, 7150, 2311, 113, 797, 8830, 1980, 6313, 6207, 4987, 6086, 153, 2345, 6884, 6158, 8104, 386, 9821, 2387, 4331, 5306, 7545, 6952, 7531, 2291, 9440, 9141, 6553, 4019, 5641, 1546, 7207, 5597, 3407, 2215, 6720, 1698, 7301, 6019, 9691, 8733, 3544, 7770, 1792, 3328, 1352, 6424, 10146, 9353, 9672, 9812, 5837, 7079, 9539, 588, 7069, 3730, 2980, 8494, 2929, 7849, 4561, 8387, 9218, 7180, 2230, 516, 7324, 4466, 1086, 4931, 1486, 4672, 4438, 7270, 2424, 5325, 429, 4843, 7023, 6049, 6549, 10106, 2813, 3010, 7169, 2322, 684, 3801, 5843, 3687, 4897, 3626, 3849, 3186, 7991, 1695, 1744, 1121, 8115, 6141, 3510, 3398, 2271, 9712, 8269, 8583, 6909, 6060, 8223, 3564, 3976, 9366, 9927, 10118, 5473, 8438, 9549, 2076, 10251, 5092, 5425, 4655, 8391, 9090, 1345, 3649, 9248, 8894, 854, 8997, 9698, 1336, 5289, 4269, 10264, 1229, 9666, 7231, 9253, 9244, 4325, 7071, 6930, 1571, 4118, 4075, 1539, 9891, 9916, 2519, 1267, 4078, 782, 8950, 3327, 9138, 5168, 763, 8770, 10021, 7861, 703, 1148, 8885, 9605, 9454, 7898, 4539, 10164, 2095, 2094, 1445, 8444, 9583, 919, 5836, 10176, 569, 4149, 4381, 9418, 395, 9287, 10067, 512, 3465, 7129, 8062, 7374, 8618, 10229, 3769, 2026, 7879, 8635, 6316, 8613, 2577, 3573, 6669, 8845, 8628, 5089, 7430, 7763, 590, 6353, 7511, 1360, 5906, 5604, 1298, 2760, 179, 1493, 10289, 9535, 4285, 6014, 535, 655, 2131, 8359, 4920, 7927, 3278, 7161, 6194, 9319, 8927, 7627, 926, 5918, 2234, 396, 6680, 8953, 6441, 722, 5992, 5120, 9772, 488, 3830, 6156, 3155, 9104, 6678, 6425, 7774, 447, 9978, 2951, 7099, 5937, 7014, 10105, 5049, 7038, 82, 3956, 7052, 4064, 5578, 1882, 6491, 7492, 813, 1892, 6005, 6388, 2952, 8920, 7416, 8145, 3309, 7941, 4653, 5811, 6397, 1740, 5663, 5129, 2595, 1731, 6415, 234, 10286, 4208, 3837, 9649, 3133, 4167, 857, 5870, 1082, 791, 1081, 6032, 483, 68, 7114, 4597, 3653, 3254, 10149, 467, 10184, 1715, 4926, 4444, 5777, 3658, 514, 1096, 2825, 700, 4309, 9465, 5412, 8317, 4952, 4696, 6548, 7397, 8347, 3209, 2811, 1658, 1194, 169, 3127, 3581, 9645, 3418, 7992, 2117, 177, 3306, 8234, 8218, 4647, 10114, 2503, 5976, 3232, 8490, 5047, 7364, 559, 3346, 2569, 6275, 2970, 4360, 8362, 1195, 905, 1675, 4462, 4305, 7844, 4930, 6089, 1071, 10045, 9162, 1905, 2057, 5086, 409, 8243, 549, 606, 6853, 5586, 6623, 5293, 4202, 5179, 4352, 9524, 7018, 1354, 7934, 5374, 5242, 2941, 445, 5808, 1108, 5468, 7278, 1899, 1716, 6742, 7004, 4225, 2936, 5358, 937, 3466, 6970, 2144, 10236, 1713, 2889, 6334, 4429, 3537, 6815, 237, 8105, 1088, 5307, 823, 1241, 7882, 8319, 226, 1227, 6843, 3030, 8596, 2249, 5181, 9810, 6966, 2940, 933, 4796, 7119, 5920, 1987, 1120, 7646, 4166, 2231, 8550, 856, 7353, 686, 8963, 2591, 4560, 3372, 5458, 7779, 5891, 9259, 212, 2180, 5656, 7008, 4284, 7829, 2195, 2967, 2482, 3628, 9878, 7838, 5829, 10284, 1903, 2574, 4177, 3056, 194, 6845, 5768, 9238, 3695, 4661, 1788, 3002, 6747, 1039, 5573, 4416, 956, 6148, 9308, 1029, 4792, 7566, 1132, 8213, 10005, 1064, 6181, 5593, 7411, 7814, 3662, 5533, 5338, 8989, 1995, 7081, 6662, 3276, 3655, 3354, 6109, 26, 9173, 1319, 4168, 1537, 4666, 638, 2073, 9096, 6546, 1440, 3587, 5649, 6906, 4771, 4434, 7778, 6912, 9470, 7863, 4623, 1549, 7854, 337, 8748, 4973, 3089, 7704, 3796, 6920, 6544, 9460, 8756, 338, 8050, 3123, 3426, 8469, 4417, 8483, 3343, 6933, 223, 3645, 2732, 268, 4638, 5162, 2015, 4419, 1844, 3214, 2898, 7766, 787, 10227, 8534, 10270, 1587, 8265, 9743, 7578, 870, 8546, 7191, 2938, 8442, 5204, 2521, 10187, 8401, 10089, 696, 3367, 9954, 1522, 878, 3007, 4682, 5436, 4155, 7120, 3894, 5226, 8, 7445, 6421, 1992, 8945, 3882, 6136, 3661, 9193, 611, 3589, 3242, 6575, 583, 259, 8159, 4093, 5489, 1990, 6373, 1377, 9932, 4020, 9428, 2378, 5239, 6063, 4406, 557, 7354, 6573, 8545, 9001, 5566, 2531, 7722, 2865, 9100, 452, 7772, 5475, 3260, 828, 2244, 149, 9522, 4147, 5430, 7811, 2662, 2383, 8735, 7024, 923, 1406, 4506, 8617, 4109, 8056, 2398, 1430, 7078, 6078, 3533, 7242, 4577, 1864, 4096, 7277, 8400, 8796, 4017, 7320, 9749, 5221, 492, 3876, 5893, 1557, 4614, 4819, 1212, 8675, 4555, 4806, 2019, 10188, 8208, 6164, 442, 5273, 3368, 7031, 10209, 2171, 3632, 4233, 8496, 2948, 6614, 8057, 9469, 7908, 526, 7241, 3325, 1867, 2156, 3277, 7075, 9679, 7226, 3920, 3557, 6983, 2232, 7712, 6891, 4204, 6116, 3183, 3800, 8856, 2000, 7773, 8151, 1491, 2895, 4793, 7414, 9925, 1597, 2723, 2884, 5299, 3752, 9341, 3918, 8467, 8556, 5404, 2666, 9626, 9166, 2109, 9514, 7177, 9266, 9447, 2012, 988, 2796, 5258, 6065, 2375, 8659, 5395, 1147, 6616, 5907, 1866, 6483, 8851, 3617, 5332, 4711, 9977, 2140, 6318, 9306, 6798, 807, 5629, 8263, 3169, 3751, 6793, 195, 7802, 2178, 2624, 601, 7594, 7115, 2641, 4809, 935, 3959, 7357, 9504, 814, 5922, 2547, 8497, 117, 8259, 2506, 7334, 7570, 106, 4245, 8016, 139, 7886, 7049, 470, 1425, 8834, 5225, 4260, 584, 3460, 7792, 851, 6492, 9740, 3356, 2680, 360, 8602, 7666, 2104, 1690, 6308, 8116, 7243, 5387, 156, 6167, 1976, 9045, 9538, 3724, 5227, 7781, 4125, 6738, 7824, 9295, 2004, 2964, 3665, 6150, 5187, 5856, 5715, 3825, 5978, 5262, 7985, 215, 5315, 5278, 4512, 1762, 4197, 7955, 6781, 10160, 7929, 4976, 3843, 541, 2393, 4059, 6285, 2718, 102, 5439, 9714, 1802, 9404, 1579, 2508, 5401, 7699, 5064, 8405, 9652, 7488, 3017, 9639, 9588, 6574, 3766, 1335, 593, 7793, 1095, 126, 2949, 7963, 3754, 501, 3548, 8392, 4421, 4355, 4339, 3698, 1101, 2126, 3664, 3773, 6945, 4959, 4567, 6312, 4934, 7526, 9164, 5669, 7124, 8642, 4321, 7395, 5951, 6629, 5176, 4650, 1859, 9062, 1218, 1627, 1588, 2534, 5600, 3864, 1842, 7200, 9260, 6885, 8854, 5237, 3385, 9597, 3583, 8518, 6498, 9339, 4265, 4715, 3285, 7790, 2683, 8892, 2740, 6288, 5823, 6999, 9926, 1080, 962, 2018, 3046, 307, 9838, 4904, 3641, 692, 4568, 10213, 586, 865, 2467, 2597, 3464, 1266, 6493, 1961, 5246, 7451, 7142, 75, 4091, 1103, 9523, 206, 7434, 6356, 3377, 7132, 1516, 5892, 5206, 9493, 6081, 5975, 9723, 8249, 4255, 9547, 3116, 9646, 8663, 9561, 3210, 4632, 5442, 7009, 2293, 3902, 5322, 3668, 4453, 5558, 3429, 4825, 2173, 4027, 5136, 5323, 4394, 2074, 7082, 10047, 6438, 8106, 9358, 5331, 8759, 3508, 8096, 6857, 1400, 7825, 7694, 6905, 5592, 8555, 8725, 6541, 2303, 7911, 8256, 8030, 260, 9965, 2201, 7468, 5767, 4046, 5625, 4710, 7718, 6001, 3743, 3756, 8668, 8308, 5864, 3650, 1014, 1919, 7244, 3635, 1072, 7671, 10249, 4235, 4223, 9608, 5831, 12, 6058, 1269, 1608, 7439, 7507, 4634, 9359, 548, 705, 4132, 7176, 6246, 7343, 2373, 9543, 8954, 3138, 9689, 4984, 5098, 6967, 7440, 1747, 644, 2307, 9735, 6061, 1254, 5251, 2243, 4442, 2006, 6827]\n"
     ]
    }
   ],
   "source": [
    "# Randomizing the two sets \n",
    "insurance_df_sets = insurance_df.copy(deep=True)\n",
    "insurance_df_sets = insurance_df_sets.dropna()\n",
    "insurance_df_trainingset = insurance_df_sets.sample(frac = 0.75)\n",
    "print(insurance_df_trainingset.index.tolist())"
   ]
  },
  {
   "cell_type": "markdown",
   "metadata": {},
   "source": [
    "## Automatically fill in with a measure of central tendency (i.e. mean, median, mode);"
   ]
  },
  {
   "cell_type": "code",
   "execution_count": 15,
   "metadata": {
    "scrolled": true
   },
   "outputs": [],
   "source": [
    "insurance_df_ct = insurance_df.copy(deep=True)\n",
    "insurance_df_ct[ratio] = insurance_df_ct[ratio].fillna(insurance_df[ratio].mean())"
   ]
  },
  {
   "cell_type": "code",
   "execution_count": 16,
   "metadata": {},
   "outputs": [],
   "source": [
    "insurance_df_ct[nominal] = insurance_df_ct[nominal].fillna(insurance_df[nominal].mode().iloc[0])"
   ]
  },
  {
   "cell_type": "markdown",
   "metadata": {},
   "source": [
    "## To fill in with values from similar individuals (nearest neighbours);"
   ]
  },
  {
   "cell_type": "code",
   "execution_count": 17,
   "metadata": {},
   "outputs": [],
   "source": [
    "insurance_df_nn = insurance_df.sort_values(by=insurance_df.columns.tolist()).fillna(method = 'ffill')"
   ]
  },
  {
   "cell_type": "markdown",
   "metadata": {},
   "source": [
    "## Predictive model (linear regression, multiple linear regression);"
   ]
  },
  {
   "cell_type": "code",
   "execution_count": 18,
   "metadata": {
    "scrolled": true
   },
   "outputs": [],
   "source": [
    "null_data = {}\n",
    "to_check = []\n",
    "\n",
    "for col in insurance_df[ratio].columns.tolist():\n",
    "    null_data[col] = insurance_df[insurance_df[col].isnull()].index.tolist()\n",
    "    to_check += insurance_df[insurance_df[col].isnull()].index.tolist()\n",
    "\n",
    "\n",
    "to_check = list(dict.fromkeys([i for i in to_check if to_check.count(i) >= 2])) # Rows with more than one value missing\n",
    "\n",
    "for col in null_data:\n",
    "    for i in range (len(null_data[col])-1,-1, -1):\n",
    "        if null_data[col][i] in to_check:\n",
    "            null_data[col].remove(null_data[col][i])"
   ]
  },
  {
   "cell_type": "code",
   "execution_count": 19,
   "metadata": {
    "scrolled": false
   },
   "outputs": [
    {
     "data": {
      "text/html": [
       "<div>\n",
       "<style scoped>\n",
       "    .dataframe tbody tr th:only-of-type {\n",
       "        vertical-align: middle;\n",
       "    }\n",
       "\n",
       "    .dataframe tbody tr th {\n",
       "        vertical-align: top;\n",
       "    }\n",
       "\n",
       "    .dataframe thead th {\n",
       "        text-align: right;\n",
       "    }\n",
       "</style>\n",
       "<table border=\"1\" class=\"dataframe\">\n",
       "  <thead>\n",
       "    <tr style=\"text-align: right;\">\n",
       "      <th></th>\n",
       "      <th>First Policy´s Year</th>\n",
       "      <th>Brithday Year</th>\n",
       "      <th>Gross Monthly Salary</th>\n",
       "      <th>Geographic Living Area</th>\n",
       "      <th>Has Children (Y=1)</th>\n",
       "      <th>Customer Monetary Value</th>\n",
       "      <th>Claims Rate</th>\n",
       "      <th>Premiums in LOB: Motor</th>\n",
       "      <th>Premiums in LOB: Household</th>\n",
       "      <th>Premiums in LOB: Health</th>\n",
       "      <th>Premiums in LOB:  Life</th>\n",
       "      <th>Premiums in LOB: Work Compensations</th>\n",
       "      <th>Age when doing first policy</th>\n",
       "    </tr>\n",
       "  </thead>\n",
       "  <tbody>\n",
       "    <tr>\n",
       "      <th>count</th>\n",
       "      <td>10296.000000</td>\n",
       "      <td>10296.000000</td>\n",
       "      <td>10296.000000</td>\n",
       "      <td>10296.000000</td>\n",
       "      <td>10296.000000</td>\n",
       "      <td>10296.000000</td>\n",
       "      <td>10296.000000</td>\n",
       "      <td>10296.000000</td>\n",
       "      <td>10296.000000</td>\n",
       "      <td>10296.000000</td>\n",
       "      <td>10296.000000</td>\n",
       "      <td>10296.000000</td>\n",
       "      <td>10291.000000</td>\n",
       "    </tr>\n",
       "    <tr>\n",
       "      <th>mean</th>\n",
       "      <td>1991.066203</td>\n",
       "      <td>1968.006538</td>\n",
       "      <td>2506.580581</td>\n",
       "      <td>2.709984</td>\n",
       "      <td>0.707362</td>\n",
       "      <td>177.892605</td>\n",
       "      <td>0.742772</td>\n",
       "      <td>299.478024</td>\n",
       "      <td>210.431192</td>\n",
       "      <td>170.864246</td>\n",
       "      <td>41.432996</td>\n",
       "      <td>40.932733</td>\n",
       "      <td>23.058109</td>\n",
       "    </tr>\n",
       "    <tr>\n",
       "      <th>std</th>\n",
       "      <td>510.522497</td>\n",
       "      <td>19.698314</td>\n",
       "      <td>1156.224538</td>\n",
       "      <td>1.266293</td>\n",
       "      <td>0.454996</td>\n",
       "      <td>1945.811505</td>\n",
       "      <td>2.916964</td>\n",
       "      <td>212.265950</td>\n",
       "      <td>352.595984</td>\n",
       "      <td>295.993236</td>\n",
       "      <td>47.425261</td>\n",
       "      <td>51.435347</td>\n",
       "      <td>511.229247</td>\n",
       "    </tr>\n",
       "    <tr>\n",
       "      <th>min</th>\n",
       "      <td>1974.000000</td>\n",
       "      <td>1028.000000</td>\n",
       "      <td>333.000000</td>\n",
       "      <td>1.000000</td>\n",
       "      <td>0.000000</td>\n",
       "      <td>-165680.420000</td>\n",
       "      <td>0.000000</td>\n",
       "      <td>-4.110000</td>\n",
       "      <td>-75.000000</td>\n",
       "      <td>-2.110000</td>\n",
       "      <td>-7.000000</td>\n",
       "      <td>-12.000000</td>\n",
       "      <td>-27.000000</td>\n",
       "    </tr>\n",
       "    <tr>\n",
       "      <th>25%</th>\n",
       "      <td>1980.000000</td>\n",
       "      <td>1953.000000</td>\n",
       "      <td>1706.000000</td>\n",
       "      <td>1.000000</td>\n",
       "      <td>0.000000</td>\n",
       "      <td>-9.440000</td>\n",
       "      <td>0.390000</td>\n",
       "      <td>190.260000</td>\n",
       "      <td>49.450000</td>\n",
       "      <td>110.910000</td>\n",
       "      <td>9.890000</td>\n",
       "      <td>10.000000</td>\n",
       "      <td>3.000000</td>\n",
       "    </tr>\n",
       "    <tr>\n",
       "      <th>50%</th>\n",
       "      <td>1986.000000</td>\n",
       "      <td>1968.000000</td>\n",
       "      <td>2502.000000</td>\n",
       "      <td>3.000000</td>\n",
       "      <td>1.000000</td>\n",
       "      <td>186.870000</td>\n",
       "      <td>0.720000</td>\n",
       "      <td>298.390000</td>\n",
       "      <td>132.800000</td>\n",
       "      <td>162.030000</td>\n",
       "      <td>25.450000</td>\n",
       "      <td>25.560000</td>\n",
       "      <td>18.000000</td>\n",
       "    </tr>\n",
       "    <tr>\n",
       "      <th>75%</th>\n",
       "      <td>1992.000000</td>\n",
       "      <td>1983.000000</td>\n",
       "      <td>3290.000000</td>\n",
       "      <td>4.000000</td>\n",
       "      <td>1.000000</td>\n",
       "      <td>399.777500</td>\n",
       "      <td>0.980000</td>\n",
       "      <td>407.520000</td>\n",
       "      <td>290.050000</td>\n",
       "      <td>218.957500</td>\n",
       "      <td>57.010000</td>\n",
       "      <td>56.010000</td>\n",
       "      <td>33.000000</td>\n",
       "    </tr>\n",
       "    <tr>\n",
       "      <th>max</th>\n",
       "      <td>53784.000000</td>\n",
       "      <td>2001.000000</td>\n",
       "      <td>55215.000000</td>\n",
       "      <td>4.000000</td>\n",
       "      <td>1.000000</td>\n",
       "      <td>11875.890000</td>\n",
       "      <td>256.200000</td>\n",
       "      <td>11604.420000</td>\n",
       "      <td>25048.800000</td>\n",
       "      <td>28272.000000</td>\n",
       "      <td>398.300000</td>\n",
       "      <td>1988.700000</td>\n",
       "      <td>51836.000000</td>\n",
       "    </tr>\n",
       "  </tbody>\n",
       "</table>\n",
       "</div>"
      ],
      "text/plain": [
       "       First Policy´s Year  Brithday Year  Gross Monthly Salary  \\\n",
       "count         10296.000000   10296.000000          10296.000000   \n",
       "mean           1991.066203    1968.006538           2506.580581   \n",
       "std             510.522497      19.698314           1156.224538   \n",
       "min            1974.000000    1028.000000            333.000000   \n",
       "25%            1980.000000    1953.000000           1706.000000   \n",
       "50%            1986.000000    1968.000000           2502.000000   \n",
       "75%            1992.000000    1983.000000           3290.000000   \n",
       "max           53784.000000    2001.000000          55215.000000   \n",
       "\n",
       "       Geographic Living Area  Has Children (Y=1)  Customer Monetary Value  \\\n",
       "count            10296.000000        10296.000000             10296.000000   \n",
       "mean                 2.709984            0.707362               177.892605   \n",
       "std                  1.266293            0.454996              1945.811505   \n",
       "min                  1.000000            0.000000           -165680.420000   \n",
       "25%                  1.000000            0.000000                -9.440000   \n",
       "50%                  3.000000            1.000000               186.870000   \n",
       "75%                  4.000000            1.000000               399.777500   \n",
       "max                  4.000000            1.000000             11875.890000   \n",
       "\n",
       "        Claims Rate  Premiums in LOB: Motor  Premiums in LOB: Household  \\\n",
       "count  10296.000000            10296.000000                10296.000000   \n",
       "mean       0.742772              299.478024                  210.431192   \n",
       "std        2.916964              212.265950                  352.595984   \n",
       "min        0.000000               -4.110000                  -75.000000   \n",
       "25%        0.390000              190.260000                   49.450000   \n",
       "50%        0.720000              298.390000                  132.800000   \n",
       "75%        0.980000              407.520000                  290.050000   \n",
       "max      256.200000            11604.420000                25048.800000   \n",
       "\n",
       "       Premiums in LOB: Health  Premiums in LOB:  Life  \\\n",
       "count             10296.000000            10296.000000   \n",
       "mean                170.864246               41.432996   \n",
       "std                 295.993236               47.425261   \n",
       "min                  -2.110000               -7.000000   \n",
       "25%                 110.910000                9.890000   \n",
       "50%                 162.030000               25.450000   \n",
       "75%                 218.957500               57.010000   \n",
       "max               28272.000000              398.300000   \n",
       "\n",
       "       Premiums in LOB: Work Compensations  Age when doing first policy  \n",
       "count                         10296.000000                 10291.000000  \n",
       "mean                             40.932733                    23.058109  \n",
       "std                              51.435347                   511.229247  \n",
       "min                             -12.000000                   -27.000000  \n",
       "25%                              10.000000                     3.000000  \n",
       "50%                              25.560000                    18.000000  \n",
       "75%                              56.010000                    33.000000  \n",
       "max                            1988.700000                 51836.000000  "
      ]
     },
     "execution_count": 19,
     "metadata": {},
     "output_type": "execute_result"
    }
   ],
   "source": [
    "X = [i for i in null_data.keys() if len(null_data[i])>0]\n",
    "dict_models = {}\n",
    "\n",
    "for i in range(0,len(X)):\n",
    "    dict_models[X[i]] = deepcopy(ratio)\n",
    "    dict_models[X[i]].remove(X[i])\n",
    "\n",
    "aux_df = insurance_df.dropna()\n",
    "lm = linear_model.LinearRegression()\n",
    "predictions = {}\n",
    "\n",
    "for mod in dict_models:\n",
    "    x = pd.DataFrame(aux_df[dict_models[mod]])\n",
    "    y = pd.DataFrame(aux_df[mod])\n",
    "    model = lm.fit(x,y)\n",
    "    pred = insurance_df[dict_models[mod]].loc[null_data[mod]]\n",
    "    predictions[mod] = lm.predict(pred).tolist()\n",
    "\n",
    "\n",
    "insurance_df_mrm = insurance_df.copy(deep=True)\n",
    "\n",
    "for prediction in predictions:\n",
    "    for i in range(0,len(predictions[prediction])):\n",
    "        insurance_df_mrm.loc[null_data[prediction][i],prediction] = round(predictions[prediction][i][0],1)\n",
    "\n",
    "        \n",
    "insurance_df_mrm['Age when doing first policy'] = insurance_df_mrm['First Policy´s Year']-insurance_df_mrm['Brithday Year']\n",
    "insurance_df_mrm[ratio] = insurance_df_mrm[ratio].fillna(insurance_df_mrm.mean())\n",
    "insurance_df_mrm[nominal] = insurance_df_mrm[nominal].fillna(insurance_df_mrm.mode().iloc[0])\n",
    "insurance_df_mrm.describe()"
   ]
  },
  {
   "cell_type": "markdown",
   "metadata": {},
   "source": [
    "<b style=\"color:#FF5733\">Fiding outliers</b>"
   ]
  },
  {
   "cell_type": "code",
   "execution_count": 20,
   "metadata": {},
   "outputs": [],
   "source": [
    "ratio.append('Age when doing first policy') # Age when doing first policy is numerical (ratio)"
   ]
  },
  {
   "cell_type": "code",
   "execution_count": 21,
   "metadata": {
    "scrolled": false
   },
   "outputs": [
    {
     "ename": "ValueError",
     "evalue": "Could not interpret input 'Age when doing first policy'",
     "output_type": "error",
     "traceback": [
      "\u001b[1;31m---------------------------------------------------------------------------\u001b[0m",
      "\u001b[1;31mValueError\u001b[0m                                Traceback (most recent call last)",
      "\u001b[1;32m<ipython-input-21-02e2427e0ba4>\u001b[0m in \u001b[0;36m<module>\u001b[1;34m\u001b[0m\n\u001b[0;32m     23\u001b[0m \u001b[0msns\u001b[0m\u001b[1;33m.\u001b[0m\u001b[0mboxplot\u001b[0m\u001b[1;33m(\u001b[0m\u001b[0mx\u001b[0m\u001b[1;33m=\u001b[0m\u001b[1;34m'Premiums in LOB:  Life'\u001b[0m\u001b[1;33m,\u001b[0m \u001b[0mdata\u001b[0m\u001b[1;33m=\u001b[0m\u001b[0minsurance_df\u001b[0m\u001b[1;33m,\u001b[0m \u001b[0mwhis\u001b[0m \u001b[1;33m=\u001b[0m \u001b[1;36m1.5\u001b[0m\u001b[1;33m,\u001b[0m \u001b[0mcolor\u001b[0m\u001b[1;33m=\u001b[0m \u001b[1;34m'#2D87C0'\u001b[0m\u001b[1;33m,\u001b[0m \u001b[0max\u001b[0m\u001b[1;33m=\u001b[0m\u001b[0max9\u001b[0m\u001b[1;33m)\u001b[0m\u001b[1;33m\u001b[0m\u001b[1;33m\u001b[0m\u001b[0m\n\u001b[0;32m     24\u001b[0m \u001b[0msns\u001b[0m\u001b[1;33m.\u001b[0m\u001b[0mboxplot\u001b[0m\u001b[1;33m(\u001b[0m\u001b[0mx\u001b[0m\u001b[1;33m=\u001b[0m\u001b[1;34m'Premiums in LOB: Work Compensations'\u001b[0m\u001b[1;33m,\u001b[0m \u001b[0mdata\u001b[0m\u001b[1;33m=\u001b[0m\u001b[0minsurance_df\u001b[0m\u001b[1;33m,\u001b[0m \u001b[0mcolor\u001b[0m\u001b[1;33m=\u001b[0m \u001b[1;34m'#91CDF4'\u001b[0m\u001b[1;33m,\u001b[0m \u001b[0mwhis\u001b[0m \u001b[1;33m=\u001b[0m \u001b[1;36m1.5\u001b[0m\u001b[1;33m,\u001b[0m \u001b[0max\u001b[0m\u001b[1;33m=\u001b[0m\u001b[0max10\u001b[0m\u001b[1;33m)\u001b[0m\u001b[1;33m\u001b[0m\u001b[1;33m\u001b[0m\u001b[0m\n\u001b[1;32m---> 25\u001b[1;33m \u001b[0msns\u001b[0m\u001b[1;33m.\u001b[0m\u001b[0mboxplot\u001b[0m\u001b[1;33m(\u001b[0m\u001b[0mx\u001b[0m\u001b[1;33m=\u001b[0m\u001b[1;34m'Age when doing first policy'\u001b[0m\u001b[1;33m,\u001b[0m \u001b[0mdata\u001b[0m\u001b[1;33m=\u001b[0m\u001b[0minsurance_df\u001b[0m\u001b[1;33m,\u001b[0m \u001b[0mcolor\u001b[0m\u001b[1;33m=\u001b[0m \u001b[1;34m'#91CDF4'\u001b[0m\u001b[1;33m,\u001b[0m \u001b[0mwhis\u001b[0m \u001b[1;33m=\u001b[0m \u001b[1;36m1.5\u001b[0m\u001b[1;33m,\u001b[0m \u001b[0max\u001b[0m\u001b[1;33m=\u001b[0m\u001b[0max11\u001b[0m\u001b[1;33m)\u001b[0m\u001b[1;33m;\u001b[0m\u001b[1;33m\u001b[0m\u001b[1;33m\u001b[0m\u001b[0m\n\u001b[0m",
      "\u001b[1;32mC:\\ProgramData\\Anaconda3\\lib\\site-packages\\seaborn\\categorical.py\u001b[0m in \u001b[0;36mboxplot\u001b[1;34m(x, y, hue, data, order, hue_order, orient, color, palette, saturation, width, dodge, fliersize, linewidth, whis, notch, ax, **kwargs)\u001b[0m\n\u001b[0;32m   2229\u001b[0m     plotter = _BoxPlotter(x, y, hue, data, order, hue_order,\n\u001b[0;32m   2230\u001b[0m                           \u001b[0morient\u001b[0m\u001b[1;33m,\u001b[0m \u001b[0mcolor\u001b[0m\u001b[1;33m,\u001b[0m \u001b[0mpalette\u001b[0m\u001b[1;33m,\u001b[0m \u001b[0msaturation\u001b[0m\u001b[1;33m,\u001b[0m\u001b[1;33m\u001b[0m\u001b[1;33m\u001b[0m\u001b[0m\n\u001b[1;32m-> 2231\u001b[1;33m                           width, dodge, fliersize, linewidth)\n\u001b[0m\u001b[0;32m   2232\u001b[0m \u001b[1;33m\u001b[0m\u001b[0m\n\u001b[0;32m   2233\u001b[0m     \u001b[1;32mif\u001b[0m \u001b[0max\u001b[0m \u001b[1;32mis\u001b[0m \u001b[1;32mNone\u001b[0m\u001b[1;33m:\u001b[0m\u001b[1;33m\u001b[0m\u001b[1;33m\u001b[0m\u001b[0m\n",
      "\u001b[1;32mC:\\ProgramData\\Anaconda3\\lib\\site-packages\\seaborn\\categorical.py\u001b[0m in \u001b[0;36m__init__\u001b[1;34m(self, x, y, hue, data, order, hue_order, orient, color, palette, saturation, width, dodge, fliersize, linewidth)\u001b[0m\n\u001b[0;32m    444\u001b[0m                  width, dodge, fliersize, linewidth):\n\u001b[0;32m    445\u001b[0m \u001b[1;33m\u001b[0m\u001b[0m\n\u001b[1;32m--> 446\u001b[1;33m         \u001b[0mself\u001b[0m\u001b[1;33m.\u001b[0m\u001b[0mestablish_variables\u001b[0m\u001b[1;33m(\u001b[0m\u001b[0mx\u001b[0m\u001b[1;33m,\u001b[0m \u001b[0my\u001b[0m\u001b[1;33m,\u001b[0m \u001b[0mhue\u001b[0m\u001b[1;33m,\u001b[0m \u001b[0mdata\u001b[0m\u001b[1;33m,\u001b[0m \u001b[0morient\u001b[0m\u001b[1;33m,\u001b[0m \u001b[0morder\u001b[0m\u001b[1;33m,\u001b[0m \u001b[0mhue_order\u001b[0m\u001b[1;33m)\u001b[0m\u001b[1;33m\u001b[0m\u001b[1;33m\u001b[0m\u001b[0m\n\u001b[0m\u001b[0;32m    447\u001b[0m         \u001b[0mself\u001b[0m\u001b[1;33m.\u001b[0m\u001b[0mestablish_colors\u001b[0m\u001b[1;33m(\u001b[0m\u001b[0mcolor\u001b[0m\u001b[1;33m,\u001b[0m \u001b[0mpalette\u001b[0m\u001b[1;33m,\u001b[0m \u001b[0msaturation\u001b[0m\u001b[1;33m)\u001b[0m\u001b[1;33m\u001b[0m\u001b[1;33m\u001b[0m\u001b[0m\n\u001b[0;32m    448\u001b[0m \u001b[1;33m\u001b[0m\u001b[0m\n",
      "\u001b[1;32mC:\\ProgramData\\Anaconda3\\lib\\site-packages\\seaborn\\categorical.py\u001b[0m in \u001b[0;36mestablish_variables\u001b[1;34m(self, x, y, hue, data, orient, order, hue_order, units)\u001b[0m\n\u001b[0;32m    153\u001b[0m                 \u001b[1;32mif\u001b[0m \u001b[0misinstance\u001b[0m\u001b[1;33m(\u001b[0m\u001b[0minput\u001b[0m\u001b[1;33m,\u001b[0m \u001b[0mstring_types\u001b[0m\u001b[1;33m)\u001b[0m\u001b[1;33m:\u001b[0m\u001b[1;33m\u001b[0m\u001b[1;33m\u001b[0m\u001b[0m\n\u001b[0;32m    154\u001b[0m                     \u001b[0merr\u001b[0m \u001b[1;33m=\u001b[0m \u001b[1;34m\"Could not interpret input '{}'\"\u001b[0m\u001b[1;33m.\u001b[0m\u001b[0mformat\u001b[0m\u001b[1;33m(\u001b[0m\u001b[0minput\u001b[0m\u001b[1;33m)\u001b[0m\u001b[1;33m\u001b[0m\u001b[1;33m\u001b[0m\u001b[0m\n\u001b[1;32m--> 155\u001b[1;33m                     \u001b[1;32mraise\u001b[0m \u001b[0mValueError\u001b[0m\u001b[1;33m(\u001b[0m\u001b[0merr\u001b[0m\u001b[1;33m)\u001b[0m\u001b[1;33m\u001b[0m\u001b[1;33m\u001b[0m\u001b[0m\n\u001b[0m\u001b[0;32m    156\u001b[0m \u001b[1;33m\u001b[0m\u001b[0m\n\u001b[0;32m    157\u001b[0m             \u001b[1;31m# Figure out the plotting orientation\u001b[0m\u001b[1;33m\u001b[0m\u001b[1;33m\u001b[0m\u001b[1;33m\u001b[0m\u001b[0m\n",
      "\u001b[1;31mValueError\u001b[0m: Could not interpret input 'Age when doing first policy'"
     ]
    },
    {
     "data": {
      "image/png": "[encoded data removed]",
      "text/plain": [
       "<Figure size 1440x2880 with 11 Axes>"
      ]
     },
     "metadata": {
      "needs_background": "light"
     },
     "output_type": "display_data"
    }
   ],
   "source": [
    "fig = plt.figure(figsize=(20,40))\n",
    "grid = plt.GridSpec(ncols=1, nrows=11)\n",
    "ax1 = fig.add_subplot(grid[0, 0])\n",
    "ax2 = fig.add_subplot(grid[1, 0])\n",
    "ax3 = fig.add_subplot(grid[2, 0])\n",
    "ax4 = fig.add_subplot(grid[3, 0])\n",
    "ax5 = fig.add_subplot(grid[4, 0])\n",
    "ax6 = fig.add_subplot(grid[5, 0])\n",
    "ax7 = fig.add_subplot(grid[6, 0])\n",
    "ax8 = fig.add_subplot(grid[7, 0])\n",
    "ax9 = fig.add_subplot(grid[8, 0])\n",
    "ax10 = fig.add_subplot(grid[9, 0])\n",
    "ax11 = fig.add_subplot(grid[10, 0])\n",
    "\n",
    "sns.boxplot(x='First Policy´s Year', data=insurance_df, whis = 1.5, color= '#154360', ax=ax1)\n",
    "sns.boxplot(x='Brithday Year', data=insurance_df, whis = 1.5, color= '#FF5733', ax=ax2)\n",
    "sns.boxplot(x='Gross Monthly Salary', data=insurance_df, whis = 1.5, color= '#FFC300', ax=ax3)\n",
    "sns.boxplot(x='Customer Monetary Value', data=insurance_df, whis = 1.5, color= '#DAF7A6', ax=ax4)\n",
    "sns.boxplot(x='Claims Rate', data=insurance_df, whis = 1.5, color= '#BEE080', ax=ax5)\n",
    "sns.boxplot(x='Premiums in LOB: Motor', data=insurance_df, whis = 1.5, color= '#566D2D', ax=ax6)\n",
    "sns.boxplot(x='Premiums in LOB: Household', data=insurance_df, whis = 1.5, color= '#C70039', ax=ax7)\n",
    "sns.boxplot(x='Premiums in LOB: Health', data=insurance_df, whis = 1.5, color= '#900C3F', ax=ax8)\n",
    "sns.boxplot(x='Premiums in LOB:  Life', data=insurance_df, whis = 1.5, color= '#2D87C0', ax=ax9)\n",
    "sns.boxplot(x='Premiums in LOB: Work Compensations', data=insurance_df, color= '#91CDF4', whis = 1.5, ax=ax10)\n",
    "sns.boxplot(x='Age when doing first policy', data=insurance_df, color= '#91CDF4', whis = 1.5, ax=ax11);"
   ]
  },
  {
   "cell_type": "markdown",
   "metadata": {},
   "source": [
    "As expected, the boxplots of birthday years and first policy´s years show a couple of outliers. Since a client's age when doing their first policy depends on these two factors, its boxplot also comes with outliers. <br>\n",
    "Now for the rest of the boxplots, outliers are a little harder to conclude on. For example, looking at the premium in LOB: Health, the amount of outliers is huge, and that's normal, since the premiums depend on a lot of diferent variables. <br>\n",
    "As for the gross monetary value... Who's to say we don't have a client that earns more than 5000 a month? We can't be sure, and although that value is unusual, it's definetly possible. \n",
    "Let's consider the logarithm of these variables and re-check their bloxplots after that transformation."
   ]
  },
  {
   "cell_type": "code",
   "execution_count": null,
   "metadata": {},
   "outputs": [],
   "source": [
    "def to_log(dataframe,variable):\n",
    "    min_val = dataframe[variable].min()\n",
    "    newdataframe = dataframe # Creating a copy so we don't change the original\n",
    "    if min_val > 1: # Meaning no complications in doing the logarithm\n",
    "        newdataframe[variable] = np.log(newdataframe[variable])\n",
    "    else:\n",
    "        newdataframe[variable] = newdataframe[variable] + round(min_val+1,1)\n",
    "        newdataframe[variable] = np.log(newdataframe[variable])\n",
    "        \n",
    "    return newdataframe\n",
    "        \n",
    "    \n",
    "to_log(insurance_df,'Gross Monthly Salary')\n",
    "# sns.boxplot(x='Gross Monthly Salary', data=insurance_df, whis = 1.5, color= '#FFC300', ax=ax3)\n",
    "# sns.boxplot(x='Customer Monetary Value', data=insurance_df, whis = 1.5, color= '#DAF7A6', ax=ax4)\n",
    "# sns.boxplot(x='Claims Rate', data=insurance_df, whis = 1.5, color= '#BEE080', ax=ax5\n",
    "# sns.boxplot(x='Premiums in LOB: Household', data=insurance_df, whis = 1.5, color= '#C70039', ax=ax7)\n",
    "# sns.boxplot(x='Premiums in LOB: Health', data=insurance_df, whis = 1.5, color= '#900C3F', ax=ax8)\n",
    "# sns.boxplot(x='Premiums in LOB:  Life', data=insurance_df, whis = 1.5, color= '#2D87C0', ax=ax9)\n",
    "# sns.boxplot(x='Premiums in LOB: Work Compensations', data=insurance_df, color= '#91CDF4', whis = 1.5, ax=ax10);"
   ]
  },
  {
   "cell_type": "markdown",
   "metadata": {},
   "source": [
    "## 2. Methodology\n"
   ]
  },
  {
   "cell_type": "code",
   "execution_count": null,
   "metadata": {},
   "outputs": [],
   "source": [
    "# I'll add something useful here (GR)\n"
   ]
  },
  {
   "cell_type": "markdown",
   "metadata": {},
   "source": [
    "## 3. Univariate Analysis"
   ]
  },
  {
   "cell_type": "code",
   "execution_count": null,
   "metadata": {},
   "outputs": [],
   "source": [
    "# Chaging styles\n",
    "colors = [\"#154360\",\"#FF5733\",\"#FFC300\",\"#DAF7A6\"]\n",
    "sns.set_palette(sns.color_palette(colors))\n",
    "sns.set_style('whitegrid')"
   ]
  },
  {
   "cell_type": "markdown",
   "metadata": {},
   "source": [
    "   ##### Educational Degree"
   ]
  },
  {
   "cell_type": "code",
   "execution_count": null,
   "metadata": {},
   "outputs": [],
   "source": [
    "insurance_df['Educational Degree'].value_counts().sum() #No NA's\n",
    "insurance_df['Educational Degree'].value_counts()"
   ]
  },
  {
   "cell_type": "markdown",
   "metadata": {},
   "source": [
    "##### Has Children"
   ]
  },
  {
   "cell_type": "code",
   "execution_count": null,
   "metadata": {},
   "outputs": [],
   "source": [
    "insurance_df['Has Children (Y=1)'].value_counts().sum() #No NA's\n",
    "insurance_df['Has Children (Y=1)'].value_counts()"
   ]
  },
  {
   "cell_type": "markdown",
   "metadata": {},
   "source": [
    "#### Geographic Living Area"
   ]
  },
  {
   "cell_type": "code",
   "execution_count": null,
   "metadata": {},
   "outputs": [],
   "source": [
    "insurance_df['Geographic Living Area'].value_counts().sum() #No NA's\n",
    "insurance_df['Geographic Living Area'].value_counts()"
   ]
  },
  {
   "cell_type": "code",
   "execution_count": null,
   "metadata": {},
   "outputs": [],
   "source": [
    "fig = plt.figure(figsize=(16,3))\n",
    "grid = plt.GridSpec(ncols=3, nrows=1)\n",
    "ax1 = fig.add_subplot(grid[0, 0])\n",
    "ax2 = fig.add_subplot(grid[0, 1])\n",
    "ax3 = fig.add_subplot(grid[0, 2])\n",
    "sns.countplot(x='Educational Degree', data=insurance_df, ax=ax1)\n",
    "sns.countplot(x='Has Children (Y=1)', data=insurance_df,ax=ax2)\n",
    "sns.countplot(x='Geographic Living Area', data=insurance_df, ax=ax3)"
   ]
  },
  {
   "cell_type": "markdown",
   "metadata": {},
   "source": [
    "#### Fidelity"
   ]
  },
  {
   "cell_type": "code",
   "execution_count": null,
   "metadata": {},
   "outputs": [],
   "source": [
    "insurance_df['Fidelity'] = 2016 - insurance_df['First Policy´s Year']\n",
    "insurance_df['Fidelity'] \n",
    "insurance_df['Fidelity'].value_counts() #There is one value equal to -51768.0"
   ]
  },
  {
   "cell_type": "code",
   "execution_count": null,
   "metadata": {},
   "outputs": [],
   "source": [
    "insurance_df = insurance_df[insurance_df['Fidelity'] > 0 ] #Removing the dirty data\n",
    "insurance_df['Fidelity'].value_counts()"
   ]
  },
  {
   "cell_type": "code",
   "execution_count": null,
   "metadata": {},
   "outputs": [],
   "source": [
    "sns.distplot(insurance_df['Fidelity']) #Lets create a new cluster for Fidelity"
   ]
  },
  {
   "cell_type": "code",
   "execution_count": null,
   "metadata": {},
   "outputs": [],
   "source": [
    "#def transf(db):\n",
    "        \n",
    " #   if insurance_df['Fidelity'] < 25:\n",
    "  #        return \"Less25\"\n",
    "   # elif 26 < insurance_df['Fidelity'] < 35:\n",
    "    #        return \"Betweenn45\"           \n",
    "    #else:\n",
    "     #     return \"Above45\" \n",
    "        \n",
    "#transf(insurance_df['Fidelity'])"
   ]
  },
  {
   "cell_type": "markdown",
   "metadata": {},
   "source": [
    "#### BirthDate"
   ]
  },
  {
   "cell_type": "code",
   "execution_count": null,
   "metadata": {},
   "outputs": [],
   "source": [
    "insurance_df['Age'] = 2016 - insurance_df['Brithday Year'] \n",
    "insurance_df['Age'].max\n",
    "insurance_df['Age'].value_counts()\n",
    "insurance_df = insurance_df[insurance_df['Age'] < 100 ] \n",
    "insurance_df['Age'].value_counts()"
   ]
  },
  {
   "cell_type": "code",
   "execution_count": null,
   "metadata": {},
   "outputs": [],
   "source": [
    "#Clustering the age\n",
    "def f(row):\n",
    "    if insurance_df['Age'] < 30:\n",
    "        val = \"Vem\"\n",
    "    elif insurance_df['Age'] > 31 & insurance_df['Age'] < 45:\n",
    "        val = \"Tranquilo\"\n",
    "    else:\n",
    "        val = \"Papai\"\n",
    "    return val \n",
    "\n",
    "\n"
   ]
  },
  {
   "cell_type": "code",
   "execution_count": null,
   "metadata": {},
   "outputs": [],
   "source": [
    "\n"
   ]
  },
  {
   "cell_type": "code",
   "execution_count": null,
   "metadata": {},
   "outputs": [],
   "source": [
    "sns.distplot(insurance_df['Age'],bins=30,kde=False,color='RoyalBlue')"
   ]
  },
  {
   "cell_type": "markdown",
   "metadata": {},
   "source": [
    "#### Gross Monthly Salary"
   ]
  },
  {
   "cell_type": "code",
   "execution_count": null,
   "metadata": {},
   "outputs": [],
   "source": [
    "insurance_df['Gross Monthly Salary']\n",
    "insurance_df['Gross Monthly Salary'].describe()\n",
    "sum(insurance_df['Gross Monthly Salary'].isnull()) # 34 NA's\n",
    "insurance_df['Gross Monthly Salary'].describe()\n",
    "insurance_df['Gross Monthly Salary'].fillna(0)"
   ]
  },
  {
   "cell_type": "code",
   "execution_count": null,
   "metadata": {},
   "outputs": [],
   "source": [
    "sns.distplot(insurance_df['Gross Monthly Salary'], kde=False,color='red', bins=30) "
   ]
  },
  {
   "cell_type": "markdown",
   "metadata": {},
   "source": [
    "#### Premiums (Euros) "
   ]
  },
  {
   "cell_type": "code",
   "execution_count": null,
   "metadata": {},
   "outputs": [],
   "source": [
    "insurance_df.info()\n",
    "insurance_df['Premiums in LOB: Motor']\n",
    "insurance_df['Premiums in LOB: Household']\n",
    "insurance_df['Premiums in LOB: Health']\n",
    "insurance_df['Premiums in LOB:  Life']\n",
    "insurance_df['Premiums in LOB: Work Compensations']"
   ]
  },
  {
   "cell_type": "markdown",
   "metadata": {},
   "source": [
    "## 4. Multivariate Analysis"
   ]
  },
  {
   "cell_type": "code",
   "execution_count": null,
   "metadata": {},
   "outputs": [],
   "source": [
    "#Let's understand what is happening in our database"
   ]
  },
  {
   "cell_type": "code",
   "execution_count": null,
   "metadata": {},
   "outputs": [],
   "source": [
    "insurance_df.info()\n",
    "insurance_df['Premiums in LOB: Motor']\n",
    "insurance_df['Premiums in LOB: Household']\n",
    "insurance_df['Premiums in LOB: Health']\n",
    "insurance_df['Premiums in LOB:  Life']\n",
    "insurance_df['Premiums in LOB: Work Compensations']\n"
   ]
  },
  {
   "cell_type": "code",
   "execution_count": null,
   "metadata": {},
   "outputs": [],
   "source": [
    "insurance_df[['Premiums in LOB: Motor','Premiums in LOB: Household','Premiums in LOB: Health','Premiums in LOB:  Life',\n",
    "     'Premiums in LOB: Work Compensations']].corr()\n",
    "#Low correlations but we can consider a small correlation between \n",
    "#\"Premiums in LOB: Motor\" and Premiums in LOB: Work Compensations"
   ]
  },
  {
   "cell_type": "markdown",
   "metadata": {},
   "source": [
    "#### Let's study the Main variables in each one of the main categories"
   ]
  },
  {
   "cell_type": "code",
   "execution_count": null,
   "metadata": {},
   "outputs": [],
   "source": []
  },
  {
   "cell_type": "markdown",
   "metadata": {},
   "source": [
    "## 5. Conclusion"
   ]
  },
  {
   "cell_type": "markdown",
   "metadata": {},
   "source": [
    "<hr>\n",
    "<b style='color: ##154360;font-size:19px' id=\"references\">References</b><br>\n",
    "\n",
    "<ul>\n",
    "    <li>Smart Vision Europe. <i>What is the CRISP-DM methodology? </i> Available from: <a href=\"https://www.sv-europe.com/crisp-dm-methodology/\" target=\"_blank\">https://www.sv-europe.com/crisp-dm-methodology/</a></li>\n",
    "    <li>website. <i>title</i>. Available from: <a href=\"url\" target=\"_blank\">url</a></li>\n",
    "</ul>"
   ]
  }
 ],
 "metadata": {
  "kernelspec": {
   "display_name": "Python 3",
   "language": "python",
   "name": "python3"
  },
  "language_info": {
   "codemirror_mode": {
    "name": "ipython",
    "version": 3
   },
   "file_extension": ".py",
   "mimetype": "text/x-python",
   "name": "python",
   "nbconvert_exporter": "python",
   "pygments_lexer": "ipython3",
   "version": "3.7.3"
  }
 },
 "nbformat": 4,
 "nbformat_minor": 2
}
