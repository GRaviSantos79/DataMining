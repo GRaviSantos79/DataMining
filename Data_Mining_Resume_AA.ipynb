{
 "cells": [
  {
   "cell_type": "markdown",
   "metadata": {},
   "source": [
    "<center><h1 style='color: ##154360; font-size: 40px'>Data Mining</h1></center>\n",
    "<center><h2 style='color: #FFC300'>Group Project</h2></center>\n",
    "<center><h3 style='color: #FF5733'>Group AA </h3></center>\n",
    "<center><h5 style='font-weight:normal; font-style: normal;'>Abdallah Zaher, M20190684</h5></center>\n",
    "<center><h5 style='font-weight:normal; font-style: normal;'>Cristina Mousinho, M20190303</h5></center>\n",
    "<center><h5 style='font-weight:normal; font-style: normal;'>Gabriel Ravi, M20190925</h5></center>\n",
    "\n",
    "<b style='color: ##154360;font-size:19px'>Table of contents</b>\n",
    "<ul>\n",
    "    <li><a href=\"#3\">3. Data Analysis </a></li>\n",
    "    <li><a href=\"#4\">4. Multivariate Analysis </a></li>\n",
    "    <li><a href=\"#5\">5. Clustering </a></li>\n",
    "    <li><a href=\"#6\">6. Cluster analysis </a></li>\n",
    "    <li><a href=\"#7\">7. Cluster for Marketing Approach: Description </a></li>\n",
    "    <li><a href=\"#8\">8. Outliers Analysis </a></li>\n",
    "</ul>\n"
   ]
  },
  {
   "cell_type": "markdown",
   "metadata": {},
   "source": [
    "<hr>\n",
    "<b style='color: ##154360;font-size:19px' id=\"intro\"> Introduction</b>"
   ]
  },
  {
   "cell_type": "markdown",
   "metadata": {},
   "source": [
    "As part of the 2019 Data Mining course for the Master in Data Sience and Advanced Analytics, we were challenged to see ourselves as part of a fictional insurance company located in Portugal. \n",
    "We were given a data set to work with, from each we are expected to find different costumers' profiles, to group them and to recommend marketing approachs based on those clusters.\n",
    "\n",
    "By the end of this report, we should not only have an understanding of how our costumers' behave and how we can group them, but also a way to explain our findings and what could be done with them to the Marketing Department of our company. \n",
    "\n",
    "We will begin by understading the business we were asked to imagine ourselves in. After we feel confortable with our knowledge on the subject, we will move on to getting to know the provided data. An analysis of each factor will be conducted. In this first stage, we will most likely face problems with our data. If so, the next step will be to take a closer look at those problems and find solutions for each of them. "
   ]
  },
  {
   "cell_type": "markdown",
   "metadata": {},
   "source": [
    "<hr>\n",
    "<b style='color: ##154360;font-size:19px' id=\"understanding\">Business Understanding </b>"
   ]
  },
  {
   "cell_type": "markdown",
   "metadata": {},
   "source": [
    "<b style=\"color:#FF5733\">Setting bussiness goals</b>"
   ]
  },
  {
   "cell_type": "markdown",
   "metadata": {},
   "source": [
    "As stated already, the aim is to deliver insights to the Marketing Departament of the ensurance company. <br>\n",
    "We know the end goal for a company is always to generate more profit. <br>\n",
    "So even though our job is to group costumers into clusters, it is very important to keep in mind which clients bring us more profits (higher customer monetary value), and smaller losses (lower claim rates). <br>\n",
    "Eventually we will want to target new costumers, but the ones we already have may also become interested in new premiums, so we definetly can't forget them!"
   ]
  },
  {
   "cell_type": "markdown",
   "metadata": {},
   "source": [
    "<b style=\"color:#FF5733\">Setting data mining goals</b>"
   ]
  },
  {
   "cell_type": "markdown",
   "metadata": {},
   "source": [
    "<p style='color:red; font-size:20px'>\" define the criteria for a successful outcome to the project in technical terms—for example, a certain level of predictive accuracy or a propensity-to-purchase profile with a given degree of “lift.” As with business success criteria, it may be necessary to describe these in subjective terms, in which case the person or persons making the subjective judgment should be identified. \"</p>"
   ]
  },
  {
   "cell_type": "markdown",
   "metadata": {},
   "source": [
    "<hr>\n",
    "<b style='color: ##154360;font-size:19px' id=\"understanding\">Data Understanding </b>"
   ]
  },
  {
   "cell_type": "markdown",
   "metadata": {},
   "source": [
    "<b style=\"color:#FF5733\">Getting to know the data</b>"
   ]
  },
  {
   "cell_type": "code",
   "execution_count": 1,
   "metadata": {},
   "outputs": [
    {
     "name": "stderr",
     "output_type": "stream",
     "text": [
      "C:\\Users\\User\\Anaconda3\\lib\\site-packages\\statsmodels\\compat\\pandas.py:23: FutureWarning:\n",
      "\n",
      "The Panel class is removed from pandas. Accessing it from the top-level namespace will also be removed in the next version\n",
      "\n"
     ]
    }
   ],
   "source": [
    "import numpy as np\n",
    "import pandas as pd \n",
    "import matplotlib.pyplot as plt\n",
    "%matplotlib inline\n",
    "import seaborn as sns\n",
    "import plotly.express as px\n",
    "\n",
    "import statsmodels.api as sm\n",
    "from sklearn import linear_model\n",
    "from copy import deepcopy"
   ]
  },
  {
   "cell_type": "code",
   "execution_count": 2,
   "metadata": {},
   "outputs": [
    {
     "data": {
      "text/html": [
       "<div>\n",
       "<style scoped>\n",
       "    .dataframe tbody tr th:only-of-type {\n",
       "        vertical-align: middle;\n",
       "    }\n",
       "\n",
       "    .dataframe tbody tr th {\n",
       "        vertical-align: top;\n",
       "    }\n",
       "\n",
       "    .dataframe thead th {\n",
       "        text-align: right;\n",
       "    }\n",
       "</style>\n",
       "<table border=\"1\" class=\"dataframe\">\n",
       "  <thead>\n",
       "    <tr style=\"text-align: right;\">\n",
       "      <th></th>\n",
       "      <th>Customer Identity</th>\n",
       "      <th>First Policy´s Year</th>\n",
       "      <th>Brithday Year</th>\n",
       "      <th>Educational Degree</th>\n",
       "      <th>Gross Monthly Salary</th>\n",
       "      <th>Geographic Living Area</th>\n",
       "      <th>Has Children (Y=1)</th>\n",
       "      <th>Customer Monetary Value</th>\n",
       "      <th>Claims Rate</th>\n",
       "      <th>Premiums in LOB: Motor</th>\n",
       "      <th>Premiums in LOB: Household</th>\n",
       "      <th>Premiums in LOB: Health</th>\n",
       "      <th>Premiums in LOB:  Life</th>\n",
       "      <th>Premiums in LOB: Work Compensations</th>\n",
       "    </tr>\n",
       "  </thead>\n",
       "  <tbody>\n",
       "    <tr>\n",
       "      <td>0</td>\n",
       "      <td>1</td>\n",
       "      <td>1985.0</td>\n",
       "      <td>1982.0</td>\n",
       "      <td>2 - High School</td>\n",
       "      <td>2177.0</td>\n",
       "      <td>1.0</td>\n",
       "      <td>1.0</td>\n",
       "      <td>380.97</td>\n",
       "      <td>0.39</td>\n",
       "      <td>375.85</td>\n",
       "      <td>79.45</td>\n",
       "      <td>146.36</td>\n",
       "      <td>47.01</td>\n",
       "      <td>16.89</td>\n",
       "    </tr>\n",
       "    <tr>\n",
       "      <td>1</td>\n",
       "      <td>2</td>\n",
       "      <td>1981.0</td>\n",
       "      <td>1995.0</td>\n",
       "      <td>2 - High School</td>\n",
       "      <td>677.0</td>\n",
       "      <td>4.0</td>\n",
       "      <td>1.0</td>\n",
       "      <td>-131.13</td>\n",
       "      <td>1.12</td>\n",
       "      <td>77.46</td>\n",
       "      <td>416.20</td>\n",
       "      <td>116.69</td>\n",
       "      <td>194.48</td>\n",
       "      <td>106.13</td>\n",
       "    </tr>\n",
       "    <tr>\n",
       "      <td>2</td>\n",
       "      <td>3</td>\n",
       "      <td>1991.0</td>\n",
       "      <td>1970.0</td>\n",
       "      <td>1 - Basic</td>\n",
       "      <td>2277.0</td>\n",
       "      <td>3.0</td>\n",
       "      <td>0.0</td>\n",
       "      <td>504.67</td>\n",
       "      <td>0.28</td>\n",
       "      <td>206.15</td>\n",
       "      <td>224.50</td>\n",
       "      <td>124.58</td>\n",
       "      <td>86.35</td>\n",
       "      <td>99.02</td>\n",
       "    </tr>\n",
       "    <tr>\n",
       "      <td>3</td>\n",
       "      <td>4</td>\n",
       "      <td>1990.0</td>\n",
       "      <td>1981.0</td>\n",
       "      <td>3 - BSc/MSc</td>\n",
       "      <td>1099.0</td>\n",
       "      <td>4.0</td>\n",
       "      <td>1.0</td>\n",
       "      <td>-16.99</td>\n",
       "      <td>0.99</td>\n",
       "      <td>182.48</td>\n",
       "      <td>43.35</td>\n",
       "      <td>311.17</td>\n",
       "      <td>35.34</td>\n",
       "      <td>28.34</td>\n",
       "    </tr>\n",
       "    <tr>\n",
       "      <td>4</td>\n",
       "      <td>5</td>\n",
       "      <td>1986.0</td>\n",
       "      <td>1973.0</td>\n",
       "      <td>3 - BSc/MSc</td>\n",
       "      <td>1763.0</td>\n",
       "      <td>4.0</td>\n",
       "      <td>1.0</td>\n",
       "      <td>35.23</td>\n",
       "      <td>0.90</td>\n",
       "      <td>338.62</td>\n",
       "      <td>47.80</td>\n",
       "      <td>182.59</td>\n",
       "      <td>18.78</td>\n",
       "      <td>41.45</td>\n",
       "    </tr>\n",
       "  </tbody>\n",
       "</table>\n",
       "</div>"
      ],
      "text/plain": [
       "   Customer Identity  First Policy´s Year  Brithday Year Educational Degree  \\\n",
       "0                  1               1985.0         1982.0    2 - High School   \n",
       "1                  2               1981.0         1995.0    2 - High School   \n",
       "2                  3               1991.0         1970.0          1 - Basic   \n",
       "3                  4               1990.0         1981.0        3 - BSc/MSc   \n",
       "4                  5               1986.0         1973.0        3 - BSc/MSc   \n",
       "\n",
       "   Gross Monthly Salary  Geographic Living Area  Has Children (Y=1)  \\\n",
       "0                2177.0                     1.0                 1.0   \n",
       "1                 677.0                     4.0                 1.0   \n",
       "2                2277.0                     3.0                 0.0   \n",
       "3                1099.0                     4.0                 1.0   \n",
       "4                1763.0                     4.0                 1.0   \n",
       "\n",
       "   Customer Monetary Value  Claims Rate  Premiums in LOB: Motor  \\\n",
       "0                   380.97         0.39                  375.85   \n",
       "1                  -131.13         1.12                   77.46   \n",
       "2                   504.67         0.28                  206.15   \n",
       "3                   -16.99         0.99                  182.48   \n",
       "4                    35.23         0.90                  338.62   \n",
       "\n",
       "   Premiums in LOB: Household  Premiums in LOB: Health  \\\n",
       "0                       79.45                   146.36   \n",
       "1                      416.20                   116.69   \n",
       "2                      224.50                   124.58   \n",
       "3                       43.35                   311.17   \n",
       "4                       47.80                   182.59   \n",
       "\n",
       "   Premiums in LOB:  Life  Premiums in LOB: Work Compensations  \n",
       "0                   47.01                                16.89  \n",
       "1                  194.48                               106.13  \n",
       "2                   86.35                                99.02  \n",
       "3                   35.34                                28.34  \n",
       "4                   18.78                                41.45  "
      ]
     },
     "execution_count": 2,
     "metadata": {},
     "output_type": "execute_result"
    }
   ],
   "source": [
    "insurance_df = pd.read_csv('A2Z_Insurance.csv', index_col = ['Customer Identity']) # Loading the provided data\n",
    "insurance_df = insurance_df.reset_index()\n",
    "insurance_df.head() # Checking features and the first 5 rows\n"
   ]
  },
  {
   "cell_type": "code",
   "execution_count": 3,
   "metadata": {
    "scrolled": true
   },
   "outputs": [
    {
     "name": "stdout",
     "output_type": "stream",
     "text": [
      "<class 'pandas.core.frame.DataFrame'>\n",
      "RangeIndex: 10296 entries, 0 to 10295\n",
      "Data columns (total 14 columns):\n",
      "Customer Identity                      10296 non-null int64\n",
      "First Policy´s Year                    10266 non-null float64\n",
      "Brithday Year                          10279 non-null float64\n",
      "Educational Degree                     10279 non-null object\n",
      "Gross Monthly Salary                   10260 non-null float64\n",
      "Geographic Living Area                 10295 non-null float64\n",
      "Has Children (Y=1)                     10275 non-null float64\n",
      "Customer Monetary Value                10296 non-null float64\n",
      "Claims Rate                            10296 non-null float64\n",
      "Premiums in LOB: Motor                 10262 non-null float64\n",
      "Premiums in LOB: Household             10296 non-null float64\n",
      "Premiums in LOB: Health                10253 non-null float64\n",
      "Premiums in LOB:  Life                 10192 non-null float64\n",
      "Premiums in LOB: Work Compensations    10210 non-null float64\n",
      "dtypes: float64(12), int64(1), object(1)\n",
      "memory usage: 1.1+ MB\n"
     ]
    }
   ],
   "source": [
    "insurance_df.info() # Checking columns and their types"
   ]
  },
  {
   "cell_type": "markdown",
   "metadata": {},
   "source": [
    "Even though only one of our columns is categorized as an object, it is important to keep in mind that some of the others are categorical and not numerical variables. To make sure we don't get confused, let's list our variables and their type of measurement scale: <br>\n",
    "\n",
    "<b> Categorical: nominal </b>\n",
    "<ul><li>Educational Degree</li>\n",
    "    <li>Geographic Living Area</li>\n",
    "    <li>Has Children (Y=1)</li></ul>\n",
    "    \n",
    "<b> Numerical: ratio </b>\n",
    "<ul><li>First Policy´s Year</li>\n",
    "    <li>Brithday Year</li>\n",
    "    <li>Gross Monthly Salary</li>\n",
    "    <li>Claims Rate</li>\n",
    "    <li>Customer Monetary Value</li>\n",
    "    <li>Premiums in LOB: Motor</li>\n",
    "    <li>Premiums in LOB: Household</li>\n",
    "    <li>Premiums in LOB: Health</li>\n",
    "    <li>Premiums in LOB: Life</li>\n",
    "    <li>Premiums in LOB: Work Compensations</li></ul>\n",
    "    \n",
    "And for practical reasons make another list of types os variables: \n"
   ]
  },
  {
   "cell_type": "code",
   "execution_count": 4,
   "metadata": {},
   "outputs": [],
   "source": [
    "#We acknowledge that we have two types of Data so we decided to split them \n",
    "nominal = ['Educational Degree','Geographic Living Area','Has Children (Y=1)']\n",
    "ratio = ['First Policy´s Year','Brithday Year','Gross Monthly Salary','Claims Rate','Customer Monetary Value',\n",
    "         'Premiums in LOB: Motor','Premiums in LOB: Household','Premiums in LOB: Health','Premiums in LOB:  Life',\n",
    "         'Premiums in LOB: Work Compensations']"
   ]
  },
  {
   "cell_type": "code",
   "execution_count": 5,
   "metadata": {},
   "outputs": [],
   "source": [
    "#Split the ratio into three parts\n",
    "customer = ['Customer Identity','Gross Monthly Salary','Claims Rate','Customer Monetary Value']\n",
    "premiums = ['Customer Identity','Premiums in LOB: Motor','Premiums in LOB: Household','Premiums in LOB: Health',\n",
    "         'Premiums in LOB:  Life','Premiums in LOB: Work Compensations']\n",
    "nominal = ['Customer Identity','Educational Degree','Geographic Living Area','Has Children (Y=1)']"
   ]
  },
  {
   "cell_type": "markdown",
   "metadata": {},
   "source": [
    "<b style=\"color:#FF5733\">Exploring the data and verifying its quality</b>"
   ]
  },
  {
   "cell_type": "code",
   "execution_count": 6,
   "metadata": {},
   "outputs": [
    {
     "data": {
      "text/html": [
       "<div>\n",
       "<style scoped>\n",
       "    .dataframe tbody tr th:only-of-type {\n",
       "        vertical-align: middle;\n",
       "    }\n",
       "\n",
       "    .dataframe tbody tr th {\n",
       "        vertical-align: top;\n",
       "    }\n",
       "\n",
       "    .dataframe thead th {\n",
       "        text-align: right;\n",
       "    }\n",
       "</style>\n",
       "<table border=\"1\" class=\"dataframe\">\n",
       "  <thead>\n",
       "    <tr style=\"text-align: right;\">\n",
       "      <th></th>\n",
       "      <th>Customer Identity</th>\n",
       "      <th>Educational Degree</th>\n",
       "      <th>Geographic Living Area</th>\n",
       "      <th>Has Children (Y=1)</th>\n",
       "    </tr>\n",
       "  </thead>\n",
       "  <tbody>\n",
       "    <tr>\n",
       "      <td>count</td>\n",
       "      <td>10296</td>\n",
       "      <td>10279</td>\n",
       "      <td>10295.0</td>\n",
       "      <td>10275.0</td>\n",
       "    </tr>\n",
       "    <tr>\n",
       "      <td>unique</td>\n",
       "      <td>10296</td>\n",
       "      <td>4</td>\n",
       "      <td>4.0</td>\n",
       "      <td>2.0</td>\n",
       "    </tr>\n",
       "    <tr>\n",
       "      <td>top</td>\n",
       "      <td>10296</td>\n",
       "      <td>3 - BSc/MSc</td>\n",
       "      <td>4.0</td>\n",
       "      <td>1.0</td>\n",
       "    </tr>\n",
       "    <tr>\n",
       "      <td>freq</td>\n",
       "      <td>1</td>\n",
       "      <td>4799</td>\n",
       "      <td>4145.0</td>\n",
       "      <td>7262.0</td>\n",
       "    </tr>\n",
       "  </tbody>\n",
       "</table>\n",
       "</div>"
      ],
      "text/plain": [
       "        Customer Identity Educational Degree  Geographic Living Area  \\\n",
       "count               10296              10279                 10295.0   \n",
       "unique              10296                  4                     4.0   \n",
       "top                 10296        3 - BSc/MSc                     4.0   \n",
       "freq                    1               4799                  4145.0   \n",
       "\n",
       "        Has Children (Y=1)  \n",
       "count              10275.0  \n",
       "unique                 2.0  \n",
       "top                    1.0  \n",
       "freq                7262.0  "
      ]
     },
     "execution_count": 6,
     "metadata": {},
     "output_type": "execute_result"
    }
   ],
   "source": [
    "# Getting information on nominal variables\n",
    "insurance_df[nominal] = insurance_df[nominal].astype(object)\n",
    "insurance_df[nominal] = insurance_df[nominal].reset_index(drop=True)\n",
    "insurance_df[nominal].describe(include='all')"
   ]
  },
  {
   "cell_type": "code",
   "execution_count": 7,
   "metadata": {},
   "outputs": [
    {
     "data": {
      "text/html": [
       "<div>\n",
       "<style scoped>\n",
       "    .dataframe tbody tr th:only-of-type {\n",
       "        vertical-align: middle;\n",
       "    }\n",
       "\n",
       "    .dataframe tbody tr th {\n",
       "        vertical-align: top;\n",
       "    }\n",
       "\n",
       "    .dataframe thead th {\n",
       "        text-align: right;\n",
       "    }\n",
       "</style>\n",
       "<table border=\"1\" class=\"dataframe\">\n",
       "  <thead>\n",
       "    <tr style=\"text-align: right;\">\n",
       "      <th></th>\n",
       "      <th>First Policy´s Year</th>\n",
       "      <th>Brithday Year</th>\n",
       "      <th>Gross Monthly Salary</th>\n",
       "      <th>Customer Monetary Value</th>\n",
       "      <th>Claims Rate</th>\n",
       "      <th>Premiums in LOB: Motor</th>\n",
       "      <th>Premiums in LOB: Household</th>\n",
       "      <th>Premiums in LOB: Health</th>\n",
       "      <th>Premiums in LOB:  Life</th>\n",
       "      <th>Premiums in LOB: Work Compensations</th>\n",
       "    </tr>\n",
       "  </thead>\n",
       "  <tbody>\n",
       "    <tr>\n",
       "      <td>count</td>\n",
       "      <td>10266.000000</td>\n",
       "      <td>10279.000000</td>\n",
       "      <td>10260.000000</td>\n",
       "      <td>10296.000000</td>\n",
       "      <td>10296.000000</td>\n",
       "      <td>10262.000000</td>\n",
       "      <td>10296.000000</td>\n",
       "      <td>10253.000000</td>\n",
       "      <td>10192.000000</td>\n",
       "      <td>10210.000000</td>\n",
       "    </tr>\n",
       "    <tr>\n",
       "      <td>mean</td>\n",
       "      <td>1991.062634</td>\n",
       "      <td>1968.007783</td>\n",
       "      <td>2506.667057</td>\n",
       "      <td>177.892605</td>\n",
       "      <td>0.742772</td>\n",
       "      <td>300.470252</td>\n",
       "      <td>210.431192</td>\n",
       "      <td>171.580833</td>\n",
       "      <td>41.855782</td>\n",
       "      <td>41.277514</td>\n",
       "    </tr>\n",
       "    <tr>\n",
       "      <td>std</td>\n",
       "      <td>511.267913</td>\n",
       "      <td>19.709476</td>\n",
       "      <td>1157.449634</td>\n",
       "      <td>1945.811505</td>\n",
       "      <td>2.916964</td>\n",
       "      <td>211.914997</td>\n",
       "      <td>352.595984</td>\n",
       "      <td>296.405976</td>\n",
       "      <td>47.480632</td>\n",
       "      <td>51.513572</td>\n",
       "    </tr>\n",
       "    <tr>\n",
       "      <td>min</td>\n",
       "      <td>1974.000000</td>\n",
       "      <td>1028.000000</td>\n",
       "      <td>333.000000</td>\n",
       "      <td>-165680.420000</td>\n",
       "      <td>0.000000</td>\n",
       "      <td>-4.110000</td>\n",
       "      <td>-75.000000</td>\n",
       "      <td>-2.110000</td>\n",
       "      <td>-7.000000</td>\n",
       "      <td>-12.000000</td>\n",
       "    </tr>\n",
       "    <tr>\n",
       "      <td>25%</td>\n",
       "      <td>1980.000000</td>\n",
       "      <td>1953.000000</td>\n",
       "      <td>1706.000000</td>\n",
       "      <td>-9.440000</td>\n",
       "      <td>0.390000</td>\n",
       "      <td>190.590000</td>\n",
       "      <td>49.450000</td>\n",
       "      <td>111.800000</td>\n",
       "      <td>9.890000</td>\n",
       "      <td>10.670000</td>\n",
       "    </tr>\n",
       "    <tr>\n",
       "      <td>50%</td>\n",
       "      <td>1986.000000</td>\n",
       "      <td>1968.000000</td>\n",
       "      <td>2501.500000</td>\n",
       "      <td>186.870000</td>\n",
       "      <td>0.720000</td>\n",
       "      <td>298.610000</td>\n",
       "      <td>132.800000</td>\n",
       "      <td>162.810000</td>\n",
       "      <td>25.560000</td>\n",
       "      <td>25.670000</td>\n",
       "    </tr>\n",
       "    <tr>\n",
       "      <td>75%</td>\n",
       "      <td>1992.000000</td>\n",
       "      <td>1983.000000</td>\n",
       "      <td>3290.250000</td>\n",
       "      <td>399.777500</td>\n",
       "      <td>0.980000</td>\n",
       "      <td>408.300000</td>\n",
       "      <td>290.050000</td>\n",
       "      <td>219.820000</td>\n",
       "      <td>57.790000</td>\n",
       "      <td>56.790000</td>\n",
       "    </tr>\n",
       "    <tr>\n",
       "      <td>max</td>\n",
       "      <td>53784.000000</td>\n",
       "      <td>2001.000000</td>\n",
       "      <td>55215.000000</td>\n",
       "      <td>11875.890000</td>\n",
       "      <td>256.200000</td>\n",
       "      <td>11604.420000</td>\n",
       "      <td>25048.800000</td>\n",
       "      <td>28272.000000</td>\n",
       "      <td>398.300000</td>\n",
       "      <td>1988.700000</td>\n",
       "    </tr>\n",
       "  </tbody>\n",
       "</table>\n",
       "</div>"
      ],
      "text/plain": [
       "       First Policy´s Year  Brithday Year  Gross Monthly Salary  \\\n",
       "count         10266.000000   10279.000000          10260.000000   \n",
       "mean           1991.062634    1968.007783           2506.667057   \n",
       "std             511.267913      19.709476           1157.449634   \n",
       "min            1974.000000    1028.000000            333.000000   \n",
       "25%            1980.000000    1953.000000           1706.000000   \n",
       "50%            1986.000000    1968.000000           2501.500000   \n",
       "75%            1992.000000    1983.000000           3290.250000   \n",
       "max           53784.000000    2001.000000          55215.000000   \n",
       "\n",
       "       Customer Monetary Value   Claims Rate  Premiums in LOB: Motor  \\\n",
       "count             10296.000000  10296.000000            10262.000000   \n",
       "mean                177.892605      0.742772              300.470252   \n",
       "std                1945.811505      2.916964              211.914997   \n",
       "min             -165680.420000      0.000000               -4.110000   \n",
       "25%                  -9.440000      0.390000              190.590000   \n",
       "50%                 186.870000      0.720000              298.610000   \n",
       "75%                 399.777500      0.980000              408.300000   \n",
       "max               11875.890000    256.200000            11604.420000   \n",
       "\n",
       "       Premiums in LOB: Household  Premiums in LOB: Health  \\\n",
       "count                10296.000000             10253.000000   \n",
       "mean                   210.431192               171.580833   \n",
       "std                    352.595984               296.405976   \n",
       "min                    -75.000000                -2.110000   \n",
       "25%                     49.450000               111.800000   \n",
       "50%                    132.800000               162.810000   \n",
       "75%                    290.050000               219.820000   \n",
       "max                  25048.800000             28272.000000   \n",
       "\n",
       "       Premiums in LOB:  Life  Premiums in LOB: Work Compensations  \n",
       "count            10192.000000                         10210.000000  \n",
       "mean                41.855782                            41.277514  \n",
       "std                 47.480632                            51.513572  \n",
       "min                 -7.000000                           -12.000000  \n",
       "25%                  9.890000                            10.670000  \n",
       "50%                 25.560000                            25.670000  \n",
       "75%                 57.790000                            56.790000  \n",
       "max                398.300000                          1988.700000  "
      ]
     },
     "execution_count": 7,
     "metadata": {},
     "output_type": "execute_result"
    }
   ],
   "source": [
    "# Getting information on numerical variables\n",
    "insurance_df.describe() "
   ]
  },
  {
   "cell_type": "code",
   "execution_count": 8,
   "metadata": {},
   "outputs": [
    {
     "data": {
      "text/plain": [
       "Customer Identity                        0\n",
       "First Policy´s Year                     30\n",
       "Brithday Year                           17\n",
       "Educational Degree                      17\n",
       "Gross Monthly Salary                    36\n",
       "Geographic Living Area                   1\n",
       "Has Children (Y=1)                      21\n",
       "Customer Monetary Value                  0\n",
       "Claims Rate                              0\n",
       "Premiums in LOB: Motor                  34\n",
       "Premiums in LOB: Household               0\n",
       "Premiums in LOB: Health                 43\n",
       "Premiums in LOB:  Life                 104\n",
       "Premiums in LOB: Work Compensations     86\n",
       "dtype: int64"
      ]
     },
     "execution_count": 8,
     "metadata": {},
     "output_type": "execute_result"
    }
   ],
   "source": [
    "insurance_df.isna().sum()"
   ]
  },
  {
   "cell_type": "markdown",
   "metadata": {},
   "source": [
    "Just by a simple overlook of our data, we can already detect some mistakes present in it: the first policy's year takes numbers up to 53784, a year which we are clearly very far away from reaching, and there's at least one costumer born in 1028, which is just impossible.<br>\n",
    "Also, we have a lot of missing information.<br>\n",
    "Let's start by solving these problems. "
   ]
  },
  {
   "cell_type": "markdown",
   "metadata": {},
   "source": [
    "<hr>\n",
    "<b style='color: ##154360;font-size:19px' id=\"preparation\">Data Preparation</b>"
   ]
  },
  {
   "cell_type": "markdown",
   "metadata": {},
   "source": [
    "Since we only have 13 features and all of them can influence our final results, we won't get rid of any of them. \n",
    "In this step, we will start by creating new features from the existent ones.<br>"
   ]
  },
  {
   "cell_type": "markdown",
   "metadata": {},
   "source": [
    "<b style=\"color:#FF5733\">Creating features</b>"
   ]
  },
  {
   "cell_type": "code",
   "execution_count": 9,
   "metadata": {},
   "outputs": [
    {
     "data": {
      "text/html": [
       "<div>\n",
       "<style scoped>\n",
       "    .dataframe tbody tr th:only-of-type {\n",
       "        vertical-align: middle;\n",
       "    }\n",
       "\n",
       "    .dataframe tbody tr th {\n",
       "        vertical-align: top;\n",
       "    }\n",
       "\n",
       "    .dataframe thead th {\n",
       "        text-align: right;\n",
       "    }\n",
       "</style>\n",
       "<table border=\"1\" class=\"dataframe\">\n",
       "  <thead>\n",
       "    <tr style=\"text-align: right;\">\n",
       "      <th></th>\n",
       "      <th>Customer Identity</th>\n",
       "      <th>First Policy´s Year</th>\n",
       "      <th>Brithday Year</th>\n",
       "      <th>Educational Degree</th>\n",
       "      <th>Gross Monthly Salary</th>\n",
       "      <th>Geographic Living Area</th>\n",
       "      <th>Has Children (Y=1)</th>\n",
       "      <th>Customer Monetary Value</th>\n",
       "      <th>Claims Rate</th>\n",
       "      <th>Premiums in LOB: Motor</th>\n",
       "      <th>Premiums in LOB: Household</th>\n",
       "      <th>Premiums in LOB: Health</th>\n",
       "      <th>Premiums in LOB:  Life</th>\n",
       "      <th>Premiums in LOB: Work Compensations</th>\n",
       "      <th>Age when doing first policy</th>\n",
       "    </tr>\n",
       "  </thead>\n",
       "  <tbody>\n",
       "    <tr>\n",
       "      <td>0</td>\n",
       "      <td>1</td>\n",
       "      <td>1985.0</td>\n",
       "      <td>1982.0</td>\n",
       "      <td>2 - High School</td>\n",
       "      <td>2177.0</td>\n",
       "      <td>1</td>\n",
       "      <td>1</td>\n",
       "      <td>380.97</td>\n",
       "      <td>0.39</td>\n",
       "      <td>375.85</td>\n",
       "      <td>79.45</td>\n",
       "      <td>146.36</td>\n",
       "      <td>47.01</td>\n",
       "      <td>16.89</td>\n",
       "      <td>3.0</td>\n",
       "    </tr>\n",
       "    <tr>\n",
       "      <td>1</td>\n",
       "      <td>2</td>\n",
       "      <td>1981.0</td>\n",
       "      <td>1995.0</td>\n",
       "      <td>2 - High School</td>\n",
       "      <td>677.0</td>\n",
       "      <td>4</td>\n",
       "      <td>1</td>\n",
       "      <td>-131.13</td>\n",
       "      <td>1.12</td>\n",
       "      <td>77.46</td>\n",
       "      <td>416.20</td>\n",
       "      <td>116.69</td>\n",
       "      <td>194.48</td>\n",
       "      <td>106.13</td>\n",
       "      <td>-14.0</td>\n",
       "    </tr>\n",
       "    <tr>\n",
       "      <td>2</td>\n",
       "      <td>3</td>\n",
       "      <td>1991.0</td>\n",
       "      <td>1970.0</td>\n",
       "      <td>1 - Basic</td>\n",
       "      <td>2277.0</td>\n",
       "      <td>3</td>\n",
       "      <td>0</td>\n",
       "      <td>504.67</td>\n",
       "      <td>0.28</td>\n",
       "      <td>206.15</td>\n",
       "      <td>224.50</td>\n",
       "      <td>124.58</td>\n",
       "      <td>86.35</td>\n",
       "      <td>99.02</td>\n",
       "      <td>21.0</td>\n",
       "    </tr>\n",
       "    <tr>\n",
       "      <td>3</td>\n",
       "      <td>4</td>\n",
       "      <td>1990.0</td>\n",
       "      <td>1981.0</td>\n",
       "      <td>3 - BSc/MSc</td>\n",
       "      <td>1099.0</td>\n",
       "      <td>4</td>\n",
       "      <td>1</td>\n",
       "      <td>-16.99</td>\n",
       "      <td>0.99</td>\n",
       "      <td>182.48</td>\n",
       "      <td>43.35</td>\n",
       "      <td>311.17</td>\n",
       "      <td>35.34</td>\n",
       "      <td>28.34</td>\n",
       "      <td>9.0</td>\n",
       "    </tr>\n",
       "    <tr>\n",
       "      <td>4</td>\n",
       "      <td>5</td>\n",
       "      <td>1986.0</td>\n",
       "      <td>1973.0</td>\n",
       "      <td>3 - BSc/MSc</td>\n",
       "      <td>1763.0</td>\n",
       "      <td>4</td>\n",
       "      <td>1</td>\n",
       "      <td>35.23</td>\n",
       "      <td>0.90</td>\n",
       "      <td>338.62</td>\n",
       "      <td>47.80</td>\n",
       "      <td>182.59</td>\n",
       "      <td>18.78</td>\n",
       "      <td>41.45</td>\n",
       "      <td>13.0</td>\n",
       "    </tr>\n",
       "  </tbody>\n",
       "</table>\n",
       "</div>"
      ],
      "text/plain": [
       "  Customer Identity  First Policy´s Year  Brithday Year Educational Degree  \\\n",
       "0                 1               1985.0         1982.0    2 - High School   \n",
       "1                 2               1981.0         1995.0    2 - High School   \n",
       "2                 3               1991.0         1970.0          1 - Basic   \n",
       "3                 4               1990.0         1981.0        3 - BSc/MSc   \n",
       "4                 5               1986.0         1973.0        3 - BSc/MSc   \n",
       "\n",
       "   Gross Monthly Salary Geographic Living Area Has Children (Y=1)  \\\n",
       "0                2177.0                      1                  1   \n",
       "1                 677.0                      4                  1   \n",
       "2                2277.0                      3                  0   \n",
       "3                1099.0                      4                  1   \n",
       "4                1763.0                      4                  1   \n",
       "\n",
       "   Customer Monetary Value  Claims Rate  Premiums in LOB: Motor  \\\n",
       "0                   380.97         0.39                  375.85   \n",
       "1                  -131.13         1.12                   77.46   \n",
       "2                   504.67         0.28                  206.15   \n",
       "3                   -16.99         0.99                  182.48   \n",
       "4                    35.23         0.90                  338.62   \n",
       "\n",
       "   Premiums in LOB: Household  Premiums in LOB: Health  \\\n",
       "0                       79.45                   146.36   \n",
       "1                      416.20                   116.69   \n",
       "2                      224.50                   124.58   \n",
       "3                       43.35                   311.17   \n",
       "4                       47.80                   182.59   \n",
       "\n",
       "   Premiums in LOB:  Life  Premiums in LOB: Work Compensations  \\\n",
       "0                   47.01                                16.89   \n",
       "1                  194.48                               106.13   \n",
       "2                   86.35                                99.02   \n",
       "3                   35.34                                28.34   \n",
       "4                   18.78                                41.45   \n",
       "\n",
       "   Age when doing first policy  \n",
       "0                          3.0  \n",
       "1                        -14.0  \n",
       "2                         21.0  \n",
       "3                          9.0  \n",
       "4                         13.0  "
      ]
     },
     "execution_count": 9,
     "metadata": {},
     "output_type": "execute_result"
    }
   ],
   "source": [
    "insurance_df['Age when doing first policy'] = insurance_df['First Policy´s Year']-insurance_df['Brithday Year']\n",
    "insurance_df.head()"
   ]
  },
  {
   "cell_type": "code",
   "execution_count": 10,
   "metadata": {},
   "outputs": [
    {
     "data": {
      "text/plain": [
       "count    10252.000000\n",
       "mean        23.052087\n",
       "std        512.199471\n",
       "min        -27.000000\n",
       "25%          3.000000\n",
       "50%         18.000000\n",
       "75%         33.000000\n",
       "max      51836.000000\n",
       "Name: Age when doing first policy, dtype: float64"
      ]
     },
     "execution_count": 10,
     "metadata": {},
     "output_type": "execute_result"
    }
   ],
   "source": [
    "insurance_df['Age when doing first policy'].describe() "
   ]
  },
  {
   "cell_type": "markdown",
   "metadata": {},
   "source": [
    "More problems for us: some clients \"were\" -27 years when doing their first policy, which is obviously an error. <br>\n",
    "Also, looks like 25% of our clients were 3 or less years old when doing their first policy, which is again totally impossible. \n",
    "\n",
    "Let's remove this column for now, in order to not have it influence our missing values count (since it is a direct result of two of our columns)"
   ]
  },
  {
   "cell_type": "code",
   "execution_count": 11,
   "metadata": {},
   "outputs": [],
   "source": [
    "insurance_df.drop('Age when doing first policy', axis = 1, inplace=True)"
   ]
  },
  {
   "cell_type": "markdown",
   "metadata": {},
   "source": [
    "Calculating the age and droping the year of the policy that was made."
   ]
  },
  {
   "cell_type": "code",
   "execution_count": 12,
   "metadata": {
    "scrolled": true
   },
   "outputs": [
    {
     "data": {
      "text/html": [
       "<div>\n",
       "<style scoped>\n",
       "    .dataframe tbody tr th:only-of-type {\n",
       "        vertical-align: middle;\n",
       "    }\n",
       "\n",
       "    .dataframe tbody tr th {\n",
       "        vertical-align: top;\n",
       "    }\n",
       "\n",
       "    .dataframe thead th {\n",
       "        text-align: right;\n",
       "    }\n",
       "</style>\n",
       "<table border=\"1\" class=\"dataframe\">\n",
       "  <thead>\n",
       "    <tr style=\"text-align: right;\">\n",
       "      <th></th>\n",
       "      <th>Customer Identity</th>\n",
       "      <th>First Policy´s Year</th>\n",
       "      <th>Brithday Year</th>\n",
       "      <th>Educational Degree</th>\n",
       "      <th>Gross Monthly Salary</th>\n",
       "      <th>Geographic Living Area</th>\n",
       "      <th>Has Children (Y=1)</th>\n",
       "      <th>Customer Monetary Value</th>\n",
       "      <th>Claims Rate</th>\n",
       "      <th>Premiums in LOB: Motor</th>\n",
       "      <th>Premiums in LOB: Household</th>\n",
       "      <th>Premiums in LOB: Health</th>\n",
       "      <th>Premiums in LOB:  Life</th>\n",
       "      <th>Premiums in LOB: Work Compensations</th>\n",
       "      <th>Age</th>\n",
       "    </tr>\n",
       "  </thead>\n",
       "  <tbody>\n",
       "    <tr>\n",
       "      <td>0</td>\n",
       "      <td>1</td>\n",
       "      <td>1985.0</td>\n",
       "      <td>1982.0</td>\n",
       "      <td>2 - High School</td>\n",
       "      <td>2177.0</td>\n",
       "      <td>1</td>\n",
       "      <td>1</td>\n",
       "      <td>380.97</td>\n",
       "      <td>0.39</td>\n",
       "      <td>375.85</td>\n",
       "      <td>79.45</td>\n",
       "      <td>146.36</td>\n",
       "      <td>47.01</td>\n",
       "      <td>16.89</td>\n",
       "      <td>34.0</td>\n",
       "    </tr>\n",
       "    <tr>\n",
       "      <td>1</td>\n",
       "      <td>2</td>\n",
       "      <td>1981.0</td>\n",
       "      <td>1995.0</td>\n",
       "      <td>2 - High School</td>\n",
       "      <td>677.0</td>\n",
       "      <td>4</td>\n",
       "      <td>1</td>\n",
       "      <td>-131.13</td>\n",
       "      <td>1.12</td>\n",
       "      <td>77.46</td>\n",
       "      <td>416.20</td>\n",
       "      <td>116.69</td>\n",
       "      <td>194.48</td>\n",
       "      <td>106.13</td>\n",
       "      <td>21.0</td>\n",
       "    </tr>\n",
       "    <tr>\n",
       "      <td>2</td>\n",
       "      <td>3</td>\n",
       "      <td>1991.0</td>\n",
       "      <td>1970.0</td>\n",
       "      <td>1 - Basic</td>\n",
       "      <td>2277.0</td>\n",
       "      <td>3</td>\n",
       "      <td>0</td>\n",
       "      <td>504.67</td>\n",
       "      <td>0.28</td>\n",
       "      <td>206.15</td>\n",
       "      <td>224.50</td>\n",
       "      <td>124.58</td>\n",
       "      <td>86.35</td>\n",
       "      <td>99.02</td>\n",
       "      <td>46.0</td>\n",
       "    </tr>\n",
       "    <tr>\n",
       "      <td>3</td>\n",
       "      <td>4</td>\n",
       "      <td>1990.0</td>\n",
       "      <td>1981.0</td>\n",
       "      <td>3 - BSc/MSc</td>\n",
       "      <td>1099.0</td>\n",
       "      <td>4</td>\n",
       "      <td>1</td>\n",
       "      <td>-16.99</td>\n",
       "      <td>0.99</td>\n",
       "      <td>182.48</td>\n",
       "      <td>43.35</td>\n",
       "      <td>311.17</td>\n",
       "      <td>35.34</td>\n",
       "      <td>28.34</td>\n",
       "      <td>35.0</td>\n",
       "    </tr>\n",
       "    <tr>\n",
       "      <td>4</td>\n",
       "      <td>5</td>\n",
       "      <td>1986.0</td>\n",
       "      <td>1973.0</td>\n",
       "      <td>3 - BSc/MSc</td>\n",
       "      <td>1763.0</td>\n",
       "      <td>4</td>\n",
       "      <td>1</td>\n",
       "      <td>35.23</td>\n",
       "      <td>0.90</td>\n",
       "      <td>338.62</td>\n",
       "      <td>47.80</td>\n",
       "      <td>182.59</td>\n",
       "      <td>18.78</td>\n",
       "      <td>41.45</td>\n",
       "      <td>43.0</td>\n",
       "    </tr>\n",
       "  </tbody>\n",
       "</table>\n",
       "</div>"
      ],
      "text/plain": [
       "  Customer Identity  First Policy´s Year  Brithday Year Educational Degree  \\\n",
       "0                 1               1985.0         1982.0    2 - High School   \n",
       "1                 2               1981.0         1995.0    2 - High School   \n",
       "2                 3               1991.0         1970.0          1 - Basic   \n",
       "3                 4               1990.0         1981.0        3 - BSc/MSc   \n",
       "4                 5               1986.0         1973.0        3 - BSc/MSc   \n",
       "\n",
       "   Gross Monthly Salary Geographic Living Area Has Children (Y=1)  \\\n",
       "0                2177.0                      1                  1   \n",
       "1                 677.0                      4                  1   \n",
       "2                2277.0                      3                  0   \n",
       "3                1099.0                      4                  1   \n",
       "4                1763.0                      4                  1   \n",
       "\n",
       "   Customer Monetary Value  Claims Rate  Premiums in LOB: Motor  \\\n",
       "0                   380.97         0.39                  375.85   \n",
       "1                  -131.13         1.12                   77.46   \n",
       "2                   504.67         0.28                  206.15   \n",
       "3                   -16.99         0.99                  182.48   \n",
       "4                    35.23         0.90                  338.62   \n",
       "\n",
       "   Premiums in LOB: Household  Premiums in LOB: Health  \\\n",
       "0                       79.45                   146.36   \n",
       "1                      416.20                   116.69   \n",
       "2                      224.50                   124.58   \n",
       "3                       43.35                   311.17   \n",
       "4                       47.80                   182.59   \n",
       "\n",
       "   Premiums in LOB:  Life  Premiums in LOB: Work Compensations   Age  \n",
       "0                   47.01                                16.89  34.0  \n",
       "1                  194.48                               106.13  21.0  \n",
       "2                   86.35                                99.02  46.0  \n",
       "3                   35.34                                28.34  35.0  \n",
       "4                   18.78                                41.45  43.0  "
      ]
     },
     "execution_count": 12,
     "metadata": {},
     "output_type": "execute_result"
    }
   ],
   "source": [
    "insurance_df['Age'] = 2016 - insurance_df['Brithday Year']\n",
    "insurance_df.head()"
   ]
  },
  {
   "cell_type": "code",
   "execution_count": 13,
   "metadata": {},
   "outputs": [
    {
     "data": {
      "text/plain": [
       "count    10279.000000\n",
       "mean        47.992217\n",
       "std         19.709476\n",
       "min         15.000000\n",
       "25%         33.000000\n",
       "50%         48.000000\n",
       "75%         63.000000\n",
       "max        988.000000\n",
       "Name: Age, dtype: float64"
      ]
     },
     "execution_count": 13,
     "metadata": {},
     "output_type": "execute_result"
    }
   ],
   "source": [
    "insurance_df['Age'].describe() "
   ]
  },
  {
   "cell_type": "code",
   "execution_count": 14,
   "metadata": {},
   "outputs": [],
   "source": [
    "insurance_df[insurance_df['Age'] > 100]\n",
    "#We only have one customer that has age more than 100 which is 991 so we decided to remove it\n",
    "insurance_df.drop(insurance_df[insurance_df['Age'] >100].index, inplace=True)\n",
    "ratio.append('Age')\n"
   ]
  },
  {
   "cell_type": "markdown",
   "metadata": {},
   "source": [
    "<b style=\"color:#FF5733\">Taking care of premiums missing values</b>"
   ]
  },
  {
   "cell_type": "code",
   "execution_count": 15,
   "metadata": {
    "scrolled": false
   },
   "outputs": [
    {
     "name": "stdout",
     "output_type": "stream",
     "text": [
      "--------------- Premiums in LOB: Motor\n",
      "Empty DataFrame\n",
      "Columns: [Customer Identity, First Policy´s Year, Brithday Year, Educational Degree, Gross Monthly Salary, Geographic Living Area, Has Children (Y=1), Customer Monetary Value, Claims Rate, Premiums in LOB: Motor, Premiums in LOB: Household, Premiums in LOB: Health, Premiums in LOB:  Life, Premiums in LOB: Work Compensations, Age]\n",
      "Index: []\n",
      "--------------- Premiums in LOB: Health\n",
      "Empty DataFrame\n",
      "Columns: [Customer Identity, First Policy´s Year, Brithday Year, Educational Degree, Gross Monthly Salary, Geographic Living Area, Has Children (Y=1), Customer Monetary Value, Claims Rate, Premiums in LOB: Motor, Premiums in LOB: Household, Premiums in LOB: Health, Premiums in LOB:  Life, Premiums in LOB: Work Compensations, Age]\n",
      "Index: []\n",
      "--------------- Premiums in LOB: Life\n",
      "Empty DataFrame\n",
      "Columns: [Customer Identity, First Policy´s Year, Brithday Year, Educational Degree, Gross Monthly Salary, Geographic Living Area, Has Children (Y=1), Customer Monetary Value, Claims Rate, Premiums in LOB: Motor, Premiums in LOB: Household, Premiums in LOB: Health, Premiums in LOB:  Life, Premiums in LOB: Work Compensations, Age]\n",
      "Index: []\n",
      "--------------- Premiums in LOB: Work Compensations\n",
      "Empty DataFrame\n",
      "Columns: [Customer Identity, First Policy´s Year, Brithday Year, Educational Degree, Gross Monthly Salary, Geographic Living Area, Has Children (Y=1), Customer Monetary Value, Claims Rate, Premiums in LOB: Motor, Premiums in LOB: Household, Premiums in LOB: Health, Premiums in LOB:  Life, Premiums in LOB: Work Compensations, Age]\n",
      "Index: []\n"
     ]
    }
   ],
   "source": [
    "print('--------------- Premiums in LOB: Motor')\n",
    "print(insurance_df.loc[insurance_df['Premiums in LOB: Motor'] == 0])\n",
    "print('--------------- Premiums in LOB: Health')\n",
    "print(insurance_df.loc[insurance_df['Premiums in LOB: Health'] == 0])\n",
    "print('--------------- Premiums in LOB: Life')\n",
    "print(insurance_df.loc[insurance_df['Premiums in LOB:  Life'] == 0])\n",
    "print('--------------- Premiums in LOB: Work Compensations')\n",
    "print(insurance_df.loc[insurance_df['Premiums in LOB: Work Compensations'] == 0])"
   ]
  },
  {
   "cell_type": "markdown",
   "metadata": {},
   "source": [
    "Even though there's still a possibility all this data is actually missing, it does seem like the missing data in these columns represent unexistence of premium contracts and not lack of information. Because of that, let's fill those non-existenting values with 0. "
   ]
  },
  {
   "cell_type": "code",
   "execution_count": 16,
   "metadata": {
    "scrolled": true
   },
   "outputs": [
    {
     "data": {
      "text/plain": [
       "Customer Identity                       0\n",
       "First Policy´s Year                    30\n",
       "Brithday Year                          17\n",
       "Educational Degree                     17\n",
       "Gross Monthly Salary                   36\n",
       "Geographic Living Area                  1\n",
       "Has Children (Y=1)                     21\n",
       "Customer Monetary Value                 0\n",
       "Claims Rate                             0\n",
       "Premiums in LOB: Motor                  0\n",
       "Premiums in LOB: Household              0\n",
       "Premiums in LOB: Health                 0\n",
       "Premiums in LOB:  Life                  0\n",
       "Premiums in LOB: Work Compensations     0\n",
       "Age                                    17\n",
       "dtype: int64"
      ]
     },
     "execution_count": 16,
     "metadata": {},
     "output_type": "execute_result"
    }
   ],
   "source": [
    "insurance_df[['Premiums in LOB: Motor', 'Premiums in LOB: Health',\n",
    "              'Premiums in LOB:  Life',\n",
    "              'Premiums in LOB: Work Compensations']] = insurance_df[['Premiums in LOB: Motor', \n",
    "                                                                      'Premiums in LOB: Health',\n",
    "                                                                      'Premiums in LOB:  Life',\n",
    "                                                                      'Premiums in LOB: Work Compensations']].fillna(value=0)\n",
    "insurance_df.isna().sum()"
   ]
  },
  {
   "cell_type": "markdown",
   "metadata": {},
   "source": [
    "<b style=\"color:#FF5733\">Making the Transformations</b>"
   ]
  },
  {
   "cell_type": "code",
   "execution_count": 17,
   "metadata": {},
   "outputs": [],
   "source": [
    "insurance_df[nominal] = insurance_df[nominal].fillna(insurance_df[nominal].mode().iloc[0])"
   ]
  },
  {
   "cell_type": "code",
   "execution_count": 18,
   "metadata": {},
   "outputs": [
    {
     "data": {
      "text/plain": [
       "Customer Identity                       0\n",
       "First Policy´s Year                    30\n",
       "Brithday Year                          17\n",
       "Educational Degree                      0\n",
       "Gross Monthly Salary                   36\n",
       "Geographic Living Area                  0\n",
       "Has Children (Y=1)                      0\n",
       "Customer Monetary Value                 0\n",
       "Claims Rate                             0\n",
       "Premiums in LOB: Motor                  0\n",
       "Premiums in LOB: Household              0\n",
       "Premiums in LOB: Health                 0\n",
       "Premiums in LOB:  Life                  0\n",
       "Premiums in LOB: Work Compensations     0\n",
       "Age                                    17\n",
       "dtype: int64"
      ]
     },
     "execution_count": 18,
     "metadata": {},
     "output_type": "execute_result"
    }
   ],
   "source": [
    "insurance_df.isna().sum()"
   ]
  },
  {
   "cell_type": "markdown",
   "metadata": {},
   "source": [
    "#### Client Spend = Sum(Premiums)"
   ]
  },
  {
   "cell_type": "markdown",
   "metadata": {},
   "source": [
    "We are building a new variable that means how much the client spends"
   ]
  },
  {
   "cell_type": "code",
   "execution_count": 19,
   "metadata": {
    "scrolled": true
   },
   "outputs": [],
   "source": [
    "insurance_df['Client_Spend'] = insurance_df['Premiums in LOB: Motor']+insurance_df['Premiums in LOB: Household']+insurance_df[\"Premiums in LOB: Health\"] +insurance_df[\"Premiums in LOB:  Life\"]  +insurance_df[\"Premiums in LOB: Work Compensations\"]"
   ]
  },
  {
   "cell_type": "code",
   "execution_count": 20,
   "metadata": {},
   "outputs": [
    {
     "data": {
      "text/plain": [
       "0         665.56\n",
       "1         910.96\n",
       "2         740.60\n",
       "3         600.68\n",
       "4         629.24\n",
       "          ...   \n",
       "10291     641.56\n",
       "10292    1430.60\n",
       "10293     696.24\n",
       "10294     774.92\n",
       "10295     669.56\n",
       "Name: Client_Spend, Length: 10295, dtype: float64"
      ]
     },
     "execution_count": 20,
     "metadata": {},
     "output_type": "execute_result"
    }
   ],
   "source": [
    "insurance_df['Client_Spend']"
   ]
  },
  {
   "cell_type": "markdown",
   "metadata": {},
   "source": [
    "#### Fidelity"
   ]
  },
  {
   "cell_type": "code",
   "execution_count": 21,
   "metadata": {},
   "outputs": [
    {
     "data": {
      "text/plain": [
       "28.0    512\n",
       "22.0    475\n",
       "23.0    472\n",
       "27.0    466\n",
       "32.0    464\n",
       "30.0    458\n",
       "39.0    453\n",
       "38.0    453\n",
       "24.0    451\n",
       "26.0    449\n",
       "21.0    445\n",
       "35.0    445\n",
       "34.0    444\n",
       "37.0    443\n",
       "20.0    440\n",
       "29.0    438\n",
       "40.0    433\n",
       "36.0    432\n",
       "25.0    430\n",
       "31.0    429\n",
       "33.0    423\n",
       "41.0    285\n",
       "19.0    271\n",
       "42.0    141\n",
       "18.0    112\n",
       "Name: Fidelity, dtype: int64"
      ]
     },
     "execution_count": 21,
     "metadata": {},
     "output_type": "execute_result"
    }
   ],
   "source": [
    "insurance_df['Fidelity'] = 2016 - insurance_df['First Policy´s Year']\n",
    "insurance_df['Fidelity'] \n",
    "insurance_df['Fidelity'].value_counts() #There is one value equal to -51768.0\n",
    "insurance_df = insurance_df[insurance_df['Fidelity'] > 0 ] #Removing the dirty data\n",
    "insurance_df['Fidelity'].value_counts()"
   ]
  },
  {
   "cell_type": "code",
   "execution_count": 22,
   "metadata": {},
   "outputs": [],
   "source": [
    "customer = ['Customer Identity','Gross Monthly Salary','Claims Rate','Customer Monetary Value','Client_Spend','Fidelity', 'Age']\n",
    "premiums = ['Customer Identity','Premiums in LOB: Motor','Premiums in LOB: Household','Premiums in LOB: Health',\n",
    "         'Premiums in LOB:  Life','Premiums in LOB: Work Compensations']\n",
    "nominal = ['Customer Identity','Educational Degree','Geographic Living Area','Has Children (Y=1)']"
   ]
  },
  {
   "cell_type": "markdown",
   "metadata": {},
   "source": [
    "<b style=\"color:#FF5733\">Fiding missing values</b>"
   ]
  },
  {
   "cell_type": "code",
   "execution_count": 23,
   "metadata": {},
   "outputs": [
    {
     "name": "stdout",
     "output_type": "stream",
     "text": [
      "0.5% of rows have values missing\n"
     ]
    },
    {
     "data": {
      "text/plain": [
       "(10264, 17)"
      ]
     },
     "execution_count": 23,
     "metadata": {},
     "output_type": "execute_result"
    }
   ],
   "source": [
    "list_missing_data = {}\n",
    "l = len([i for i in (insurance_df.isnull().sum(axis=1)/insurance_df.shape[1]).tolist() if i > 0.0])\n",
    "print(str(round(l/insurance_df.shape[0],3)*100)+\"% of rows have values missing\")\n",
    "\n",
    "insurance_df.shape"
   ]
  },
  {
   "cell_type": "markdown",
   "metadata": {},
   "source": [
    "<b style=\"color:#FF5733\">Filling missing values</b>"
   ]
  },
  {
   "cell_type": "markdown",
   "metadata": {},
   "source": [
    "Using only the rows with no missing data, we will take 75% of them and use them to make predictions on the other 25%. <br>"
   ]
  },
  {
   "cell_type": "code",
   "execution_count": 24,
   "metadata": {},
   "outputs": [
    {
     "name": "stdout",
     "output_type": "stream",
     "text": [
      "[6403, 9319, 2899, 10196, 3055, 9747, 2827, 10215, 2338, 7407, 6528, 1523, 4318, 105, 9651, 8647, 9927, 5719, 3914, 459, 6729, 5251, 5144, 8155, 2378, 3454, 3572, 1732, 1212, 2470, 4547, 2285, 3610, 1664, 4159, 7905, 4286, 4759, 134, 5098, 8096, 2670, 7020, 9884, 2083, 6138, 2475, 1150, 395, 2533, 6527, 2929, 182, 6529, 1063, 5280, 4361, 9027, 2805, 5520, 5729, 5545, 2469, 7188, 4496, 9537, 8006, 9791, 8910, 1513, 1792, 46, 9212, 6097, 2367, 4946, 5187, 17, 3200, 3161, 3870, 1113, 4025, 9252, 3323, 6411, 2823, 3855, 6089, 441, 6188, 4073, 516, 3339, 4129, 280, 3550, 415, 5730, 6788, 6178, 5401, 1234, 5136, 939, 7017, 598, 5004, 6381, 361, 5245, 484, 38, 4352, 8560, 7996, 3080, 824, 447, 6662, 8943, 5837, 8519, 6272, 5841, 4864, 8549, 9153, 5417, 3418, 544, 831, 1708, 4622, 9361, 6493, 2118, 1328, 1419, 8094, 6394, 6466, 4601, 4571, 5672, 10099, 706, 10108, 3681, 9832, 4301, 6078, 8485, 8423, 5734, 7751, 1417, 9589, 3913, 4991, 3581, 9168, 3980, 4699, 2535, 1433, 1059, 6991, 7584, 9257, 7831, 8266, 7223, 3769, 6948, 1611, 4714, 8031, 9508, 5299, 3099, 5329, 1705, 955, 10155, 9000, 9817, 7110, 5577, 4721, 505, 94, 4409, 5571, 9303, 3490, 9248, 3438, 7058, 2696, 4966, 3175, 9132, 7557, 2763, 1155, 9058, 7679, 4875, 7953, 6909, 3652, 2440, 2169, 10069, 1396, 1532, 8299, 6299, 7962, 7071, 7638, 1452, 8129, 4950, 2931, 857, 1428, 5449, 9937, 10214, 2414, 696, 8538, 3455, 9603, 8351, 2877, 10032, 2330, 4702, 9015, 548, 5385, 4208, 2643, 6233, 8179, 1078, 2680, 7103, 7082, 3957, 1451, 6221, 3021, 8067, 906, 804, 8607, 7633, 224, 9820, 9370, 5182, 1463, 1167, 4405, 7980, 5444, 1057, 6822, 2273, 1957, 4865, 607, 863, 7541, 600, 8279, 2817, 7280, 9101, 4583, 1588, 3496, 8287, 8409, 1729, 9561, 2283, 996, 2989, 7190, 1208, 7415, 7022, 5983, 8244, 3450, 4888, 2956, 6702, 6168, 9863, 9115, 3962, 1682, 1173, 2196, 3842, 9307, 9702, 6915, 2718, 7929, 5114, 9544, 4249, 6194, 705, 9204, 6311, 9638, 5930, 8504, 303, 9796, 8446, 5560, 6208, 5539, 3371, 3067, 4933, 8882, 4958, 3194, 4709, 2238, 5044, 4046, 3780, 9203, 6599, 5689, 10183, 1440, 1601, 5929, 10261, 1787, 9438, 4439, 3186, 8833, 7189, 4556, 10224, 7502, 3387, 7549, 479, 5178, 2997, 9083, 8685, 3412, 8374, 9769, 589, 3818, 2626, 1125, 691, 7640, 186, 3767, 1562, 9240, 9183, 8654, 4406, 7817, 444, 9930, 6033, 8811, 295, 3891, 9808, 9022, 6197, 1568, 7551, 4957, 8355, 6908, 1930, 3953, 1639, 5838, 10163, 1377, 3969, 2622, 6544, 10037, 1717, 7293, 2897, 253, 495, 3731, 1070, 5239, 5698, 9754, 2836, 9566, 1095, 9633, 6926, 6179, 365, 92, 9748, 1819, 2974, 3077, 5858, 8892, 8808, 4495, 726, 2211, 5580, 2973, 3530, 123, 1537, 9828, 2570, 6989, 4092, 4253, 7737, 8254, 9756, 5962, 941, 6585, 2965, 8662, 9947, 7868, 1302, 2369, 5379, 6375, 3280, 966, 1245, 1287, 7306, 455, 8175, 1407, 10077, 4893, 6484, 6965, 6967, 8760, 8599, 5949, 4896, 2062, 5498, 10100, 8190, 8276, 6799, 1449, 4197, 7707, 8209, 8015, 7019, 5223, 7759, 1538, 9, 10137, 946, 351, 2452, 8992, 3047, 1833, 6134, 5170, 7446, 3778, 7426, 3079, 1635, 953, 8062, 5819, 7217, 1959, 7677, 8705, 9788, 6755, 2180, 2702, 1342, 2888, 5994, 1761, 4823, 1293, 5213, 7604, 6994, 5980, 4029, 6880, 1129, 2568, 834, 5252, 6382, 1479, 5391, 6076, 2531, 6063, 979, 3365, 4191, 2727, 4142, 8550, 2066, 5394, 997, 4309, 4119, 301, 8066, 6533, 2519, 7389, 1600, 5767, 4898, 1497, 9255, 7704, 3153, 9213, 232, 2685, 8008, 1446, 9249, 4440, 9266, 6783, 5267, 1146, 5075, 8473, 3177, 1866, 5586, 4036, 4384, 3661, 4778, 2262, 752, 1877, 5658, 5617, 2972, 9688, 158, 6707, 613, 3170, 9531, 9886, 753, 9915, 9300, 3428, 3621, 332, 8726, 1412, 9613, 4600, 701, 5788, 572, 4956, 8124, 417, 9577, 1206, 9976, 2921, 8875, 4500, 6152, 4223, 2512, 357, 6924, 882, 4030, 6902, 626, 9485, 7359, 6059, 3361, 514, 6193, 1158, 2849, 1008, 2853, 7047, 5278, 7773, 2497, 5196, 1376, 1813, 5224, 8106, 8241, 785, 4738, 5472, 8214, 4694, 3498, 7128, 8543, 1361, 6367, 2960, 1154, 2818, 3304, 5454, 3035, 5685, 7412, 10024, 4148, 6248, 9843, 1159, 5648, 8184, 10118, 5387, 4843, 2958, 4951, 10195, 7084, 7593, 5101, 9304, 9684, 4435, 3896, 5006, 1587, 2039, 2314, 8639, 4261, 5348, 1329, 8246, 6720, 1434, 8814, 6301, 156, 3439, 10266, 8781, 1506, 6793, 5514, 1179, 6039, 1965, 765, 1325, 8376, 6751, 2328, 6252, 8085, 2883, 8553, 34, 5097, 472, 5494, 3555, 4603, 5476, 8784, 2418, 3508, 3989, 907, 2745, 4821, 9389, 6488, 6385, 9893, 593, 5563, 6332, 3165, 9052, 3331, 7230, 3167, 8854, 4186, 980, 7477, 9852, 8625, 6229, 486, 5872, 6784, 6475, 8976, 3707, 2999, 7958, 8361, 7065, 2783, 4269, 868, 2641, 6113, 500, 6597, 1209, 9348, 6335, 3453, 4551, 201, 5686, 8935, 3606, 3750, 3622, 1700, 3182, 3551, 3991, 7181, 3176, 7821, 2941, 4757, 5397, 7891, 9057, 6433, 2808, 8139, 7986, 37, 1044, 3393, 8369, 5311, 3241, 8821, 7009, 6805, 6592, 5916, 2165, 7379, 7913, 4780, 2029, 3602, 3485, 1765, 7911, 3457, 432, 6448, 787, 3313, 9075, 1042, 4954, 1988, 9024, 1224, 8077, 6413, 4296, 6043, 6182, 3159, 6522, 3297, 9271, 9977, 841, 3217, 8683, 2264, 1094, 3840, 7941, 3225, 7260, 8761, 10189, 4469, 5413, 3045, 9777, 5426, 8225, 9607, 1799, 4381, 9834, 532, 8863, 3520, 6046, 5600, 4130, 8800, 3539, 3469, 2691, 1353, 9450, 10259, 8724, 3230, 8624, 3026, 4449, 4587, 1303, 3831, 5463, 2551, 9456, 6725, 5814, 3041, 574, 8117, 9997, 8920, 2713, 3038, 6399, 4021, 8439, 9862, 6777, 6698, 8755, 6598, 5993, 305, 9663, 193, 3834, 2948, 7656, 9637, 2692, 6163, 9087, 1269, 5999, 2706, 7931, 10172, 7856, 4306, 6885, 8542, 3373, 4394, 4184, 3665, 7496, 4429, 7452, 7563, 9205, 6240, 8782, 1636, 3675, 3368, 676, 10209, 226, 7109, 2037, 338, 799, 8765, 6305, 3998, 7197, 8451, 6842, 9237, 7746, 3857, 1391, 3242, 7559, 9336, 3325, 5257, 2224, 7174, 5154, 4640, 3057, 6753, 1069, 2089, 4936, 2202, 4771, 5555, 3015, 6699, 7838, 4696, 5464, 2555, 3924, 570, 8936, 6647, 6426, 8002, 5180, 10208, 3009, 8221, 4691, 1591, 713, 5450, 10134, 4163, 7338, 4272, 3751, 3265, 6230, 8443, 148, 4561, 4824, 1590, 2008, 313, 3220, 2598, 10076, 113, 2070, 3822, 9380, 4529, 3779, 2939, 6796, 4616, 79, 8453, 6888, 4436, 6346, 2277, 364, 7928, 4336, 6879, 2044, 525, 10004, 5553, 8457, 10177, 10102, 7782, 8025, 4962, 6444, 10149, 2134, 6891, 3131, 8348, 1699, 1292, 4629, 9793, 10008, 2281, 6326, 8305, 1381, 891, 8894, 2348, 9096, 5023, 2419, 8717, 4302, 8090, 8233, 4094, 4491, 1254, 311, 4239, 2377, 1065, 1486, 9786, 2720, 4969, 5752, 6858, 2097, 8573, 1337, 9608, 6882, 24, 1536, 3183, 8000, 3874, 9042, 9483, 5540, 8020, 8938, 5526, 6065, 3952, 2826, 1344, 9872, 4676, 6170, 5936, 9944, 153, 1975, 8877, 1294, 6439, 9311, 9995, 5069, 3419, 2151, 2887, 8587, 5038, 3024, 5921, 741, 3752, 9019, 7716, 7479, 1163, 3546, 1954, 9265, 5660, 8828, 8075, 6934, 1009, 2272, 5971, 4719, 7411, 3486, 6090, 8594, 672, 7332, 4585, 6849, 60, 4761, 1558, 838, 2253, 1695, 8559, 9939, 1033, 9758, 4177, 6405, 8621, 6241, 7939, 7814, 7313, 1875, 7698, 7625, 3071, 1824, 6894, 7366, 4297, 2584, 1165, 1906, 9473, 9519, 5050, 8680, 1584, 178, 6099, 5667, 898, 7804, 8636, 3671, 7515, 926, 7597, 2832, 8247, 9139, 396, 2777, 7027, 2233, 75, 9643, 9103, 4944, 1421, 9472, 5163, 4869, 8513, 3384, 9512, 887, 9173, 7377, 2093, 2955, 8050, 3441, 8191, 587, 3461, 8668, 5402, 8039, 4106, 8578, 2801, 6634, 3364, 7711, 1271, 5111, 8421, 2477, 6042, 10241, 5240, 3114, 1688, 4323, 1351, 4428, 7134, 2247, 5220, 4324, 6009, 5928, 5276, 9155, 821, 6667, 3785, 8121, 6226, 1518, 1575, 8359, 5595, 7450, 6847, 1264, 3898, 3654, 6082, 8392, 9292, 3664, 4043, 2246, 522, 1808, 9355, 1079, 2896, 6364, 10167, 6724, 2784, 3020, 5633, 10237, 8428, 5042, 1874, 3981, 339, 9954, 5761, 6665, 5113, 7395, 9278, 534, 5281, 4372, 6106, 6676, 2813, 8945, 9550, 7385, 4995, 2320, 3030, 5671, 9783, 1048, 2154, 2711, 809, 2980, 78, 7243, 7296, 7535, 4278, 7309, 5716, 9736, 10064, 6919, 4842, 1544, 3188, 3349, 7792, 8193, 4289, 5503, 9285, 3732, 2683, 9991, 10007, 4066, 2614, 3098, 9576, 7336, 6004, 9755, 3790, 4229, 1638, 965, 8572, 72, 972, 3352, 6655, 2153, 7303, 1696, 919, 194, 773, 786, 6478, 403, 7376, 5149, 7218, 6480, 6048, 7579, 4920, 2290, 8616, 3481, 513, 9560, 2087, 4736, 8836, 8554, 4412, 206, 6211, 2213, 6854, 5821, 9402, 6506, 8823, 3985, 3686, 1453, 2244, 4723, 8162, 3617, 3410, 4976, 4371, 6351, 6866, 6222, 9425, 3116, 1462, 5198, 2457, 8880, 4972, 7920, 7215, 4172, 7015, 7459, 4082, 2480, 7123, 4554, 6747, 8729, 8904, 4452, 731, 7668, 2617, 6238, 5824, 8537, 9535, 6165, 6316, 10221, 6120, 623, 2907, 647, 9218, 7705, 5979, 10113, 6565, 5219, 2035, 9403, 5943, 4516, 9207, 7951, 5582, 4519, 3540, 1464, 4945, 9810, 3307, 5457, 1884, 9534, 7391, 4910, 4742, 9779, 5487, 3345, 7680, 7818, 5255, 1005, 2138, 7372, 5624, 6175, 3592, 6477, 5146, 594, 3808, 3243, 4700, 991, 3888, 284, 4770, 2242, 8038, 3801, 9655, 2537, 3447, 8313, 4201, 7290, 35, 4808, 4242, 4570, 9021, 5676, 7438, 12, 4801, 5309, 7621, 1809, 8021, 241, 8291, 4628, 5718, 7239, 6125, 4506, 5519, 2872, 766, 5316, 9629, 7898, 2758, 5237, 2003, 5846, 4819, 10188, 4038, 7843, 8496, 9503, 6985, 6507, 7441, 8137, 4909, 5906, 8673, 8407, 9697, 137, 3987, 9231, 5029, 3478, 9127, 8070, 5343, 9073, 2915, 767, 7342, 8990, 4751, 31, 4335, 6116, 1578, 7830, 384, 2249, 503, 6746, 5925, 10278, 3714, 2292, 4887, 545, 5473, 9222, 409, 2766, 6629, 9785, 2760, 1220, 9123, 9525, 5988, 9914, 3865, 6774, 6220, 9763, 2507, 4955, 10230, 8253, 8695, 4387, 306, 3282, 1610, 199, 66, 8224, 3210, 7526, 1243, 7122, 3252, 6202, 4012, 5799, 3302, 7282, 1355, 9590, 6270, 9316, 2553, 6899, 6666, 6453, 3536, 2774, 5359, 10050, 1437, 7158, 2814, 8909, 9625, 8590, 7755, 1403, 4083, 4586, 4008, 354, 3089, 9013, 147, 4731, 5924, 2284, 6209, 2156, 6922, 3084, 9584, 2582, 8569, 8957, 6687, 7780, 4120, 7866, 9200, 3359, 10168, 6630, 8477, 3262, 829, 6428, 791, 9623, 913, 7142, 3862, 4779, 3272, 2724, 1779, 9528, 3843, 6776, 1251, 2139, 3332, 8480, 7955, 6534, 2650, 709, 5871, 8440, 9016, 3802, 5470, 4538, 3830, 5327, 6576, 9640, 6417, 8557, 856, 2239, 3573, 9650, 9004, 8777, 2463, 9374, 8037, 6800, 942, 9126, 4188, 3185, 6422, 3922, 9501, 9908, 3943, 1153, 9738, 6816, 7344, 3603, 1083, 6469, 7116, 4065, 6769, 7435, 851, 471, 8159, 2904, 1848, 5440, 3692, 3497, 865, 4118, 464, 6767, 10019, 5938, 4715, 6995, 2723, 9068, 8592, 7447, 9701, 7942, 5461, 8583, 7486, 2920, 8855, 3279, 10170, 9967, 2214, 2442, 273, 7744, 4840, 4814, 8907, 7288, 9289, 5940, 5508, 859, 8794, 3768, 9517, 556, 1602, 757, 1502, 6258, 8467, 8329, 4548, 2373, 3190, 5976, 275, 3911, 6409, 4576, 10075, 1932, 7944, 707, 3452, 4485, 6761, 10217, 3346, 5590, 2576, 2902, 3156, 7244, 353, 9256, 4637, 5532, 4305, 4442, 9685, 3657, 9836, 4768, 858, 6975, 7655, 5242, 4255, 6340, 2464, 3725, 5253, 4978, 8049, 5903, 6292, 9162, 1156, 3900, 5570, 288, 7900, 4689, 3663, 7497, 4799, 5294, 5982, 8170, 3266, 7253, 1024, 527, 2461, 4848, 6516, 4078, 782, 10000, 6376, 2618, 9733, 974, 1748, 4486, 3574, 6079, 2559, 9091, 3788, 2522, 4047, 7858, 6810, 7251, 6931, 959, 3941, 7665, 8250, 5129, 248, 7090, 10123, 460, 7877, 331, 6148, 10059, 6905, 3401, 6827, 8532, 6349, 3046, 3344, 2300, 9591, 7461, 1858, 2282, 9988, 451, 1107, 1418, 2730, 7837, 1733, 5422, 6126, 1274, 6199, 7198, 998, 2210, 8628, 7995, 423, 9350, 6661, 10251, 1797, 3124, 7186, 10161, 1823, 10079, 1299, 6844, 2593, 5708, 5755, 4790, 4901, 5557, 4667, 2402, 8234, 3169, 3958, 2051, 4953, 9774, 7302, 57, 6701, 6646, 2901, 1058, 5957, 3643, 5865, 4355, 9771, 5869, 6313, 5527, 2085, 2364, 8342, 1768, 1956, 7822, 1838, 2088, 2387, 3032, 3341, 5759, 9121, 5284, 628, 4316, 6543, 2647, 8107, 7569, 4926, 8687, 8074, 3923, 4885, 7007, 2880, 9926, 3128, 1326, 1484, 8928, 128, 3148, 7965, 7212, 366, 4812, 8663, 2145, 1341, 5592, 2333, 6104, 10084, 1822, 379, 632, 5061, 4572, 9371, 3653, 2771, 185, 8072, 7314, 3426, 7, 1304, 5250, 7914, 8674, 2161, 1719, 7278, 26, 5375, 2431, 8211, 7351, 9819, 8648, 5202, 4337, 4937, 145, 9130, 4537, 2171, 4668, 9917, 7352, 5626, 1834, 7233, 235, 5486, 2787, 8005, 7492, 4687, 602, 1707, 4856, 1062, 6588, 4207, 4994, 5317, 8202, 5480, 2987, 4785, 6489, 9631, 10114, 6129, 2797, 3947, 8748, 48, 5620, 1322, 1360, 1925, 5308, 3379, 10192, 2715, 4747, 5653, 4963, 9692, 908, 10213, 5594, 3970, 9805, 5211, 7362, 6236, 4149, 8974, 2859, 5631, 5511, 255, 10190, 9871, 2201, 5271, 7553, 1131, 9081, 4147, 7315, 39, 9062, 2357, 986, 5736, 7206, 397, 10142, 4652, 2620, 4059, 2036, 7693, 437, 6373, 8122, 2550, 3086, 9668, 8530, 1339, 6224, 4133, 7863, 6160, 7226, 7631, 8194, 1491, 3598, 4378, 935, 251, 4413, 7815, 5131, 1025, 9875, 5124, 3906, 9003, 9667, 2940, 4883, 1306, 1193, 9469, 5764, 9325, 8138, 5946, 5562, 5981, 7440, 640, 3734, 7000, 1912, 7105, 9018, 5773, 7562, 1903, 6464, 1539, 6754, 3259, 7816, 8009, 4294, 4718, 5496, 3829, 7114, 1881, 7847, 3795, 4866, 6234, 1907, 10176, 5630, 4828, 6688, 5254, 7104, 3703, 9349, 6732, 2806, 7728, 300, 1915, 6941, 344, 3904, 8307, 95, 2804, 5732, 1116, 5900, 7281, 1999, 1186, 2237, 6577, 4550, 4620, 1855, 1485, 1265, 4597, 4443, 7057, 2846, 135, 4973, 8084, 7307, 6526, 9431, 197, 5894, 2045, 9715, 2439, 5092, 3261, 5881, 10132, 4511, 2306, 8789, 10156, 4379, 3221, 2976, 7118, 9642, 7793, 1189, 4852, 9879, 8283, 3762, 2782, 2487, 4932, 4756, 7622, 5645, 8042, 6571, 2773, 3984, 1142, 3863, 1831, 7095, 6672, 1913, 6812, 3815, 10181, 5388, 1309, 8402, 9037, 4341, 2222, 4899, 9587, 3229, 4596, 7753, 4745, 116, 5298, 6260, 7143, 6359, 8527, 10283, 3884, 7537, 7926, 1084, 1140, 324, 6017, 6293, 9615, 6467, 6034, 5432, 7252, 4447, 9475, 3635, 8135, 418, 4890, 8314, 9506, 6038, 5864, 1000, 5852, 5879, 5360, 8239, 4404, 5406, 277, 6791, 673, 8161, 6119, 1586, 8501, 8978, 7361, 10115, 661, 30, 6024, 7873, 8741, 2048, 8893, 8492, 1850, 8268, 9086, 5321, 9644, 5009, 10248, 6523, 9284, 7329, 9390, 3083, 6904, 4450, 8417, 9547, 7938, 136, 7370, 7328, 1535, 2812, 8979, 6771, 10191, 2508, 8058, 6532, 6280, 6801, 9223, 367, 3348, 885, 10166, 2031, 4501, 10017, 9359, 961, 1570, 3611, 5968, 6860, 6953, 9657, 3322, 4868, 5818, 9806, 9047, 7566, 237, 2838, 1196, 5576, 7574, 2739, 5011, 5854, 5465, 4027, 1311, 1573, 4971, 6115, 8768, 3992, 1276, 897, 6615, 6338, 8436, 5374, 7283, 9575, 6183, 1470, 1286, 7485, 7404, 8563, 1698, 788, 537, 2807, 1971, 529, 4132, 3761, 8830, 5031, 5780, 1216, 8210, 7615, 6372, 6005, 2863, 3697, 1821, 5319, 4124, 7712, 8341, 7749, 847, 721, 6173, 4777, 2106, 10200, 8086, 6973, 9552, 1236, 2441, 5963, 8970, 3054, 4427, 3727, 3889, 9500, 9215, 7320, 5847, 9516, 6456, 5591, 1683, 7396, 547, 9280, 6251, 9710, 5399, 5743, 6386, 6638, 3629, 6861, 1398, 8778, 61, 6622, 6977, 2188, 8644, 1480, 9117, 9477, 7493, 2736, 1422, 2967, 10127, 4555, 4049, 4110, 8845, 4917, 5762, 7550, 2981, 1857, 8987, 723, 3319, 2024, 9420, 2528, 1810, 3748, 9194, 293, 5221, 7531, 720, 10045, 4321, 10091, 2141, 9041, 4889, 1749, 2323, 5424, 8475, 7885, 7511, 4879, 6437, 6671, 2601, 5995, 7703, 4216, 7089, 7833, 5634, 8968, 7267, 2778, 7745, 3604, 4626, 442, 2681, 8819, 9924, 3814, 3443, 8143, 6154, 3314, 9883, 6204, 2629, 10025, 546, 10243, 7246, 5087, 9664, 321, 2176, 1040, 4001, 1439, 1456, 6763, 8681, 4800, 8802, 9905, 892, 3566, 3580, 191, 10179, 3561, 3380, 2104, 8040, 4417, 566, 5683, 74, 2125, 2438, 2280, 5702, 7224, 6172, 1647, 8753, 9195, 3852, 77, 1840, 7066, 7192, 1496, 436, 9567, 3466, 8091, 1856, 7722, 6383, 621, 9150, 817, 4259, 2095, 7021, 1663, 7781, 7225, 846, 6213, 1214, 4679, 1798, 8404, 1487, 8265, 1201, 5546, 7468, 9670, 8929, 7034, 7596, 5808, 928, 688, 7717, 7093, 6203, 4179, 4990, 1684, 7200, 8394, 5356, 1278, 4782, 968, 5791, 10039, 6283, 6266, 3066, 8481, 1313, 945, 4816, 617, 6736, 3324, 10274, 8969, 1482, 8030, 6451, 3100, 3232, 4052, 8390, 3012, 4167, 7736, 9144, 3518, 8714, 4697, 2835, 3096, 133, 3189, 2445, 670, 3853, 3868, 2274, 8125, 4351, 8606, 3491, 76, 1853, 9176, 6517, 3538, 735, 9412, 8292, 1782, 2963, 901, 2754, 5681, 7436, 6686, 8961, 4145, 7632, 895, 3269, 7242, 6184, 6348, 1893, 6956, 7269, 6337, 1978, 9921, 2946, 7522, 7836, 1348, 4308, 2388, 2483, 3858, 4562, 2746, 9495, 2301, 4912, 2628, 2473, 2959, 7841, 2060, 5057, 3974, 7948, 7742, 2613, 7659, 5442, 1876, 9045, 6265, 9286, 1747, 1471, 292, 8248, 8494, 624, 283, 10235, 9720, 1519, 5366, 3292, 1053, 4540, 5912, 4802, 2809, 6452, 8491, 567, 4424, 2310, 8218, 737, 10257, 177, 1554, 422, 3847, 2286, 9797, 1648, 5905, 6112, 1949, 2539, 781, 1777, 9451, 8728, 3608, 10093, 3275, 2879, 6851, 10124, 7918, 9157, 1015, 4763, 6867, 2215, 4630, 8316, 1671, 269, 2534, 5883, 2189, 4127, 9634, 3436, 4722, 7556, 8806, 9680, 7542, 8490, 6217, 3844, 5987, 6239, 5856, 5564, 9493, 8727, 6510, 6743, 9333, 2688, 8730, 9502, 1830, 3825, 4621, 3162, 4206, 245, 762, 4193, 747, 2121, 9174, 29, 8820, 2744, 1939, 1400, 8631, 4410, 8876, 3986, 6620, 9108, 6227, 8014, 6081, 1531, 9201, 8835, 8510, 8649, 2403, 6553, 1006, 8999, 5965, 5203, 2493, 4513, 2421, 597, 8315, 7840, 468, 5214, 5241, 9889, 4422, 944, 8952, 8059, 7180, 6862, 4941, 10226, 5306, 5735, 4664, 1737, 4277, 2499, 1127, 10146, 5884, 4846, 9410, 1426, 812, 32, 880, 4533, 1191, 7373, 6432, 8045, 4399, 149, 10219, 5855, 9722, 8657, 1802, 9830, 1741, 4649, 3614, 2027, 1926, 5566, 914, 5567, 3938, 6074, 9189, 3482, 2580, 3699, 3382, 1641, 5749, 7322, 1796, 8119, 5433, 2404, 8326, 3201, 9762, 4344, 5045, 3649, 2341, 1350, 7956, 10216, 2415, 5746, 5135, 8447, 8575, 2988, 2660, 9609, 342, 5714, 8416, 3144, 6215, 2427, 3532, 9727, 5887, 5859, 6159, 2971, 7925, 7921, 4225, 7464, 5140, 8426, 6936, 4805, 3435, 10239, 3146, 4764, 4663, 4734, 3556, 2015, 9281, 9009, 9717, 6380, 9141, 4112, 1654, 3837, 7430, 3910, 8488, 9765, 6117, 4340, 8320, 9546, 4605, 198, 7591, 6303, 3499, 4401, 4176, 6874, 6057, 5400, 7401, 916, 7350, 6366, 5002, 3134, 1291, 7439, 2562, 7971, 3783, 6541, 8993, 2578, 3909, 1744, 5232, 1409, 4298, 9878, 9966, 3278, 4859, 5796, 1669, 4826, 2194, 4121, 4825, 1767, 3111, 2693, 8965, 4350, 10043, 7765, 3662, 3195, 4582, 8576, 2791, 378, 9931, 2223, 751, 1177, 3106, 1929, 2687, 4088, 10040, 2120, 8763, 1982, 9953, 7540, 5536, 7582, 6650, 9888, 3416, 4252, 9659, 10280, 9922, 9387, 3928, 6865, 1459, 6499, 4275, 6608, 256, 1237, 7130, 1740, 568, 7157, 5964, 5657, 10083, 1739, 6804, 7202, 8378, 8772, 6626, 3570, 6636, 8862, 5381, 373, 1241, 7820, 8605, 2340, 8054, 595, 1395, 4418, 119, 3158, 218, 4833, 6663, 5431, 780, 9187, 1826, 4367, 4503, 8463, 9594, 9343, 8521, 3803, 7662, 3677, 6898, 7386, 6606, 6886, 8182, 6811, 8252, 5234, 4502, 2799, 9143, 465, 3770, 5984, 9347, 5040, 1052, 7170, 9745, 4685, 6595, 8082, 4967, 1624, 56, 4042, 1386, 9014, 4196, 1392, 9985, 4515, 5493, 1404, 1374, 2731, 5236, 5550, 1067, 790, 4863, 5787, 8966, 7159, 6627, 7893, 7524, 5505, 6979, 4711, 2589, 2714, 8324, 7710, 9474, 9741, 3839, 4862, 7356, 2549, 1710, 5256, 9694, 7319, 1172, 3257, 4505, 9866, 6935, 5414, 5507, 510, 1778, 6818, 1221, 4877, 3679, 3575, 3329, 6447, 4453, 1064, 1246, 7091, 6130, 9674, 10097, 3202, 9308, 736, 689, 2699, 2520, 4069, 4614, 2662, 10074, 1752, 1841, 7602, 6504, 9197, 4473, 3303, 7405, 2729, 7216, 3258, 6927, 16, 1980, 5901, 9509, 5274, 8142, 1090, 4014, 8097, 7024, 4499, 6803, 5137, 3558, 6505, 6027, 372, 1569, 10240, 1106, 1986, 4056, 4871, 680, 7125, 4291, 9049, 702, 5797, 9945, 491, 3886, 3877, 8953, 9186, 7171, 2, 2639, 5722, 2930, 1468, 1839, 7381, 2195, 9167, 7287, 184, 8682, 9323, 6398, 9036, 5346, 6613, 6087, 1308, 8272, 6396, 6102, 7475, 8517, 820, 3918, 8610, 4237, 3087, 3563, 1646, 9673, 9335, 6548, 3711, 6001, 9965, 850, 400, 3759, 4364, 5615, 6061, 9427, 9039, 981, 5176, 9063, 3890, 7798, 4456, 7014, 8442, 8212, 7482, 8372, 4226, 8181, 247, 5376, 6296, 1228, 7005, 10228, 5230, 7789, 5811, 2363, 2975, 4425, 2652, 6970, 44, 211, 6887, 376, 5499, 9074, 7285, 1723, 9795, 6020, 2968, 6567, 682, 7984, 7270, 4558, 7761, 9023, 1307, 663, 3479, 1883, 4353, 6397, 10, 456, 7312, 999, 3044, 2042, 6176, 666, 98, 2503, 1425, 616, 5644, 2992, 2072, 5992, 4463, 6684, 8795, 3628, 733, 5322, 8523, 564, 7432, 8774, 7997, 5024, 842, 8536, 1281, 6745, 4157, 1632, 3951, 2094, 9356, 9080, 4564, 9394, 905, 837, 9978, 3742, 3869, 9467, 5827, 7835, 5784, 1935, 5027, 6652, 1963, 8371, 1100, 3915, 5941, 5623, 4358, 363, 4882, 2416, 9432, 2990, 8012, 8345, 2640, 4748, 2843, 115, 5134, 6010, 7410, 1743, 7907, 5238, 4152, 1860, 9149, 3642, 2548, 8362, 4153, 5105, 825, 8868, 9131, 1992, 1592, 9012, 9428, 5707, 4878, 5636, 6091, 2525, 8853, 4983, 9416, 1918, 2834, 6976, 7318, 8703, 439, 1277, 1897, 2009, 7872, 3995, 2390, 8900, 8174, 2605, 4725, 4489, 3090, 2623, 5598, 1227, 746, 8512, 7166, 5809, 9463, 6990, 9422, 6269, 6982, 2147, 5419, 4238, 5076, 9956, 772, 4521, 3927, 8505, 5016, 6476, 6959, 2400, 1369, 7957, 9177, 7670, 924, 4549, 6690, 3745, 8723, 9430, 7860, 6657, 2231, 3591, 8335, 2810, 2654, 421, 483, 5731, 4517, 2033, 5320, 2734, 6910, 3609, 2026, 4327, 6424, 6068, 5878, 2916, 8449, 6768, 1363, 9251, 4022, 5018, 4067, 6353, 4886, 7214, 7209, 3093, 8921, 5165, 2567, 369, 1597, 5324, 9166, 8024, 322, 8068, 8756, 2170, 6568, 1364, 2269, 2677, 2374, 9775, 8841, 1585, 8016, 4131, 8395, 2018, 5541, 10242, 7738, 8747, 10253, 2694, 4923, 9737, 4767, 565, 7139, 239, 596, 5534, 1390, 9672, 140, 7794, 3590, 22, 8493, 8901, 5246, 2717, 163, 810, 6591, 3458, 1576, 6098, 615, 6371, 6581, 2113, 3799, 2318, 5873, 5741, 1204, 2928, 6836, 1879, 1689, 258, 1157, 6920, 9682, 2080, 8973, 5932, 4838, 5091, 6156, 4788, 4080, 3559, 7976, 655, 3414, 909, 3919, 8890, 6831, 7247, 5342, 9877, 4214, 4190, 3011, 5482, 4476, 5270, 8619, 2443, 3773, 5157, 7262, 5153, 10028, 2616, 8871, 4934, 6482, 4128, 4662, 502, 2845, 1788, 4905, 9887, 6656, 6287, 6787, 3139, 6228, 2947, 5699, 4492, 9098, 7791, 6809, 2953, 8930, 2819, 1849, 1375, 7902, 7979, 7702, 4432, 590, 179, 9844, 4317, 1706, 2350, 4388, 9619, 9458, 2977, 7806, 662, 5310, 9399, 8474, 3696, 8817, 312, 278, 5169, 7068, 7433, 1450, 9026, 6832, 8141, 3404, 7292, 7046, 8317, 1685, 2514, 2110, 8495, 7140, 5353, 9683, 9901, 3350, 3882, 2458, 6996, 7275, 1416, 302, 6216, 5862, 10011, 6605, 1026, 9017, 5647, 2748, 499, 5088, 4531, 2957, 9687, 3052, 5080, 3141, 1181, 2895, 118, 4304, 8898, 9549, 1771, 2192, 9770, 8850, 7311, 8937, 7758, 6075, 5888, 2490, 5662, 6974, 3300, 8356, 10096, 8441, 6951, 50, 6336, 8448, 1622, 3894, 8140, 4845, 8116, 7023, 2800, 7618, 9691, 7108, 920, 2964, 2611, 9448, 4837, 3123, 4230, 5537, 10148, 3583, 585, 6954, 890, 3082, 3736, 4598, 9090, 7085, 1759, 8132, 5593, 8963, 9261, 1630, 3284, 3755, 7156, 6734, 6500, 9781, 9986, 1595, 6780, 8696, 9283, 2041, 1593, 138, 9243, 1358, 7273, 5292, 10126, 6890, 9273, 1612, 3289, 8487, 6443, 1458, 1603, 3741, 9408, 3501, 4181, 1188, 6339, 9647, 9035, 5148, 9106, 4254, 10186, 4670, 6169, 1013, 5500, 5724, 7963, 531, 8948, 4182, 9419, 6749, 6086, 1766, 1920, 3351, 6455, 393, 10207, 7583, 8309, 6570, 5410, 7972, 6011, 3625, 1582, 3385, 4295, 5790, 5665, 5291, 8653, 9656, 4996, 5331, 1115, 9059, 3716, 4789, 2506, 4481, 7184, 5849, 5361, 10138, 1889, 7630, 6830, 1714, 899, 582, 1828, 8684, 9193, 3206, 1725, 646, 8322, 7826, 952, 6682, 6018, 7767, 983, 2077, 1583, 4068, 7183, 4204, 6187, 6328, 4040, 8321, 8749, 5325, 7601, 146, 9813, 644, 8454, 6014, 2993, 9652, 7257, 3929, 3160, 4573, 8424, 2207, 1512, 10044, 5059, 1056, 8270, 6441, 8983, 9553, 5126, 8908, 3510, 10159, 4853, 808, 6572, 3224, 5032, 9851, 9719, 3804, 8228, 4669, 1268, 9782, 4907, 4102, 5446, 9164, 272, 7358, 3701, 5386, 9154, 3674, 5407, 807, 8947, 8959, 3072, 3446, 2116, 380, 1331, 2243, 6257, 7851, 1207, 399, 7718, 6356, 8353, 2500, 7889, 8419, 8525, 4251, 4636, 6944, 5204, 2111, 3975, 8381, 1680, 8881, 641, 7508, 9507, 2759, 6640, 5923, 2905, 6416, 5168, 5886, 3579, 1742, 8584, 5428, 9439, 7610, 5115, 1112, 2952, 3040, 5523, 4651, 1077, 3133, 8365, 7168, 8860, 2261, 3432, 700, 7039, 9305, 4044, 8635, 10256, 2607, 7940, 5020, 5248, 1735, 8914, 5014, 1043, 7803, 2919, 5047, 3589, 4935, 5123, 2337, 7845, 5558, 8613, 1305, 5609, 4441, 5466, 4949, 10238, 7059, 1520, 656, 5390, 8223, 4221, 4523, 5074, 2203, 8203, 2898, 7504, 2648, 4872, 2344, 9807, 8263, 3142, 5956, 6161, 3130, 7074, 5062, 2695, 7348, 10094, 7609, 9076, 1178, 9291, 5373, 10031, 9693, 8846, 249, 793, 9999, 1080, 375, 8659, 9376, 3722, 6895, 1137, 4158, 9199, 3966, 2316, 3794, 5783, 8087, 8069, 2837, 6939, 8267, 4063, 4484, 1882, 309, 9100, 7709, 4268, 11, 6611, 4307, 3719, 3875, 5641, 8520, 4986, 1692, 7087, 7151, 10105, 10265, 1574, 635, 2424, 6550, 7832, 4479, 157, 1508, 2486, 7681, 7056, 5335, 5408, 9975, 2563, 9511, 4985, 6465, 5616, 5384, 6648, 5438, 3356, 9159, 2665, 3263, 190, 4023, 2564, 9675, 9002, 5005, 5277, 10295, 9829, 2970, 9381, 734, 9109, 6071, 4939, 2332, 2861, 4577, 9981, 6631, 6225, 9773, 4998, 4650, 714, 9228, 1164, 5605, 7800, 5911, 6247, 461, 3763, 6140, 2932, 4690, 9180, 2250, 5272, 2518, 9102, 9533, 3916, 971, 1901, 5820, 2122, 650, 5937, 6718, 5491, 8688, 6870, 4657, 7353, 7349, 9030, 3887, 8176, 6196, 1921, 2370, 3092, 228, 414, 8693, 2063, 3948, 5056, 7248, 8731, 7400, 327, 10098, 8169, 1750, 10140, 3405, 658, 2362, 4090, 7018, 4389, 3238, 7576, 8288, 711, 7194, 1134, 8769, 3982, 7164, 1694, 2303, 3377, 1533, 4659, 1091, 7612, 8689, 9890, 2289, 9299, 7310, 520, 2294, 398, 7538, 7796, 3506, 2579, 7514, 9898, 1973, 2079, 4091, 3271, 5863, 1606, 9993, 2722, 3308, 2293, 993, 3445, 6814, 1581, 5000, 4006, 2271, 1330, 8327, 9928, 5429, 4057, 8290, 8478, 5489, 25, 9824, 1995, 671, 370, 1051, 1693, 4362, 5768, 5835, 5443, 8041, 732, 6342, 7545, 7264, 611, 921, 262, 651, 7517, 7691, 9946, 3594, 9210, 6459, 9272, 2707, 2545, 6491, 5199, 2515, 7119, 10112, 4918, 2399, 3372, 9246, 80, 1607, 9378, 5933, 1110, 2862, 3630, 9523, 8102, 10231, 4402, 5474, 6438, 2459, 2150, 5720, 59, 6554, 3954, 7969, 5690, 6918, 978, 5355, 6231, 7491, 3797, 963, 7784, 7802, 1148, 1501, 9147, 5552, 9902, 1540, 8118, 1334, 4215, 2914, 5052, 2894, 3993, 3632, 1198, 3151, 1961, 1712, 1947, 8300, 2554, 8735, 10223, 8522, 7701, 10085, 6962, 6446, 5372, 5030, 1924, 2529, 7756, 774, 4431, 7335, 7153, 526, 4257, 5931, 2436, 5970, 802, 1758, 3334, 5275, 2844, 6180, 8349, 4922, 4375, 6942, 6052, 2552, 9487, 9726, 9868, 6142, 3512, 6343, 167, 8634, 7227, 6829, 260, 2148, 951, 5678, 6871, 1389, 286, 7011, 6147, 2226, 5019, 281, 4929, 6923, 7330, 9088, 9494, 704, 7532, 1469, 697, 9254, 5654, 2684, 8645, 5977, 9841, 4185, 3854, 3708, 3203, 2668, 4162, 3824, 6998, 10081, 2075, 7529, 7917, 9938, 9521, 8289, 8665, 318, 4224, 7092, 1128, 4400, 6430, 3967, 5607, 5569, 5483, 9429, 4611, 5774, 8551, 1016, 8144, 3757, 6748, 754, 3338, 8544, 3253, 6925, 2560, 6088, 8655, 8310, 7906, 6053, 161, 9974, 9107, 144, 9951, 8073, 3700, 9191, 1672, 6501, 3471, 10185, 4928, 2659, 8919, 6101, 122, 4766, 3615, 9970, 6930, 869, 3735, 1076, 1466, 9759, 9849, 2065, 1410, 5273, 1941, 7326, 2732, 8472, 3673, 6730, 5649, 3091, 7196, 3149, 7516, 3034, 761, 7032, 2874, 4594, 2129, 8586, 5861, 9171, 225, 5772, 8848, 10033, 9459, 9043, 7660, 6279, 7849, 5572, 6036, 9320, 314, 1909, 3006, 6711, 4139, 2998, 2073, 6913, 3291, 3917, 3669, 10255, 1934, 4451, 7172, 8912, 8679, 8350, 3511, 160, 6969, 9833, 9400, 937, 1509, 4095, 5891, 10212, 1223, 4303, 1200, 6162, 4026, 6928, 5283, 9520, 8722, 7870, 7854, 5950, 3798, 8567, 627, 9941, 6259, 5209, 8598, 2164, 3488, 2197, 9919, 9259, 3908, 8377, 2488, 9527, 1028, 8545, 10092, 9454, 10052, 1197, 2385, 1447, 2676, 1034, 1365, 2186, 2906, 3247, 1616, 265, 9113, 523, 3618, 7268, 3029, 1054, 5506, 5875, 1736, 3004, 3411, 542, 6281, 4943, 10184, 8165, 7259, 3235, 4813, 7052, 2130, 5556, 10111, 8934, 7245, 10125, 4235, 2847, 3523, 1514, 2346, 8918, 7586, 2365, 1722, 1711, 477, 7777, 6274, 5877, 3018, 6408, 1864, 6322, 10054, 3140, 1675, 1310, 3988, 8518, 431, 4039, 515, 4016, 3318, 9224, 3400, 5727, 3467, 6345, 4438, 9665, 3390, 9554, 2236, 8222, 6151, 2020, 252, 3117, 3129, 619, 4834, 3694, 6502, 8720, 6268, 2263, 5525, 3789, 9230, 6388, 6513, 3101, 2511, 3796, 250, 9641, 5263, 5573, 8405, 276, 4345, 7393, 7924, 4535, 87, 8382, 5531, 6378, 5037, 1773, 1983, 7919, 8924, 3507, 1618, 5048, 4300, 9274, 7276, 8632, 1253, 7317, 6530, 5830, 8033, 1011, 2100, 9838, 3058, 9219, 7539, 917, 7672, 1760, 7341, 5688, 5453, 8533, 581, 7686, 9413, 2933, 6200, 401, 1108, 5471, 6654, 5816, 6893, 6291, 9804, 9326, 1643, 9606, 748, 9596, 8757, 6325, 1259, 1753, 843, 4390, 7887, 4993, 8506, 3113, 6603, 7910, 3678, 9363, 6449, 7915, 5193, 1082, 3127, 2163, 8363, 9971, 9353, 7325, 5116, 3211, 7402, 1397, 1609, 2673, 7555, 7025, 4695, 2885, 7193, 1628, 9309, 2633, 2396, 6635, 7861, 5509, 1504, 2923, 7115, 6596, 1727, 4325, 5613, 2383, 1776, 7154, 4180, 264, 3738, 2028, 5726, 3950, 334, 9636, 8623, 2656, 7161, 2951, 316, 2749, 7895, 5893, 5706, 9360, 8956, 487, 2078, 4111, 4701, 7489, 5333, 5022, 170, 9033, 4346, 4248, 9409, 4595, 9980, 8612, 7445, 4908, 3112, 3816, 9051, 5898, 7585, 8357, 5960, 1977, 7374, 5692, 7291, 4089, 3717, 3173, 8547, 1510, 9340, 5839, 9518, 3465, 4020, 7444, 4787, 9392, 5748, 1720, 6479, 2513, 1521, 4510, 3147, 8627, 7179, 1474, 2833, 8739, 5578, 3213, 8561, 6425, 1979, 7051, 1563, 3294, 3051, 2592, 2168, 10020, 660, 3157, 6632, 7521, 3646, 3505, 962, 1820, 2353, 8256, 5389, 7016, 2850, 227, 10206, 870, 2157, 2460, 4260, 8412, 214, 7316, 7394, 3204, 4615, 3680, 9151, 3850, 3934, 3691, 3277, 2098, 4817, 5549, 2574, 8566, 10201, 6778, 9572, 6481, 6773, 8667, 10015, 4658, 234, 5484, 9104, 9241, 7509, 1414, 9529, 5249, 8771, 1030, 130, 1017, 3805, 4857, 698, 84, 6285, 7945, 614, 7069, 5711, 9482, 5122, 6700, 111, 1050, 6307, 694, 5843, 7864, 8498, 4276, 3184, 9912, 7096, 8060, 5067, 8255, 5008, 5497, 7731, 2426, 840, 4228, 1811, 10088, 563, 9548, 1667, 2450, 5172, 4166, 4220, 10147, 4328, 4786, 7013, 10198, 10003, 1049, 1731, 7572, 9460, 6021, 4820, 7875, 3753, 3462, 7567, 6177, 552, 1653, 8386, 3480, 4013, 9209, 10273, 497, 9465, 4407, 3612, 4589, 9592, 2096, 6302, 8891, 6582, 915, 6514, 496, 4915, 350, 8878, 1454, 8332, 9845, 6286, 2603, 3122, 10071, 9239, 5330, 9341, 458, 2666, 4288, 3963, 6419, 8897, 1814, 8942, 2092, 1898, 6264, 3333, 2462, 555, 2270, 6150, 4458, 3273, 8149, 8171, 7254, 3706, 6485, 8596, 9630, 2911, 8346, 9414, 8274, 3298, 7771, 7472, 2086, 7327, 9094, 4717, 9907, 7565, 4807, 8718, 8785, 3597, 6002, 8425, 5751, 4760, 4430, 6790, 789, 10021, 7844, 9435, 2860, 6669, 4525, 7067, 3897, 6324, 2205, 659, 9437, 10180, 1657, 2225, 2034, 9046, 412, 8666, 1944, 1301, 553, 1041, 9654, 6309, 7896, 6740, 8614, 4647, 8344, 5596, 2831, 7890, 7398, 10218, 9585, 3599, 8465, 7429, 9536, 4606, 8115, 7985, 4698, 10034, 6344, 5889, 1757, 10294, 7978, 2908, 3216, 3672, 1431, 8710, 7766, 2954, 7908, 2634, 5326, 2608, 1467, 8146, 8145, 3311, 9373, 9646, 1827, 6834, 3115, 8093, 9579, 6354, 10053, 2240, 7952, 8217, 1902, 7788, 10001, 3771, 3667, 10194, 8437, 5435, 5218, 3105, 10254, 4608, 8172, 9211, 1564, 2030, 5142, 9532, 8609, 9020, 9860, 4741, 7072, 2509, 1289, 3821, 4710, 8104, 562, 7442, 1098, 10095, 2455, 5094, 6637, 940, 5398, 7812, 8816, 4061, 2266, 3473, 9158, 83, 268, 5174, 1217, 8003, 5393, 5138, 9996, 9354, 4708, 9588, 8230, 5161, 2351, 3545, 5090, 7799, 6450, 540, 2986, 209, 1951, 4205, 453, 7865, 3666, 212, 3715, 5167, 7795, 171, 3784, 9940, 1862, 1354, 3374, 3713, 8325, 5575, 4947, 2052, 3522, 1406, 912, 6917, 1101, 9611, 990, 2675, 7228, 8946, 3800, 9478, 3733, 5441, 8302, 1022, 2757, 848, 5868, 2606, 5618, 7595, 861, 8, 5857, 6470, 8389, 450, 10292, 7819, 289, 9734, 9318, 2291, 2380, 1152, 10150, 99, 5323, 3777, 5629, 10038, 8502, 7614, 5524, 9677, 687, 864, 6838, 4861, 8195, 8883, 10090, 4290, 6997, 3430, 763, 8180, 485, 120, 2010, 675, 995, 3494, 638, 5754, 1372, 5910, 8790, 9543, 2776, 4285, 4271, 244, 1205, 6030, 6958, 4060, 6706, 6306, 9551, 1835, 948, 5804, 1794, 2630, 2410, 4578, 3234, 8499, 9880, 8562, 8585, 1280, 5635, 498, 8023, 5745, 9846, 2467, 7561, 270, 3388, 1473, 1240, 2208, 131, 9296, 1661, 4730, 7729, 3955, 3459, 1020, 9827, 3001, 5467, 3817, 1401, 832, 9288, 6492, 6978, 4, 4482, 2780, 6545, 5226, 5529, 2910, 1613, 8151, 8732, 9602, 5646, 343, 1847, 1262, 9393, 5077, 2359, 5589, 6881, 192, 6006, 5991, 7305, 2983, 9595, 475, 3726, 7779, 2190, 8101, 8524, 5117, 3125, 877, 4974, 1413, 4803, 3782, 377, 4051, 267, 40, 7653, 8333, 2257, 8872, 4322, 8154, 4557, 5162, 987, 10220, 6509, 586, 9760, 6825, 7055, 9578, 8397, 8859, 2055, 8902, 5392, 6190, 8604, 8156, 8231, 7770, 2632, 7879, 931, 6900, 7876, 1715, 5800, 1565, 4085, 8063, 8998, 106, 792, 8766, 610, 10211, 9709, 1071, 4575, 9959, 1764, 152, 7368, 844, 347, 1218, 1524, 1843, 5763, 6675, 8242, 6350, 5120, 3150, 9556, 9801, 4746, 6673, 8052, 8166, 6988, 3370, 8721, 7457, 121, 2444, 2828, 3791, 3043, 8130, 2393, 7764, 279, 9499, 4445, 4832, 2101, 9787, 392, 1726, 7002, 5677, 7031, 3394, 4617, 9558, 2061, 10035, 3876, 4210, 5655, 6549, 2381, 6360, 3237, 3048, 686, 2347, 9661, 3502, 3119, 2081, 6691, 1019, 9559, 8013, 4565, 6853, 551, 8301, 9298, 5832, 2360, 1075, 1475, 823, 4809, 1318, 9407, 6329, 6883, 10086, 4769, 6839, 4644, 7675, 6868, 4552, 151, 8401, 6315, 2785, 10227, 8257, 3764, 9666, 2339, 6896, 9718, 2985, 6697, 2944, 88, 5585, 5650, 2304, 9730, 8444, 7141, 521, 7182, 2557, 3205, 1380, 6192, 6249, 4619, 6618, 2216, 8486, 5026, 9038, 5071, 6084, 4643, 8804, 9135, 5643, 8004, 4386, 3187, 1147, 7211, 1724, 3164, 1870, 7380, 3527, 490, 5351, 5043, 9920, 2144, 3623, 5513, 3136, 7064, 5996, 1252, 5876, 7136, 2049, 969, 8431, 2991, 9188, 8450, 8484, 5848, 3983, 2481, 6876, 1087, 8466, 9784, 9662, 7121, 7857, 335, 5989, 4444, 6124, 7987, 8986, 10139, 5302, 6912, 10110, 4665, 6875, 9405, 10291, 1899, 6807, 7062, 3605, 6945, 4980, 7513, 2335, 6044, 871, 2663, 1987, 3695, 6232, 1854, 7828, 10252, 2219, 8111, 2918, 1555, 9778, 3658, 2869, 7634, 9764, 7554, 5456, 6494, 3851, 5948, 2719, 8940, 2704, 6848, 7581, 9599, 6943, 949, 2057, 9190, 1800, 223, 5328, 716, 7295, 8312, 3879, 5036, 52, 4360, 1964, 8801, 6901, 1432, 8678, 1905, 7029, 1118, 6660, 2166, 8338, 3872, 4590, 1534, 2254, 7112, 5492, 4098, 8296, 1551, 1171, 7129, 7988, 5740, 8352, 7657, 287, 175, 2451, 340, 8885, 2102, 5584, 5150, 9125, 560, 7040, 5412, 9728, 10136, 2498, 4728, 3155, 6153, 3560, 7927, 3315, 7570, 434, 2978, 3543, 9302, 6093, 7286, 6515, 7611, 10082, 7428, 3687, 5606, 6314, 2962, 7505, 1937, 4930, 3343, 2741, 3542, 2544, 3357, 888, 1933, 958, 3946, 2053, 1073, 9789, 9622, 7487, 4330, 7135, 4019, 2779, 5587, 8839, 7390, 7810, 7199, 4174, 5128, 290, 8698, 7922, 6685, 4858, 6056, 9562, 669, 5897, 2751, 5409, 4891, 4592, 7237, 5258, 8098, 4959, 8032, 8163, 6573, 988, 4924, 3425, 9391, 2067, 6107, 0, 3420, 9329, 8805, 7241, 3137, 1955, 6273, 3417, 6331, 2447, 3509, 6651, 6733, 6758, 462, 3826, 7881, 10199, 3017, 6400, 9895, 438, 3448, 7977, 1522, 2345, 7463, 13, 274, 1579, 166, 1634, 5106, 3398, 6355, 5197, 668, 4104, 4997, 10135, 5130, 6100, 6555, 1713, 8207, 9891, 3440, 8626, 5287, 1529, 6282, 4504, 1060, 1102, 1503, 9423, 5175, 4810, 20, 4189, 5192, 7937, 1567, 1772, 6387, 9809, 6310, 9989, 1047, 1825, 1143, 9310, 2206, 2302, 6318, 341, 3684, 1896, 8220, 4579, 10246, 9124, 1316, 8459, 4168, 833, 6103, 3244, 2510, 15, 4062, 5293, 839, 1662, 8470, 9695, 1384, 4169, 2375, 3620, 6321, 2124, 8618, 4141, 323, 2056, 8972, 3902, 4256, 8464, 8261, 1099, 86, 3475, 4459, 8229, 6223, 9295, 9129, 771, 6369, 1321, 308, 3367, 1202, 9823, 1640, 5479, 4002, 9184, 4703, 2966, 9145, 5512, 7191, 3456, 9313, 3180, 7345, 9899, 7476, 4580, 5145, 3138, 2199, 4645, 8022, 8672, 6418, 1911, 1891, 8026, 3549, 1922, 5143, 3250, 1273, 3286, 7308, 7131, 1746, 1541, 8944, 9885, 6094, 6759, 8581, 5112, 9753, 4461, 6300, 9686, 5084, 4070, 1976, 6047, 5973, 637, 3007, 7145, 4478, 9751, 6587, 2064, 9445, 6357, 2218, 2542, 6486, 70, 4122, 1010, 1144, 362, 7664, 1560, 1393, 7480, 5072, 8671, 9489, 8933, 956, 9723, 7048, 10262, 7232, 6145, 1490, 6600, 2299, 4627, 1356, 8308, 1548, 5831, 8105, 5765, 7080, 6519, 1631, 9660, 800, 7824, 9290, 2649, 5947, 4527, 5530, 2221, 2753, 6937, 7768, 6136, 8340, 2143, 573, 6463, 7203, 5405, 2942, 7279, 9749, 4942, 4329, 240, 2701, 4096, 7473, 2854, 1279, 5986, 4457, 7256, 5216, 4797, 27, 7620, 5935, 9053, 2664, 3095, 6558, 5985, 8471, 10244, 7797, 6026, 7037, 97, 3288, 3553, 8262, 5628, 3772, 4227, 10182, 1756, 4292, 10169, 9962, 7827, 9133, 4374, 3723, 1182, 9198, 8697, 6244, 826, 6786, 5599, 4675, 579, 6828, 2619, 580, 6128, 6070, 3422, 6016, 8608, 5810, 4347, 8271, 7884, 391, 4035, 7547, 1880, 3168, 8027, 2182, 3651, 3408, 6370, 6731, 9082, 5959, 8686, 4672, 5222, 1690, 7536, 5757, 9848, 7588, 7088, 6574, 467, 9457, 310, 3640, 7113, 4607, 3578, 1895, 2913, 8776, 1869, 5975, 4343, 6704, 8420, 8601, 2407, 7855, 4150, 1105, 6779, 7998, 6440, 6095, 3369, 3845, 3476, 9442, 10234, 4514, 6642, 3276, 9936, 2651, 9649, 7500, 9835, 7649, 1055, 3163, 2311, 8746, 2742, 10144, 8842, 2840, 3360, 8275, 7651, 68, 5632, 9984, 7904, 2594, 3463, 3362, 2892, 9084, 7775, 1032, 9138, 4079, 3931, 8414, 9545, 165, 7399, 8889, 2572, 2406, 7033, 9761, 9802, 3899, 9815, 9377, 7006, 6737, 5118, 4798, 9621, 219, 1703, 5269, 8007, 3547, 3008, 6616, 9706, 4671, 3483, 2726, 5769, 588, 5337, 9093, 3648, 101, 4380, 4524, 19, 5867, 5352, 2000, 389, 2107, 3003, 10130, 8178, 9301, 254, 4897, 6813, 6205, 5742, 7458, 4925, 7054, 7641, 1483, 222, 2149, 816, 3078, 3739, 8949, 8925, 2935, 6668, 6742, 6929, 4183, 1528, 3979, 5347, 2146, 2789, 7236, 4250, 2397, 7434, 994, 7964, 1571, 6852, 6407, 110, 112, 7340, 3724, 9449, 1865, 8840, 8770, 2868, 7354, 1104, 7478, 82, 3340, 2653, 8745, 5314, 1335, 2366, 6963, 9379, 8277, 8546, 2021, 8564, 8387, 6072, 1222, 3544, 9384, 5958, 4045, 3495, 164, 7658, 9865, 5103, 71, 7573, 426, 6837, 6174, 6757, 6855, 2476, 934, 3626, 8633, 7518, 4093, 4348, 5434, 4313, 3903, 6914, 9444, 8516, 1445, 3811, 2803, 550, 6256, 889, 4743, 6495, 8857, 1996, 2259, 768, 8065, 4874, 6601, 8570, 717, 3848, 1427, 9406, 2811, 5907, 1438, 1295, 9859, 5919, 1968, 2135, 6012, 8826, 9264, 7030, 8438, 3355, 452, 1969, 4156, 1505, 569, 6639, 1629, 7813, 9146, 6658, 6980, 2830, 10006, 6250, 10068, 1598, 4114, 7289, 783, 7094, 8997, 9092, 5110, 9632, 7740, 3860, 1974, 9112, 2597, 8113, 3433, 8278, 2890, 2743, 538, 7966, 6414, 319, 5792, 5836, 9648, 124, 8433, 326, 3460, 10247, 5739, 7263, 9752, 6798, 2137, 8201, 4054, 9269, 9618, 5806, 187, 2848, 4791, 1769, 7608, 1686, 2372, 9268, 5766, 3065, 9282, 114, 7221, 9005, 1402, 6289, 4310, 929, 8114, 3765, 6073, 699, 3973, 7028, 2123, 6198, 7111, 6496, 2395, 8455, 3526, 2661, 6792, 6889, 7639, 4532, 8888, 3709, 3786, 9181, 3939, 1701, 6191, 10145, 2478, 174, 9979, 8051, 3415, 3062, 5966, 3933, 10062, 5188, 801, 9961, 4391, 8985, 9468, 2491, 578, 3063, 5297, 5085, 6365, 3053, 1346, 4072, 10051, 2317, 3557, 1589, 6040, 1288, 631, 4490, 8160, 5781, 7950, 7735, 282, 2133, 2321, 6602, 743, 3363, 9913, 4716, 5295, 6171, 5583, 2119, 6277, 10087, 5895, 822, 9175, 7416, 4737, 6031, 7769, 6206, 2530, 5340, 722, 2523, 8915, 4750, 6421, 1627, 622, 1716, 89, 6237, 8044, 2059, 4724, 4464, 7635, 3554, 9605, 749, 8456, 3121, 7431, 2839, 1619, 7636, 2788, 9780, 9314, 4987, 3586, 4194, 9570, 317, 6643, 878, 4968, 7805, 6696, 2349, 6069, 4705, 2392, 1998, 9056, 2391, 7506, 9148, 5279, 1806, 576, 2516, 9263, 6821, 6122, 5013, 2565, 3310, 4115, 4236, 5159, 6109, 9653, 3299, 4173, 2755, 3990, 10204, 3856, 7912, 6019, 8926, 5200, 3464, 8884, 4134, 2071, 9293, 3766, 10078, 764, 3392, 6518, 425, 2413, 4084, 9598, 6108, 8391, 7001, 8787, 1151, 5215, 6932, 7667, 7734, 3306, 4032, 4753, 9831, 10160, 795, 406, 1297, 7249, 8622, 1046, 8646, 943, 8112, 3861, 9515, 3721, 6498, 8403, 3747, 2884, 10117, 1068, 6797, 8759, 10073, 4199, 3688, 45, 10279, 7124, 5166, 6468, 1492, 2790, 4395, 760, 4979, 6391, 692, 7460, 6681, 6968, 4704, 7946, 9327, 7992, 9776, 6462, 8336, 3624, 3109, 7044, 3059, 2142, 8713, 745, 6607, 6992, 7219, 5501, 4487, 7883, 7533, 1985, 2767, 8529, 6808, 1072, 4970, 4854, 3647, 4830, 315, 10027, 583, 5908, 3775, 5377, 665, 7152, 1132, 4426, 6536, 4781, 2025, 8932, 7086, 4870, 1145, 1938, 9077, 2343, 8280, 7666, 6214, 3191, 47, 7981, 2017, 6374, 10056, 4467, 8539, 1997, 6964, 4024, 1923, 3389, 4593, 6308, 2886, 6503, 6562, 1411, 1423, 8874, 8818, 4393, 8482, 9048, 2355, 1333, 7100, 950, 7786, 10202, 2472, 6760, 2881, 4396, 107, 2132, 7897, 4247, 2432, 6041, 4264, 1420, 6185, 4053, 2524, 2287, 173, 8758, 3866, 3472, 8034, 4192, 9032, 5133, 4064, 3607, 2267, 9873, 8548, 6689, 1621, 297, 5231, 8579, 5341, 4559, 5368, 9798, 9964, 427, 3396, 9983, 2248, 8186, 8435, 7713, 10157, 6155, 3423, 3027, 8954, 2873, 4213, 7600, 4992, 2733, 7741, 9812, 8196, 5844, 9337, 8939, 9982, 2586, 3366, 642, 528, 4209, 3016, 2155, 2046, 894, 4775, 5779, 10116, 2279, 3025, 5468, 4408, 9679, 7178, 6817, 4688, 8100, 2312, 9172, 9120, 5259, 1290, 9541, 7894, 5416, 4178, 5282, 2536, 440, 2212, 9969, 1315, 8461, 5107, 6820, 448, 9861, 7274, 893, 8896, 957, 1679, 1436, 3013, 6473, 5588, 4693, 2251, 4735, 9712, 1919, 9696, 9565, 8813, 6806, 1250, 4195, 6940, 7523, 6589, 3154, 6132, 7673, 1263, 7695, 5125, 5516, 9963, 6531, 8227, 5155, 4265, 855, 9614, 2112, 2815, 8556, 10089, 601, 4873, 3593, 5679, 7852, 1775, 4678, 5614, 7696, 1927, 960, 9169, 2571, 4123, 4164, 4634, 2949, 8427, 5139, 8053, 6401, 5364, 6824, 9322, 2428, 6708, 2577, 5420, 1168, 3956, 936, 1507, 1552, 3587, 3705, 216, 8251, 4262, 3039, 1545, 3075, 4009, 3042, 2945, 6000, 2103, 1783, 1130, 10151, 294, 4365, 5445, 4497, 932, 4398, 7036, 6143, 1577, 7739, 476, 2309, 3449, 3584, 8055, 5822, 3881, 3942, 4333, 3070, 5565, 3354, 6911, 1097, 385, 285, 8861, 73, 2768, 7936, 4454, 5713, 727, 388, 5515, 4433, 10131, 9443, 63, 3968, 7382, 5842, 4058, 612, 5083, 9539, 7208, 6609, 3577, 7725, 5065, 577, 4244, 4609, 2690, 7378, 6566, 4811, 4125, 8514, 2260, 8240, 9382, 9339, 3961, 3399, 5597, 9372, 6267, 4411, 1500, 7484, 8750, 3997, 6775, 8773, 7669, 6856, 9344, 5147, 404, 8199, 4165, 2646, 9708, 2642, 7519, 7589, 127, 6841, 8950, 9160, 1122, 8507, 9369, 7706, 6679, 3864, 6957, 2371, 3060, 3568, 9165, 2229, 5436, 5604, 4299, 1691, 6436, 8824, 7078, 1211, 8285, 8304, 6540, 4749, 6271, 2547, 4894, 8580, 2752, 9874, 208, 4232, 3564, 10275, 775, 3749, 428, 5951, 429, 5296, 9794, 5354, 3073, 7333, 9869, 1605, 7825, 10141, 1455, 7185, 8064, 933, 8615, 9185, 5954, 7162, 3537, 1861, 6246, 480, 7220, 4136, 1786, 1946, 4686, 9220, 2313, 3689, 3576, 8380, 7886, 7127, 10046, 6869, 9896, 1572, 8994, 1174, 5548, 8852, 9510, 8815, 5141, 10066, 1863, 5093, 2792, 7909, 8354, 2172, 7334, 9367, 43, 4357, 1096, 3776, 6431, 142, 9568, 4135, 6429, 620, 2786, 3215, 5870, 1120, 9234, 5833, 5104, 8048, 2903, 8295, 5892, 9258, 5058, 10060, 504, 2140, 8669, 4004, 6614, 356, 8415, 10013, 4613, 7568, 8083, 2220, 5978, 2716, 5918, 9847, 3427, 6290, 3965, 4707, 9453, 984, 2011, 7671, 4033, 5890, 2891, 4155, 8664, 7623, 49, 5286, 3335, 2038, 3031, 2099, 4911, 1488, 4233, 8323, 7148, 8200, 674, 1226, 8577, 6379, 7684, 3407, 8318, 6511, 493, 4829, 5121, 3792, 778, 1547, 5365, 7465, 469, 1525, 5696, 2585, 7552, 7560, 2430, 6201, 7301, 100, 3246, 4563, 2496, 5336, 2275, 7304, 5998, 1190, 2319, 8661, 3336, 9245, 1886, 2772, 433, 5233, 3239, 4844, 4880, 4475, 9061, 5952, 4568, 1169, 6782, 9906, 5551, 9315, 6728, 4520, 1940, 10281, 6363, 9060, 7564, 3659, 10063, 3358, 10232, 8406, 1914, 6092, 5625, 2793, 7990, 8061, 3832, 4673, 2674, 5415, 5669, 5247, 4434, 5003, 9729, 5495, 6077, 9617, 10293, 4466, 8640, 5915, 1917, 1966, 7587, 7862, 10106, 3290, 10122, 474, 6873, 819, 2482, 23, 7829, 8334, 7061, 4267, 5452, 5041, 7774, 3256, 8796, 511, 4977, 5243, 1650, 7624, 4588, 473, 982, 9842, 5917, 5212, 1357, 1213, 1972, 1967, 5750, 4631, 5357, 5194, 4326, 3076, 976, 9070, 3533, 1762, 2615, 9743, 3451, 2422, 5502, 2433, 3413, 7375, 4526, 7499, 3274, 6938, 3616, 9935, 2258, 2265, 2234, 9235, 10284, 10065, 8711, 5670, 3996, 6051, 3108, 5885, 5913, 8358, 2841, 4086, 3267, 9351, 8273, 2505, 5265, 5447, 6049, 1931, 9321, 2411, 3936, 2927, 2307, 4544, 6674, 4948, 2456, 2878, 8540, 4938, 3088, 5066, 1442, 5179, 1871, 1652, 7743, 2126, 1312, 5664, 3737, 5823, 8775, 777, 8330, 1405, 6859, 8293, 6819, 1754, 7238, 5481, 3281, 1770, 8866, 7700, 3236, 9839, 2479, 2825, 4281, 8508, 6460, 8712, 6719, 5815, 7070, 3528, 4338, 7204, 6278, 9498, 9513, 5478, 2900, 6050, 10285, 9345, 7003, 6966, 2334, 407, 1135, 3867, 2612, 3406, 7455, 6243, 1721, 9555, 7528, 4222, 3010, 7823, 5070, 2925, 8799, 7365, 2924, 902, 4160, 1745, 6604, 4680, 4246, 879, 7107, 1697, 3442, 9739, 7733, 7947, 5206, 608, 6195, 8822, 9582, 7397, 7527, 9357, 3037, 818, 5695, 9909, 9044, 4783, 2712, 2636, 7266, 7418, 1656, 1383, 1170, 7747, 5687, 5939, 6594, 4279, 8783, 4623, 8158, 4784, 9968, 330, 6557, 5102, 4543, 1642, 6158, 424, 4211, 2700, 1789, 2217, 3516, 9227, 3846, 6739, 9973, 3437, 776, 1352, 9628, 3925, 1285, 5535, 9624, 9955, 8675, 9892, 1878, 4906, 5544, 8786, 8366, 7126, 207, 1970, 9368, 1300, 4641, 5363, 5064, 7258, 8611, 9397, 3729, 2179, 9275, 2610, 8744, 4218, 6722, 8700, 2326, 169, 2864, 2669, 784, 7916, 8535, 1556, 5210, 6347, 9504, 8571, 4827, 7133, 1718, 2504, 2382, 6054, 7083, 9352, 1651, 4007, 4332, 2867, 9424, 5675, 5288, 6756, 1795, 8400, 10197, 1242, 8834, 3638, 4566, 215, 7443, 454, 6559, 3878, 4366, 8856, 693, 10058, 9593, 4792, 4739, 7999, 5285, 5717, 9128, 2566, 8588, 3171, 6802, 8870, 6275, 592, 1784, 5561, 9757, 7081, 8460, 3901, 195, 5201, 2934, 1267, 2858, 5700, 8284, 2235, 7406, 4198, 492, 3641, 5682, 7423, 8691, 2637, 5266, 5602, 3293, 430, 9856, 5458, 6971, 7284, 4881, 5517, 8092, 10014, 7323, 2329, 2425, 205, 1192, 3960, 210, 1494, 10193, 9055, 9700, 9987, 1323, 2517, 1109, 8707, 3199, 320, 3110, 657, 1950, 374, 4392, 5078, 3670, 5490, 3601, 4077, 2761, 1275, 852, 1615, 3807, 1815, 9441, 1674, 9814, 6764, 2865, 6166, 411]\n"
     ]
    }
   ],
   "source": [
    "# Randomizing the two sets \n",
    "insurance_df_sets = insurance_df.copy(deep=True)\n",
    "insurance_df_sets = insurance_df_sets.dropna()\n",
    "insurance_df_trainingset = insurance_df_sets.sample(frac = 0.75)\n",
    "print(insurance_df_trainingset.index.tolist())"
   ]
  },
  {
   "cell_type": "markdown",
   "metadata": {},
   "source": [
    "## Automatically fill in with a measure of central tendency (i.e. mean, median, mode);"
   ]
  },
  {
   "cell_type": "code",
   "execution_count": 25,
   "metadata": {
    "scrolled": true
   },
   "outputs": [],
   "source": [
    "insurance_df_ct = insurance_df.copy(deep=True)\n",
    "insurance_df_ct[premiums] = insurance_df_ct[premiums].fillna(insurance_df[premiums].mean())\n",
    "insurance_df_ct[customer] = insurance_df_ct[customer].fillna(insurance_df[customer].mean())\n"
   ]
  },
  {
   "cell_type": "code",
   "execution_count": 26,
   "metadata": {},
   "outputs": [],
   "source": [
    "insurance_df_ct[nominal] = insurance_df_ct[nominal].fillna(insurance_df[nominal].mode().iloc[0])"
   ]
  },
  {
   "cell_type": "markdown",
   "metadata": {},
   "source": [
    "## To fill in with values from similar individuals (nearest neighbours);"
   ]
  },
  {
   "cell_type": "code",
   "execution_count": 27,
   "metadata": {},
   "outputs": [],
   "source": [
    "insurance_df_nn = insurance_df.sort_values(by=insurance_df.columns.tolist()).fillna(method = 'ffill')"
   ]
  },
  {
   "cell_type": "code",
   "execution_count": 28,
   "metadata": {},
   "outputs": [
    {
     "data": {
      "text/plain": [
       "Customer Identity                       0\n",
       "First Policy´s Year                     0\n",
       "Brithday Year                          14\n",
       "Educational Degree                      0\n",
       "Gross Monthly Salary                    0\n",
       "Geographic Living Area                  0\n",
       "Has Children (Y=1)                      0\n",
       "Customer Monetary Value                 0\n",
       "Claims Rate                             0\n",
       "Premiums in LOB: Motor                  0\n",
       "Premiums in LOB: Household              0\n",
       "Premiums in LOB: Health                 0\n",
       "Premiums in LOB:  Life                  0\n",
       "Premiums in LOB: Work Compensations     0\n",
       "Age                                     0\n",
       "Client_Spend                            0\n",
       "Fidelity                                0\n",
       "dtype: int64"
      ]
     },
     "execution_count": 28,
     "metadata": {},
     "output_type": "execute_result"
    }
   ],
   "source": [
    "insurance_df_ct.isna().sum()"
   ]
  },
  {
   "cell_type": "markdown",
   "metadata": {},
   "source": [
    "## Predictive model (linear regression, multiple linear regression);"
   ]
  },
  {
   "cell_type": "code",
   "execution_count": 29,
   "metadata": {
    "scrolled": true
   },
   "outputs": [],
   "source": [
    "null_data = {}\n",
    "to_check = []\n",
    "\n",
    "for col in insurance_df[ratio].columns.tolist():\n",
    "    null_data[col] = insurance_df[insurance_df[col].isnull()].index.tolist()\n",
    "    to_check += insurance_df[insurance_df[col].isnull()].index.tolist()\n",
    "\n",
    "\n",
    "to_check = list(dict.fromkeys([i for i in to_check if to_check.count(i) >= 2])) # Rows with more than one value missing\n",
    "\n",
    "for col in null_data:\n",
    "    for i in range (len(null_data[col])-1,-1, -1):\n",
    "        if null_data[col][i] in to_check:\n",
    "            null_data[col].remove(null_data[col][i])"
   ]
  },
  {
   "cell_type": "code",
   "execution_count": 30,
   "metadata": {
    "scrolled": true
   },
   "outputs": [
    {
     "data": {
      "text/html": [
       "<div>\n",
       "<style scoped>\n",
       "    .dataframe tbody tr th:only-of-type {\n",
       "        vertical-align: middle;\n",
       "    }\n",
       "\n",
       "    .dataframe tbody tr th {\n",
       "        vertical-align: top;\n",
       "    }\n",
       "\n",
       "    .dataframe thead th {\n",
       "        text-align: right;\n",
       "    }\n",
       "</style>\n",
       "<table border=\"1\" class=\"dataframe\">\n",
       "  <thead>\n",
       "    <tr style=\"text-align: right;\">\n",
       "      <th></th>\n",
       "      <th>Customer Identity</th>\n",
       "      <th>First Policy´s Year</th>\n",
       "      <th>Brithday Year</th>\n",
       "      <th>Gross Monthly Salary</th>\n",
       "      <th>Geographic Living Area</th>\n",
       "      <th>Has Children (Y=1)</th>\n",
       "      <th>Customer Monetary Value</th>\n",
       "      <th>Claims Rate</th>\n",
       "      <th>Premiums in LOB: Motor</th>\n",
       "      <th>Premiums in LOB: Household</th>\n",
       "      <th>Premiums in LOB: Health</th>\n",
       "      <th>Premiums in LOB:  Life</th>\n",
       "      <th>Premiums in LOB: Work Compensations</th>\n",
       "      <th>Age</th>\n",
       "      <th>Client_Spend</th>\n",
       "      <th>Fidelity</th>\n",
       "    </tr>\n",
       "  </thead>\n",
       "  <tbody>\n",
       "    <tr>\n",
       "      <td>count</td>\n",
       "      <td>10264.000000</td>\n",
       "      <td>10264.000000</td>\n",
       "      <td>10264.000000</td>\n",
       "      <td>10264.000000</td>\n",
       "      <td>10264.000000</td>\n",
       "      <td>10264.000000</td>\n",
       "      <td>10264.000000</td>\n",
       "      <td>10264.000000</td>\n",
       "      <td>10264.000000</td>\n",
       "      <td>10264.000000</td>\n",
       "      <td>10264.000000</td>\n",
       "      <td>10264.000000</td>\n",
       "      <td>10264.000000</td>\n",
       "      <td>10264.000000</td>\n",
       "      <td>10264.000000</td>\n",
       "      <td>10264.000000</td>\n",
       "    </tr>\n",
       "    <tr>\n",
       "      <td>mean</td>\n",
       "      <td>5146.873733</td>\n",
       "      <td>1986.016368</td>\n",
       "      <td>1968.112098</td>\n",
       "      <td>2505.889059</td>\n",
       "      <td>2.711808</td>\n",
       "      <td>0.707424</td>\n",
       "      <td>177.832220</td>\n",
       "      <td>0.742979</td>\n",
       "      <td>299.353979</td>\n",
       "      <td>210.609226</td>\n",
       "      <td>170.902972</td>\n",
       "      <td>41.458489</td>\n",
       "      <td>40.968609</td>\n",
       "      <td>47.887902</td>\n",
       "      <td>763.293275</td>\n",
       "      <td>29.983632</td>\n",
       "    </tr>\n",
       "    <tr>\n",
       "      <td>std</td>\n",
       "      <td>2972.431932</td>\n",
       "      <td>6.612072</td>\n",
       "      <td>17.381910</td>\n",
       "      <td>1157.580512</td>\n",
       "      <td>1.266171</td>\n",
       "      <td>0.454968</td>\n",
       "      <td>1948.804173</td>\n",
       "      <td>2.921449</td>\n",
       "      <td>212.454860</td>\n",
       "      <td>352.981445</td>\n",
       "      <td>296.424679</td>\n",
       "      <td>47.454151</td>\n",
       "      <td>51.481052</td>\n",
       "      <td>17.381910</td>\n",
       "      <td>473.258079</td>\n",
       "      <td>6.612072</td>\n",
       "    </tr>\n",
       "    <tr>\n",
       "      <td>min</td>\n",
       "      <td>1.000000</td>\n",
       "      <td>1974.000000</td>\n",
       "      <td>1935.000000</td>\n",
       "      <td>333.000000</td>\n",
       "      <td>1.000000</td>\n",
       "      <td>0.000000</td>\n",
       "      <td>-165680.420000</td>\n",
       "      <td>0.000000</td>\n",
       "      <td>-4.110000</td>\n",
       "      <td>-75.000000</td>\n",
       "      <td>-2.110000</td>\n",
       "      <td>-7.000000</td>\n",
       "      <td>-12.000000</td>\n",
       "      <td>15.000000</td>\n",
       "      <td>0.000000</td>\n",
       "      <td>18.000000</td>\n",
       "    </tr>\n",
       "    <tr>\n",
       "      <td>25%</td>\n",
       "      <td>2571.750000</td>\n",
       "      <td>1980.000000</td>\n",
       "      <td>1953.000000</td>\n",
       "      <td>1704.750000</td>\n",
       "      <td>1.000000</td>\n",
       "      <td>0.000000</td>\n",
       "      <td>-9.440000</td>\n",
       "      <td>0.390000</td>\n",
       "      <td>189.590000</td>\n",
       "      <td>49.450000</td>\n",
       "      <td>110.910000</td>\n",
       "      <td>9.890000</td>\n",
       "      <td>10.000000</td>\n",
       "      <td>33.000000</td>\n",
       "      <td>626.532500</td>\n",
       "      <td>24.000000</td>\n",
       "    </tr>\n",
       "    <tr>\n",
       "      <td>50%</td>\n",
       "      <td>5145.500000</td>\n",
       "      <td>1986.000000</td>\n",
       "      <td>1968.000000</td>\n",
       "      <td>2500.000000</td>\n",
       "      <td>3.000000</td>\n",
       "      <td>1.000000</td>\n",
       "      <td>187.035000</td>\n",
       "      <td>0.720000</td>\n",
       "      <td>298.280000</td>\n",
       "      <td>132.800000</td>\n",
       "      <td>162.030000</td>\n",
       "      <td>25.450000</td>\n",
       "      <td>25.560000</td>\n",
       "      <td>48.000000</td>\n",
       "      <td>697.680000</td>\n",
       "      <td>30.000000</td>\n",
       "    </tr>\n",
       "    <tr>\n",
       "      <td>75%</td>\n",
       "      <td>7721.250000</td>\n",
       "      <td>1992.000000</td>\n",
       "      <td>1983.000000</td>\n",
       "      <td>3291.000000</td>\n",
       "      <td>4.000000</td>\n",
       "      <td>1.000000</td>\n",
       "      <td>399.402500</td>\n",
       "      <td>0.980000</td>\n",
       "      <td>407.437500</td>\n",
       "      <td>290.600000</td>\n",
       "      <td>219.040000</td>\n",
       "      <td>57.010000</td>\n",
       "      <td>56.010000</td>\n",
       "      <td>63.000000</td>\n",
       "      <td>824.212500</td>\n",
       "      <td>36.000000</td>\n",
       "    </tr>\n",
       "    <tr>\n",
       "      <td>max</td>\n",
       "      <td>10296.000000</td>\n",
       "      <td>1998.000000</td>\n",
       "      <td>2001.000000</td>\n",
       "      <td>55215.000000</td>\n",
       "      <td>4.000000</td>\n",
       "      <td>1.000000</td>\n",
       "      <td>11875.890000</td>\n",
       "      <td>256.200000</td>\n",
       "      <td>11604.420000</td>\n",
       "      <td>25048.800000</td>\n",
       "      <td>28272.000000</td>\n",
       "      <td>398.300000</td>\n",
       "      <td>1988.700000</td>\n",
       "      <td>81.000000</td>\n",
       "      <td>29331.320000</td>\n",
       "      <td>42.000000</td>\n",
       "    </tr>\n",
       "  </tbody>\n",
       "</table>\n",
       "</div>"
      ],
      "text/plain": [
       "       Customer Identity  First Policy´s Year  Brithday Year  \\\n",
       "count       10264.000000         10264.000000   10264.000000   \n",
       "mean         5146.873733          1986.016368    1968.112098   \n",
       "std          2972.431932             6.612072      17.381910   \n",
       "min             1.000000          1974.000000    1935.000000   \n",
       "25%          2571.750000          1980.000000    1953.000000   \n",
       "50%          5145.500000          1986.000000    1968.000000   \n",
       "75%          7721.250000          1992.000000    1983.000000   \n",
       "max         10296.000000          1998.000000    2001.000000   \n",
       "\n",
       "       Gross Monthly Salary  Geographic Living Area  Has Children (Y=1)  \\\n",
       "count          10264.000000            10264.000000        10264.000000   \n",
       "mean            2505.889059                2.711808            0.707424   \n",
       "std             1157.580512                1.266171            0.454968   \n",
       "min              333.000000                1.000000            0.000000   \n",
       "25%             1704.750000                1.000000            0.000000   \n",
       "50%             2500.000000                3.000000            1.000000   \n",
       "75%             3291.000000                4.000000            1.000000   \n",
       "max            55215.000000                4.000000            1.000000   \n",
       "\n",
       "       Customer Monetary Value   Claims Rate  Premiums in LOB: Motor  \\\n",
       "count             10264.000000  10264.000000            10264.000000   \n",
       "mean                177.832220      0.742979              299.353979   \n",
       "std                1948.804173      2.921449              212.454860   \n",
       "min             -165680.420000      0.000000               -4.110000   \n",
       "25%                  -9.440000      0.390000              189.590000   \n",
       "50%                 187.035000      0.720000              298.280000   \n",
       "75%                 399.402500      0.980000              407.437500   \n",
       "max               11875.890000    256.200000            11604.420000   \n",
       "\n",
       "       Premiums in LOB: Household  Premiums in LOB: Health  \\\n",
       "count                10264.000000             10264.000000   \n",
       "mean                   210.609226               170.902972   \n",
       "std                    352.981445               296.424679   \n",
       "min                    -75.000000                -2.110000   \n",
       "25%                     49.450000               110.910000   \n",
       "50%                    132.800000               162.030000   \n",
       "75%                    290.600000               219.040000   \n",
       "max                  25048.800000             28272.000000   \n",
       "\n",
       "       Premiums in LOB:  Life  Premiums in LOB: Work Compensations  \\\n",
       "count            10264.000000                         10264.000000   \n",
       "mean                41.458489                            40.968609   \n",
       "std                 47.454151                            51.481052   \n",
       "min                 -7.000000                           -12.000000   \n",
       "25%                  9.890000                            10.000000   \n",
       "50%                 25.450000                            25.560000   \n",
       "75%                 57.010000                            56.010000   \n",
       "max                398.300000                          1988.700000   \n",
       "\n",
       "                Age  Client_Spend      Fidelity  \n",
       "count  10264.000000  10264.000000  10264.000000  \n",
       "mean      47.887902    763.293275     29.983632  \n",
       "std       17.381910    473.258079      6.612072  \n",
       "min       15.000000      0.000000     18.000000  \n",
       "25%       33.000000    626.532500     24.000000  \n",
       "50%       48.000000    697.680000     30.000000  \n",
       "75%       63.000000    824.212500     36.000000  \n",
       "max       81.000000  29331.320000     42.000000  "
      ]
     },
     "execution_count": 30,
     "metadata": {},
     "output_type": "execute_result"
    }
   ],
   "source": [
    "X = [i for i in null_data.keys() if len(null_data[i])>0]\n",
    "dict_models = {}\n",
    "\n",
    "for i in range(0,len(X)):\n",
    "    dict_models[X[i]] = deepcopy(ratio)\n",
    "    dict_models[X[i]].remove(X[i])\n",
    "\n",
    "aux_df = insurance_df.dropna()\n",
    "lm = linear_model.LinearRegression()\n",
    "predictions = {}\n",
    "\n",
    "for mod in dict_models:\n",
    "    x = pd.DataFrame(aux_df[dict_models[mod]])\n",
    "    y = pd.DataFrame(aux_df[mod])\n",
    "    model = lm.fit(x,y)\n",
    "    pred = insurance_df[dict_models[mod]].loc[null_data[mod]]\n",
    "    predictions[mod] = lm.predict(pred).tolist()\n",
    "\n",
    "\n",
    "insurance_df_mrm = insurance_df.copy(deep=True)\n",
    "\n",
    "for prediction in predictions:\n",
    "    for i in range(0,len(predictions[prediction])):\n",
    "        insurance_df_mrm.loc[null_data[prediction][i],prediction] = round(predictions[prediction][i][0],1)\n",
    "\n",
    "        \n",
    "# insurance_df_mrm['Age when doing first policy'] = insurance_df_mrm['First Policy´s Year']-insurance_df_mrm['Brithday Year']\n",
    "insurance_df_mrm[ratio] = insurance_df_mrm[ratio].fillna(insurance_df_mrm.mean())\n",
    "insurance_df_mrm[nominal] = insurance_df_mrm[nominal].fillna(insurance_df_mrm.mode().iloc[0])\n",
    "insurance_df_mrm.describe()"
   ]
  },
  {
   "cell_type": "markdown",
   "metadata": {},
   "source": [
    "<b style=\"color:#FF5733\">Fiding outliers</b>"
   ]
  },
  {
   "cell_type": "code",
   "execution_count": 31,
   "metadata": {
    "scrolled": false
   },
   "outputs": [
    {
     "data": {
      "text/plain": [
       "<matplotlib.axes._subplots.AxesSubplot at 0x1567d5f6940>"
      ]
     },
     "execution_count": 31,
     "metadata": {},
     "output_type": "execute_result"
    },
    {
     "data": {
      "image/png": "[encoded data removed]",
      "text/plain": [
       "<Figure size 1080x2160 with 8 Axes>"
      ]
     },
     "metadata": {
      "needs_background": "light"
     },
     "output_type": "display_data"
    }
   ],
   "source": [
    "fig = plt.figure(figsize=(15,30))\n",
    "grid = plt.GridSpec(ncols=2, nrows=5)\n",
    "ax1 = fig.add_subplot(grid[0, 0])\n",
    "ax2 = fig.add_subplot(grid[0, 1])\n",
    "ax3 = fig.add_subplot(grid[1, 0])\n",
    "ax4 = fig.add_subplot(grid[1, 1])\n",
    "ax5 = fig.add_subplot(grid[2, 0])\n",
    "ax6 = fig.add_subplot(grid[2, 1])\n",
    "ax7 = fig.add_subplot(grid[3, 0])\n",
    "ax8 = fig.add_subplot(grid[3, 1])\n",
    "# ax9 = fig.add_subplot(grid[8, 0])\n",
    "\n",
    "sns.boxplot(x='Age', data=insurance_df, whis = 1.5, color= '#154360', ax=ax1)\n",
    "sns.boxplot(x='Gross Monthly Salary', data=insurance_df, whis = 1.5, color= '#FFC300', ax=ax2)\n",
    "sns.boxplot(x='Customer Monetary Value', data=insurance_df, whis = 1.5, color= '#DAF7A6', ax=ax3)\n",
    "sns.boxplot(x='Claims Rate', data=insurance_df, whis = 1.5, color= '#BEE080', ax=ax4)\n",
    "sns.boxplot(x='Premiums in LOB: Motor', data=insurance_df, whis = 1.5, color= '#566D2D', ax=ax5)\n",
    "sns.boxplot(x='Premiums in LOB: Household', data=insurance_df, whis = 1.5, color= '#C70039', ax=ax6)\n",
    "sns.boxplot(x='Premiums in LOB: Health', data=insurance_df, whis = 1.5, color= '#900C3F', ax=ax7)\n",
    "sns.boxplot(x='Premiums in LOB:  Life', data=insurance_df, whis = 1.5, color= '#2D87C0', ax=ax8)\n",
    "# sns.boxplot(x='Premiums in LOB: Work Compensations', data=insurance_df, color= '#91CDF4', whis = 1.5, ax=ax9)\n",
    "# sns.boxplot(x='Age when doing first policy', data=insurance_df, color= '#91CDF4', whis = 1.5, ax=ax11);"
   ]
  },
  {
   "cell_type": "markdown",
   "metadata": {},
   "source": [
    "For these boxplots, outliers are a little harder to conclude on. For example, looking at the premium in LOB: Health, the amount of outliers is huge, and that's normal, since the premiums depend on a lot of diferent variables. <br>\n",
    "As for the gross monetary value... Who's to say we don't have a client that earns more than 5000 a month? We can't be sure, and although that value is unusual, it's definetly possible. \n",
    "Let's consider the logarithm of these variables and re-check their bloxplots after that transformation."
   ]
  },
  {
   "cell_type": "code",
   "execution_count": 32,
   "metadata": {},
   "outputs": [],
   "source": [
    "# def to_log(dataframe,variable):\n",
    "#     min_val = dataframe[variable].min()\n",
    "#     newdataframe = dataframe # Creating a copy so we don't change the original\n",
    "#     if min_val > 1: # Meaning no complications in doing the logarithm\n",
    "#         newdataframe[variable] = np.log(newdataframe[variable])\n",
    "#     else:\n",
    "#         newdataframe[variable] = newdataframe[variable] + round(min_val+1,1)\n",
    "#         newdataframe[variable] = np.log(newdataframe[variable])\n",
    "        \n",
    "#     return newdataframe\n",
    "\n",
    "# fig = plt.figure(figsize=(20,40))\n",
    "# grid = plt.GridSpec(ncols=1, nrows=11)\n",
    "# ax1 = fig.add_subplot(grid[0, 0])\n",
    "# ax2 = fig.add_subplot(grid[1, 0])\n",
    "# ax3 = fig.add_subplot(grid[2, 0])\n",
    "# ax4 = fig.add_subplot(grid[3, 0])\n",
    "# ax5 = fig.add_subplot(grid[4, 0])\n",
    "# ax6 = fig.add_subplot(grid[5, 0])\n",
    "# ax7 = fig.add_subplot(grid[6, 0])\n",
    "# ax8 = fig.add_subplot(grid[7, 0])\n",
    "# ax9 = fig.add_subplot(grid[8, 0])\n",
    "# ax10 = fig.add_subplot(grid[9, 0])\n",
    "# ax11 = fig.add_subplot(grid[10, 0])   \n",
    "    \n",
    "# to_log(insurance_df,'Gross Monthly Salary')\n",
    "# to_log(insurance_df,'Customer Monetary Value')\n",
    "# to_log(insurance_df,'Claims Rate')\n",
    "# sns.boxplot(x='Gross Monthly Salary', data=insurance_df, whis = 1.5, color= '#FFC300', ax=ax3)\n",
    "# sns.boxplot(x='Customer Monetary Value', data=insurance_df, whis = 1.5, color= '#DAF7A6', ax=ax4)\n",
    "# sns.boxplot(x='Claims Rate', data=insurance_df, whis = 1.5, color= '#BEE080', ax=ax5)\n",
    "# sns.boxplot(x='Premiums in LOB: Motor', data=insurance_df, whis = 1.5, color= '#566D2D', ax=ax6)\n",
    "# sns.boxplot(x='Premiums in LOB: Household', data=insurance_df, whis = 1.5, color= '#C70039', ax=ax7)\n",
    "# sns.boxplot(x='Premiums in LOB: Health', data=insurance_df, whis = 1.5, color= '#900C3F', ax=ax8)\n",
    "# sns.boxplot(x='Premiums in LOB:  Life', data=insurance_df, whis = 1.5, color= '#2D87C0', ax=ax9)\n",
    "# sns.boxplot(x='Premiums in LOB: Work Compensations', data=insurance_df, color= '#91CDF4', whis = 1.5, ax=ax10)"
   ]
  },
  {
   "cell_type": "markdown",
   "metadata": {},
   "source": [
    "After that checking out each one of the new boxplots, It's noticiable that there are still outliers in most part of out database. We will use Z-score function defined in scipy library to detect the outliers."
   ]
  },
  {
   "cell_type": "code",
   "execution_count": 33,
   "metadata": {},
   "outputs": [
    {
     "data": {
      "text/plain": [
       "Customer Identity                        int64\n",
       "First Policy´s Year                    float64\n",
       "Brithday Year                          float64\n",
       "Educational Degree                      object\n",
       "Gross Monthly Salary                   float64\n",
       "Geographic Living Area                 float64\n",
       "Has Children (Y=1)                     float64\n",
       "Customer Monetary Value                float64\n",
       "Claims Rate                            float64\n",
       "Premiums in LOB: Motor                 float64\n",
       "Premiums in LOB: Household             float64\n",
       "Premiums in LOB: Health                float64\n",
       "Premiums in LOB:  Life                 float64\n",
       "Premiums in LOB: Work Compensations    float64\n",
       "Age                                    float64\n",
       "Client_Spend                           float64\n",
       "Fidelity                               float64\n",
       "dtype: object"
      ]
     },
     "execution_count": 33,
     "metadata": {},
     "output_type": "execute_result"
    }
   ],
   "source": [
    "insurance_df.columns\n",
    "insurance_df.dtypes\n",
    "# We will transform all variables into float to make to ZScore Transformation"
   ]
  },
  {
   "cell_type": "code",
   "execution_count": 34,
   "metadata": {},
   "outputs": [],
   "source": [
    "from scipy import stats\n",
    "import numpy as np\n",
    "\n",
    "zvariables = insurance_df_ct[['Age','Customer Monetary Value',\n",
    " 'Claims Rate',\n",
    " 'Premiums in LOB: Motor',\n",
    " 'Premiums in LOB: Household',\n",
    " 'Premiums in LOB: Health',\n",
    " 'Premiums in LOB:  Life',\n",
    " 'Premiums in LOB: Work Compensations',\n",
    "                             'Gross Monthly Salary']]\n",
    "#'Age'\n",
    "                             \n",
    "zvariables\n",
    "                 \n",
    "z = np.abs(stats.zscore(zvariables))\n",
    "z\n",
    "\n",
    "threshold = 3\n",
    "# np.where(z > 3) # We noticed that there are outliers in each one of the variables"
   ]
  },
  {
   "cell_type": "markdown",
   "metadata": {},
   "source": [
    "<b style=\"color:#FF5733\">Treating the Ouliers from our database</b>"
   ]
  },
  {
   "cell_type": "code",
   "execution_count": 35,
   "metadata": {},
   "outputs": [
    {
     "data": {
      "text/plain": [
       "['Customer Identity',\n",
       " 'First Policy´s Year',\n",
       " 'Brithday Year',\n",
       " 'Educational Degree',\n",
       " 'Gross Monthly Salary',\n",
       " 'Geographic Living Area',\n",
       " 'Has Children (Y=1)',\n",
       " 'Customer Monetary Value',\n",
       " 'Claims Rate',\n",
       " 'Premiums in LOB: Motor',\n",
       " 'Premiums in LOB: Household',\n",
       " 'Premiums in LOB: Health',\n",
       " 'Premiums in LOB:  Life',\n",
       " 'Premiums in LOB: Work Compensations',\n",
       " 'Age',\n",
       " 'Client_Spend',\n",
       " 'Fidelity']"
      ]
     },
     "execution_count": 35,
     "metadata": {},
     "output_type": "execute_result"
    }
   ],
   "source": [
    "list(insurance_df_ct.columns)"
   ]
  },
  {
   "cell_type": "markdown",
   "metadata": {},
   "source": [
    "We saw how one can detect the outlier using Z-score but now we want to remove the outliers and get the clean data. "
   ]
  },
  {
   "cell_type": "code",
   "execution_count": 36,
   "metadata": {},
   "outputs": [
    {
     "name": "stdout",
     "output_type": "stream",
     "text": [
      "(10264, 9)\n",
      "(10058, 9)\n"
     ]
    }
   ],
   "source": [
    "# Now we are going to clean out outliers based on the Z scores\n",
    "\n",
    "zvariables1 = zvariables[(z < 3.8).all(axis=1)]\n",
    "\n",
    "print(zvariables.shape)\n",
    "print(zvariables1.shape)\n",
    "index1 = zvariables1.index"
   ]
  },
  {
   "cell_type": "code",
   "execution_count": 37,
   "metadata": {},
   "outputs": [
    {
     "data": {
      "text/html": [
       "<div>\n",
       "<style scoped>\n",
       "    .dataframe tbody tr th:only-of-type {\n",
       "        vertical-align: middle;\n",
       "    }\n",
       "\n",
       "    .dataframe tbody tr th {\n",
       "        vertical-align: top;\n",
       "    }\n",
       "\n",
       "    .dataframe thead th {\n",
       "        text-align: right;\n",
       "    }\n",
       "</style>\n",
       "<table border=\"1\" class=\"dataframe\">\n",
       "  <thead>\n",
       "    <tr style=\"text-align: right;\">\n",
       "      <th></th>\n",
       "      <th>Age</th>\n",
       "      <th>Customer Monetary Value</th>\n",
       "      <th>Claims Rate</th>\n",
       "      <th>Premiums in LOB: Motor</th>\n",
       "      <th>Premiums in LOB: Household</th>\n",
       "      <th>Premiums in LOB: Health</th>\n",
       "      <th>Premiums in LOB:  Life</th>\n",
       "      <th>Premiums in LOB: Work Compensations</th>\n",
       "      <th>Gross Monthly Salary</th>\n",
       "    </tr>\n",
       "  </thead>\n",
       "  <tbody>\n",
       "    <tr>\n",
       "      <td>0</td>\n",
       "      <td>34.0</td>\n",
       "      <td>380.97</td>\n",
       "      <td>0.39</td>\n",
       "      <td>375.85</td>\n",
       "      <td>79.45</td>\n",
       "      <td>146.36</td>\n",
       "      <td>47.01</td>\n",
       "      <td>16.89</td>\n",
       "      <td>2177.0</td>\n",
       "    </tr>\n",
       "    <tr>\n",
       "      <td>1</td>\n",
       "      <td>21.0</td>\n",
       "      <td>-131.13</td>\n",
       "      <td>1.12</td>\n",
       "      <td>77.46</td>\n",
       "      <td>416.20</td>\n",
       "      <td>116.69</td>\n",
       "      <td>194.48</td>\n",
       "      <td>106.13</td>\n",
       "      <td>677.0</td>\n",
       "    </tr>\n",
       "    <tr>\n",
       "      <td>2</td>\n",
       "      <td>46.0</td>\n",
       "      <td>504.67</td>\n",
       "      <td>0.28</td>\n",
       "      <td>206.15</td>\n",
       "      <td>224.50</td>\n",
       "      <td>124.58</td>\n",
       "      <td>86.35</td>\n",
       "      <td>99.02</td>\n",
       "      <td>2277.0</td>\n",
       "    </tr>\n",
       "    <tr>\n",
       "      <td>3</td>\n",
       "      <td>35.0</td>\n",
       "      <td>-16.99</td>\n",
       "      <td>0.99</td>\n",
       "      <td>182.48</td>\n",
       "      <td>43.35</td>\n",
       "      <td>311.17</td>\n",
       "      <td>35.34</td>\n",
       "      <td>28.34</td>\n",
       "      <td>1099.0</td>\n",
       "    </tr>\n",
       "    <tr>\n",
       "      <td>4</td>\n",
       "      <td>43.0</td>\n",
       "      <td>35.23</td>\n",
       "      <td>0.90</td>\n",
       "      <td>338.62</td>\n",
       "      <td>47.80</td>\n",
       "      <td>182.59</td>\n",
       "      <td>18.78</td>\n",
       "      <td>41.45</td>\n",
       "      <td>1763.0</td>\n",
       "    </tr>\n",
       "    <tr>\n",
       "      <td>...</td>\n",
       "      <td>...</td>\n",
       "      <td>...</td>\n",
       "      <td>...</td>\n",
       "      <td>...</td>\n",
       "      <td>...</td>\n",
       "      <td>...</td>\n",
       "      <td>...</td>\n",
       "      <td>...</td>\n",
       "      <td>...</td>\n",
       "    </tr>\n",
       "    <tr>\n",
       "      <td>10291</td>\n",
       "      <td>67.0</td>\n",
       "      <td>-0.11</td>\n",
       "      <td>0.96</td>\n",
       "      <td>393.74</td>\n",
       "      <td>49.45</td>\n",
       "      <td>173.81</td>\n",
       "      <td>9.78</td>\n",
       "      <td>14.78</td>\n",
       "      <td>3188.0</td>\n",
       "    </tr>\n",
       "    <tr>\n",
       "      <td>10292</td>\n",
       "      <td>64.0</td>\n",
       "      <td>1405.60</td>\n",
       "      <td>0.00</td>\n",
       "      <td>133.58</td>\n",
       "      <td>1035.75</td>\n",
       "      <td>143.25</td>\n",
       "      <td>12.89</td>\n",
       "      <td>105.13</td>\n",
       "      <td>2431.0</td>\n",
       "    </tr>\n",
       "    <tr>\n",
       "      <td>10293</td>\n",
       "      <td>40.0</td>\n",
       "      <td>524.10</td>\n",
       "      <td>0.21</td>\n",
       "      <td>403.63</td>\n",
       "      <td>132.80</td>\n",
       "      <td>142.25</td>\n",
       "      <td>12.67</td>\n",
       "      <td>4.89</td>\n",
       "      <td>2918.0</td>\n",
       "    </tr>\n",
       "    <tr>\n",
       "      <td>10294</td>\n",
       "      <td>39.0</td>\n",
       "      <td>250.05</td>\n",
       "      <td>0.65</td>\n",
       "      <td>188.59</td>\n",
       "      <td>211.15</td>\n",
       "      <td>198.37</td>\n",
       "      <td>63.90</td>\n",
       "      <td>112.91</td>\n",
       "      <td>1971.0</td>\n",
       "    </tr>\n",
       "    <tr>\n",
       "      <td>10295</td>\n",
       "      <td>35.0</td>\n",
       "      <td>463.75</td>\n",
       "      <td>0.27</td>\n",
       "      <td>414.08</td>\n",
       "      <td>94.45</td>\n",
       "      <td>141.25</td>\n",
       "      <td>6.89</td>\n",
       "      <td>12.89</td>\n",
       "      <td>2815.0</td>\n",
       "    </tr>\n",
       "  </tbody>\n",
       "</table>\n",
       "<p>10058 rows × 9 columns</p>\n",
       "</div>"
      ],
      "text/plain": [
       "        Age  Customer Monetary Value  Claims Rate  Premiums in LOB: Motor  \\\n",
       "0      34.0                   380.97         0.39                  375.85   \n",
       "1      21.0                  -131.13         1.12                   77.46   \n",
       "2      46.0                   504.67         0.28                  206.15   \n",
       "3      35.0                   -16.99         0.99                  182.48   \n",
       "4      43.0                    35.23         0.90                  338.62   \n",
       "...     ...                      ...          ...                     ...   \n",
       "10291  67.0                    -0.11         0.96                  393.74   \n",
       "10292  64.0                  1405.60         0.00                  133.58   \n",
       "10293  40.0                   524.10         0.21                  403.63   \n",
       "10294  39.0                   250.05         0.65                  188.59   \n",
       "10295  35.0                   463.75         0.27                  414.08   \n",
       "\n",
       "       Premiums in LOB: Household  Premiums in LOB: Health  \\\n",
       "0                           79.45                   146.36   \n",
       "1                          416.20                   116.69   \n",
       "2                          224.50                   124.58   \n",
       "3                           43.35                   311.17   \n",
       "4                           47.80                   182.59   \n",
       "...                           ...                      ...   \n",
       "10291                       49.45                   173.81   \n",
       "10292                     1035.75                   143.25   \n",
       "10293                      132.80                   142.25   \n",
       "10294                      211.15                   198.37   \n",
       "10295                       94.45                   141.25   \n",
       "\n",
       "       Premiums in LOB:  Life  Premiums in LOB: Work Compensations  \\\n",
       "0                       47.01                                16.89   \n",
       "1                      194.48                               106.13   \n",
       "2                       86.35                                99.02   \n",
       "3                       35.34                                28.34   \n",
       "4                       18.78                                41.45   \n",
       "...                       ...                                  ...   \n",
       "10291                    9.78                                14.78   \n",
       "10292                   12.89                               105.13   \n",
       "10293                   12.67                                 4.89   \n",
       "10294                   63.90                               112.91   \n",
       "10295                    6.89                                12.89   \n",
       "\n",
       "       Gross Monthly Salary  \n",
       "0                    2177.0  \n",
       "1                     677.0  \n",
       "2                    2277.0  \n",
       "3                    1099.0  \n",
       "4                    1763.0  \n",
       "...                     ...  \n",
       "10291                3188.0  \n",
       "10292                2431.0  \n",
       "10293                2918.0  \n",
       "10294                1971.0  \n",
       "10295                2815.0  \n",
       "\n",
       "[10058 rows x 9 columns]"
      ]
     },
     "execution_count": 37,
     "metadata": {},
     "output_type": "execute_result"
    }
   ],
   "source": [
    "zvariables1"
   ]
  },
  {
   "cell_type": "code",
   "execution_count": 38,
   "metadata": {},
   "outputs": [
    {
     "data": {
      "text/plain": [
       "<matplotlib.axes._subplots.AxesSubplot at 0x1567e022780>"
      ]
     },
     "execution_count": 38,
     "metadata": {},
     "output_type": "execute_result"
    },
    {
     "data": {
      "image/png": "[encoded data removed]",
      "text/plain": [
       "<Figure size 1080x2160 with 8 Axes>"
      ]
     },
     "metadata": {
      "needs_background": "light"
     },
     "output_type": "display_data"
    }
   ],
   "source": [
    "fig = plt.figure(figsize=(15,30))\n",
    "grid = plt.GridSpec(ncols=2, nrows=5)\n",
    "ax1 = fig.add_subplot(grid[0, 0])\n",
    "ax2 = fig.add_subplot(grid[0, 1])\n",
    "ax3 = fig.add_subplot(grid[1, 0])\n",
    "ax4 = fig.add_subplot(grid[1, 1])\n",
    "ax5 = fig.add_subplot(grid[2, 0])\n",
    "ax6 = fig.add_subplot(grid[2, 1])\n",
    "ax7 = fig.add_subplot(grid[3, 0])\n",
    "ax8 = fig.add_subplot(grid[3, 1])\n",
    "\n",
    "sns.boxplot(x='Age', data=zvariables1, whis = 1.5, color= '#154360', ax=ax1)\n",
    "sns.boxplot(x='Gross Monthly Salary', data=zvariables1, whis = 1.5, color= '#FFC300', ax=ax2)\n",
    "# sns.boxplot(x='Premiums in LOB: Motor', data=zvariables1, whis = 1.5, color= '#566D2D', ax=ax1)\n",
    "# sns.boxplot(x='Premiums in LOB: Household', data=zvariables1, whis = 1.5, color= '#C70039', ax=ax2)\n",
    "sns.boxplot(x='Premiums in LOB: Health', data=zvariables1, whis = 1.5, color= '#900C3F', ax=ax3)\n",
    "sns.boxplot(x='Premiums in LOB:  Life', data=zvariables1, whis = 1.5, color= '#2D87C0', ax=ax4)\n",
    "sns.boxplot(x='Premiums in LOB: Work Compensations', data=zvariables1, color= '#91CDF4', whis = 1.5, ax=ax5)\n",
    "sns.boxplot(x='Claims Rate', data=zvariables1, color= '#91CDF4', whis = 1.5, ax=ax6)\n",
    "sns.boxplot(x='Gross Monthly Salary', data=zvariables1, color= '#91CDF4', whis = 1.5, ax=ax7)"
   ]
  },
  {
   "cell_type": "markdown",
   "metadata": {},
   "source": [
    "Now we will build the new dataFrame without the outliers "
   ]
  },
  {
   "cell_type": "code",
   "execution_count": 39,
   "metadata": {},
   "outputs": [
    {
     "name": "stdout",
     "output_type": "stream",
     "text": [
      "(10058, 17)\n",
      "(206, 17)\n"
     ]
    }
   ],
   "source": [
    "index1.size # I want those indexs from my original database \n",
    "insurance_df_ct.index.size\n",
    "insurance_df_ct\n",
    "\n",
    "insurance_dff = insurance_df_ct[insurance_df_ct.index.isin(index1)] # DataFrame Without the Outliears\n",
    "print(insurance_dff.shape)\n",
    "insurance_outliers = insurance_df_ct[insurance_df_ct.index.isin(index1) == False] # DataFrame Without the Outliers\n",
    "print(insurance_outliers.shape)"
   ]
  },
  {
   "cell_type": "code",
   "execution_count": 40,
   "metadata": {},
   "outputs": [
    {
     "data": {
      "text/html": [
       "<div>\n",
       "<style scoped>\n",
       "    .dataframe tbody tr th:only-of-type {\n",
       "        vertical-align: middle;\n",
       "    }\n",
       "\n",
       "    .dataframe tbody tr th {\n",
       "        vertical-align: top;\n",
       "    }\n",
       "\n",
       "    .dataframe thead th {\n",
       "        text-align: right;\n",
       "    }\n",
       "</style>\n",
       "<table border=\"1\" class=\"dataframe\">\n",
       "  <thead>\n",
       "    <tr style=\"text-align: right;\">\n",
       "      <th></th>\n",
       "      <th>Customer Identity</th>\n",
       "      <th>First Policy´s Year</th>\n",
       "      <th>Brithday Year</th>\n",
       "      <th>Educational Degree</th>\n",
       "      <th>Gross Monthly Salary</th>\n",
       "      <th>Geographic Living Area</th>\n",
       "      <th>Has Children (Y=1)</th>\n",
       "      <th>Customer Monetary Value</th>\n",
       "      <th>Claims Rate</th>\n",
       "      <th>Premiums in LOB: Motor</th>\n",
       "      <th>Premiums in LOB: Household</th>\n",
       "      <th>Premiums in LOB: Health</th>\n",
       "      <th>Premiums in LOB:  Life</th>\n",
       "      <th>Premiums in LOB: Work Compensations</th>\n",
       "      <th>Age</th>\n",
       "      <th>Client_Spend</th>\n",
       "      <th>Fidelity</th>\n",
       "    </tr>\n",
       "  </thead>\n",
       "  <tbody>\n",
       "    <tr>\n",
       "      <td>0</td>\n",
       "      <td>1</td>\n",
       "      <td>1985.0</td>\n",
       "      <td>1982.0</td>\n",
       "      <td>2 - High School</td>\n",
       "      <td>2177.0</td>\n",
       "      <td>1.0</td>\n",
       "      <td>1.0</td>\n",
       "      <td>380.97</td>\n",
       "      <td>0.39</td>\n",
       "      <td>375.85</td>\n",
       "      <td>79.45</td>\n",
       "      <td>146.36</td>\n",
       "      <td>47.01</td>\n",
       "      <td>16.89</td>\n",
       "      <td>34.0</td>\n",
       "      <td>665.56</td>\n",
       "      <td>31.0</td>\n",
       "    </tr>\n",
       "    <tr>\n",
       "      <td>1</td>\n",
       "      <td>2</td>\n",
       "      <td>1981.0</td>\n",
       "      <td>1995.0</td>\n",
       "      <td>2 - High School</td>\n",
       "      <td>677.0</td>\n",
       "      <td>4.0</td>\n",
       "      <td>1.0</td>\n",
       "      <td>-131.13</td>\n",
       "      <td>1.12</td>\n",
       "      <td>77.46</td>\n",
       "      <td>416.20</td>\n",
       "      <td>116.69</td>\n",
       "      <td>194.48</td>\n",
       "      <td>106.13</td>\n",
       "      <td>21.0</td>\n",
       "      <td>910.96</td>\n",
       "      <td>35.0</td>\n",
       "    </tr>\n",
       "    <tr>\n",
       "      <td>2</td>\n",
       "      <td>3</td>\n",
       "      <td>1991.0</td>\n",
       "      <td>1970.0</td>\n",
       "      <td>1 - Basic</td>\n",
       "      <td>2277.0</td>\n",
       "      <td>3.0</td>\n",
       "      <td>0.0</td>\n",
       "      <td>504.67</td>\n",
       "      <td>0.28</td>\n",
       "      <td>206.15</td>\n",
       "      <td>224.50</td>\n",
       "      <td>124.58</td>\n",
       "      <td>86.35</td>\n",
       "      <td>99.02</td>\n",
       "      <td>46.0</td>\n",
       "      <td>740.60</td>\n",
       "      <td>25.0</td>\n",
       "    </tr>\n",
       "    <tr>\n",
       "      <td>3</td>\n",
       "      <td>4</td>\n",
       "      <td>1990.0</td>\n",
       "      <td>1981.0</td>\n",
       "      <td>3 - BSc/MSc</td>\n",
       "      <td>1099.0</td>\n",
       "      <td>4.0</td>\n",
       "      <td>1.0</td>\n",
       "      <td>-16.99</td>\n",
       "      <td>0.99</td>\n",
       "      <td>182.48</td>\n",
       "      <td>43.35</td>\n",
       "      <td>311.17</td>\n",
       "      <td>35.34</td>\n",
       "      <td>28.34</td>\n",
       "      <td>35.0</td>\n",
       "      <td>600.68</td>\n",
       "      <td>26.0</td>\n",
       "    </tr>\n",
       "    <tr>\n",
       "      <td>4</td>\n",
       "      <td>5</td>\n",
       "      <td>1986.0</td>\n",
       "      <td>1973.0</td>\n",
       "      <td>3 - BSc/MSc</td>\n",
       "      <td>1763.0</td>\n",
       "      <td>4.0</td>\n",
       "      <td>1.0</td>\n",
       "      <td>35.23</td>\n",
       "      <td>0.90</td>\n",
       "      <td>338.62</td>\n",
       "      <td>47.80</td>\n",
       "      <td>182.59</td>\n",
       "      <td>18.78</td>\n",
       "      <td>41.45</td>\n",
       "      <td>43.0</td>\n",
       "      <td>629.24</td>\n",
       "      <td>30.0</td>\n",
       "    </tr>\n",
       "    <tr>\n",
       "      <td>...</td>\n",
       "      <td>...</td>\n",
       "      <td>...</td>\n",
       "      <td>...</td>\n",
       "      <td>...</td>\n",
       "      <td>...</td>\n",
       "      <td>...</td>\n",
       "      <td>...</td>\n",
       "      <td>...</td>\n",
       "      <td>...</td>\n",
       "      <td>...</td>\n",
       "      <td>...</td>\n",
       "      <td>...</td>\n",
       "      <td>...</td>\n",
       "      <td>...</td>\n",
       "      <td>...</td>\n",
       "      <td>...</td>\n",
       "      <td>...</td>\n",
       "    </tr>\n",
       "    <tr>\n",
       "      <td>10291</td>\n",
       "      <td>10292</td>\n",
       "      <td>1984.0</td>\n",
       "      <td>1949.0</td>\n",
       "      <td>4 - PhD</td>\n",
       "      <td>3188.0</td>\n",
       "      <td>2.0</td>\n",
       "      <td>0.0</td>\n",
       "      <td>-0.11</td>\n",
       "      <td>0.96</td>\n",
       "      <td>393.74</td>\n",
       "      <td>49.45</td>\n",
       "      <td>173.81</td>\n",
       "      <td>9.78</td>\n",
       "      <td>14.78</td>\n",
       "      <td>67.0</td>\n",
       "      <td>641.56</td>\n",
       "      <td>32.0</td>\n",
       "    </tr>\n",
       "    <tr>\n",
       "      <td>10292</td>\n",
       "      <td>10293</td>\n",
       "      <td>1977.0</td>\n",
       "      <td>1952.0</td>\n",
       "      <td>1 - Basic</td>\n",
       "      <td>2431.0</td>\n",
       "      <td>3.0</td>\n",
       "      <td>0.0</td>\n",
       "      <td>1405.60</td>\n",
       "      <td>0.00</td>\n",
       "      <td>133.58</td>\n",
       "      <td>1035.75</td>\n",
       "      <td>143.25</td>\n",
       "      <td>12.89</td>\n",
       "      <td>105.13</td>\n",
       "      <td>64.0</td>\n",
       "      <td>1430.60</td>\n",
       "      <td>39.0</td>\n",
       "    </tr>\n",
       "    <tr>\n",
       "      <td>10293</td>\n",
       "      <td>10294</td>\n",
       "      <td>1994.0</td>\n",
       "      <td>1976.0</td>\n",
       "      <td>3 - BSc/MSc</td>\n",
       "      <td>2918.0</td>\n",
       "      <td>1.0</td>\n",
       "      <td>1.0</td>\n",
       "      <td>524.10</td>\n",
       "      <td>0.21</td>\n",
       "      <td>403.63</td>\n",
       "      <td>132.80</td>\n",
       "      <td>142.25</td>\n",
       "      <td>12.67</td>\n",
       "      <td>4.89</td>\n",
       "      <td>40.0</td>\n",
       "      <td>696.24</td>\n",
       "      <td>22.0</td>\n",
       "    </tr>\n",
       "    <tr>\n",
       "      <td>10294</td>\n",
       "      <td>10295</td>\n",
       "      <td>1981.0</td>\n",
       "      <td>1977.0</td>\n",
       "      <td>1 - Basic</td>\n",
       "      <td>1971.0</td>\n",
       "      <td>2.0</td>\n",
       "      <td>1.0</td>\n",
       "      <td>250.05</td>\n",
       "      <td>0.65</td>\n",
       "      <td>188.59</td>\n",
       "      <td>211.15</td>\n",
       "      <td>198.37</td>\n",
       "      <td>63.90</td>\n",
       "      <td>112.91</td>\n",
       "      <td>39.0</td>\n",
       "      <td>774.92</td>\n",
       "      <td>35.0</td>\n",
       "    </tr>\n",
       "    <tr>\n",
       "      <td>10295</td>\n",
       "      <td>10296</td>\n",
       "      <td>1990.0</td>\n",
       "      <td>1981.0</td>\n",
       "      <td>4 - PhD</td>\n",
       "      <td>2815.0</td>\n",
       "      <td>1.0</td>\n",
       "      <td>1.0</td>\n",
       "      <td>463.75</td>\n",
       "      <td>0.27</td>\n",
       "      <td>414.08</td>\n",
       "      <td>94.45</td>\n",
       "      <td>141.25</td>\n",
       "      <td>6.89</td>\n",
       "      <td>12.89</td>\n",
       "      <td>35.0</td>\n",
       "      <td>669.56</td>\n",
       "      <td>26.0</td>\n",
       "    </tr>\n",
       "  </tbody>\n",
       "</table>\n",
       "<p>10058 rows × 17 columns</p>\n",
       "</div>"
      ],
      "text/plain": [
       "       Customer Identity  First Policy´s Year  Brithday Year  \\\n",
       "0                      1               1985.0         1982.0   \n",
       "1                      2               1981.0         1995.0   \n",
       "2                      3               1991.0         1970.0   \n",
       "3                      4               1990.0         1981.0   \n",
       "4                      5               1986.0         1973.0   \n",
       "...                  ...                  ...            ...   \n",
       "10291              10292               1984.0         1949.0   \n",
       "10292              10293               1977.0         1952.0   \n",
       "10293              10294               1994.0         1976.0   \n",
       "10294              10295               1981.0         1977.0   \n",
       "10295              10296               1990.0         1981.0   \n",
       "\n",
       "      Educational Degree  Gross Monthly Salary  Geographic Living Area  \\\n",
       "0        2 - High School                2177.0                     1.0   \n",
       "1        2 - High School                 677.0                     4.0   \n",
       "2              1 - Basic                2277.0                     3.0   \n",
       "3            3 - BSc/MSc                1099.0                     4.0   \n",
       "4            3 - BSc/MSc                1763.0                     4.0   \n",
       "...                  ...                   ...                     ...   \n",
       "10291            4 - PhD                3188.0                     2.0   \n",
       "10292          1 - Basic                2431.0                     3.0   \n",
       "10293        3 - BSc/MSc                2918.0                     1.0   \n",
       "10294          1 - Basic                1971.0                     2.0   \n",
       "10295            4 - PhD                2815.0                     1.0   \n",
       "\n",
       "       Has Children (Y=1)  Customer Monetary Value  Claims Rate  \\\n",
       "0                     1.0                   380.97         0.39   \n",
       "1                     1.0                  -131.13         1.12   \n",
       "2                     0.0                   504.67         0.28   \n",
       "3                     1.0                   -16.99         0.99   \n",
       "4                     1.0                    35.23         0.90   \n",
       "...                   ...                      ...          ...   \n",
       "10291                 0.0                    -0.11         0.96   \n",
       "10292                 0.0                  1405.60         0.00   \n",
       "10293                 1.0                   524.10         0.21   \n",
       "10294                 1.0                   250.05         0.65   \n",
       "10295                 1.0                   463.75         0.27   \n",
       "\n",
       "       Premiums in LOB: Motor  Premiums in LOB: Household  \\\n",
       "0                      375.85                       79.45   \n",
       "1                       77.46                      416.20   \n",
       "2                      206.15                      224.50   \n",
       "3                      182.48                       43.35   \n",
       "4                      338.62                       47.80   \n",
       "...                       ...                         ...   \n",
       "10291                  393.74                       49.45   \n",
       "10292                  133.58                     1035.75   \n",
       "10293                  403.63                      132.80   \n",
       "10294                  188.59                      211.15   \n",
       "10295                  414.08                       94.45   \n",
       "\n",
       "       Premiums in LOB: Health  Premiums in LOB:  Life  \\\n",
       "0                       146.36                   47.01   \n",
       "1                       116.69                  194.48   \n",
       "2                       124.58                   86.35   \n",
       "3                       311.17                   35.34   \n",
       "4                       182.59                   18.78   \n",
       "...                        ...                     ...   \n",
       "10291                   173.81                    9.78   \n",
       "10292                   143.25                   12.89   \n",
       "10293                   142.25                   12.67   \n",
       "10294                   198.37                   63.90   \n",
       "10295                   141.25                    6.89   \n",
       "\n",
       "       Premiums in LOB: Work Compensations   Age  Client_Spend  Fidelity  \n",
       "0                                    16.89  34.0        665.56      31.0  \n",
       "1                                   106.13  21.0        910.96      35.0  \n",
       "2                                    99.02  46.0        740.60      25.0  \n",
       "3                                    28.34  35.0        600.68      26.0  \n",
       "4                                    41.45  43.0        629.24      30.0  \n",
       "...                                    ...   ...           ...       ...  \n",
       "10291                                14.78  67.0        641.56      32.0  \n",
       "10292                               105.13  64.0       1430.60      39.0  \n",
       "10293                                 4.89  40.0        696.24      22.0  \n",
       "10294                               112.91  39.0        774.92      35.0  \n",
       "10295                                12.89  35.0        669.56      26.0  \n",
       "\n",
       "[10058 rows x 17 columns]"
      ]
     },
     "execution_count": 40,
     "metadata": {},
     "output_type": "execute_result"
    }
   ],
   "source": [
    "insurance_df_ct = insurance_dff\n",
    "insurance_df_ct"
   ]
  },
  {
   "cell_type": "markdown",
   "metadata": {},
   "source": [
    "## 2. Methodology\n"
   ]
  },
  {
   "cell_type": "code",
   "execution_count": 41,
   "metadata": {},
   "outputs": [
    {
     "data": {
      "text/html": [
       "<div>\n",
       "<style scoped>\n",
       "    .dataframe tbody tr th:only-of-type {\n",
       "        vertical-align: middle;\n",
       "    }\n",
       "\n",
       "    .dataframe tbody tr th {\n",
       "        vertical-align: top;\n",
       "    }\n",
       "\n",
       "    .dataframe thead th {\n",
       "        text-align: right;\n",
       "    }\n",
       "</style>\n",
       "<table border=\"1\" class=\"dataframe\">\n",
       "  <thead>\n",
       "    <tr style=\"text-align: right;\">\n",
       "      <th></th>\n",
       "      <th>Customer Identity</th>\n",
       "      <th>First Policy´s Year</th>\n",
       "      <th>Brithday Year</th>\n",
       "      <th>Gross Monthly Salary</th>\n",
       "      <th>Geographic Living Area</th>\n",
       "      <th>Has Children (Y=1)</th>\n",
       "      <th>Customer Monetary Value</th>\n",
       "      <th>Claims Rate</th>\n",
       "      <th>Premiums in LOB: Motor</th>\n",
       "      <th>Premiums in LOB: Household</th>\n",
       "      <th>Premiums in LOB: Health</th>\n",
       "      <th>Premiums in LOB:  Life</th>\n",
       "      <th>Premiums in LOB: Work Compensations</th>\n",
       "      <th>Age</th>\n",
       "      <th>Client_Spend</th>\n",
       "      <th>Fidelity</th>\n",
       "    </tr>\n",
       "  </thead>\n",
       "  <tbody>\n",
       "    <tr>\n",
       "      <td>count</td>\n",
       "      <td>10058.000000</td>\n",
       "      <td>10058.000000</td>\n",
       "      <td>10044.000000</td>\n",
       "      <td>10058.000000</td>\n",
       "      <td>10058.000000</td>\n",
       "      <td>10058.000000</td>\n",
       "      <td>10058.000000</td>\n",
       "      <td>10058.000000</td>\n",
       "      <td>10058.000000</td>\n",
       "      <td>10058.000000</td>\n",
       "      <td>10058.000000</td>\n",
       "      <td>10058.000000</td>\n",
       "      <td>10058.000000</td>\n",
       "      <td>10058.000000</td>\n",
       "      <td>10058.000000</td>\n",
       "      <td>10058.000000</td>\n",
       "    </tr>\n",
       "    <tr>\n",
       "      <td>mean</td>\n",
       "      <td>5146.270730</td>\n",
       "      <td>1986.012229</td>\n",
       "      <td>1967.708284</td>\n",
       "      <td>2518.552837</td>\n",
       "      <td>2.709087</td>\n",
       "      <td>0.708391</td>\n",
       "      <td>215.792538</td>\n",
       "      <td>0.681569</td>\n",
       "      <td>300.152845</td>\n",
       "      <td>202.156308</td>\n",
       "      <td>168.202042</td>\n",
       "      <td>39.011911</td>\n",
       "      <td>38.695358</td>\n",
       "      <td>48.291154</td>\n",
       "      <td>748.218465</td>\n",
       "      <td>29.987771</td>\n",
       "    </tr>\n",
       "    <tr>\n",
       "      <td>std</td>\n",
       "      <td>2970.867682</td>\n",
       "      <td>6.605817</td>\n",
       "      <td>17.168201</td>\n",
       "      <td>972.637951</td>\n",
       "      <td>1.266859</td>\n",
       "      <td>0.454526</td>\n",
       "      <td>263.237793</td>\n",
       "      <td>0.338073</td>\n",
       "      <td>136.264522</td>\n",
       "      <td>228.373174</td>\n",
       "      <td>74.858441</td>\n",
       "      <td>41.911596</td>\n",
       "      <td>42.123355</td>\n",
       "      <td>17.156253</td>\n",
       "      <td>188.581906</td>\n",
       "      <td>6.605817</td>\n",
       "    </tr>\n",
       "    <tr>\n",
       "      <td>min</td>\n",
       "      <td>1.000000</td>\n",
       "      <td>1974.000000</td>\n",
       "      <td>1935.000000</td>\n",
       "      <td>333.000000</td>\n",
       "      <td>1.000000</td>\n",
       "      <td>0.000000</td>\n",
       "      <td>-6115.850000</td>\n",
       "      <td>0.000000</td>\n",
       "      <td>-4.110000</td>\n",
       "      <td>-75.000000</td>\n",
       "      <td>-2.110000</td>\n",
       "      <td>-7.000000</td>\n",
       "      <td>-12.000000</td>\n",
       "      <td>15.000000</td>\n",
       "      <td>0.000000</td>\n",
       "      <td>18.000000</td>\n",
       "    </tr>\n",
       "    <tr>\n",
       "      <td>25%</td>\n",
       "      <td>2573.250000</td>\n",
       "      <td>1980.000000</td>\n",
       "      <td>1953.000000</td>\n",
       "      <td>1745.250000</td>\n",
       "      <td>1.000000</td>\n",
       "      <td>0.000000</td>\n",
       "      <td>-9.075000</td>\n",
       "      <td>0.390000</td>\n",
       "      <td>196.647500</td>\n",
       "      <td>48.900000</td>\n",
       "      <td>111.910000</td>\n",
       "      <td>9.780000</td>\n",
       "      <td>9.890000</td>\n",
       "      <td>34.000000</td>\n",
       "      <td>625.680000</td>\n",
       "      <td>24.000000</td>\n",
       "    </tr>\n",
       "    <tr>\n",
       "      <td>50%</td>\n",
       "      <td>5142.500000</td>\n",
       "      <td>1986.000000</td>\n",
       "      <td>1967.000000</td>\n",
       "      <td>2517.500000</td>\n",
       "      <td>3.000000</td>\n",
       "      <td>1.000000</td>\n",
       "      <td>186.150000</td>\n",
       "      <td>0.720000</td>\n",
       "      <td>302.280000</td>\n",
       "      <td>131.700000</td>\n",
       "      <td>163.030000</td>\n",
       "      <td>24.560000</td>\n",
       "      <td>25.340000</td>\n",
       "      <td>49.000000</td>\n",
       "      <td>695.360000</td>\n",
       "      <td>30.000000</td>\n",
       "    </tr>\n",
       "    <tr>\n",
       "      <td>75%</td>\n",
       "      <td>7715.750000</td>\n",
       "      <td>1992.000000</td>\n",
       "      <td>1982.000000</td>\n",
       "      <td>3295.000000</td>\n",
       "      <td>4.000000</td>\n",
       "      <td>1.000000</td>\n",
       "      <td>397.937500</td>\n",
       "      <td>0.980000</td>\n",
       "      <td>409.190000</td>\n",
       "      <td>284.500000</td>\n",
       "      <td>219.930000</td>\n",
       "      <td>55.010000</td>\n",
       "      <td>54.120000</td>\n",
       "      <td>63.000000</td>\n",
       "      <td>819.717500</td>\n",
       "      <td>36.000000</td>\n",
       "    </tr>\n",
       "    <tr>\n",
       "      <td>max</td>\n",
       "      <td>10296.000000</td>\n",
       "      <td>1998.000000</td>\n",
       "      <td>2001.000000</td>\n",
       "      <td>5021.000000</td>\n",
       "      <td>4.000000</td>\n",
       "      <td>1.000000</td>\n",
       "      <td>1571.760000</td>\n",
       "      <td>9.870000</td>\n",
       "      <td>585.220000</td>\n",
       "      <td>1544.750000</td>\n",
       "      <td>442.860000</td>\n",
       "      <td>220.930000</td>\n",
       "      <td>235.710000</td>\n",
       "      <td>81.000000</td>\n",
       "      <td>1809.690000</td>\n",
       "      <td>42.000000</td>\n",
       "    </tr>\n",
       "  </tbody>\n",
       "</table>\n",
       "</div>"
      ],
      "text/plain": [
       "       Customer Identity  First Policy´s Year  Brithday Year  \\\n",
       "count       10058.000000         10058.000000   10044.000000   \n",
       "mean         5146.270730          1986.012229    1967.708284   \n",
       "std          2970.867682             6.605817      17.168201   \n",
       "min             1.000000          1974.000000    1935.000000   \n",
       "25%          2573.250000          1980.000000    1953.000000   \n",
       "50%          5142.500000          1986.000000    1967.000000   \n",
       "75%          7715.750000          1992.000000    1982.000000   \n",
       "max         10296.000000          1998.000000    2001.000000   \n",
       "\n",
       "       Gross Monthly Salary  Geographic Living Area  Has Children (Y=1)  \\\n",
       "count          10058.000000            10058.000000        10058.000000   \n",
       "mean            2518.552837                2.709087            0.708391   \n",
       "std              972.637951                1.266859            0.454526   \n",
       "min              333.000000                1.000000            0.000000   \n",
       "25%             1745.250000                1.000000            0.000000   \n",
       "50%             2517.500000                3.000000            1.000000   \n",
       "75%             3295.000000                4.000000            1.000000   \n",
       "max             5021.000000                4.000000            1.000000   \n",
       "\n",
       "       Customer Monetary Value   Claims Rate  Premiums in LOB: Motor  \\\n",
       "count             10058.000000  10058.000000            10058.000000   \n",
       "mean                215.792538      0.681569              300.152845   \n",
       "std                 263.237793      0.338073              136.264522   \n",
       "min               -6115.850000      0.000000               -4.110000   \n",
       "25%                  -9.075000      0.390000              196.647500   \n",
       "50%                 186.150000      0.720000              302.280000   \n",
       "75%                 397.937500      0.980000              409.190000   \n",
       "max                1571.760000      9.870000              585.220000   \n",
       "\n",
       "       Premiums in LOB: Household  Premiums in LOB: Health  \\\n",
       "count                10058.000000             10058.000000   \n",
       "mean                   202.156308               168.202042   \n",
       "std                    228.373174                74.858441   \n",
       "min                    -75.000000                -2.110000   \n",
       "25%                     48.900000               111.910000   \n",
       "50%                    131.700000               163.030000   \n",
       "75%                    284.500000               219.930000   \n",
       "max                   1544.750000               442.860000   \n",
       "\n",
       "       Premiums in LOB:  Life  Premiums in LOB: Work Compensations  \\\n",
       "count            10058.000000                         10058.000000   \n",
       "mean                39.011911                            38.695358   \n",
       "std                 41.911596                            42.123355   \n",
       "min                 -7.000000                           -12.000000   \n",
       "25%                  9.780000                             9.890000   \n",
       "50%                 24.560000                            25.340000   \n",
       "75%                 55.010000                            54.120000   \n",
       "max                220.930000                           235.710000   \n",
       "\n",
       "                Age  Client_Spend      Fidelity  \n",
       "count  10058.000000  10058.000000  10058.000000  \n",
       "mean      48.291154    748.218465     29.987771  \n",
       "std       17.156253    188.581906      6.605817  \n",
       "min       15.000000      0.000000     18.000000  \n",
       "25%       34.000000    625.680000     24.000000  \n",
       "50%       49.000000    695.360000     30.000000  \n",
       "75%       63.000000    819.717500     36.000000  \n",
       "max       81.000000   1809.690000     42.000000  "
      ]
     },
     "execution_count": 41,
     "metadata": {},
     "output_type": "execute_result"
    }
   ],
   "source": [
    "insurance_df_ct.describe()"
   ]
  },
  {
   "cell_type": "markdown",
   "metadata": {},
   "source": [
    "## 3. Univariate Analysis"
   ]
  },
  {
   "cell_type": "code",
   "execution_count": 42,
   "metadata": {},
   "outputs": [],
   "source": [
    "# Chaging styles\n",
    "colors = [\"#154360\",\"#FF5733\",\"#FFC300\",\"#DAF7A6\"]\n",
    "sns.set_palette(sns.color_palette(colors))\n",
    "sns.set_style('whitegrid')\n"
   ]
  },
  {
   "cell_type": "markdown",
   "metadata": {},
   "source": [
    "   ##### Educational Degree"
   ]
  },
  {
   "cell_type": "code",
   "execution_count": 43,
   "metadata": {},
   "outputs": [
    {
     "data": {
      "text/plain": [
       "3 - BSc/MSc        4793\n",
       "2 - High School    3506\n",
       "1 - Basic          1270\n",
       "4 - PhD             695\n",
       "Name: Educational Degree, dtype: int64"
      ]
     },
     "execution_count": 43,
     "metadata": {},
     "output_type": "execute_result"
    }
   ],
   "source": [
    "insurance_df['Educational Degree'].value_counts().sum() #No NA's\n",
    "insurance_df['Educational Degree'].value_counts()"
   ]
  },
  {
   "cell_type": "markdown",
   "metadata": {},
   "source": [
    "##### Has Children"
   ]
  },
  {
   "cell_type": "code",
   "execution_count": 44,
   "metadata": {},
   "outputs": [
    {
     "data": {
      "text/plain": [
       "1.0    7261\n",
       "0.0    3003\n",
       "Name: Has Children (Y=1), dtype: int64"
      ]
     },
     "execution_count": 44,
     "metadata": {},
     "output_type": "execute_result"
    }
   ],
   "source": [
    "insurance_df['Has Children (Y=1)'].value_counts().sum() #No NA's\n",
    "insurance_df['Has Children (Y=1)'].value_counts()"
   ]
  },
  {
   "cell_type": "markdown",
   "metadata": {},
   "source": [
    "#### Geographic Living Area"
   ]
  },
  {
   "cell_type": "code",
   "execution_count": 45,
   "metadata": {},
   "outputs": [
    {
     "data": {
      "text/plain": [
       "4.0    4139\n",
       "1.0    3035\n",
       "3.0    2063\n",
       "2.0    1027\n",
       "Name: Geographic Living Area, dtype: int64"
      ]
     },
     "execution_count": 45,
     "metadata": {},
     "output_type": "execute_result"
    }
   ],
   "source": [
    "insurance_df['Geographic Living Area'].value_counts().sum() #No NA's\n",
    "insurance_df['Geographic Living Area'].value_counts()"
   ]
  },
  {
   "cell_type": "code",
   "execution_count": 46,
   "metadata": {},
   "outputs": [
    {
     "data": {
      "text/plain": [
       "<matplotlib.axes._subplots.AxesSubplot at 0x1567d7faba8>"
      ]
     },
     "execution_count": 46,
     "metadata": {},
     "output_type": "execute_result"
    },
    {
     "data": {
      "image/png": "[encoded data removed]",
      "text/plain": [
       "<Figure size 1152x216 with 3 Axes>"
      ]
     },
     "metadata": {},
     "output_type": "display_data"
    }
   ],
   "source": [
    "fig = plt.figure(figsize=(16,3))\n",
    "grid = plt.GridSpec(ncols=3, nrows=1)\n",
    "ax1 = fig.add_subplot(grid[0, 0])\n",
    "ax2 = fig.add_subplot(grid[0, 1])\n",
    "ax3 = fig.add_subplot(grid[0, 2])\n",
    "sns.countplot(x='Educational Degree', data=insurance_df, ax=ax1)\n",
    "sns.countplot(x='Has Children (Y=1)', data=insurance_df,ax=ax2)\n",
    "sns.countplot(x='Geographic Living Area', data=insurance_df, ax=ax3)"
   ]
  },
  {
   "cell_type": "markdown",
   "metadata": {},
   "source": [
    "#### BirthDate"
   ]
  },
  {
   "cell_type": "code",
   "execution_count": 47,
   "metadata": {},
   "outputs": [
    {
     "name": "stderr",
     "output_type": "stream",
     "text": [
      "C:\\Users\\User\\Anaconda3\\lib\\site-packages\\numpy\\lib\\histograms.py:824: RuntimeWarning:\n",
      "\n",
      "invalid value encountered in greater_equal\n",
      "\n",
      "C:\\Users\\User\\Anaconda3\\lib\\site-packages\\numpy\\lib\\histograms.py:825: RuntimeWarning:\n",
      "\n",
      "invalid value encountered in less_equal\n",
      "\n"
     ]
    },
    {
     "data": {
      "text/plain": [
       "<matplotlib.axes._subplots.AxesSubplot at 0x1567ff578d0>"
      ]
     },
     "execution_count": 47,
     "metadata": {},
     "output_type": "execute_result"
    },
    {
     "data": {
      "image/png": "[encoded data removed]",
      "text/plain": [
       "<Figure size 432x288 with 1 Axes>"
      ]
     },
     "metadata": {},
     "output_type": "display_data"
    }
   ],
   "source": [
    "sns.distplot(insurance_df['Age'],bins=30,kde=False,color='RoyalBlue')"
   ]
  },
  {
   "cell_type": "markdown",
   "metadata": {},
   "source": [
    "#### Gross Monthly Salary"
   ]
  },
  {
   "cell_type": "code",
   "execution_count": 48,
   "metadata": {},
   "outputs": [
    {
     "data": {
      "text/plain": [
       "0        2177.0\n",
       "1         677.0\n",
       "2        2277.0\n",
       "3        1099.0\n",
       "4        1763.0\n",
       "          ...  \n",
       "10291    3188.0\n",
       "10292    2431.0\n",
       "10293    2918.0\n",
       "10294    1971.0\n",
       "10295    2815.0\n",
       "Name: Gross Monthly Salary, Length: 10264, dtype: float64"
      ]
     },
     "execution_count": 48,
     "metadata": {},
     "output_type": "execute_result"
    }
   ],
   "source": [
    "insurance_df['Gross Monthly Salary']\n",
    "insurance_df['Gross Monthly Salary'].describe()\n",
    "sum(insurance_df['Gross Monthly Salary'].isnull()) # 34 NA's\n",
    "insurance_df['Gross Monthly Salary'].describe()\n",
    "insurance_df['Gross Monthly Salary'].fillna(0)"
   ]
  },
  {
   "cell_type": "markdown",
   "metadata": {},
   "source": [
    "#### Premiums (Euros) "
   ]
  },
  {
   "cell_type": "code",
   "execution_count": 49,
   "metadata": {},
   "outputs": [
    {
     "name": "stdout",
     "output_type": "stream",
     "text": [
      "<class 'pandas.core.frame.DataFrame'>\n",
      "Int64Index: 10264 entries, 0 to 10295\n",
      "Data columns (total 17 columns):\n",
      "Customer Identity                      10264 non-null int64\n",
      "First Policy´s Year                    10264 non-null float64\n",
      "Brithday Year                          10250 non-null float64\n",
      "Educational Degree                     10264 non-null object\n",
      "Gross Monthly Salary                   10230 non-null float64\n",
      "Geographic Living Area                 10264 non-null float64\n",
      "Has Children (Y=1)                     10264 non-null float64\n",
      "Customer Monetary Value                10264 non-null float64\n",
      "Claims Rate                            10264 non-null float64\n",
      "Premiums in LOB: Motor                 10264 non-null float64\n",
      "Premiums in LOB: Household             10264 non-null float64\n",
      "Premiums in LOB: Health                10264 non-null float64\n",
      "Premiums in LOB:  Life                 10264 non-null float64\n",
      "Premiums in LOB: Work Compensations    10264 non-null float64\n",
      "Age                                    10250 non-null float64\n",
      "Client_Spend                           10264 non-null float64\n",
      "Fidelity                               10264 non-null float64\n",
      "dtypes: float64(15), int64(1), object(1)\n",
      "memory usage: 1.7+ MB\n"
     ]
    },
    {
     "data": {
      "text/plain": [
       "0         16.89\n",
       "1        106.13\n",
       "2         99.02\n",
       "3         28.34\n",
       "4         41.45\n",
       "          ...  \n",
       "10291     14.78\n",
       "10292    105.13\n",
       "10293      4.89\n",
       "10294    112.91\n",
       "10295     12.89\n",
       "Name: Premiums in LOB: Work Compensations, Length: 10264, dtype: float64"
      ]
     },
     "execution_count": 49,
     "metadata": {},
     "output_type": "execute_result"
    }
   ],
   "source": [
    "insurance_df.info()\n",
    "insurance_df['Premiums in LOB: Motor']\n",
    "insurance_df['Premiums in LOB: Household']\n",
    "insurance_df['Premiums in LOB: Health']\n",
    "insurance_df['Premiums in LOB:  Life']\n",
    "insurance_df['Premiums in LOB: Work Compensations']"
   ]
  },
  {
   "cell_type": "markdown",
   "metadata": {},
   "source": [
    "## 4. Multivariate Analysis"
   ]
  },
  {
   "cell_type": "code",
   "execution_count": 50,
   "metadata": {
    "scrolled": true
   },
   "outputs": [
    {
     "name": "stdout",
     "output_type": "stream",
     "text": [
      "<class 'pandas.core.frame.DataFrame'>\n",
      "Int64Index: 10264 entries, 0 to 10295\n",
      "Data columns (total 17 columns):\n",
      "Customer Identity                      10264 non-null int64\n",
      "First Policy´s Year                    10264 non-null float64\n",
      "Brithday Year                          10250 non-null float64\n",
      "Educational Degree                     10264 non-null object\n",
      "Gross Monthly Salary                   10230 non-null float64\n",
      "Geographic Living Area                 10264 non-null float64\n",
      "Has Children (Y=1)                     10264 non-null float64\n",
      "Customer Monetary Value                10264 non-null float64\n",
      "Claims Rate                            10264 non-null float64\n",
      "Premiums in LOB: Motor                 10264 non-null float64\n",
      "Premiums in LOB: Household             10264 non-null float64\n",
      "Premiums in LOB: Health                10264 non-null float64\n",
      "Premiums in LOB:  Life                 10264 non-null float64\n",
      "Premiums in LOB: Work Compensations    10264 non-null float64\n",
      "Age                                    10250 non-null float64\n",
      "Client_Spend                           10264 non-null float64\n",
      "Fidelity                               10264 non-null float64\n",
      "dtypes: float64(15), int64(1), object(1)\n",
      "memory usage: 1.7+ MB\n"
     ]
    }
   ],
   "source": [
    "insurance_df.info()\n"
   ]
  },
  {
   "cell_type": "markdown",
   "metadata": {},
   "source": [
    "Lets study the correlation between each one of the ratio variables"
   ]
  },
  {
   "cell_type": "code",
   "execution_count": 51,
   "metadata": {},
   "outputs": [
    {
     "data": {
      "text/plain": [
       "<matplotlib.axes._subplots.AxesSubplot at 0x1567e366b00>"
      ]
     },
     "execution_count": 51,
     "metadata": {},
     "output_type": "execute_result"
    },
    {
     "data": {
      "image/png": "[encoded data removed]",
      "text/plain": [
       "<Figure size 432x288 with 2 Axes>"
      ]
     },
     "metadata": {},
     "output_type": "display_data"
    }
   ],
   "source": [
    "insurance_corr = insurance_df[premiums].corr()\n",
    "insurance_corr\n",
    "#Correlation plot\n",
    "mask = np.zeros_like(insurance_corr, dtype=np.bool)\n",
    "mask[np.triu_indices_from(mask)] = True\n",
    "\n",
    "#  #Colors\n",
    "cmap = sns.diverging_palette(240, 10, n=9,)\n",
    "# # #Plotting the heatmap\n",
    "sns.heatmap(insurance_corr, mask=mask, linewidths=.5, cmap = [\"#154360\",\"#2575a7\",\"#96c9e8\",\"#c1dff0\",\"#eaf4fa\",\"#ffeae6\",\"#ffc1b3\",\"#ff8266\",\"#FF5733\"]\n",
    ")\n",
    "#Low correlations but we can consider a small correlation between \n",
    "#\"Premiums in LOB: Motor\" and Premiums in LOB: Work Compensations"
   ]
  },
  {
   "cell_type": "code",
   "execution_count": 52,
   "metadata": {},
   "outputs": [
    {
     "data": {
      "text/plain": [
       "<matplotlib.axes._subplots.AxesSubplot at 0x1567e42f438>"
      ]
     },
     "execution_count": 52,
     "metadata": {},
     "output_type": "execute_result"
    },
    {
     "data": {
      "image/png": "[encoded data removed]",
      "text/plain": [
       "<Figure size 432x288 with 2 Axes>"
      ]
     },
     "metadata": {},
     "output_type": "display_data"
    }
   ],
   "source": [
    "insurance_corr = insurance_df[customer].corr()\n",
    "insurance_corr\n",
    "#Correlation plot\n",
    "mask = np.zeros_like(insurance_corr, dtype=np.bool)\n",
    "mask[np.triu_indices_from(mask)] = True\n",
    "\n",
    "#  #Colors\n",
    "cmap = sns.diverging_palette(240, 10, n=9)\n",
    "# # #Plotting the heatmap\n",
    "sns.heatmap(insurance_corr, mask=mask, linewidths=.5, cmap = [\"#154360\",\"#2575a7\",\"#96c9e8\",\"#c1dff0\",\"#eaf4fa\",\"#ffeae6\",\"#ffc1b3\",\"#ff8266\",\"#FF5733\"]\n",
    ")"
   ]
  },
  {
   "cell_type": "markdown",
   "metadata": {},
   "source": [
    "We noticed that there's no high correlation between each one the Premiums, so we'll keep working on others creations.\n",
    "We will calculate the Contingency coefficient of each one the Categorical variables with the continuous variables."
   ]
  },
  {
   "cell_type": "code",
   "execution_count": 53,
   "metadata": {},
   "outputs": [],
   "source": [
    "#nominals = insurance_df[['Educational Degree','Geographic Living Area','Has Children (Y=1)']]"
   ]
  },
  {
   "cell_type": "code",
   "execution_count": 54,
   "metadata": {},
   "outputs": [
    {
     "name": "stdout",
     "output_type": "stream",
     "text": [
      "Geographic Living Area   1.0  2.0  3.0   4.0\n",
      "Educational Degree                          \n",
      "1 - Basic                375  125  255   515\n",
      "2 - High School         1012  354  681  1459\n",
      "3 - BSc/MSc             1430  478  988  1897\n",
      "4 - PhD                  218   70  139   268\n",
      "Power_divergenceResult(statistic=array([1257.84085667,  430.93573515,  892.40668929, 1721.68035757]), pvalue=array([2.06740797e-272, 4.40194599e-093, 3.92696404e-193, 0.00000000e+000]))\n",
      "Has Children (Y=1)   0.0   1.0\n",
      "Educational Degree            \n",
      "1 - Basic            377   893\n",
      "2 - High School     1027  2479\n",
      "3 - BSc/MSc         1393  3400\n",
      "4 - PhD              206   489\n",
      "Power_divergenceResult(statistic=array([1232.42191142, 3063.75471698]), pvalue=array([6.77101813e-267, 0.00000000e+000]))\n",
      "Has Children (Y=1)       0.0   1.0\n",
      "Geographic Living Area            \n",
      "1.0                      847  2188\n",
      "2.0                      308   719\n",
      "3.0                      585  1478\n",
      "4.0                     1263  2876\n",
      "Power_divergenceResult(statistic=array([ 659.56010656, 1421.09062113]), pvalue=array([1.23187556e-142, 7.80995826e-308]))\n"
     ]
    }
   ],
   "source": [
    "from scipy.stats import chisquare\n",
    "\n",
    "#Educational Degree and Geographic Living Area\n",
    "data_crosstab1 = pd.crosstab(insurance_df['Educational Degree'], insurance_df['Geographic Living Area'] , \n",
    "                               margins = False) \n",
    "print(data_crosstab1) \n",
    "\n",
    "print(chisquare(data_crosstab1))\n",
    "\n",
    "#Educational Degree and Has Children\n",
    "data_crosstab2 = pd.crosstab(insurance_df['Educational Degree'], insurance_df['Has Children (Y=1)'] , \n",
    "                               margins = False) \n",
    "print(data_crosstab2) \n",
    "\n",
    "print(chisquare(data_crosstab2))\n",
    "\n",
    "#Geographic Living Area and Has Children\n",
    "data_crosstab3 = pd.crosstab(insurance_df['Geographic Living Area'], insurance_df['Has Children (Y=1)'] , \n",
    "                               margins = False) \n",
    "print(data_crosstab3) \n",
    "\n",
    "print(chisquare(data_crosstab3))"
   ]
  },
  {
   "cell_type": "markdown",
   "metadata": {},
   "source": [
    "## 5. Clustering"
   ]
  },
  {
   "cell_type": "markdown",
   "metadata": {},
   "source": [
    "#### K- MEANS AND K-MODES AND HIERARCHICAL\n"
   ]
  },
  {
   "cell_type": "markdown",
   "metadata": {},
   "source": [
    "#### Customers"
   ]
  },
  {
   "cell_type": "code",
   "execution_count": 55,
   "metadata": {},
   "outputs": [],
   "source": [
    "cust_clust = insurance_df_ct[customer].loc[:,insurance_df_ct[customer].columns != \"Customer Identity\"]"
   ]
  },
  {
   "cell_type": "code",
   "execution_count": 56,
   "metadata": {},
   "outputs": [
    {
     "data": {
      "text/plain": [
       "['Gross Monthly Salary',\n",
       " 'Claims Rate',\n",
       " 'Customer Monetary Value',\n",
       " 'Client_Spend',\n",
       " 'Fidelity',\n",
       " 'Age']"
      ]
     },
     "execution_count": 56,
     "metadata": {},
     "output_type": "execute_result"
    }
   ],
   "source": [
    "list(cust_clust)"
   ]
  },
  {
   "cell_type": "code",
   "execution_count": 57,
   "metadata": {},
   "outputs": [
    {
     "data": {
      "image/png": "[encoded data removed]",
      "text/plain": [
       "<Figure size 432x288 with 1 Axes>"
      ]
     },
     "metadata": {},
     "output_type": "display_data"
    }
   ],
   "source": [
    "from scipy.cluster.hierarchy import dendrogram, linkage\n",
    "from sklearn.preprocessing import StandardScaler\n",
    "\n",
    "scaler = StandardScaler()\n",
    "CA_Norm = scaler.fit_transform(cust_clust)\n",
    "CA_Norm = pd.DataFrame(CA_Norm, columns = cust_clust.columns)\n",
    "Z = linkage(CA_Norm,\n",
    "            method = 'ward')\n",
    "\n",
    "dendrogram(Z,\n",
    "            #truncate_mode='none',\n",
    "            truncate_mode='lastp',\n",
    "            p=40,\n",
    "            orientation = 'top',\n",
    "            leaf_rotation=45.,\n",
    "            leaf_font_size=10.,\n",
    "            show_contracted=True,\n",
    "            show_leaf_counts=True, color_threshold=50, above_threshold_color='k')\n",
    "\n",
    "\n",
    "plt.title('Truncated Hierarchical Clustering Dendrogram')\n",
    "plt.xlabel('Cluster Size')\n",
    "plt.ylabel('Distance')\n",
    "plt.axhline(y=95)\n",
    "plt.show()"
   ]
  },
  {
   "cell_type": "markdown",
   "metadata": {},
   "source": [
    "Because of the hierarchical dendogram, we observed that we need two clusters to describe our data related to the \"customers\""
   ]
  },
  {
   "cell_type": "code",
   "execution_count": 58,
   "metadata": {},
   "outputs": [
    {
     "data": {
      "image/png": "[encoded data removed]",
      "text/plain": [
       "<Figure size 432x288 with 1 Axes>"
      ]
     },
     "metadata": {},
     "output_type": "display_data"
    }
   ],
   "source": [
    "#KMEANS For Customers\n",
    "from sklearn.preprocessing import StandardScaler\n",
    "scaler = StandardScaler()\n",
    "CA_Norm = scaler.fit_transform(cust_clust)\n",
    "CA_Norm = pd.DataFrame(CA_Norm, columns = cust_clust.columns)\n",
    "\n",
    "from sklearn.cluster import KMeans\n",
    "n_clusters_for_customers = 3\n",
    "\n",
    "kmeans = KMeans(n_clusters= 3, \n",
    "                random_state=0,\n",
    "                n_init = 5,\n",
    "                max_iter = 200).fit(CA_Norm)\n",
    "\n",
    "\n",
    "my_clusters = kmeans.cluster_centers_\n",
    "\n",
    "scaler.inverse_transform( X = my_clusters)\n",
    "my_clusters = pd.DataFrame(scaler.inverse_transform(X = my_clusters), columns = cust_clust.columns)\n",
    "# Check the Clusters\n",
    "\n",
    "Sum_of_squared_distances = []\n",
    "K = range(1,15)\n",
    "for k in K:\n",
    "    km = KMeans(n_clusters=k)\n",
    "    km = km.fit(CA_Norm)\n",
    "    Sum_of_squared_distances.append(km.inertia_)\n",
    "\n",
    "import pandas as pd\n",
    "from sklearn.datasets.samples_generator import make_blobs\n",
    "from sklearn.cluster import KMeans\n",
    "\n",
    "# 'First Policy´s Year','Brithday Year','Gross Monthly Salary','Claims Rate','Customer Monetary Value',\n",
    "y = kmeans.fit_predict(cust_clust)\n",
    "\n",
    "insurance_df_ct['Cluster'] = y\n",
    "\n",
    "kmeansC = kmeans\n",
    "\n",
    "#Plot Elbow Method\n",
    "plt.plot(K, Sum_of_squared_distances, 'bx-', color='indianred')\n",
    "plt.xlabel('k')\n",
    "plt.ylabel('Sum of squared distances')\n",
    "plt.title('Elbow Method For Optimal k')\n",
    "plt.show()\n"
   ]
  },
  {
   "cell_type": "code",
   "execution_count": 59,
   "metadata": {},
   "outputs": [
    {
     "name": "stdout",
     "output_type": "stream",
     "text": [
      "For n_clusters = 3 The average silhouette_score is : 0.12313641139792739\n"
     ]
    },
    {
     "data": {
      "image/png": "[encoded data removed]",
      "text/plain": [
       "<Figure size 432x288 with 1 Axes>"
      ]
     },
     "metadata": {},
     "output_type": "display_data"
    }
   ],
   "source": [
    "from sklearn.metrics import silhouette_samples\n",
    "from sklearn.metrics import silhouette_score\n",
    "\n",
    "silhouette_avg = silhouette_score(CA_Norm, kmeans.labels_)\n",
    "print(\"For n_clusters =\", n_clusters_for_customers,\n",
    "          \"The average silhouette_score is :\", silhouette_avg)\n",
    "\n",
    "# Compute the silhouette scores for each sample\n",
    "sample_silhouette_values = silhouette_samples(CA_Norm, kmeans.labels_)\n",
    "\n",
    "cluster_labels = kmeans.labels_\n",
    "\n",
    "import matplotlib.cm as cm\n",
    "y_lower = 100\n",
    "\n",
    "fig = plt.figure()\n",
    "ax1 = fig.add_subplot(111)\n",
    "\n",
    "for i in range(n_clusters_for_customers):\n",
    "    ith_cluster_silhouette_values = sample_silhouette_values[cluster_labels == i]\n",
    "    ith_cluster_silhouette_values.sort()\n",
    "    size_cluster_i=ith_cluster_silhouette_values. shape[0]\n",
    "    y_upper = y_lower + size_cluster_i\n",
    "    y_upper = y_lower + size_cluster_i\n",
    "    color = cm.nipy_spectral(float(i) / n_clusters_for_customers)\n",
    "    ax1.fill_betweenx(np.arange(y_lower, y_upper),\n",
    "                          0, ith_cluster_silhouette_values,\n",
    "                          facecolor=color, edgecolor=color, alpha=0.7)\n",
    "\n",
    "    # Label the silhouette plots with their cluster numbers at the middle\n",
    "    ax1.text(-0.05, y_lower + 0.5 * size_cluster_i, str(i))\n",
    "\n",
    "    # Compute the new y_lower for next plot\n",
    "    y_lower = y_upper + 10  # 10 for the 0 samples"
   ]
  },
  {
   "cell_type": "markdown",
   "metadata": {},
   "source": [
    "#### Premium"
   ]
  },
  {
   "cell_type": "code",
   "execution_count": 60,
   "metadata": {},
   "outputs": [
    {
     "data": {
      "image/png": "[encoded data removed]",
      "text/plain": [
       "<Figure size 432x288 with 1 Axes>"
      ]
     },
     "metadata": {},
     "output_type": "display_data"
    }
   ],
   "source": [
    "from scipy.cluster.hierarchy import dendrogram, linkage\n",
    "from sklearn.preprocessing import StandardScaler\n",
    "\n",
    "prem_clust = insurance_df_ct[premiums].loc[:,insurance_df_ct[premiums].columns != \"Customer Identity\"]\n",
    "\n",
    "scaler = StandardScaler()\n",
    "CA_Norm = scaler.fit_transform(prem_clust)\n",
    "CA_Norm = pd.DataFrame(CA_Norm, columns = prem_clust.columns)\n",
    "Z = linkage(CA_Norm,\n",
    "            method = 'ward')\n",
    "\n",
    "dendrogram(Z,\n",
    "            #truncate_mode='none',\n",
    "            truncate_mode='lastp',\n",
    "            p=40,\n",
    "            orientation = 'top',\n",
    "            leaf_rotation=45.,\n",
    "            leaf_font_size=10.,\n",
    "            show_contracted=True,\n",
    "            show_leaf_counts=True, color_threshold=50, above_threshold_color='k')\n",
    "\n",
    "\n",
    "plt.title('Truncated Hierarchical Clustering Dendrogram')\n",
    "plt.xlabel('Cluster Size')\n",
    "plt.ylabel('Distance')\n",
    "plt.axhline(y=110)\n",
    "plt.show()"
   ]
  },
  {
   "cell_type": "code",
   "execution_count": 61,
   "metadata": {},
   "outputs": [
    {
     "data": {
      "image/png": "[encoded data removed]",
      "text/plain": [
       "<Figure size 432x288 with 1 Axes>"
      ]
     },
     "metadata": {},
     "output_type": "display_data"
    }
   ],
   "source": [
    "#KMEANS For Premiums\n",
    "from sklearn.preprocessing import StandardScaler\n",
    "scaler = StandardScaler()\n",
    "CA_Norm = scaler.fit_transform(prem_clust)\n",
    "CA_Norm = pd.DataFrame(CA_Norm, columns = prem_clust.columns)\n",
    "\n",
    "from sklearn.cluster import KMeans\n",
    "n_clusters_for_customers = 2\n",
    "\n",
    "kmeans = KMeans(n_clusters= 2, \n",
    "                random_state=0,\n",
    "                n_init = 5,\n",
    "                max_iter = 200).fit(CA_Norm)\n",
    "\n",
    "\n",
    "my_clusters = kmeans.cluster_centers_\n",
    "\n",
    "scaler.inverse_transform( X = my_clusters)\n",
    "my_clusters = pd.DataFrame(scaler.inverse_transform(X = my_clusters), columns = prem_clust.columns)\n",
    "# Check the Clusters\n",
    "kmeansP = kmeans\n",
    "Sum_of_squared_distances = []\n",
    "K = range(1,15)\n",
    "for k in K:\n",
    "    km = KMeans(n_clusters=k)\n",
    "    km = km.fit(CA_Norm)\n",
    "    Sum_of_squared_distances.append(km.inertia_)\n",
    "\n",
    "import pandas as pd\n",
    "from sklearn.datasets.samples_generator import make_blobs\n",
    "from sklearn.cluster import KMeans\n",
    "\n",
    "y = kmeans.fit_predict(prem_clust)\n",
    "\n",
    "insurance_df_ct['Cluster'] = y\n",
    "\n",
    "\n",
    "\n",
    "#Plot Elbow Method\n",
    "plt.plot(K, Sum_of_squared_distances, 'bx-', color='indianred')\n",
    "plt.xlabel('k')\n",
    "plt.ylabel('Sum of squared distances')\n",
    "plt.title('Elbow Method For Optimal k')\n",
    "plt.show()\n"
   ]
  },
  {
   "cell_type": "code",
   "execution_count": 62,
   "metadata": {},
   "outputs": [
    {
     "name": "stdout",
     "output_type": "stream",
     "text": [
      "For n_clusters = 2 The average silhouette_score is : 0.3488858773234212\n"
     ]
    },
    {
     "data": {
      "image/png": "[encoded data removed]",
      "text/plain": [
       "<Figure size 432x288 with 1 Axes>"
      ]
     },
     "metadata": {},
     "output_type": "display_data"
    }
   ],
   "source": [
    "from sklearn.metrics import silhouette_samples\n",
    "from sklearn.metrics import silhouette_score\n",
    "\n",
    "silhouette_avg = silhouette_score(CA_Norm, kmeans.labels_)\n",
    "print(\"For n_clusters =\", n_clusters_for_customers,\n",
    "          \"The average silhouette_score is :\", silhouette_avg)\n",
    "\n",
    "# Compute the silhouette scores for each sample\n",
    "sample_silhouette_values = silhouette_samples(CA_Norm, kmeans.labels_)\n",
    "\n",
    "cluster_labels = kmeans.labels_\n",
    "\n",
    "import matplotlib.cm as cm\n",
    "y_lower = 100\n",
    "\n",
    "fig = plt.figure()\n",
    "ax1 = fig.add_subplot(111)\n",
    "\n",
    "for i in range(n_clusters_for_customers):\n",
    "    ith_cluster_silhouette_values = sample_silhouette_values[cluster_labels == i]\n",
    "    ith_cluster_silhouette_values.sort()\n",
    "    size_cluster_i=ith_cluster_silhouette_values. shape[0]\n",
    "    y_upper = y_lower + size_cluster_i\n",
    "    y_upper = y_lower + size_cluster_i\n",
    "    color = cm.nipy_spectral(float(i) / n_clusters_for_customers)\n",
    "    ax1.fill_betweenx(np.arange(y_lower, y_upper),\n",
    "                          0, ith_cluster_silhouette_values,\n",
    "                          facecolor=color, edgecolor=color, alpha=0.7)\n",
    "\n",
    "    # Label the silhouette plots with their cluster numbers at the middle\n",
    "    ax1.text(-0.05, y_lower + 0.5 * size_cluster_i, str(i))\n",
    "\n",
    "    # Compute the new y_lower for next plot\n",
    "    y_lower = y_upper + 10  # 10 for the 0 samples"
   ]
  },
  {
   "cell_type": "code",
   "execution_count": null,
   "metadata": {},
   "outputs": [],
   "source": [
    "# plt.scatter(X[:,0],X[:,1], c=kmeans.labels_, cmap='rainbow')\n",
    "# plt.scatter(kmeans.cluster_centers_[:,0] ,kmeans.cluster_centers_[:,1], color='black')"
   ]
  },
  {
   "cell_type": "code",
   "execution_count": null,
   "metadata": {},
   "outputs": [],
   "source": [
    "len(X)"
   ]
  },
  {
   "cell_type": "markdown",
   "metadata": {},
   "source": [
    "#### Clusterization of the Nominal of the costumers"
   ]
  },
  {
   "cell_type": "code",
   "execution_count": 165,
   "metadata": {},
   "outputs": [],
   "source": [
    "nominal_clust = insurance_df_ct[nominal].loc[:,insurance_df_ct[nominal].columns != \"Customer Identity\"]"
   ]
  },
  {
   "cell_type": "code",
   "execution_count": 166,
   "metadata": {},
   "outputs": [
    {
     "name": "stdout",
     "output_type": "stream",
     "text": [
      "Init: initializing centroids\n",
      "Init: initializing clusters\n",
      "Starting iterations...\n",
      "Run 1, iteration: 1/100, moves: 0, cost: 10766.0\n",
      "Init: initializing centroids\n",
      "Init: initializing clusters\n",
      "Starting iterations...\n",
      "Run 2, iteration: 1/100, moves: 1814, cost: 10179.0\n",
      "Run 2, iteration: 2/100, moves: 593, cost: 10179.0\n",
      "Init: initializing centroids\n",
      "Init: initializing clusters\n",
      "Starting iterations...\n",
      "Run 3, iteration: 1/100, moves: 0, cost: 8711.0\n",
      "Init: initializing centroids\n",
      "Init: initializing clusters\n",
      "Starting iterations...\n",
      "Run 4, iteration: 1/100, moves: 0, cost: 9849.0\n",
      "Init: initializing centroids\n",
      "Init: initializing clusters\n",
      "Starting iterations...\n",
      "Run 5, iteration: 1/100, moves: 2451, cost: 9223.0\n",
      "Run 5, iteration: 2/100, moves: 0, cost: 9223.0\n",
      "Init: initializing centroids\n",
      "Init: initializing clusters\n",
      "Starting iterations...\n",
      "Run 6, iteration: 1/100, moves: 0, cost: 9062.0\n",
      "Init: initializing centroids\n",
      "Init: initializing clusters\n",
      "Starting iterations...\n",
      "Run 7, iteration: 1/100, moves: 1798, cost: 9231.0\n",
      "Run 7, iteration: 2/100, moves: 0, cost: 9231.0\n",
      "Init: initializing centroids\n",
      "Init: initializing clusters\n",
      "Starting iterations...\n",
      "Run 8, iteration: 1/100, moves: 407, cost: 10156.0\n",
      "Run 8, iteration: 2/100, moves: 0, cost: 10156.0\n",
      "Init: initializing centroids\n",
      "Init: initializing clusters\n",
      "Starting iterations...\n",
      "Run 9, iteration: 1/100, moves: 0, cost: 10230.0\n",
      "Init: initializing centroids\n",
      "Init: initializing clusters\n",
      "Starting iterations...\n",
      "Run 10, iteration: 1/100, moves: 2012, cost: 9849.0\n",
      "Run 10, iteration: 2/100, moves: 0, cost: 9849.0\n",
      "Init: initializing centroids\n",
      "Init: initializing clusters\n",
      "Starting iterations...\n",
      "Run 11, iteration: 1/100, moves: 1495, cost: 9226.0\n",
      "Run 11, iteration: 2/100, moves: 0, cost: 9226.0\n",
      "Init: initializing centroids\n",
      "Init: initializing clusters\n",
      "Starting iterations...\n",
      "Run 12, iteration: 1/100, moves: 2895, cost: 9374.0\n",
      "Run 12, iteration: 2/100, moves: 5, cost: 9374.0\n",
      "Init: initializing centroids\n",
      "Init: initializing clusters\n",
      "Starting iterations...\n",
      "Run 13, iteration: 1/100, moves: 0, cost: 9195.0\n",
      "Init: initializing centroids\n",
      "Init: initializing clusters\n",
      "Starting iterations...\n",
      "Run 14, iteration: 1/100, moves: 3084, cost: 8695.0\n",
      "Run 14, iteration: 2/100, moves: 1789, cost: 8695.0\n",
      "Init: initializing centroids\n",
      "Init: initializing clusters\n",
      "Starting iterations...\n",
      "Run 15, iteration: 1/100, moves: 3025, cost: 9140.0\n",
      "Run 15, iteration: 2/100, moves: 0, cost: 9140.0\n",
      "Init: initializing centroids\n",
      "Init: initializing clusters\n",
      "Starting iterations...\n",
      "Run 16, iteration: 1/100, moves: 0, cost: 10068.0\n",
      "Init: initializing centroids\n",
      "Init: initializing clusters\n",
      "Starting iterations...\n",
      "Run 17, iteration: 1/100, moves: 2893, cost: 9231.0\n",
      "Run 17, iteration: 2/100, moves: 0, cost: 9231.0\n",
      "Init: initializing centroids\n",
      "Init: initializing clusters\n",
      "Starting iterations...\n",
      "Run 18, iteration: 1/100, moves: 0, cost: 10486.0\n",
      "Init: initializing centroids\n",
      "Init: initializing clusters\n",
      "Starting iterations...\n",
      "Run 19, iteration: 1/100, moves: 1047, cost: 9113.0\n",
      "Run 19, iteration: 2/100, moves: 241, cost: 9113.0\n",
      "Init: initializing centroids\n",
      "Init: initializing clusters\n",
      "Starting iterations...\n",
      "Run 20, iteration: 1/100, moves: 1922, cost: 8734.0\n",
      "Run 20, iteration: 2/100, moves: 5, cost: 8734.0\n",
      "Init: initializing centroids\n",
      "Init: initializing clusters\n",
      "Starting iterations...\n",
      "Run 21, iteration: 1/100, moves: 0, cost: 11679.0\n",
      "Init: initializing centroids\n",
      "Init: initializing clusters\n",
      "Starting iterations...\n",
      "Run 22, iteration: 1/100, moves: 3029, cost: 9129.0\n",
      "Run 22, iteration: 2/100, moves: 0, cost: 9129.0\n",
      "Init: initializing centroids\n",
      "Init: initializing clusters\n",
      "Starting iterations...\n",
      "Run 23, iteration: 1/100, moves: 0, cost: 9129.0\n",
      "Init: initializing centroids\n",
      "Init: initializing clusters\n",
      "Starting iterations...\n",
      "Run 24, iteration: 1/100, moves: 1142, cost: 9576.0\n",
      "Run 24, iteration: 2/100, moves: 0, cost: 9576.0\n",
      "Init: initializing centroids\n",
      "Init: initializing clusters\n",
      "Starting iterations...\n",
      "Run 25, iteration: 1/100, moves: 0, cost: 9803.0\n",
      "Init: initializing centroids\n",
      "Init: initializing clusters\n",
      "Starting iterations...\n",
      "Run 26, iteration: 1/100, moves: 1541, cost: 9803.0\n",
      "Run 26, iteration: 2/100, moves: 0, cost: 9803.0\n",
      "Init: initializing centroids\n",
      "Init: initializing clusters\n",
      "Starting iterations...\n",
      "Run 27, iteration: 1/100, moves: 621, cost: 9374.0\n",
      "Run 27, iteration: 2/100, moves: 0, cost: 9374.0\n",
      "Init: initializing centroids\n",
      "Init: initializing clusters\n",
      "Starting iterations...\n",
      "Run 28, iteration: 1/100, moves: 1862, cost: 9233.0\n",
      "Run 28, iteration: 2/100, moves: 0, cost: 9233.0\n",
      "Init: initializing centroids\n",
      "Init: initializing clusters\n",
      "Starting iterations...\n",
      "Run 29, iteration: 1/100, moves: 2870, cost: 8711.0\n",
      "Run 29, iteration: 2/100, moves: 0, cost: 8711.0\n",
      "Init: initializing centroids\n",
      "Init: initializing clusters\n",
      "Starting iterations...\n",
      "Run 30, iteration: 1/100, moves: 1343, cost: 8792.0\n",
      "Run 30, iteration: 2/100, moves: 0, cost: 8792.0\n",
      "Init: initializing centroids\n",
      "Init: initializing clusters\n",
      "Starting iterations...\n",
      "Run 31, iteration: 1/100, moves: 0, cost: 11243.0\n",
      "Init: initializing centroids\n",
      "Init: initializing clusters\n",
      "Starting iterations...\n",
      "Run 32, iteration: 1/100, moves: 1313, cost: 9081.0\n",
      "Run 32, iteration: 2/100, moves: 4, cost: 9081.0\n",
      "Init: initializing centroids\n",
      "Init: initializing clusters\n",
      "Starting iterations...\n",
      "Run 33, iteration: 1/100, moves: 0, cost: 10983.0\n",
      "Init: initializing centroids\n",
      "Init: initializing clusters\n",
      "Starting iterations...\n",
      "Run 34, iteration: 1/100, moves: 0, cost: 10100.0\n",
      "Init: initializing centroids\n",
      "Init: initializing clusters\n",
      "Starting iterations...\n",
      "Run 35, iteration: 1/100, moves: 4279, cost: 9129.0\n",
      "Run 35, iteration: 2/100, moves: 0, cost: 9129.0\n",
      "Init: initializing centroids\n",
      "Init: initializing clusters\n",
      "Starting iterations...\n",
      "Run 36, iteration: 1/100, moves: 3907, cost: 8956.0\n",
      "Run 36, iteration: 2/100, moves: 19, cost: 8956.0\n",
      "Init: initializing centroids\n",
      "Init: initializing clusters\n",
      "Starting iterations...\n",
      "Run 37, iteration: 1/100, moves: 0, cost: 8941.0\n",
      "Init: initializing centroids\n",
      "Init: initializing clusters\n",
      "Starting iterations...\n",
      "Run 38, iteration: 1/100, moves: 205, cost: 10462.0\n",
      "Run 38, iteration: 2/100, moves: 0, cost: 10462.0\n",
      "Init: initializing centroids\n",
      "Init: initializing clusters\n",
      "Starting iterations...\n",
      "Run 39, iteration: 1/100, moves: 0, cost: 9894.0\n",
      "Init: initializing centroids\n",
      "Init: initializing clusters\n",
      "Starting iterations...\n",
      "Run 40, iteration: 1/100, moves: 0, cost: 9686.0\n",
      "Init: initializing centroids\n",
      "Init: initializing clusters\n",
      "Starting iterations...\n",
      "Run 41, iteration: 1/100, moves: 2575, cost: 10656.0\n",
      "Run 41, iteration: 2/100, moves: 0, cost: 10656.0\n",
      "Init: initializing centroids\n",
      "Init: initializing clusters\n",
      "Starting iterations...\n",
      "Run 42, iteration: 1/100, moves: 2029, cost: 9223.0\n",
      "Run 42, iteration: 2/100, moves: 608, cost: 9223.0\n",
      "Init: initializing centroids\n",
      "Init: initializing clusters\n",
      "Starting iterations...\n",
      "Run 43, iteration: 1/100, moves: 1839, cost: 10158.0\n",
      "Run 43, iteration: 2/100, moves: 0, cost: 10158.0\n",
      "Init: initializing centroids\n",
      "Init: initializing clusters\n",
      "Starting iterations...\n",
      "Run 44, iteration: 1/100, moves: 2229, cost: 8722.0\n",
      "Run 44, iteration: 2/100, moves: 0, cost: 8722.0\n",
      "Init: initializing centroids\n",
      "Init: initializing clusters\n",
      "Starting iterations...\n",
      "Run 45, iteration: 1/100, moves: 0, cost: 10516.0\n",
      "Init: initializing centroids\n",
      "Init: initializing clusters\n",
      "Starting iterations...\n",
      "Run 46, iteration: 1/100, moves: 630, cost: 8711.0\n",
      "Run 46, iteration: 2/100, moves: 0, cost: 8711.0\n",
      "Init: initializing centroids\n",
      "Init: initializing clusters\n",
      "Starting iterations...\n",
      "Run 47, iteration: 1/100, moves: 0, cost: 9231.0\n",
      "Init: initializing centroids\n",
      "Init: initializing clusters\n",
      "Starting iterations...\n",
      "Run 48, iteration: 1/100, moves: 1454, cost: 8792.0\n",
      "Run 48, iteration: 2/100, moves: 0, cost: 8792.0\n",
      "Init: initializing centroids\n",
      "Init: initializing clusters\n",
      "Starting iterations...\n",
      "Run 49, iteration: 1/100, moves: 465, cost: 9337.0\n",
      "Run 49, iteration: 2/100, moves: 0, cost: 9337.0\n",
      "Init: initializing centroids\n",
      "Init: initializing clusters\n",
      "Starting iterations...\n",
      "Run 50, iteration: 1/100, moves: 2044, cost: 9957.0\n",
      "Run 50, iteration: 2/100, moves: 197, cost: 9957.0\n",
      "Best run was number 14\n",
      "[['2 - High School' '4.0' '1.0']\n",
      " ['3 - BSc/MSc' '1.0' '1.0']\n",
      " ['3 - BSc/MSc' '1.0' '0.0']]\n"
     ]
    }
   ],
   "source": [
    "#KMODES for Nominal\n",
    "from kmodes.kmodes import KModes\n",
    "VE_Cat = insurance_df_ct[['Educational Degree','Geographic Living Area','Has Children (Y=1)']].astype('str')\n",
    "\n",
    "# for j in list(VE_Cat):\n",
    "#     for i in range(VE_Cat.shape[0]):\n",
    "#         if VE_Cat.loc[i,j] =='':\n",
    "#             VE_Cat.loc[i,j] = 'Missing'\n",
    "\n",
    "km = KModes(n_clusters=3, init='random', n_init=50, verbose=1)\n",
    "\n",
    "clusters = km.fit_predict(VE_Cat)\n",
    "\n",
    "kmodesD = km \n",
    "\n",
    "# Print the cluster centroids\n",
    "print(km.cluster_centroids_)\n",
    "cat_centroids = pd.DataFrame(km.cluster_centroids_,\n",
    "                             columns = ['Educational Degree','Geographic Living Area','Has Children (Y=1)'])\n",
    "\n",
    "unique, counts = np.unique(km.labels_, return_counts=True)\n",
    "\n",
    "cat_counts = pd.DataFrame(np.asarray((unique, counts)).T, columns = ['Label','Number'])\n",
    "\n",
    "cat_centroids = pd.concat([cat_centroids, cat_counts], axis = 1)"
   ]
  },
  {
   "cell_type": "code",
   "execution_count": null,
   "metadata": {},
   "outputs": [],
   "source": [
    "cat_centroids "
   ]
  },
  {
   "cell_type": "markdown",
   "metadata": {},
   "source": [
    "### Self Organizing Maps ###"
   ]
  },
  {
   "cell_type": "markdown",
   "metadata": {},
   "source": [
    "#### Customer ####"
   ]
  },
  {
   "cell_type": "code",
   "execution_count": null,
   "metadata": {},
   "outputs": [],
   "source": [
    "from sompy.sompy import SOMFactory\n",
    "from sompy.visualization.plot_tools import plot_hex_map\n",
    "import logging\n",
    "from sklearn.preprocessing import StandardScaler\n",
    "\n",
    "scaler = StandardScaler()\n",
    "\n",
    "CA_Norm = scaler.fit_transform(insurance_df_ct[customer])\n",
    "CA_Norm = pd.DataFrame(CA_Norm, columns = insurance_df_ct[customer].columns)\n",
    "\n",
    "X = CA_Norm.values\n",
    "X\n",
    "\n",
    "sm = SOMFactory().build(data = X,\n",
    "               mapsize=(10,10), #size of the neurons\n",
    "               normalization = 'var',\n",
    "               initialization='random',#'random', 'pca'\n",
    "               lattice='hexa',#'rect','hexa'\n",
    "               training ='seq' )#'seq','batch'\n",
    "\n",
    "sm.train(n_job=4,\n",
    "         verbose='info',\n",
    "         train_rough_len=30,\n",
    "         train_finetune_len=100)\n",
    "\n",
    "final_clusters = pd.DataFrame(sm._data, columns = insurance_df_ct[customer].columns)\n",
    "\n",
    "my_labels = pd.DataFrame(sm._bmu[0])\n",
    "    \n",
    "final_clusters = pd.concat([final_clusters,my_labels], axis = 1)\n"
   ]
  },
  {
   "cell_type": "code",
   "execution_count": null,
   "metadata": {},
   "outputs": [],
   "source": [
    "# Graphs\n",
    "from sompy.visualization.mapview import View2D\n",
    "view2D  = View2D(10,10,\"\", text_size=7)\n",
    "view2D.show(sm, col_sz=5, what = 'codebook',)#which_dim=\"all\", denormalize=True)\n",
    "plt.show()\n",
    "\n",
    "\n",
    "from sompy.visualization.bmuhits import BmuHitsView\n",
    "vhts  = BmuHitsView(12,12,\"Hits Map\",text_size=7)\n",
    "vhts.show(sm, anotate=True, onlyzeros=False, labelsize=10, cmap=\"autumn\", logaritmic=False)\n",
    "\n",
    "\n",
    "\n",
    "# K-Means Clustering\n",
    "from sompy.visualization.hitmap import HitMapView\n",
    "sm.cluster(3)\n",
    "hits  = HitMapView(10,10,\"Clustering\",text_size=7)\n",
    "a=hits.show(sm, labelsize=12)\n"
   ]
  },
  {
   "cell_type": "markdown",
   "metadata": {},
   "source": [
    "#### Premium ####"
   ]
  },
  {
   "cell_type": "code",
   "execution_count": null,
   "metadata": {},
   "outputs": [],
   "source": [
    "from sompy.sompy import SOMFactory\n",
    "from sompy.visualization.plot_tools import plot_hex_map\n",
    "import logging\n",
    "from sklearn.preprocessing import StandardScaler\n",
    "\n",
    "scaler = StandardScaler()\n",
    "\n",
    "CA_Norm = scaler.fit_transform(insurance_df_ct[premiums])\n",
    "CA_Norm = pd.DataFrame(CA_Norm, columns = insurance_df_ct[premiums].columns)\n",
    "\n",
    "X = CA_Norm.values\n",
    "X\n",
    "\n",
    "sm = SOMFactory().build(data = X,\n",
    "               mapsize=(10,10), #size of the neurons\n",
    "               normalization = 'var',\n",
    "               initialization='random',#'random', 'pca'\n",
    "               lattice='hexa',#'rect','hexa'\n",
    "               training ='seq' )#'seq','batch'\n",
    "\n",
    "sm.train(n_job=4,\n",
    "         verbose='info',\n",
    "         train_rough_len=30,\n",
    "         train_finetune_len=100)\n",
    "\n",
    "final_clusters = pd.DataFrame(sm._data, columns = insurance_df_ct[premiums].columns)\n",
    "\n",
    "my_labels = pd.DataFrame(sm._bmu[0])\n",
    "    \n",
    "final_clusters = pd.concat([final_clusters,my_labels], axis = 1)\n"
   ]
  },
  {
   "cell_type": "code",
   "execution_count": null,
   "metadata": {},
   "outputs": [],
   "source": [
    "# Graphs Premium\n",
    "from sompy.visualization.mapview import View2D\n",
    "view2D  = View2D(10,10,\"\", text_size=7)\n",
    "view2D.show(sm, col_sz=5, what = 'codebook',)#which_dim=\"all\", denormalize=True)\n",
    "plt.show()\n",
    "\n",
    "\n",
    "from sompy.visualization.bmuhits import BmuHitsView\n",
    "vhts  = BmuHitsView(12,12,\"Hits Map\",text_size=7)\n",
    "vhts.show(sm, anotate=True, onlyzeros=False, labelsize=10, cmap=\"autumn\", logaritmic=False)\n",
    "\n",
    "\n",
    "\n",
    "# K-Means Clustering\n",
    "from sompy.visualization.hitmap import HitMapView\n",
    "sm.cluster(3)\n",
    "hits  = HitMapView(10,10,\"Clustering\",text_size=7)\n",
    "a=hits.show(sm, labelsize=12)\n"
   ]
  },
  {
   "cell_type": "markdown",
   "metadata": {},
   "source": [
    "### DB Scan ###"
   ]
  },
  {
   "cell_type": "markdown",
   "metadata": {},
   "source": [
    "#### Customer  ####"
   ]
  },
  {
   "cell_type": "code",
   "execution_count": null,
   "metadata": {},
   "outputs": [],
   "source": [
    "from sklearn.preprocessing import StandardScaler\n",
    "from sklearn.cluster import DBSCAN\n",
    "from sklearn import metrics\n",
    "\n",
    "scaler = StandardScaler()\n",
    "\n",
    "CA_Norm = scaler.fit_transform(insurance_df_ct[customer])\n",
    "CA_Norm = pd.DataFrame(CA_Norm, columns = insurance_df_ct[customer].columns)\n",
    "\n",
    "X = CA_Norm.values\n",
    "X\n",
    "\n",
    "db = DBSCAN(eps= 1, #Tamanho dos meus eps (define a quantidade de clusters)\n",
    "            min_samples=10).fit(CA_Norm)\n",
    "\n",
    "labels = db.labels_\n",
    "\n",
    "n_clusters_ = len(set(labels)) - (1 if -1 in labels else 0)\n",
    "\n",
    "unique_clusters, counts_clusters = np.unique(db.labels_, return_counts = True)\n",
    "print(np.asarray((unique_clusters, counts_clusters))) # Two Clusters\n",
    "\n",
    "#Applying PCA To plot the clusterization\n",
    "\n",
    "from sklearn.decomposition import PCA\n",
    "pca = PCA(n_components=2).fit(CA_Norm)\n",
    "pca_2d = pca.transform(CA_Norm)\n",
    "\n",
    "for i in range(0, pca_2d.shape[0]):\n",
    "    if db.labels_[i] == 0:\n",
    "        c1 = plt.scatter(pca_2d[i,0],pca_2d[i,1],c='r',marker='+')\n",
    "    elif db.labels_[i] == 1:\n",
    "        c2 = plt.scatter(pca_2d[i,0],pca_2d[i,1],c='g',marker='o')\n",
    "    elif db.labels_[i] == 2:\n",
    "        c4 = plt.scatter(pca_2d[i,0],pca_2d[i,1],c='k',marker='v')\n",
    "    elif db.labels_[i] == 3:\n",
    "        c5 = plt.scatter(pca_2d[i,0],pca_2d[i,1],c='y',marker='s')\n",
    "    elif db.labels_[i] == 4:\n",
    "        c6 = plt.scatter(pca_2d[i,0],pca_2d[i,1],c='m',marker='p')\n",
    "    elif db.labels_[i] == 5:\n",
    "        c7 = plt.scatter(pca_2d[i,0],pca_2d[i,1],c='c',marker='H')\n",
    "    elif db.labels_[i] == -1:\n",
    "        c3 = plt.scatter(pca_2d[i,0],pca_2d[i,1],c='b',marker='*')\n",
    "\n",
    "plt.legend([c1,c3], ['Cluster 1', 'Cluster 2','Noise'])\n",
    "plt.title('DBSCAN finds 2 clusters and noise')\n",
    "plt.show()\n"
   ]
  },
  {
   "cell_type": "markdown",
   "metadata": {},
   "source": [
    "there are unbalanced Clusters with this technique"
   ]
  },
  {
   "cell_type": "markdown",
   "metadata": {},
   "source": [
    "#### Premiums ####"
   ]
  },
  {
   "cell_type": "code",
   "execution_count": null,
   "metadata": {},
   "outputs": [],
   "source": [
    "from sklearn.preprocessing import StandardScaler\n",
    "from sklearn.cluster import DBSCAN\n",
    "from sklearn import metrics\n",
    "\n",
    "scaler = StandardScaler()\n",
    "\n",
    "CA_Norm = scaler.fit_transform(insurance_df_ct[premiums])\n",
    "CA_Norm = pd.DataFrame(CA_Norm, columns = insurance_df_ct[premiums].columns)\n",
    "\n",
    "X = CA_Norm.values\n",
    "X\n",
    "\n",
    "db = DBSCAN(eps= 1, #Tamanho dos meus eps (define a quantidade de clusters)\n",
    "            min_samples=10).fit(CA_Norm)\n",
    "\n",
    "labels = db.labels_\n",
    "\n",
    "n_clusters_ = len(set(labels)) - (1 if -1 in labels else 0)\n",
    "\n",
    "unique_clusters, counts_clusters = np.unique(db.labels_, return_counts = True)\n",
    "print(np.asarray((unique_clusters, counts_clusters))) # Two Clusters\n",
    "\n",
    "#Applying PCA To plot the clusterization\n",
    "\n",
    "from sklearn.decomposition import PCA\n",
    "pca = PCA(n_components=2).fit(CA_Norm)\n",
    "pca_2d = pca.transform(CA_Norm)\n",
    "\n",
    "for i in range(0, pca_2d.shape[0]):\n",
    "    if db.labels_[i] == 0:\n",
    "        c1 = plt.scatter(pca_2d[i,0],pca_2d[i,1],c='r',marker='+')\n",
    "    elif db.labels_[i] == 1:\n",
    "        c2 = plt.scatter(pca_2d[i,0],pca_2d[i,1],c='g',marker='o')\n",
    "    elif db.labels_[i] == 2:\n",
    "        c4 = plt.scatter(pca_2d[i,0],pca_2d[i,1],c='k',marker='v')\n",
    "    elif db.labels_[i] == 3:\n",
    "        c5 = plt.scatter(pca_2d[i,0],pca_2d[i,1],c='y',marker='s')\n",
    "    elif db.labels_[i] == 4:\n",
    "        c6 = plt.scatter(pca_2d[i,0],pca_2d[i,1],c='m',marker='p')\n",
    "    elif db.labels_[i] == 5:\n",
    "        c7 = plt.scatter(pca_2d[i,0],pca_2d[i,1],c='c',marker='H')\n",
    "    elif db.labels_[i] == -1:\n",
    "        c3 = plt.scatter(pca_2d[i,0],pca_2d[i,1],c='b',marker='*')\n",
    "\n",
    "plt.legend([c1, c2, c3], ['Cluster 1', 'Cluster 2','Noise'])\n",
    "plt.title('DBSCAN finds 2 clusters and noise')\n",
    "plt.show()\n"
   ]
  },
  {
   "cell_type": "markdown",
   "metadata": {},
   "source": [
    "there are unbalanced Clusters with this technique as well (because we have a continuous dataset)"
   ]
  },
  {
   "cell_type": "markdown",
   "metadata": {},
   "source": [
    "### Mean Shift ###"
   ]
  },
  {
   "cell_type": "markdown",
   "metadata": {},
   "source": [
    "#### Customer ####"
   ]
  },
  {
   "cell_type": "code",
   "execution_count": null,
   "metadata": {},
   "outputs": [],
   "source": [
    "from sklearn.cluster import MeanShift, estimate_bandwidth\n",
    "\n",
    "scaler = StandardScaler()\n",
    "\n",
    "CA_Norm = scaler.fit_transform(insurance_df_ct[customer])\n",
    "CA_Norm = pd.DataFrame(CA_Norm, columns = insurance_df_ct[customer].columns)\n",
    "\n",
    "\n",
    "to_MS = CA_Norm\n",
    "# The following bandwidth can be automatically detected using\n",
    "my_bandwidth = estimate_bandwidth(to_MS,\n",
    "                               quantile=0.2,\n",
    "                               n_samples=1000)\n",
    "\n",
    "ms = MeanShift(bandwidth=my_bandwidth,\n",
    "               #bandwidth=0.15,\n",
    "               bin_seeding=True)\n",
    "\n",
    "ms.fit(to_MS)\n",
    "labels = ms.labels_\n",
    "cluster_centers = ms.cluster_centers_\n",
    "\n",
    "labels_unique = np.unique(labels)\n",
    "n_clusters_ = len(labels_unique)\n",
    "\n",
    "\n",
    "#Values\n",
    "scaler.inverse_transform(X=cluster_centers)\n",
    "\n",
    "#Count\n",
    "unique, counts = np.unique(labels, return_counts=True)\n",
    "\n",
    "print(np.asarray((unique, counts)).T)\n",
    "\n",
    "# lets check our are they distributed\n",
    "\n",
    "from sklearn.decomposition import PCA\n",
    "pca = PCA(n_components=2).fit(to_MS)\n",
    "pca_2d = pca.transform(to_MS)\n",
    "for i in range(0, pca_2d.shape[0]):\n",
    "    if labels[i] == 0:\n",
    "        c1 = plt.scatter(pca_2d[i,0],pca_2d[i,1],c='r',marker='+')\n",
    "    elif labels[i] == 1:\n",
    "        c2 = plt.scatter(pca_2d[i,0],pca_2d[i,1],c='g',marker='o')\n",
    "    elif labels[i] == 2:\n",
    "        c3 = plt.scatter(pca_2d[i,0],pca_2d[i,1],c='b',marker='*')\n",
    "\n",
    "plt.legend([c1, c2, c3], ['Cluster 1', 'Cluster 2','Cluster 3 '])\n",
    "plt.title('Mean Shift found 3 clusters')\n",
    "plt.show()\n"
   ]
  },
  {
   "cell_type": "markdown",
   "metadata": {},
   "source": [
    "#### Premiums ####\n"
   ]
  },
  {
   "cell_type": "code",
   "execution_count": null,
   "metadata": {},
   "outputs": [],
   "source": [
    "from sklearn.cluster import MeanShift, estimate_bandwidth\n",
    "\n",
    "scaler = StandardScaler()\n",
    "\n",
    "CA_Norm = scaler.fit_transform(insurance_df_ct[premiums])\n",
    "CA_Norm = pd.DataFrame(CA_Norm, columns = insurance_df_ct[premiums].columns)\n",
    "\n",
    "# The following bandwidth can be automatically detected using\n",
    "my_bandwidth = estimate_bandwidth(to_MS,\n",
    "                               quantile=0.2,\n",
    "                               n_samples=1000)\n",
    "\n",
    "ms = MeanShift(bandwidth=my_bandwidth,\n",
    "               #bandwidth=0.15,\n",
    "               bin_seeding=True)\n",
    "\n",
    "ms.fit(to_MS)\n",
    "labels = ms.labels_\n",
    "cluster_centers = ms.cluster_centers_\n",
    "\n",
    "labels_unique = np.unique(labels)\n",
    "n_clusters_ = len(labels_unique)\n",
    "\n",
    "\n",
    "#Values\n",
    "scaler.inverse_transform(X=cluster_centers)\n",
    "\n",
    "#Count\n",
    "unique, counts = np.unique(labels, return_counts=True)\n",
    "\n",
    "print(np.asarray((unique, counts)).T)\n",
    "\n",
    "# lets check our are they distributed\n",
    "\n",
    "from sklearn.decomposition import PCA\n",
    "pca = PCA(n_components=2).fit(to_MS)\n",
    "pca_2d = pca.transform(to_MS)\n",
    "for i in range(0, pca_2d.shape[0]):\n",
    "    if labels[i] == 0:\n",
    "        c1 = plt.scatter(pca_2d[i,0],pca_2d[i,1],c='r',marker='+')\n",
    "    elif labels[i] == 1:\n",
    "        c2 = plt.scatter(pca_2d[i,0],pca_2d[i,1],c='g',marker='o')\n",
    "    elif labels[i] == 2:\n",
    "        c3 = plt.scatter(pca_2d[i,0],pca_2d[i,1],c='b',marker='*')\n",
    "\n",
    "plt.legend([c1, c2, c3], ['Cluster 1', 'Cluster 2','Cluster 3 '])\n",
    "plt.title('Mean Shift found 3 clusters')\n",
    "plt.show()\n",
    "\n"
   ]
  },
  {
   "cell_type": "markdown",
   "metadata": {},
   "source": [
    "We didn't got balanced clusters with this technique in both databases (continuous data)"
   ]
  },
  {
   "cell_type": "markdown",
   "metadata": {},
   "source": [
    "### Clustering merging ###"
   ]
  },
  {
   "cell_type": "code",
   "execution_count": 64,
   "metadata": {},
   "outputs": [],
   "source": [
    "def clust_num(df,n):\n",
    "    \n",
    "    cluster_test = df.loc[:, df.columns !='Customer Identity']\n",
    "    scaler = preprocessing.MinMaxScaler()\n",
    "    cluster = scaler.fit_transform(cluster_test)\n",
    "    cluster = pd.DataFrame(cluster, columns = cluster_test.columns)\n",
    "    \n",
    "    kmeans = KMeans(n_cluster = n,\n",
    "                    random_state = 0,\n",
    "                    n_init = 5,\n",
    "                    max_iter = 200).fit(cluster)\n",
    "    \n",
    "    my_clusters = kmeans.cluster_centers_\n",
    "    centers_norm = my_clusters\n",
    "    my_clusters = scaler.inverse_transform(X = my_clusters)\n",
    "    num_centroids = pd.DataFrame(my_clusters, columns = cluster_test.columns)\n",
    "    centers_norm = pd.DataFrame(centers_norm, columns = cluster_test.columns)\n",
    "    \n",
    "    kmeans_list = kmeans.fit_predict(cluster_test)\n",
    "    \n",
    "    unique, counts = np.unique(kmeans.labels_, return_counts = True)\n",
    "    num_counts = pd.DataFrame(np.asarray((unique,counts)).T,columns = ['Label','Number'])\n",
    "    \n",
    "    merged = pd.merge(df, pd.DataFrame(kmeans_list), right_index = True, left_index = True)\n",
    "    \n",
    "    return merged, num_counts, num_centroids, centers_norm"
   ]
  },
  {
   "cell_type": "markdown",
   "metadata": {},
   "source": [
    "### Cluster Labeling ###"
   ]
  },
  {
   "cell_type": "code",
   "execution_count": 65,
   "metadata": {},
   "outputs": [],
   "source": [
    "insurance_premium = insurance_df_ct[premiums]\n",
    "insurance_customer = insurance_df_ct[customer]\n",
    "insurance_nominal = insurance_df_ct[nominal]"
   ]
  },
  {
   "cell_type": "markdown",
   "metadata": {},
   "source": [
    "### Premium ###"
   ]
  },
  {
   "cell_type": "code",
   "execution_count": 66,
   "metadata": {},
   "outputs": [],
   "source": [
    "Affinity_P = pd.DataFrame(pd.concat([insurance_premium, pd.DataFrame(kmeansP.labels_)],axis=1))\n",
    "Affinity_P\n",
    "Affinity_P.columns =  ['Customer Identity','Premiums in LOB: Motor', 'Premiums in LOB: Household',\n",
    "       'Premiums in LOB: Health', 'Premiums in LOB:  Life',\n",
    "       'Premiums in LOB: Work Compensations', 'P_Label']\n",
    "# Affinity_P['P_Label'].value_counts()\n"
   ]
  },
  {
   "cell_type": "markdown",
   "metadata": {},
   "source": [
    "### Customer ###"
   ]
  },
  {
   "cell_type": "code",
   "execution_count": 67,
   "metadata": {},
   "outputs": [
    {
     "data": {
      "text/plain": [
       "Index(['Customer Identity', 'Gross Monthly Salary', 'Claims Rate',\n",
       "       'Customer Monetary Value', 'Client_Spend', 'Fidelity', 'Age'],\n",
       "      dtype='object')"
      ]
     },
     "execution_count": 67,
     "metadata": {},
     "output_type": "execute_result"
    }
   ],
   "source": [
    "insurance_customer.columns"
   ]
  },
  {
   "cell_type": "code",
   "execution_count": 68,
   "metadata": {},
   "outputs": [
    {
     "data": {
      "text/plain": [
       "0.0    3676\n",
       "2.0    3194\n",
       "1.0    3188\n",
       "Name: C_Label, dtype: int64"
      ]
     },
     "execution_count": 68,
     "metadata": {},
     "output_type": "execute_result"
    }
   ],
   "source": [
    "Affinity_C = pd.DataFrame(pd.concat([insurance_customer, pd.DataFrame(kmeansC.labels_)],axis=1))\n",
    "Affinity_C\n",
    "Affinity_C.columns =  ['Customer Identity', 'Gross Monthly Salary', 'Claims Rate',\n",
    "       'Customer Monetary Value', 'Client Spend','Fidelity','Age','C_Label']\n",
    "Affinity_C['C_Label'].value_counts()\n"
   ]
  },
  {
   "cell_type": "markdown",
   "metadata": {},
   "source": []
  },
  {
   "cell_type": "markdown",
   "metadata": {},
   "source": [
    "### Nominal ###"
   ]
  },
  {
   "cell_type": "code",
   "execution_count": 69,
   "metadata": {},
   "outputs": [
    {
     "data": {
      "text/plain": [
       "Index(['Customer Identity', 'Educational Degree', 'Geographic Living Area',\n",
       "       'Has Children (Y=1)'],\n",
       "      dtype='object')"
      ]
     },
     "execution_count": 69,
     "metadata": {},
     "output_type": "execute_result"
    }
   ],
   "source": [
    "insurance_nominal.columns"
   ]
  },
  {
   "cell_type": "code",
   "execution_count": 70,
   "metadata": {},
   "outputs": [
    {
     "ename": "NameError",
     "evalue": "name 'kmodesD' is not defined",
     "output_type": "error",
     "traceback": [
      "\u001b[1;31m---------------------------------------------------------------------------\u001b[0m",
      "\u001b[1;31mNameError\u001b[0m                                 Traceback (most recent call last)",
      "\u001b[1;32m<ipython-input-70-412e23274a36>\u001b[0m in \u001b[0;36m<module>\u001b[1;34m\u001b[0m\n\u001b[1;32m----> 1\u001b[1;33m \u001b[0mAffinity_N\u001b[0m \u001b[1;33m=\u001b[0m \u001b[0mpd\u001b[0m\u001b[1;33m.\u001b[0m\u001b[0mDataFrame\u001b[0m\u001b[1;33m(\u001b[0m\u001b[0mpd\u001b[0m\u001b[1;33m.\u001b[0m\u001b[0mconcat\u001b[0m\u001b[1;33m(\u001b[0m\u001b[1;33m[\u001b[0m\u001b[0minsurance_nominal\u001b[0m\u001b[1;33m,\u001b[0m \u001b[0mpd\u001b[0m\u001b[1;33m.\u001b[0m\u001b[0mDataFrame\u001b[0m\u001b[1;33m(\u001b[0m\u001b[0mkmodesD\u001b[0m\u001b[1;33m.\u001b[0m\u001b[0mlabels_\u001b[0m\u001b[1;33m)\u001b[0m\u001b[1;33m]\u001b[0m\u001b[1;33m,\u001b[0m\u001b[0maxis\u001b[0m\u001b[1;33m=\u001b[0m\u001b[1;36m1\u001b[0m\u001b[1;33m)\u001b[0m\u001b[1;33m)\u001b[0m\u001b[1;33m\u001b[0m\u001b[1;33m\u001b[0m\u001b[0m\n\u001b[0m\u001b[0;32m      2\u001b[0m \u001b[0mAffinity_N\u001b[0m\u001b[1;33m\u001b[0m\u001b[1;33m\u001b[0m\u001b[0m\n\u001b[0;32m      3\u001b[0m Affinity_N.columns =  ['Customer Identity', 'Educational Degree', 'Geographic Living Area',\n\u001b[0;32m      4\u001b[0m        'Has Children (Y=1)','N_Label']\n\u001b[0;32m      5\u001b[0m \u001b[0msum\u001b[0m\u001b[1;33m(\u001b[0m\u001b[0mAffinity_N\u001b[0m\u001b[1;33m[\u001b[0m\u001b[1;34m'N_Label'\u001b[0m\u001b[1;33m]\u001b[0m\u001b[1;33m.\u001b[0m\u001b[0misna\u001b[0m\u001b[1;33m(\u001b[0m\u001b[1;33m)\u001b[0m\u001b[1;33m)\u001b[0m\u001b[1;33m\u001b[0m\u001b[1;33m\u001b[0m\u001b[0m\n",
      "\u001b[1;31mNameError\u001b[0m: name 'kmodesD' is not defined"
     ]
    }
   ],
   "source": [
    "Affinity_N = pd.DataFrame(pd.concat([insurance_nominal, pd.DataFrame(kmodesD.labels_)],axis=1))\n",
    "Affinity_N\n",
    "Affinity_N.columns =  ['Customer Identity', 'Educational Degree', 'Geographic Living Area',\n",
    "       'Has Children (Y=1)','N_Label']\n",
    "sum(Affinity_N['N_Label'].isna())\n",
    "Affinity_N['N_Label'].value_counts()\n"
   ]
  },
  {
   "cell_type": "code",
   "execution_count": null,
   "metadata": {},
   "outputs": [],
   "source": [
    "# We got all the databases\n",
    "Affinity_P\n",
    "Affinity_C\n",
    "Affinity_N\n",
    "# Let's reset those indexes\n",
    "Affinity_P = Affinity_P.set_index('Customer Identity')\n",
    "Affinity_C = Affinity_C.set_index('Customer Identity')\n",
    "Affinity_N = Affinity_N.set_index('Customer Identity')\n"
   ]
  },
  {
   "cell_type": "code",
   "execution_count": 71,
   "metadata": {
    "scrolled": false
   },
   "outputs": [
    {
     "ename": "NameError",
     "evalue": "name 'Affinity_N' is not defined",
     "output_type": "error",
     "traceback": [
      "\u001b[1;31m---------------------------------------------------------------------------\u001b[0m",
      "\u001b[1;31mNameError\u001b[0m                                 Traceback (most recent call last)",
      "\u001b[1;32m<ipython-input-71-fa84b99ef607>\u001b[0m in \u001b[0;36m<module>\u001b[1;34m\u001b[0m\n\u001b[1;32m----> 1\u001b[1;33m \u001b[0mCluster\u001b[0m \u001b[1;33m=\u001b[0m \u001b[0mpd\u001b[0m\u001b[1;33m.\u001b[0m\u001b[0mconcat\u001b[0m\u001b[1;33m(\u001b[0m\u001b[1;33m[\u001b[0m\u001b[0mAffinity_P\u001b[0m\u001b[1;33m,\u001b[0m \u001b[0mAffinity_C\u001b[0m\u001b[1;33m,\u001b[0m\u001b[0mAffinity_N\u001b[0m\u001b[1;33m]\u001b[0m\u001b[1;33m,\u001b[0m \u001b[0maxis\u001b[0m\u001b[1;33m=\u001b[0m\u001b[1;36m1\u001b[0m\u001b[1;33m)\u001b[0m\u001b[1;33m\u001b[0m\u001b[1;33m\u001b[0m\u001b[0m\n\u001b[0m\u001b[0;32m      2\u001b[0m \u001b[0mCluster\u001b[0m\u001b[1;33m\u001b[0m\u001b[1;33m\u001b[0m\u001b[0m\n\u001b[0;32m      3\u001b[0m \u001b[0mCluster1\u001b[0m \u001b[1;33m=\u001b[0m \u001b[0mCluster\u001b[0m\u001b[1;33m[\u001b[0m\u001b[0mCluster\u001b[0m\u001b[1;33m[\u001b[0m\u001b[1;34m'P_Label'\u001b[0m\u001b[1;33m]\u001b[0m\u001b[1;33m.\u001b[0m\u001b[0misna\u001b[0m\u001b[1;33m(\u001b[0m\u001b[1;33m)\u001b[0m \u001b[1;33m==\u001b[0m \u001b[1;32mFalse\u001b[0m\u001b[1;33m]\u001b[0m\u001b[1;33m\u001b[0m\u001b[1;33m\u001b[0m\u001b[0m\n\u001b[0;32m      4\u001b[0m \u001b[0mCluster1\u001b[0m\u001b[1;33m\u001b[0m\u001b[1;33m\u001b[0m\u001b[0m\n\u001b[0;32m      5\u001b[0m \u001b[1;31m# Cluster1.head(10058)\u001b[0m\u001b[1;33m\u001b[0m\u001b[1;33m\u001b[0m\u001b[1;33m\u001b[0m\u001b[0m\n",
      "\u001b[1;31mNameError\u001b[0m: name 'Affinity_N' is not defined"
     ]
    }
   ],
   "source": [
    "Cluster = pd.concat([Affinity_P, Affinity_C,Affinity_N], axis=1)\n",
    "Cluster\n",
    "Cluster1 = Cluster[Cluster['P_Label'].isna() == False]\n",
    "Cluster1 \n",
    "# Cluster1.head(10058)\n",
    "#Shape (10058, 16)\n",
    "# Cluster2 = Cluster1[:10058]\n",
    "# Cluster2 \n",
    "# sum(Cluster1['P_Label'].isna())"
   ]
  },
  {
   "cell_type": "code",
   "execution_count": 72,
   "metadata": {},
   "outputs": [],
   "source": [
    "# Transforming out labels in Categorized variables\n",
    "# Cluster1['C_Label'] = Cluster1['C_Label'].astype('category')\n",
    "# Cluster1['P_Label'] = Cluster1['P_Label'].astype('category')\n",
    "# Cluster1['N_Label'] = Cluster1['N_Label'].astype('category')\n",
    "# Cluster1"
   ]
  },
  {
   "cell_type": "code",
   "execution_count": 190,
   "metadata": {},
   "outputs": [
    {
     "data": {
      "text/plain": [
       "(10058, 17)"
      ]
     },
     "execution_count": 190,
     "metadata": {},
     "output_type": "execute_result"
    }
   ],
   "source": [
    "Cluster1.shape\n"
   ]
  },
  {
   "cell_type": "markdown",
   "metadata": {},
   "source": [
    "## Profiling"
   ]
  },
  {
   "cell_type": "markdown",
   "metadata": {},
   "source": [
    "Now that we have all of the DataSets, let's study all the clusters"
   ]
  },
  {
   "cell_type": "code",
   "execution_count": 191,
   "metadata": {},
   "outputs": [
    {
     "data": {
      "text/html": [
       "<div>\n",
       "<style scoped>\n",
       "    .dataframe tbody tr th:only-of-type {\n",
       "        vertical-align: middle;\n",
       "    }\n",
       "\n",
       "    .dataframe tbody tr th {\n",
       "        vertical-align: top;\n",
       "    }\n",
       "\n",
       "    .dataframe thead th {\n",
       "        text-align: right;\n",
       "    }\n",
       "</style>\n",
       "<table border=\"1\" class=\"dataframe\">\n",
       "  <thead>\n",
       "    <tr style=\"text-align: right;\">\n",
       "      <th>C_Label</th>\n",
       "      <th>0.0</th>\n",
       "      <th>1.0</th>\n",
       "      <th>2.0</th>\n",
       "    </tr>\n",
       "    <tr>\n",
       "      <th>P_Label</th>\n",
       "      <th></th>\n",
       "      <th></th>\n",
       "      <th></th>\n",
       "    </tr>\n",
       "  </thead>\n",
       "  <tbody>\n",
       "    <tr>\n",
       "      <td>0.0</td>\n",
       "      <td>3302</td>\n",
       "      <td>2499</td>\n",
       "      <td>1966</td>\n",
       "    </tr>\n",
       "    <tr>\n",
       "      <td>1.0</td>\n",
       "      <td>374</td>\n",
       "      <td>689</td>\n",
       "      <td>1228</td>\n",
       "    </tr>\n",
       "  </tbody>\n",
       "</table>\n",
       "</div>"
      ],
      "text/plain": [
       "C_Label   0.0   1.0   2.0\n",
       "P_Label                  \n",
       "0.0      3302  2499  1966\n",
       "1.0       374   689  1228"
      ]
     },
     "execution_count": 191,
     "metadata": {},
     "output_type": "execute_result"
    }
   ],
   "source": [
    "Crosscluster1 = pd.crosstab(Cluster1['P_Label'], Cluster1['C_Label'], \n",
    "                               margins = False) \n",
    "Crosscluster1\n"
   ]
  },
  {
   "cell_type": "code",
   "execution_count": 192,
   "metadata": {},
   "outputs": [
    {
     "data": {
      "text/html": [
       "<div>\n",
       "<style scoped>\n",
       "    .dataframe tbody tr th:only-of-type {\n",
       "        vertical-align: middle;\n",
       "    }\n",
       "\n",
       "    .dataframe tbody tr th {\n",
       "        vertical-align: top;\n",
       "    }\n",
       "\n",
       "    .dataframe thead th {\n",
       "        text-align: right;\n",
       "    }\n",
       "</style>\n",
       "<table border=\"1\" class=\"dataframe\">\n",
       "  <thead>\n",
       "    <tr style=\"text-align: right;\">\n",
       "      <th>N_Label</th>\n",
       "      <th>0.0</th>\n",
       "      <th>1.0</th>\n",
       "      <th>2.0</th>\n",
       "    </tr>\n",
       "    <tr>\n",
       "      <th>P_Label</th>\n",
       "      <th></th>\n",
       "      <th></th>\n",
       "      <th></th>\n",
       "    </tr>\n",
       "  </thead>\n",
       "  <tbody>\n",
       "    <tr>\n",
       "      <td>0.0</td>\n",
       "      <td>4130</td>\n",
       "      <td>2137</td>\n",
       "      <td>1500</td>\n",
       "    </tr>\n",
       "    <tr>\n",
       "      <td>1.0</td>\n",
       "      <td>1459</td>\n",
       "      <td>347</td>\n",
       "      <td>485</td>\n",
       "    </tr>\n",
       "  </tbody>\n",
       "</table>\n",
       "</div>"
      ],
      "text/plain": [
       "N_Label   0.0   1.0   2.0\n",
       "P_Label                  \n",
       "0.0      4130  2137  1500\n",
       "1.0      1459   347   485"
      ]
     },
     "execution_count": 192,
     "metadata": {},
     "output_type": "execute_result"
    }
   ],
   "source": [
    "Crosscluster2 = pd.crosstab(Cluster1['P_Label'], Cluster1['N_Label'], \n",
    "                               margins = False) \n",
    "Crosscluster2"
   ]
  },
  {
   "cell_type": "code",
   "execution_count": 173,
   "metadata": {},
   "outputs": [
    {
     "data": {
      "text/html": [
       "<div>\n",
       "<style scoped>\n",
       "    .dataframe tbody tr th:only-of-type {\n",
       "        vertical-align: middle;\n",
       "    }\n",
       "\n",
       "    .dataframe tbody tr th {\n",
       "        vertical-align: top;\n",
       "    }\n",
       "\n",
       "    .dataframe thead th {\n",
       "        text-align: right;\n",
       "    }\n",
       "</style>\n",
       "<table border=\"1\" class=\"dataframe\">\n",
       "  <thead>\n",
       "    <tr style=\"text-align: right;\">\n",
       "      <th>N_Label</th>\n",
       "      <th>0.0</th>\n",
       "      <th>1.0</th>\n",
       "      <th>2.0</th>\n",
       "    </tr>\n",
       "    <tr>\n",
       "      <th>C_Label</th>\n",
       "      <th></th>\n",
       "      <th></th>\n",
       "      <th></th>\n",
       "    </tr>\n",
       "  </thead>\n",
       "  <tbody>\n",
       "    <tr>\n",
       "      <td>0.0</td>\n",
       "      <td>2183</td>\n",
       "      <td>1172</td>\n",
       "      <td>321</td>\n",
       "    </tr>\n",
       "    <tr>\n",
       "      <td>1.0</td>\n",
       "      <td>1382</td>\n",
       "      <td>388</td>\n",
       "      <td>1418</td>\n",
       "    </tr>\n",
       "    <tr>\n",
       "      <td>2.0</td>\n",
       "      <td>2024</td>\n",
       "      <td>924</td>\n",
       "      <td>246</td>\n",
       "    </tr>\n",
       "  </tbody>\n",
       "</table>\n",
       "</div>"
      ],
      "text/plain": [
       "N_Label   0.0   1.0   2.0\n",
       "C_Label                  \n",
       "0.0      2183  1172   321\n",
       "1.0      1382   388  1418\n",
       "2.0      2024   924   246"
      ]
     },
     "execution_count": 173,
     "metadata": {},
     "output_type": "execute_result"
    }
   ],
   "source": [
    "Crosscluster3 = pd.crosstab(Cluster1['C_Label'], Cluster1['N_Label'], \n",
    "                               margins = False) \n",
    "Crosscluster3"
   ]
  },
  {
   "cell_type": "code",
   "execution_count": 193,
   "metadata": {},
   "outputs": [
    {
     "data": {
      "text/html": [
       "<div>\n",
       "<style scoped>\n",
       "    .dataframe tbody tr th:only-of-type {\n",
       "        vertical-align: middle;\n",
       "    }\n",
       "\n",
       "    .dataframe tbody tr th {\n",
       "        vertical-align: top;\n",
       "    }\n",
       "\n",
       "    .dataframe thead tr th {\n",
       "        text-align: left;\n",
       "    }\n",
       "\n",
       "    .dataframe thead tr:last-of-type th {\n",
       "        text-align: right;\n",
       "    }\n",
       "</style>\n",
       "<table border=\"1\" class=\"dataframe\">\n",
       "  <thead>\n",
       "    <tr>\n",
       "      <th>P_Label</th>\n",
       "      <th colspan=\"3\" halign=\"left\">0.0</th>\n",
       "      <th colspan=\"3\" halign=\"left\">1.0</th>\n",
       "    </tr>\n",
       "    <tr>\n",
       "      <th>N_Label</th>\n",
       "      <th>0.0</th>\n",
       "      <th>1.0</th>\n",
       "      <th>2.0</th>\n",
       "      <th>0.0</th>\n",
       "      <th>1.0</th>\n",
       "      <th>2.0</th>\n",
       "    </tr>\n",
       "    <tr>\n",
       "      <th>C_Label</th>\n",
       "      <th></th>\n",
       "      <th></th>\n",
       "      <th></th>\n",
       "      <th></th>\n",
       "      <th></th>\n",
       "      <th></th>\n",
       "    </tr>\n",
       "  </thead>\n",
       "  <tbody>\n",
       "    <tr>\n",
       "      <td>0.0</td>\n",
       "      <td>1920</td>\n",
       "      <td>1110</td>\n",
       "      <td>272</td>\n",
       "      <td>263</td>\n",
       "      <td>62</td>\n",
       "      <td>49</td>\n",
       "    </tr>\n",
       "    <tr>\n",
       "      <td>1.0</td>\n",
       "      <td>1015</td>\n",
       "      <td>355</td>\n",
       "      <td>1129</td>\n",
       "      <td>367</td>\n",
       "      <td>33</td>\n",
       "      <td>289</td>\n",
       "    </tr>\n",
       "    <tr>\n",
       "      <td>2.0</td>\n",
       "      <td>1195</td>\n",
       "      <td>672</td>\n",
       "      <td>99</td>\n",
       "      <td>829</td>\n",
       "      <td>252</td>\n",
       "      <td>147</td>\n",
       "    </tr>\n",
       "  </tbody>\n",
       "</table>\n",
       "</div>"
      ],
      "text/plain": [
       "P_Label   0.0              1.0          \n",
       "N_Label   0.0   1.0   2.0  0.0  1.0  2.0\n",
       "C_Label                                 \n",
       "0.0      1920  1110   272  263   62   49\n",
       "1.0      1015   355  1129  367   33  289\n",
       "2.0      1195   672    99  829  252  147"
      ]
     },
     "execution_count": 193,
     "metadata": {},
     "output_type": "execute_result"
    }
   ],
   "source": [
    "crostab_f = pd.crosstab(Cluster1['C_Label'], [Cluster1['P_Label'], Cluster1['N_Label']])\n",
    "crostab_f"
   ]
  },
  {
   "cell_type": "markdown",
   "metadata": {},
   "source": [
    "#### Marketing Approach and decision"
   ]
  },
  {
   "cell_type": "markdown",
   "metadata": {},
   "source": [
    "Let's minimize the number of clusters based on the Crosstabs"
   ]
  },
  {
   "cell_type": "code",
   "execution_count": 194,
   "metadata": {},
   "outputs": [
    {
     "data": {
      "text/plain": [
       "Index(['Premiums in LOB: Motor', 'Premiums in LOB: Household',\n",
       "       'Premiums in LOB: Health', 'Premiums in LOB:  Life',\n",
       "       'Premiums in LOB: Work Compensations', 'P_Label',\n",
       "       'Gross Monthly Salary', 'Claims Rate', 'Customer Monetary Value',\n",
       "       'Client Spend', 'Fidelity', 'Age', 'C_Label', 'Educational Degree',\n",
       "       'Geographic Living Area', 'Has Children (Y=1)', 'N_Label'],\n",
       "      dtype='object')"
      ]
     },
     "execution_count": 194,
     "metadata": {},
     "output_type": "execute_result"
    }
   ],
   "source": [
    "dff = Cluster1\n",
    "dff.columns"
   ]
  },
  {
   "cell_type": "code",
   "execution_count": 195,
   "metadata": {},
   "outputs": [
    {
     "data": {
      "text/html": [
       "<div>\n",
       "<style scoped>\n",
       "    .dataframe tbody tr th:only-of-type {\n",
       "        vertical-align: middle;\n",
       "    }\n",
       "\n",
       "    .dataframe tbody tr th {\n",
       "        vertical-align: top;\n",
       "    }\n",
       "\n",
       "    .dataframe thead th {\n",
       "        text-align: right;\n",
       "    }\n",
       "</style>\n",
       "<table border=\"1\" class=\"dataframe\">\n",
       "  <thead>\n",
       "    <tr style=\"text-align: right;\">\n",
       "      <th>C_Label</th>\n",
       "      <th>0.0</th>\n",
       "      <th>1.0</th>\n",
       "      <th>2.0</th>\n",
       "    </tr>\n",
       "    <tr>\n",
       "      <th>P_Label</th>\n",
       "      <th></th>\n",
       "      <th></th>\n",
       "      <th></th>\n",
       "    </tr>\n",
       "  </thead>\n",
       "  <tbody>\n",
       "    <tr>\n",
       "      <td>0.0</td>\n",
       "      <td>3302</td>\n",
       "      <td>2499</td>\n",
       "      <td>1966</td>\n",
       "    </tr>\n",
       "    <tr>\n",
       "      <td>1.0</td>\n",
       "      <td>374</td>\n",
       "      <td>689</td>\n",
       "      <td>1228</td>\n",
       "    </tr>\n",
       "  </tbody>\n",
       "</table>\n",
       "</div>"
      ],
      "text/plain": [
       "C_Label   0.0   1.0   2.0\n",
       "P_Label                  \n",
       "0.0      3302  2499  1966\n",
       "1.0       374   689  1228"
      ]
     },
     "execution_count": 195,
     "metadata": {},
     "output_type": "execute_result"
    }
   ],
   "source": [
    "Crosscluster1"
   ]
  },
  {
   "cell_type": "code",
   "execution_count": 196,
   "metadata": {},
   "outputs": [
    {
     "data": {
      "text/html": [
       "<div>\n",
       "<style scoped>\n",
       "    .dataframe tbody tr th:only-of-type {\n",
       "        vertical-align: middle;\n",
       "    }\n",
       "\n",
       "    .dataframe tbody tr th {\n",
       "        vertical-align: top;\n",
       "    }\n",
       "\n",
       "    .dataframe thead th {\n",
       "        text-align: right;\n",
       "    }\n",
       "</style>\n",
       "<table border=\"1\" class=\"dataframe\">\n",
       "  <thead>\n",
       "    <tr style=\"text-align: right;\">\n",
       "      <th>C_Label</th>\n",
       "      <th>0.0</th>\n",
       "      <th>1.0</th>\n",
       "      <th>2.0</th>\n",
       "    </tr>\n",
       "    <tr>\n",
       "      <th>P_Label</th>\n",
       "      <th></th>\n",
       "      <th></th>\n",
       "      <th></th>\n",
       "    </tr>\n",
       "  </thead>\n",
       "  <tbody>\n",
       "    <tr>\n",
       "      <td>0.0</td>\n",
       "      <td>3302</td>\n",
       "      <td>2499</td>\n",
       "      <td>1966</td>\n",
       "    </tr>\n",
       "    <tr>\n",
       "      <td>1.0</td>\n",
       "      <td>374</td>\n",
       "      <td>689</td>\n",
       "      <td>1228</td>\n",
       "    </tr>\n",
       "  </tbody>\n",
       "</table>\n",
       "</div>"
      ],
      "text/plain": [
       "C_Label   0.0   1.0   2.0\n",
       "P_Label                  \n",
       "0.0      3302  2499  1966\n",
       "1.0       374   689  1228"
      ]
     },
     "execution_count": 196,
     "metadata": {},
     "output_type": "execute_result"
    }
   ],
   "source": [
    "pd.crosstab(dff['P_Label'], dff['C_Label'], \n",
    "                               margins = False) \n",
    "# pd.crosstab(dff['N_Label'], dff['C_Label'], \n",
    "#                                margins = False) \n",
    "# pd.crosstab(dff['P_Label'], dff['N_Label'], \n",
    "#                                margins = False) \n",
    "# dff['P_Label'].value_counts()"
   ]
  },
  {
   "cell_type": "markdown",
   "metadata": {},
   "source": [
    "Now that we will analyse each one the variables inside the clusters"
   ]
  },
  {
   "cell_type": "code",
   "execution_count": null,
   "metadata": {
    "scrolled": true
   },
   "outputs": [],
   "source": [
    "crostab_f"
   ]
  },
  {
   "cell_type": "markdown",
   "metadata": {},
   "source": [
    "#### Let's create the new DF with the clusters"
   ]
  },
  {
   "cell_type": "code",
   "execution_count": 285,
   "metadata": {
    "scrolled": true
   },
   "outputs": [],
   "source": [
    "#Split the ratio into three parts\n",
    "customer = ['Customer Identity','Gross Monthly Salary','Claims Rate','Customer Monetary Value','Age','Fidelity']\n",
    "premiums = ['Customer Identity','Premiums in LOB: Motor','Premiums in LOB: Household','Premiums in LOB: Health',\n",
    "         'Premiums in LOB:  Life','Premiums in LOB: Work Compensations']\n",
    "nominal = ['Customer Identity','Educational Degree','Geographic Living Area','Has Children (Y=1)']"
   ]
  },
  {
   "cell_type": "code",
   "execution_count": 275,
   "metadata": {},
   "outputs": [],
   "source": [
    "dff1 = dff\n",
    "ratio = ['F_label','Premiums in LOB: Motor','Premiums in LOB: Household','Premiums in LOB: Health',\n",
    "         'Premiums in LOB:  Life','Premiums in LOB: Work Compensations','Gross Monthly Salary','Claims Rate','Customer Monetary Value']\n",
    "categorical = ['F_label','Educational Degree','Geographic Living Area','Has Children (Y=1)']"
   ]
  },
  {
   "cell_type": "code",
   "execution_count": 286,
   "metadata": {},
   "outputs": [
    {
     "data": {
      "text/html": [
       "<div>\n",
       "<style scoped>\n",
       "    .dataframe tbody tr th:only-of-type {\n",
       "        vertical-align: middle;\n",
       "    }\n",
       "\n",
       "    .dataframe tbody tr th {\n",
       "        vertical-align: top;\n",
       "    }\n",
       "\n",
       "    .dataframe thead th {\n",
       "        text-align: right;\n",
       "    }\n",
       "</style>\n",
       "<table border=\"1\" class=\"dataframe\">\n",
       "  <thead>\n",
       "    <tr style=\"text-align: right;\">\n",
       "      <th>Has Children (Y=1)</th>\n",
       "      <th>0.0</th>\n",
       "      <th>1.0</th>\n",
       "    </tr>\n",
       "    <tr>\n",
       "      <th>F_label</th>\n",
       "      <th></th>\n",
       "      <th></th>\n",
       "    </tr>\n",
       "  </thead>\n",
       "  <tbody>\n",
       "    <tr>\n",
       "      <td>0.00.00.0</td>\n",
       "      <td>532</td>\n",
       "      <td>1345</td>\n",
       "    </tr>\n",
       "    <tr>\n",
       "      <td>0.00.01.0</td>\n",
       "      <td>279</td>\n",
       "      <td>712</td>\n",
       "    </tr>\n",
       "    <tr>\n",
       "      <td>0.00.02.0</td>\n",
       "      <td>324</td>\n",
       "      <td>844</td>\n",
       "    </tr>\n",
       "    <tr>\n",
       "      <td>0.01.00.0</td>\n",
       "      <td>322</td>\n",
       "      <td>757</td>\n",
       "    </tr>\n",
       "    <tr>\n",
       "      <td>0.01.01.0</td>\n",
       "      <td>106</td>\n",
       "      <td>242</td>\n",
       "    </tr>\n",
       "    <tr>\n",
       "      <td>0.01.02.0</td>\n",
       "      <td>194</td>\n",
       "      <td>460</td>\n",
       "    </tr>\n",
       "    <tr>\n",
       "      <td>0.02.00.0</td>\n",
       "      <td>75</td>\n",
       "      <td>190</td>\n",
       "    </tr>\n",
       "    <tr>\n",
       "      <td>0.02.01.0</td>\n",
       "      <td>339</td>\n",
       "      <td>758</td>\n",
       "    </tr>\n",
       "    <tr>\n",
       "      <td>0.02.02.0</td>\n",
       "      <td>23</td>\n",
       "      <td>75</td>\n",
       "    </tr>\n",
       "    <tr>\n",
       "      <td>1.00.00.0</td>\n",
       "      <td>71</td>\n",
       "      <td>184</td>\n",
       "    </tr>\n",
       "    <tr>\n",
       "      <td>1.00.01.0</td>\n",
       "      <td>115</td>\n",
       "      <td>246</td>\n",
       "    </tr>\n",
       "    <tr>\n",
       "      <td>1.00.02.0</td>\n",
       "      <td>254</td>\n",
       "      <td>559</td>\n",
       "    </tr>\n",
       "    <tr>\n",
       "      <td>1.01.00.0</td>\n",
       "      <td>23</td>\n",
       "      <td>38</td>\n",
       "    </tr>\n",
       "    <tr>\n",
       "      <td>1.01.01.0</td>\n",
       "      <td>11</td>\n",
       "      <td>21</td>\n",
       "    </tr>\n",
       "    <tr>\n",
       "      <td>1.01.02.0</td>\n",
       "      <td>71</td>\n",
       "      <td>176</td>\n",
       "    </tr>\n",
       "    <tr>\n",
       "      <td>1.02.00.0</td>\n",
       "      <td>12</td>\n",
       "      <td>37</td>\n",
       "    </tr>\n",
       "    <tr>\n",
       "      <td>1.02.01.0</td>\n",
       "      <td>83</td>\n",
       "      <td>202</td>\n",
       "    </tr>\n",
       "    <tr>\n",
       "      <td>1.02.02.0</td>\n",
       "      <td>38</td>\n",
       "      <td>105</td>\n",
       "    </tr>\n",
       "  </tbody>\n",
       "</table>\n",
       "</div>"
      ],
      "text/plain": [
       "Has Children (Y=1)  0.0   1.0\n",
       "F_label                      \n",
       "0.00.00.0           532  1345\n",
       "0.00.01.0           279   712\n",
       "0.00.02.0           324   844\n",
       "0.01.00.0           322   757\n",
       "0.01.01.0           106   242\n",
       "0.01.02.0           194   460\n",
       "0.02.00.0            75   190\n",
       "0.02.01.0           339   758\n",
       "0.02.02.0            23    75\n",
       "1.00.00.0            71   184\n",
       "1.00.01.0           115   246\n",
       "1.00.02.0           254   559\n",
       "1.01.00.0            23    38\n",
       "1.01.01.0            11    21\n",
       "1.01.02.0            71   176\n",
       "1.02.00.0            12    37\n",
       "1.02.01.0            83   202\n",
       "1.02.02.0            38   105"
      ]
     },
     "execution_count": 286,
     "metadata": {},
     "output_type": "execute_result"
    }
   ],
   "source": [
    "dff2 = dff1[categorical]\n",
    "dff2\n",
    "pd.crosstab(dff2['F_label'], dff2['Educational Degree'], \n",
    "                               margins = False)\n",
    "pd.crosstab(dff2['F_label'], dff2['Geographic Living Area'], \n",
    "                               margins = False)\n",
    "pd.crosstab(dff2['F_label'], dff2['Has Children (Y=1)'], \n",
    "                               margins = False)"
   ]
  },
  {
   "cell_type": "code",
   "execution_count": 294,
   "metadata": {},
   "outputs": [],
   "source": [
    "# Test\n",
    "# dff['F_label'].replace(to_replace = {\n",
    "# '0.00.00.0'     : 'Cluster1',\n",
    "# \"0.00.02.0\"     : 'Cluster3',\n",
    "# \"0.02.01.0\"     : 'Cluster2',\n",
    "# \"0.01.00.0\"     : 'Cluster4',\n",
    "# \"0.00.01.0\"     : 'Cluster4',\n",
    "# \"1.00.02.0\"      : 'Cluster5',\n",
    "# \"0.01.02.0\"      : 'Cluster3',\n",
    "# \"1.00.01.0\"      : 'Cluster5',\n",
    "# \"0.01.01.0\"      : 'Cluster2',\n",
    "# \"1.02.01.0\"      : 'Cluster5',\n",
    "# \"0.02.00.0\"      : 'Cluster2',\n",
    "# \"1.00.00.0\"      : 'Cluster2',\n",
    "# \"1.01.02.0\"      : 'Cluster5',\n",
    "# \"1.02.02.0\"      : 'Cluster5',\n",
    "# \"0.02.02.0\"       : 'Cluster5',\n",
    "# \"1.01.00.0\"       : 'Cluster1',\n",
    "# \"1.02.00.0\"       : 'Cluster1',\n",
    "# \"1.01.01.0\"     : 'Cluster2'                 \n",
    "# }, inplace=True\n",
    "# )"
   ]
  },
  {
   "cell_type": "code",
   "execution_count": 295,
   "metadata": {},
   "outputs": [
    {
     "data": {
      "text/plain": [
       "Cluster4    2125\n",
       "Cluster2    2052\n",
       "Cluster1    2031\n",
       "Cluster5    1983\n",
       "Cluster3    1867\n",
       "Name: F_label, dtype: int64"
      ]
     },
     "execution_count": 295,
     "metadata": {},
     "output_type": "execute_result"
    }
   ],
   "source": [
    "dff['F_label'].value_counts()"
   ]
  },
  {
   "cell_type": "code",
   "execution_count": 63,
   "metadata": {},
   "outputs": [
    {
     "ename": "NameError",
     "evalue": "name 'dff' is not defined",
     "output_type": "error",
     "traceback": [
      "\u001b[1;31m---------------------------------------------------------------------------\u001b[0m",
      "\u001b[1;31mNameError\u001b[0m                                 Traceback (most recent call last)",
      "\u001b[1;32m<ipython-input-63-d9dad41f0255>\u001b[0m in \u001b[0;36m<module>\u001b[1;34m\u001b[0m\n\u001b[1;32m----> 1\u001b[1;33m \u001b[0mdff1\u001b[0m \u001b[1;33m=\u001b[0m \u001b[0mdff\u001b[0m\u001b[1;33m\u001b[0m\u001b[1;33m\u001b[0m\u001b[0m\n\u001b[0m\u001b[0;32m      2\u001b[0m ratio = ['F_label','Premiums in LOB: Motor','Premiums in LOB: Household','Premiums in LOB: Health',\n\u001b[0;32m      3\u001b[0m          'Premiums in LOB:  Life','Premiums in LOB: Work Compensations','Gross Monthly Salary','Claims Rate','Customer Monetary Value',\"Client Spend\"]\n\u001b[0;32m      4\u001b[0m \u001b[0mcategorical\u001b[0m \u001b[1;33m=\u001b[0m \u001b[1;33m[\u001b[0m\u001b[1;34m'F_label'\u001b[0m\u001b[1;33m,\u001b[0m\u001b[1;34m'Educational Degree'\u001b[0m\u001b[1;33m,\u001b[0m\u001b[1;34m'Geographic Living Area'\u001b[0m\u001b[1;33m,\u001b[0m\u001b[1;34m'Has Children (Y=1)'\u001b[0m\u001b[1;33m]\u001b[0m\u001b[1;33m\u001b[0m\u001b[1;33m\u001b[0m\u001b[0m\n\u001b[0;32m      5\u001b[0m \u001b[0mdff1\u001b[0m\u001b[1;33m\u001b[0m\u001b[1;33m\u001b[0m\u001b[0m\n",
      "\u001b[1;31mNameError\u001b[0m: name 'dff' is not defined"
     ]
    }
   ],
   "source": [
    "dff1 = dff\n",
    "ratio = ['F_label','Premiums in LOB: Motor','Premiums in LOB: Household','Premiums in LOB: Health',\n",
    "         'Premiums in LOB:  Life','Premiums in LOB: Work Compensations','Gross Monthly Salary','Claims Rate','Customer Monetary Value',\"Client Spend\"]\n",
    "categorical = ['F_label','Educational Degree','Geographic Living Area','Has Children (Y=1)']\n",
    "dff1"
   ]
  },
  {
   "cell_type": "code",
   "execution_count": 222,
   "metadata": {
    "scrolled": true
   },
   "outputs": [
    {
     "data": {
      "text/html": [
       "<div>\n",
       "<style scoped>\n",
       "    .dataframe tbody tr th:only-of-type {\n",
       "        vertical-align: middle;\n",
       "    }\n",
       "\n",
       "    .dataframe tbody tr th {\n",
       "        vertical-align: top;\n",
       "    }\n",
       "\n",
       "    .dataframe thead th {\n",
       "        text-align: right;\n",
       "    }\n",
       "</style>\n",
       "<table border=\"1\" class=\"dataframe\">\n",
       "  <thead>\n",
       "    <tr style=\"text-align: right;\">\n",
       "      <th></th>\n",
       "      <th>Premiums in LOB: Motor</th>\n",
       "      <th>Premiums in LOB: Household</th>\n",
       "      <th>Premiums in LOB: Health</th>\n",
       "      <th>Premiums in LOB:  Life</th>\n",
       "      <th>Premiums in LOB: Work Compensations</th>\n",
       "      <th>Gross Monthly Salary</th>\n",
       "      <th>Claims Rate</th>\n",
       "      <th>Customer Monetary Value</th>\n",
       "      <th>Client Spend</th>\n",
       "    </tr>\n",
       "    <tr>\n",
       "      <th>F_label</th>\n",
       "      <th></th>\n",
       "      <th></th>\n",
       "      <th></th>\n",
       "      <th></th>\n",
       "      <th></th>\n",
       "      <th></th>\n",
       "      <th></th>\n",
       "      <th></th>\n",
       "      <th></th>\n",
       "    </tr>\n",
       "  </thead>\n",
       "  <tbody>\n",
       "    <tr>\n",
       "      <td>0.00.00.0</td>\n",
       "      <td>298.543506</td>\n",
       "      <td>203.793420</td>\n",
       "      <td>169.382259</td>\n",
       "      <td>38.702168</td>\n",
       "      <td>37.855610</td>\n",
       "      <td>2533.270202</td>\n",
       "      <td>0.680666</td>\n",
       "      <td>214.996201</td>\n",
       "      <td>748.276963</td>\n",
       "    </tr>\n",
       "    <tr>\n",
       "      <td>0.00.01.0</td>\n",
       "      <td>298.683431</td>\n",
       "      <td>213.516599</td>\n",
       "      <td>167.186942</td>\n",
       "      <td>40.074945</td>\n",
       "      <td>38.770061</td>\n",
       "      <td>2486.151619</td>\n",
       "      <td>0.664662</td>\n",
       "      <td>228.805419</td>\n",
       "      <td>758.231978</td>\n",
       "    </tr>\n",
       "    <tr>\n",
       "      <td>0.00.02.0</td>\n",
       "      <td>299.399041</td>\n",
       "      <td>203.682363</td>\n",
       "      <td>168.699058</td>\n",
       "      <td>38.796524</td>\n",
       "      <td>39.594846</td>\n",
       "      <td>2501.411068</td>\n",
       "      <td>0.690026</td>\n",
       "      <td>209.865368</td>\n",
       "      <td>750.171832</td>\n",
       "    </tr>\n",
       "    <tr>\n",
       "      <td>0.01.00.0</td>\n",
       "      <td>296.515422</td>\n",
       "      <td>206.714829</td>\n",
       "      <td>167.693364</td>\n",
       "      <td>40.339935</td>\n",
       "      <td>39.705857</td>\n",
       "      <td>2484.716639</td>\n",
       "      <td>0.685005</td>\n",
       "      <td>213.246969</td>\n",
       "      <td>750.969407</td>\n",
       "    </tr>\n",
       "    <tr>\n",
       "      <td>0.01.01.0</td>\n",
       "      <td>311.804023</td>\n",
       "      <td>203.195977</td>\n",
       "      <td>161.173764</td>\n",
       "      <td>37.495661</td>\n",
       "      <td>37.644684</td>\n",
       "      <td>2575.224138</td>\n",
       "      <td>0.682557</td>\n",
       "      <td>220.971868</td>\n",
       "      <td>751.314109</td>\n",
       "    </tr>\n",
       "    <tr>\n",
       "      <td>0.01.02.0</td>\n",
       "      <td>306.309939</td>\n",
       "      <td>188.586315</td>\n",
       "      <td>168.375076</td>\n",
       "      <td>37.514924</td>\n",
       "      <td>36.527080</td>\n",
       "      <td>2576.752423</td>\n",
       "      <td>0.687599</td>\n",
       "      <td>208.114557</td>\n",
       "      <td>737.313333</td>\n",
       "    </tr>\n",
       "    <tr>\n",
       "      <td>0.02.00.0</td>\n",
       "      <td>319.333623</td>\n",
       "      <td>194.401509</td>\n",
       "      <td>157.894075</td>\n",
       "      <td>36.692000</td>\n",
       "      <td>35.329057</td>\n",
       "      <td>2483.313527</td>\n",
       "      <td>0.678491</td>\n",
       "      <td>215.129321</td>\n",
       "      <td>743.650264</td>\n",
       "    </tr>\n",
       "    <tr>\n",
       "      <td>0.02.01.0</td>\n",
       "      <td>297.005360</td>\n",
       "      <td>197.228897</td>\n",
       "      <td>170.376427</td>\n",
       "      <td>39.883856</td>\n",
       "      <td>40.406135</td>\n",
       "      <td>2547.455981</td>\n",
       "      <td>0.677165</td>\n",
       "      <td>218.884768</td>\n",
       "      <td>744.900675</td>\n",
       "    </tr>\n",
       "    <tr>\n",
       "      <td>0.02.02.0</td>\n",
       "      <td>323.765204</td>\n",
       "      <td>165.768878</td>\n",
       "      <td>158.025204</td>\n",
       "      <td>34.530306</td>\n",
       "      <td>33.920204</td>\n",
       "      <td>2550.428571</td>\n",
       "      <td>0.706633</td>\n",
       "      <td>194.399592</td>\n",
       "      <td>716.009796</td>\n",
       "    </tr>\n",
       "    <tr>\n",
       "      <td>1.00.00.0</td>\n",
       "      <td>289.506039</td>\n",
       "      <td>207.603529</td>\n",
       "      <td>173.976118</td>\n",
       "      <td>40.710510</td>\n",
       "      <td>39.772196</td>\n",
       "      <td>2449.858824</td>\n",
       "      <td>0.669804</td>\n",
       "      <td>226.694510</td>\n",
       "      <td>751.568392</td>\n",
       "    </tr>\n",
       "    <tr>\n",
       "      <td>1.00.01.0</td>\n",
       "      <td>291.377258</td>\n",
       "      <td>213.559418</td>\n",
       "      <td>170.773019</td>\n",
       "      <td>41.856094</td>\n",
       "      <td>40.452078</td>\n",
       "      <td>2505.235457</td>\n",
       "      <td>0.673601</td>\n",
       "      <td>230.385152</td>\n",
       "      <td>758.017867</td>\n",
       "    </tr>\n",
       "    <tr>\n",
       "      <td>1.00.02.0</td>\n",
       "      <td>301.707036</td>\n",
       "      <td>200.781119</td>\n",
       "      <td>169.188831</td>\n",
       "      <td>38.069496</td>\n",
       "      <td>38.404231</td>\n",
       "      <td>2550.569704</td>\n",
       "      <td>0.690529</td>\n",
       "      <td>212.124391</td>\n",
       "      <td>748.150713</td>\n",
       "    </tr>\n",
       "    <tr>\n",
       "      <td>1.01.00.0</td>\n",
       "      <td>327.763279</td>\n",
       "      <td>151.131148</td>\n",
       "      <td>157.539672</td>\n",
       "      <td>33.080984</td>\n",
       "      <td>29.819672</td>\n",
       "      <td>2700.114754</td>\n",
       "      <td>0.731803</td>\n",
       "      <td>171.016393</td>\n",
       "      <td>699.334754</td>\n",
       "    </tr>\n",
       "    <tr>\n",
       "      <td>1.01.01.0</td>\n",
       "      <td>279.233125</td>\n",
       "      <td>192.364062</td>\n",
       "      <td>178.957188</td>\n",
       "      <td>52.096562</td>\n",
       "      <td>40.747187</td>\n",
       "      <td>2387.656250</td>\n",
       "      <td>0.842500</td>\n",
       "      <td>93.857500</td>\n",
       "      <td>743.398125</td>\n",
       "    </tr>\n",
       "    <tr>\n",
       "      <td>1.01.02.0</td>\n",
       "      <td>301.481053</td>\n",
       "      <td>196.817611</td>\n",
       "      <td>169.320364</td>\n",
       "      <td>37.157287</td>\n",
       "      <td>39.351457</td>\n",
       "      <td>2540.914980</td>\n",
       "      <td>0.677571</td>\n",
       "      <td>210.391255</td>\n",
       "      <td>744.127773</td>\n",
       "    </tr>\n",
       "    <tr>\n",
       "      <td>1.02.00.0</td>\n",
       "      <td>245.166531</td>\n",
       "      <td>289.873469</td>\n",
       "      <td>169.567143</td>\n",
       "      <td>58.258163</td>\n",
       "      <td>54.572857</td>\n",
       "      <td>2365.938776</td>\n",
       "      <td>0.731224</td>\n",
       "      <td>187.311020</td>\n",
       "      <td>817.438163</td>\n",
       "    </tr>\n",
       "    <tr>\n",
       "      <td>1.02.01.0</td>\n",
       "      <td>293.872667</td>\n",
       "      <td>207.655965</td>\n",
       "      <td>169.190982</td>\n",
       "      <td>39.227684</td>\n",
       "      <td>40.702842</td>\n",
       "      <td>2489.979096</td>\n",
       "      <td>0.697053</td>\n",
       "      <td>202.072000</td>\n",
       "      <td>750.650140</td>\n",
       "    </tr>\n",
       "    <tr>\n",
       "      <td>1.02.02.0</td>\n",
       "      <td>317.631049</td>\n",
       "      <td>165.754196</td>\n",
       "      <td>166.085734</td>\n",
       "      <td>34.055385</td>\n",
       "      <td>34.682657</td>\n",
       "      <td>2480.000296</td>\n",
       "      <td>0.665105</td>\n",
       "      <td>218.382587</td>\n",
       "      <td>718.209021</td>\n",
       "    </tr>\n",
       "  </tbody>\n",
       "</table>\n",
       "</div>"
      ],
      "text/plain": [
       "           Premiums in LOB: Motor  Premiums in LOB: Household  \\\n",
       "F_label                                                         \n",
       "0.00.00.0              298.543506                  203.793420   \n",
       "0.00.01.0              298.683431                  213.516599   \n",
       "0.00.02.0              299.399041                  203.682363   \n",
       "0.01.00.0              296.515422                  206.714829   \n",
       "0.01.01.0              311.804023                  203.195977   \n",
       "0.01.02.0              306.309939                  188.586315   \n",
       "0.02.00.0              319.333623                  194.401509   \n",
       "0.02.01.0              297.005360                  197.228897   \n",
       "0.02.02.0              323.765204                  165.768878   \n",
       "1.00.00.0              289.506039                  207.603529   \n",
       "1.00.01.0              291.377258                  213.559418   \n",
       "1.00.02.0              301.707036                  200.781119   \n",
       "1.01.00.0              327.763279                  151.131148   \n",
       "1.01.01.0              279.233125                  192.364062   \n",
       "1.01.02.0              301.481053                  196.817611   \n",
       "1.02.00.0              245.166531                  289.873469   \n",
       "1.02.01.0              293.872667                  207.655965   \n",
       "1.02.02.0              317.631049                  165.754196   \n",
       "\n",
       "           Premiums in LOB: Health  Premiums in LOB:  Life  \\\n",
       "F_label                                                      \n",
       "0.00.00.0               169.382259               38.702168   \n",
       "0.00.01.0               167.186942               40.074945   \n",
       "0.00.02.0               168.699058               38.796524   \n",
       "0.01.00.0               167.693364               40.339935   \n",
       "0.01.01.0               161.173764               37.495661   \n",
       "0.01.02.0               168.375076               37.514924   \n",
       "0.02.00.0               157.894075               36.692000   \n",
       "0.02.01.0               170.376427               39.883856   \n",
       "0.02.02.0               158.025204               34.530306   \n",
       "1.00.00.0               173.976118               40.710510   \n",
       "1.00.01.0               170.773019               41.856094   \n",
       "1.00.02.0               169.188831               38.069496   \n",
       "1.01.00.0               157.539672               33.080984   \n",
       "1.01.01.0               178.957188               52.096562   \n",
       "1.01.02.0               169.320364               37.157287   \n",
       "1.02.00.0               169.567143               58.258163   \n",
       "1.02.01.0               169.190982               39.227684   \n",
       "1.02.02.0               166.085734               34.055385   \n",
       "\n",
       "           Premiums in LOB: Work Compensations  Gross Monthly Salary  \\\n",
       "F_label                                                                \n",
       "0.00.00.0                            37.855610           2533.270202   \n",
       "0.00.01.0                            38.770061           2486.151619   \n",
       "0.00.02.0                            39.594846           2501.411068   \n",
       "0.01.00.0                            39.705857           2484.716639   \n",
       "0.01.01.0                            37.644684           2575.224138   \n",
       "0.01.02.0                            36.527080           2576.752423   \n",
       "0.02.00.0                            35.329057           2483.313527   \n",
       "0.02.01.0                            40.406135           2547.455981   \n",
       "0.02.02.0                            33.920204           2550.428571   \n",
       "1.00.00.0                            39.772196           2449.858824   \n",
       "1.00.01.0                            40.452078           2505.235457   \n",
       "1.00.02.0                            38.404231           2550.569704   \n",
       "1.01.00.0                            29.819672           2700.114754   \n",
       "1.01.01.0                            40.747187           2387.656250   \n",
       "1.01.02.0                            39.351457           2540.914980   \n",
       "1.02.00.0                            54.572857           2365.938776   \n",
       "1.02.01.0                            40.702842           2489.979096   \n",
       "1.02.02.0                            34.682657           2480.000296   \n",
       "\n",
       "           Claims Rate  Customer Monetary Value  Client Spend  \n",
       "F_label                                                        \n",
       "0.00.00.0     0.680666               214.996201    748.276963  \n",
       "0.00.01.0     0.664662               228.805419    758.231978  \n",
       "0.00.02.0     0.690026               209.865368    750.171832  \n",
       "0.01.00.0     0.685005               213.246969    750.969407  \n",
       "0.01.01.0     0.682557               220.971868    751.314109  \n",
       "0.01.02.0     0.687599               208.114557    737.313333  \n",
       "0.02.00.0     0.678491               215.129321    743.650264  \n",
       "0.02.01.0     0.677165               218.884768    744.900675  \n",
       "0.02.02.0     0.706633               194.399592    716.009796  \n",
       "1.00.00.0     0.669804               226.694510    751.568392  \n",
       "1.00.01.0     0.673601               230.385152    758.017867  \n",
       "1.00.02.0     0.690529               212.124391    748.150713  \n",
       "1.01.00.0     0.731803               171.016393    699.334754  \n",
       "1.01.01.0     0.842500                93.857500    743.398125  \n",
       "1.01.02.0     0.677571               210.391255    744.127773  \n",
       "1.02.00.0     0.731224               187.311020    817.438163  \n",
       "1.02.01.0     0.697053               202.072000    750.650140  \n",
       "1.02.02.0     0.665105               218.382587    718.209021  "
      ]
     },
     "execution_count": 222,
     "metadata": {},
     "output_type": "execute_result"
    }
   ],
   "source": [
    "dff1[ratio].groupby('F_label').mean()"
   ]
  },
  {
   "cell_type": "code",
   "execution_count": 63,
   "metadata": {},
   "outputs": [],
   "source": []
  },
  {
   "cell_type": "markdown",
   "metadata": {},
   "source": [
    "### Plotting the Variables with the Clusters"
   ]
  },
  {
   "cell_type": "markdown",
   "metadata": {},
   "source": [
    "##### Gross Monthly Salary"
   ]
  },
  {
   "cell_type": "code",
   "execution_count": null,
   "metadata": {},
   "outputs": [],
   "source": [
    "ax = sns.boxplot(x=\"C_Label\", y=\"Gross Monthly Salary\", data=dff)\n",
    "\n",
    "# control x and y limits\n",
    "\n",
    "ax.set(ylim=(0, 10000))"
   ]
  },
  {
   "cell_type": "code",
   "execution_count": null,
   "metadata": {},
   "outputs": [],
   "source": [
    "ax = sns.boxplot(x=\"P_Label\", y=\"Gross Monthly Salary\", data=dff)\n",
    "ax.set(ylim=(0, 10000))"
   ]
  },
  {
   "cell_type": "code",
   "execution_count": null,
   "metadata": {},
   "outputs": [],
   "source": [
    "ax = sns.boxplot(x=\"N_Label\", y=\"Gross Monthly Salary\", data=dff)\n",
    "ax.set(ylim=(0, 10000))\n",
    "dff['N_Label'].value_counts()"
   ]
  },
  {
   "cell_type": "markdown",
   "metadata": {},
   "source": [
    "##### Has Children (Y=1)"
   ]
  },
  {
   "cell_type": "code",
   "execution_count": null,
   "metadata": {},
   "outputs": [],
   "source": [
    "pd.crosstab(dff['P_Label'], dff['Has Children (Y=1)'], \n",
    "                               margins = True) #Unbalanced"
   ]
  },
  {
   "cell_type": "code",
   "execution_count": null,
   "metadata": {},
   "outputs": [],
   "source": [
    "pd.crosstab(dff['C_Label'], dff['Has Children (Y=1)'], \n",
    "                               margins = True) #Balanced"
   ]
  },
  {
   "cell_type": "code",
   "execution_count": null,
   "metadata": {},
   "outputs": [],
   "source": [
    "pd.crosstab(dff['N_Label'], dff['Has Children (Y=1)'], \n",
    "                               margins = True) "
   ]
  },
  {
   "cell_type": "markdown",
   "metadata": {},
   "source": [
    "##### Educational Degree"
   ]
  },
  {
   "cell_type": "code",
   "execution_count": null,
   "metadata": {},
   "outputs": [],
   "source": [
    "pd.crosstab(dff['C_Label'], dff['Educational Degree'])\n"
   ]
  },
  {
   "cell_type": "code",
   "execution_count": null,
   "metadata": {},
   "outputs": [],
   "source": [
    "pd.crosstab(dff['C_Label'], dff['Educational Degree'])"
   ]
  },
  {
   "cell_type": "code",
   "execution_count": null,
   "metadata": {},
   "outputs": [],
   "source": [
    "pd.crosstab(dff['N_Label'], dff['Geographic Living Area'])"
   ]
  },
  {
   "cell_type": "markdown",
   "metadata": {},
   "source": [
    "##### Geographic Living Area"
   ]
  },
  {
   "cell_type": "code",
   "execution_count": null,
   "metadata": {},
   "outputs": [],
   "source": [
    "pd.crosstab(dff['P_Label'], dff['Geographic Living Area'])"
   ]
  },
  {
   "cell_type": "code",
   "execution_count": null,
   "metadata": {},
   "outputs": [],
   "source": [
    "pd.crosstab(dff['C_Label'], dff['Geographic Living Area'])"
   ]
  },
  {
   "cell_type": "code",
   "execution_count": null,
   "metadata": {},
   "outputs": [],
   "source": [
    "pd.crosstab(dff['N_Label'], dff['Geographic Living Area'])"
   ]
  },
  {
   "cell_type": "markdown",
   "metadata": {},
   "source": [
    "#### Premiums in LOB: Work Compensations"
   ]
  },
  {
   "cell_type": "code",
   "execution_count": null,
   "metadata": {},
   "outputs": [],
   "source": [
    "ax = sns.boxplot(x=\"C_Label\", y=\"Premiums in LOB: Work Compensations\", data=dff)\n",
    "\n",
    "# control x and y limits\n",
    "\n",
    "ax.set(ylim=(0, 200))"
   ]
  },
  {
   "cell_type": "code",
   "execution_count": null,
   "metadata": {},
   "outputs": [],
   "source": [
    "ax = sns.boxplot(x=\"P_Label\", y=\"Premiums in LOB: Work Compensations\", data=dff)\n",
    "\n",
    "# control x and y limits\n",
    "\n",
    "ax.set(ylim=(0, 200))"
   ]
  },
  {
   "cell_type": "code",
   "execution_count": null,
   "metadata": {},
   "outputs": [],
   "source": [
    "ax = sns.boxplot(x=\"N_Label\", y=\"Premiums in LOB: Work Compensations\", data=dff)\n",
    "\n",
    "# control x and y limits\n",
    "\n",
    "ax.set(ylim=(0, 200))"
   ]
  },
  {
   "cell_type": "code",
   "execution_count": null,
   "metadata": {},
   "outputs": [],
   "source": [
    "fig = px.box(dff, x=\"N_Label\", y=\"Premiums in LOB: Work Compensations\")\n",
    "fig.show()"
   ]
  },
  {
   "cell_type": "markdown",
   "metadata": {},
   "source": [
    "#### Customer Monetary Value"
   ]
  },
  {
   "cell_type": "code",
   "execution_count": null,
   "metadata": {},
   "outputs": [],
   "source": [
    "fig = px.box(dff, x=\"N_Label\", y=\"Customer Monetary Value\")\n",
    "fig.show()"
   ]
  },
  {
   "cell_type": "code",
   "execution_count": 223,
   "metadata": {},
   "outputs": [
    {
     "data": {
      "text/plain": [
       "Index(['Premiums in LOB: Motor', 'Premiums in LOB: Household',\n",
       "       'Premiums in LOB: Health', 'Premiums in LOB:  Life',\n",
       "       'Premiums in LOB: Work Compensations', 'P_Label',\n",
       "       'Gross Monthly Salary', 'Claims Rate', 'Customer Monetary Value',\n",
       "       'Client Spend', 'Fidelity', 'Age', 'C_Label', 'Educational Degree',\n",
       "       'Geographic Living Area', 'Has Children (Y=1)', 'N_Label', 'F_label'],\n",
       "      dtype='object')"
      ]
     },
     "execution_count": 223,
     "metadata": {},
     "output_type": "execute_result"
    }
   ],
   "source": [
    "dff.columns"
   ]
  },
  {
   "cell_type": "code",
   "execution_count": 246,
   "metadata": {},
   "outputs": [
    {
     "data": {
      "text/plain": [
       "count    9823.000000\n",
       "mean     2520.307995\n",
       "std       973.160608\n",
       "min       333.000000\n",
       "25%      1746.500000\n",
       "50%      2524.000000\n",
       "75%      3297.000000\n",
       "max      5021.000000\n",
       "Name: Gross Monthly Salary, dtype: float64"
      ]
     },
     "execution_count": 246,
     "metadata": {},
     "output_type": "execute_result"
    }
   ],
   "source": [
    "dff['Gross Monthly Salary'].describe()"
   ]
  },
  {
   "cell_type": "code",
   "execution_count": 247,
   "metadata": {},
   "outputs": [
    {
     "data": {
      "text/plain": [
       "count    9823.000000\n",
       "mean       48.313186\n",
       "std        17.161446\n",
       "min        15.000000\n",
       "25%        34.000000\n",
       "50%        49.000000\n",
       "75%        63.000000\n",
       "max        81.000000\n",
       "Name: Age, dtype: float64"
      ]
     },
     "execution_count": 247,
     "metadata": {},
     "output_type": "execute_result"
    }
   ],
   "source": [
    "dff['Age'].describe()"
   ]
  },
  {
   "cell_type": "markdown",
   "metadata": {},
   "source": [
    "### Cluster Selection (Second part)"
   ]
  },
  {
   "cell_type": "markdown",
   "metadata": {},
   "source": [
    "#### Customer\n"
   ]
  },
  {
   "cell_type": "code",
   "execution_count": 73,
   "metadata": {},
   "outputs": [],
   "source": [
    "from matplotlib import pyplot as plt\n",
    "from sklearn import cluster\n",
    "from sklearn import preprocessing\n",
    "from scipy.cluster.hierarchy import dendrogram, linkage, fcluster"
   ]
  },
  {
   "cell_type": "code",
   "execution_count": 74,
   "metadata": {},
   "outputs": [
    {
     "data": {
      "text/plain": [
       "array([[2.02400000e+03, 7.94100000e+03, 0.00000000e+00, 2.00000000e+00],\n",
       "       [2.04800000e+03, 7.83400000e+03, 0.00000000e+00, 2.00000000e+00],\n",
       "       [3.42600000e+03, 9.33200000e+03, 0.00000000e+00, 2.00000000e+00],\n",
       "       ...,\n",
       "       [2.00980000e+04, 2.01110000e+04, 9.34833283e+01, 3.36700000e+03],\n",
       "       [2.01090000e+04, 2.01100000e+04, 1.40667862e+02, 6.69100000e+03],\n",
       "       [2.01120000e+04, 2.01130000e+04, 1.46353690e+02, 1.00580000e+04]])"
      ]
     },
     "execution_count": 74,
     "metadata": {},
     "output_type": "execute_result"
    }
   ],
   "source": [
    "scaler = StandardScaler()\n",
    "CA_Norm = scaler.fit_transform(cust_clust)\n",
    "CA_Norm = pd.DataFrame(CA_Norm, columns = cust_clust.columns)\n",
    "Z = linkage(CA_Norm,\n",
    "            method = 'ward')\n",
    "Z"
   ]
  },
  {
   "cell_type": "code",
   "execution_count": 75,
   "metadata": {},
   "outputs": [
    {
     "name": "stdout",
     "output_type": "stream",
     "text": [
      "       0\n",
      "0      0\n",
      "0   5074\n",
      "0   5069\n",
      "0   5067\n",
      "0   5065\n",
      "..   ...\n",
      "2   5923\n",
      "2   5921\n",
      "2   5919\n",
      "2   5939\n",
      "2   5141\n",
      "\n",
      "[10058 rows x 1 columns]\n",
      "[[2308.67942644 2309.45302766 2307.73599371]\n",
      " [1143.49037922 1143.64070475 1142.72967144]\n",
      " [2447.62760789 2448.47125268 2446.75700447]\n",
      " ...\n",
      " [3045.79188028 3046.58018467 3044.82611216]\n",
      " [2133.35206524 2134.0392575  2132.37966589]\n",
      " [2930.90059529 2931.66487505 2929.9136744 ]]\n",
      "col_0  0  1  2\n",
      "row_0         \n",
      "0      1  0  0\n",
      "1      1  0  0\n",
      "2      0  0  1\n",
      "3      1  0  0\n",
      "4      1  0  0\n",
      "...   .. .. ..\n",
      "10291  0  0  1\n",
      "10292  0  0  1\n",
      "10293  1  0  0\n",
      "10294  1  0  0\n",
      "10295  0  1  0\n",
      "\n",
      "[10058 rows x 3 columns]\n"
     ]
    }
   ],
   "source": [
    "kmeans = KMeans(n_clusters= 3, \n",
    "                random_state=0,\n",
    "                n_init = 5,\n",
    "                max_iter = 200).fit(CA_Norm)\n",
    "idk = np.argsort(kmeans.labels_)\n",
    "print(pd.DataFrame(cust_clust.index[idk],kmeans.labels_[idk]))\n",
    "print(kmeans.transform(cust_clust))\n",
    "# Printing the cluster Customer per \n",
    "print(pd.crosstab(cust_clust.index[idk],kmeans.labels_))\n",
    "\n",
    "kmeansC = kmeans"
   ]
  },
  {
   "cell_type": "markdown",
   "metadata": {},
   "source": [
    "### Interpreting the Clusters"
   ]
  },
  {
   "cell_type": "code",
   "execution_count": 76,
   "metadata": {},
   "outputs": [
    {
     "name": "stdout",
     "output_type": "stream",
     "text": [
      "Gross Monthly Salary       9.514169e+09\n",
      "Claims Rate                1.149450e+03\n",
      "Customer Monetary Value    6.968911e+08\n",
      "Client_Spend               3.576585e+08\n",
      "Fidelity                   4.388555e+05\n",
      "Age                        2.960148e+06\n",
      "dtype: float64\n"
     ]
    }
   ],
   "source": [
    "m = cust_clust.mean()\n",
    "m\n",
    "# TSS (total sum of squares)\n",
    "TSS = cust_clust.shape[0]*cust_clust.var(ddof=0)\n",
    "print(TSS)\n"
   ]
  },
  {
   "cell_type": "code",
   "execution_count": 77,
   "metadata": {},
   "outputs": [
    {
     "name": "stdout",
     "output_type": "stream",
     "text": [
      "0    3096\n",
      "1    3262\n",
      "2    3700\n",
      "dtype: int64\n"
     ]
    }
   ],
   "source": [
    "#conditional groups size\n",
    "gb = cust_clust.groupby(kmeansC.labels_)\n",
    "nk = gb.size()\n",
    "print(nk)"
   ]
  },
  {
   "cell_type": "code",
   "execution_count": 78,
   "metadata": {},
   "outputs": [
    {
     "name": "stdout",
     "output_type": "stream",
     "text": [
      "   Gross Monthly Salary  Claims Rate  Customer Monetary Value  Client_Spend  \\\n",
      "0           2204.450718     0.307700               503.571311    770.380323   \n",
      "1           1736.512112     0.920898                38.171487    755.438807   \n",
      "2           3470.843921     0.783408               131.586265    723.308770   \n",
      "\n",
      "    Fidelity        Age  \n",
      "0  29.956718  42.535958  \n",
      "1  30.231147  34.243612  \n",
      "2  29.799189  65.491470  \n"
     ]
    }
   ],
   "source": [
    "#conditional means\n",
    "mk = gb.mean()\n",
    "print(mk)"
   ]
  },
  {
   "cell_type": "code",
   "execution_count": 79,
   "metadata": {},
   "outputs": [
    {
     "name": "stdout",
     "output_type": "stream",
     "text": [
      "Gross Monthly Salary       5.655827e+09\n",
      "Claims Rate                6.579680e+02\n",
      "Customer Monetary Value    3.855495e+08\n",
      "Client_Spend               3.986477e+06\n",
      "Fidelity                   3.277825e+02\n",
      "Age                        1.840896e+06\n",
      "dtype: float64\n"
     ]
    }
   ],
   "source": [
    "#square(difference between cond. means and overall mean)\n",
    "EMk = (mk-m)**2\n",
    "#weighted by the size of the groups\n",
    "EM = EMk.multiply(nk,axis=0)\n",
    "BSS = np.sum(EM,axis=0)\n",
    "print(BSS)\n"
   ]
  },
  {
   "cell_type": "code",
   "execution_count": 80,
   "metadata": {},
   "outputs": [
    {
     "name": "stdout",
     "output_type": "stream",
     "text": [
      "Gross Monthly Salary       0.594464\n",
      "Claims Rate                0.572420\n",
      "Customer Monetary Value    0.553242\n",
      "Client_Spend               0.011146\n",
      "Fidelity                   0.000747\n",
      "Age                        0.621893\n",
      "dtype: float64\n"
     ]
    }
   ],
   "source": [
    "#square of the correlation ratio\n",
    "#i.e. proportion of variance explained\n",
    "# #for each variable\n",
    "R2 = BSS/TSS\n",
    "print(R2)"
   ]
  },
  {
   "cell_type": "code",
   "execution_count": 81,
   "metadata": {},
   "outputs": [
    {
     "data": {
      "image/png": "[encoded data removed]",
      "text/plain": [
       "<Figure size 432x288 with 1 Axes>"
      ]
     },
     "metadata": {},
     "output_type": "display_data"
    }
   ],
   "source": [
    "### PCA\n",
    "\n",
    "from sklearn.decomposition import PCA\n",
    "acp = PCA(n_components=3).fit_transform(cust_clust)\n",
    "for couleur,k in zip(['orangered','yellowgreen','gold'],[0,1,2]):\n",
    "    plt.scatter(acp[kmeans.labels_==k,0],acp[kmeans.labels_==k,1],c=couleur)\n",
    "plt.show()    "
   ]
  },
  {
   "cell_type": "code",
   "execution_count": 209,
   "metadata": {},
   "outputs": [
    {
     "name": "stdout",
     "output_type": "stream",
     "text": [
      "(6962, 6)\n"
     ]
    },
    {
     "data": {
      "image/png": "[encoded data removed]",
      "text/plain": [
       "<Figure size 432x288 with 1 Axes>"
      ]
     },
     "metadata": {},
     "output_type": "display_data"
    },
    {
     "name": "stdout",
     "output_type": "stream",
     "text": [
      "[24 55 53 ... 30 80 31]\n"
     ]
    }
   ],
   "source": [
    "#remove the instances corresponding to the group n°0 from the k-means\n",
    "cust_clust_subset = cust_clust.iloc[kmeans.labels_!=0,:]\n",
    "print(cust_clust_subset.shape)\n",
    "    \n",
    "#standardize the new version of the dataset\n",
    "cust_clust_subset_cr = preprocessing.scale(cust_clust_subset)\n",
    "\n",
    "#generate the linkage matrix\n",
    "Z_subset = linkage(cust_clust_subset_cr,method='ward',metric='euclidean')\n",
    "\n",
    "#hac and plotting the dendrogram\n",
    "plt.title(\"CAH\")\n",
    "dendrogram(Z_subset,labels=cust_clust_subset.index,orientation='left',color_threshold=7)\n",
    "plt.show()\n",
    "\n",
    "groupes_subset_cah = fcluster(Z_subset,t=7,criterion='distance')\n",
    "print(groupes_subset_cah)"
   ]
  },
  {
   "cell_type": "markdown",
   "metadata": {},
   "source": [
    "#### Premium"
   ]
  },
  {
   "cell_type": "code",
   "execution_count": 82,
   "metadata": {},
   "outputs": [
    {
     "name": "stdout",
     "output_type": "stream",
     "text": [
      "       0\n",
      "0      0\n",
      "0   5837\n",
      "0   5836\n",
      "0   5835\n",
      "0   5833\n",
      "..   ...\n",
      "1   3097\n",
      "1   1792\n",
      "1   6978\n",
      "1   4613\n",
      "1   6961\n",
      "\n",
      "[10058 rows x 1 columns]\n",
      "[[413.78782776 414.52304304]\n",
      " [492.60461787 490.94714611]\n",
      " [354.84322046 354.11394131]\n",
      " ...\n",
      " [447.95258677 448.72951187]\n",
      " [369.64829246 368.72907599]\n",
      " [447.4191949  448.32939439]]\n",
      "col_0  0  1\n",
      "row_0      \n",
      "0      1  0\n",
      "1      1  0\n",
      "2      0  1\n",
      "3      1  0\n",
      "4      1  0\n",
      "...   .. ..\n",
      "10291  1  0\n",
      "10292  0  1\n",
      "10293  1  0\n",
      "10294  1  0\n",
      "10295  1  0\n",
      "\n",
      "[10058 rows x 2 columns]\n"
     ]
    }
   ],
   "source": [
    "scaler = StandardScaler()\n",
    "CA_Norm = scaler.fit_transform(prem_clust)\n",
    "CA_Norm = pd.DataFrame(CA_Norm, columns = prem_clust.columns)\n",
    "Z = linkage(CA_Norm,\n",
    "            method = 'ward')\n",
    "Z\n",
    "kmeans = KMeans(n_clusters= 2, \n",
    "                random_state=0,\n",
    "                n_init = 5,\n",
    "                max_iter = 200).fit(CA_Norm)\n",
    "idk = np.argsort(kmeans.labels_)\n",
    "print(pd.DataFrame(prem_clust.index[idk],kmeans.labels_[idk]))\n",
    "print(kmeans.transform(prem_clust))\n",
    "# Printing the cluster Customer per \n",
    "print(pd.crosstab(prem_clust.index[idk],kmeans.labels_))\n",
    "kmeansP = kmeans"
   ]
  },
  {
   "cell_type": "code",
   "execution_count": null,
   "metadata": {},
   "outputs": [],
   "source": []
  },
  {
   "cell_type": "code",
   "execution_count": 83,
   "metadata": {},
   "outputs": [
    {
     "name": "stdout",
     "output_type": "stream",
     "text": [
      "Premiums in LOB: Motor                 1.867386e+08\n",
      "Premiums in LOB: Household             5.245159e+08\n",
      "Premiums in LOB: Health                5.635728e+07\n",
      "Premiums in LOB:  Life                 1.766594e+07\n",
      "Premiums in LOB: Work Compensations    1.784491e+07\n",
      "dtype: float64\n",
      "0    5546\n",
      "1    4512\n",
      "dtype: int64\n",
      "   Premiums in LOB: Motor  Premiums in LOB: Household  \\\n",
      "0              401.271322                   85.992580   \n",
      "1              175.861385                  344.940891   \n",
      "\n",
      "   Premiums in LOB: Health  Premiums in LOB:  Life  \\\n",
      "0               133.105025               17.007562   \n",
      "1               211.342125               66.058923   \n",
      "\n",
      "   Premiums in LOB: Work Compensations  \n",
      "0                            16.897438  \n",
      "1                            65.488635  \n",
      "Premiums in LOB: Motor                 1.264106e+08\n",
      "Premiums in LOB: Household             1.668259e+08\n",
      "Premiums in LOB: Health                1.522870e+07\n",
      "Premiums in LOB:  Life                 5.986038e+06\n",
      "Premiums in LOB: Work Compensations    5.874251e+06\n",
      "dtype: float64\n",
      "Premiums in LOB: Motor                 0.676939\n",
      "Premiums in LOB: Household             0.318057\n",
      "Premiums in LOB: Health                0.270217\n",
      "Premiums in LOB:  Life                 0.338846\n",
      "Premiums in LOB: Work Compensations    0.329184\n",
      "dtype: float64\n"
     ]
    }
   ],
   "source": [
    "\n",
    "m = prem_clust.mean()\n",
    "m\n",
    "# TSS (total sum of squares)\n",
    "TSS = prem_clust.shape[0]*prem_clust.var(ddof=0)\n",
    "print(TSS)\n",
    "#c onditional groups size\n",
    "gb = prem_clust.groupby(kmeansP.labels_)\n",
    "nk = gb.size()\n",
    "print(nk)\n",
    "#conditional means\n",
    "mk = gb.mean()\n",
    "print(mk)\n",
    "#square(difference between cond. means and overall mean)\n",
    "EMk = (mk-m)**2\n",
    "#weighted by the size of the groups\n",
    "EM = EMk.multiply(nk,axis=0)\n",
    "BSS = np.sum(EM,axis=0)\n",
    "print(BSS)\n",
    "#square of the correlation ratio\n",
    "#i.e. proportion of variance explained\n",
    "#for each variable\n",
    "R2 = BSS/TSS\n",
    "print(R2)"
   ]
  },
  {
   "cell_type": "code",
   "execution_count": 84,
   "metadata": {},
   "outputs": [
    {
     "data": {
      "image/png": "[encoded data removed]",
      "text/plain": [
       "<Figure size 432x288 with 1 Axes>"
      ]
     },
     "metadata": {},
     "output_type": "display_data"
    }
   ],
   "source": [
    "### PCA\n",
    "\n",
    "from sklearn.decomposition import PCA\n",
    "acp = PCA(n_components=3).fit_transform(cust_clust)\n",
    "for couleur,k in zip(['orangered','yellowgreen','gold'],[0,1,2]):\n",
    "    plt.scatter(acp[kmeans.labels_==k,0],acp[kmeans.labels_==k,1],c=couleur)\n",
    "plt.show()   "
   ]
  },
  {
   "cell_type": "markdown",
   "metadata": {},
   "source": [
    "#### Nominal"
   ]
  },
  {
   "cell_type": "code",
   "execution_count": null,
   "metadata": {},
   "outputs": [],
   "source": [
    "#KMODES for Nominal\n",
    "from kmodes.kmodes import KModes\n",
    "VE_Cat = insurance_df_ct[['Educational Degree','Geographic Living Area','Has Children (Y=1)']].astype('str')\n",
    "\n",
    "# for j in list(VE_Cat):\n",
    "#     for i in range(VE_Cat.shape[0]):\n",
    "#         if VE_Cat.loc[i,j] =='':\n",
    "#             VE_Cat.loc[i,j] = 'Missing'\n",
    "\n",
    "km = KModes(n_clusters=3, init='random', n_init=50, verbose=1)\n",
    "\n",
    "clusters = km.fit_predict(VE_Cat)\n",
    "\n",
    "kmodesD = km \n",
    "\n"
   ]
  },
  {
   "cell_type": "code",
   "execution_count": null,
   "metadata": {},
   "outputs": [],
   "source": [
    "idk = np.argsort(km.labels_)\n",
    "print(pd.DataFrame(VE_Cat.index[idk],km.labels_[idk]))\n",
    "# Printing the cluster Customer per \n",
    "print(pd.crosstab(VE_Cat.index[idk],km.labels_))"
   ]
  },
  {
   "cell_type": "code",
   "execution_count": null,
   "metadata": {},
   "outputs": [],
   "source": [
    "m = VE_Cat.mean()\n",
    "m\n",
    "# TSS (total sum of squares)\n",
    "TSS = VE_Cat.shape[0]*VE_Cat.var(ddof=0)\n",
    "print(TSS)\n",
    "#c onditional groups size\n",
    "gb = VE_Cat.groupby(km.labels_)\n",
    "nk = gb.size()\n",
    "print(nk)\n",
    "#conditional means\n",
    "mk = gb.count()\n",
    "print(mk)\n",
    "# #square(difference between cond. means and overall mean)\n",
    "# EMk = (mk-m)**2\n",
    "# #weighted by the size of the groups\n",
    "# EM = EMk.multiply(nk,axis=0)\n",
    "# BSS = np.sum(EM,axis=0)\n",
    "# print(BSS)\n",
    "# #square of the correlation ratio\n",
    "# #i.e. proportion of variance explained\n",
    "# #for each variable\n",
    "# R2 = BSS/TSS\n",
    "# print(R2)"
   ]
  },
  {
   "cell_type": "code",
   "execution_count": null,
   "metadata": {},
   "outputs": [],
   "source": [
    "Cluster1.columns"
   ]
  },
  {
   "cell_type": "code",
   "execution_count": null,
   "metadata": {},
   "outputs": [],
   "source": [
    "nominal"
   ]
  },
  {
   "cell_type": "code",
   "execution_count": null,
   "metadata": {
    "scrolled": true
   },
   "outputs": [],
   "source": [
    "pd.crosstab(Cluster1['N_Label'],Cluster1['Educational Degree'],margins=True)"
   ]
  },
  {
   "cell_type": "code",
   "execution_count": null,
   "metadata": {},
   "outputs": [],
   "source": [
    "pd.crosstab(Cluster1['N_Label'],Cluster1['Geographic Living Area'],margins=True)"
   ]
  },
  {
   "cell_type": "code",
   "execution_count": null,
   "metadata": {},
   "outputs": [],
   "source": [
    "pd.crosstab(Cluster1['N_Label'],Cluster1['Has Children (Y=1)'],margins=True)"
   ]
  },
  {
   "cell_type": "markdown",
   "metadata": {},
   "source": [
    "#### All Variables\n",
    "\n"
   ]
  },
  {
   "cell_type": "code",
   "execution_count": null,
   "metadata": {},
   "outputs": [],
   "source": [
    "Cluster1"
   ]
  },
  {
   "cell_type": "markdown",
   "metadata": {},
   "source": [
    "#### Building the new DataFrame with the labels"
   ]
  },
  {
   "cell_type": "code",
   "execution_count": null,
   "metadata": {},
   "outputs": [],
   "source": [
    "m = Cluster1.mean()\n",
    "m\n",
    "# TSS (total sum of squares)\n",
    "TSS = Cluster1.shape[0]*Cluster1.var(ddof=0)\n",
    "# print(TSS)\n",
    "#c onditional groups size\n",
    "gb = Cluster1.groupby(kmeans.labels_)\n",
    "nk = gb.size()\n",
    "print(nk)\n",
    "#conditional means\n",
    "mk = gb.mean()\n",
    "print(mk)\n",
    "#square(difference between cond. means and overall mean)\n",
    "EMk = (mk-m)**2\n",
    "#weighted by the size of the groups\n",
    "EM = EMk.multiply(nk,axis=0)\n",
    "BSS = np.sum(EM,axis=0)\n",
    "print(BSS)\n",
    "#square of the correlation ratio\n",
    "#i.e. proportion of variance explained\n",
    "#for each variable\n",
    "R2 = BSS/TSS\n",
    "print(R2)"
   ]
  },
  {
   "cell_type": "markdown",
   "metadata": {},
   "source": [
    " #### Outliers\n",
    " "
   ]
  },
  {
   "cell_type": "code",
   "execution_count": 254,
   "metadata": {},
   "outputs": [
    {
     "data": {
      "text/html": [
       "<div>\n",
       "<style scoped>\n",
       "    .dataframe tbody tr th:only-of-type {\n",
       "        vertical-align: middle;\n",
       "    }\n",
       "\n",
       "    .dataframe tbody tr th {\n",
       "        vertical-align: top;\n",
       "    }\n",
       "\n",
       "    .dataframe thead th {\n",
       "        text-align: right;\n",
       "    }\n",
       "</style>\n",
       "<table border=\"1\" class=\"dataframe\">\n",
       "  <thead>\n",
       "    <tr style=\"text-align: right;\">\n",
       "      <th></th>\n",
       "      <th>Gross Monthly Salary</th>\n",
       "      <th>Claims Rate</th>\n",
       "      <th>Customer Monetary Value</th>\n",
       "      <th>Age</th>\n",
       "      <th>Fidelity</th>\n",
       "    </tr>\n",
       "  </thead>\n",
       "  <tbody>\n",
       "    <tr>\n",
       "      <td>13</td>\n",
       "      <td>1043.0</td>\n",
       "      <td>1.06</td>\n",
       "      <td>-75.12</td>\n",
       "      <td>16.0</td>\n",
       "      <td>33.0</td>\n",
       "    </tr>\n",
       "    <tr>\n",
       "      <td>44</td>\n",
       "      <td>1065.0</td>\n",
       "      <td>1.19</td>\n",
       "      <td>-128.68</td>\n",
       "      <td>26.0</td>\n",
       "      <td>31.0</td>\n",
       "    </tr>\n",
       "    <tr>\n",
       "      <td>51</td>\n",
       "      <td>3234.0</td>\n",
       "      <td>25.36</td>\n",
       "      <td>-14714.08</td>\n",
       "      <td>50.0</td>\n",
       "      <td>34.0</td>\n",
       "    </tr>\n",
       "    <tr>\n",
       "      <td>112</td>\n",
       "      <td>2354.0</td>\n",
       "      <td>15.65</td>\n",
       "      <td>-8719.04</td>\n",
       "      <td>37.0</td>\n",
       "      <td>19.0</td>\n",
       "    </tr>\n",
       "    <tr>\n",
       "      <td>135</td>\n",
       "      <td>2176.0</td>\n",
       "      <td>14.80</td>\n",
       "      <td>-10198.91</td>\n",
       "      <td>28.0</td>\n",
       "      <td>19.0</td>\n",
       "    </tr>\n",
       "    <tr>\n",
       "      <td>...</td>\n",
       "      <td>...</td>\n",
       "      <td>...</td>\n",
       "      <td>...</td>\n",
       "      <td>...</td>\n",
       "      <td>...</td>\n",
       "    </tr>\n",
       "    <tr>\n",
       "      <td>9936</td>\n",
       "      <td>918.0</td>\n",
       "      <td>0.20</td>\n",
       "      <td>738.24</td>\n",
       "      <td>17.0</td>\n",
       "      <td>27.0</td>\n",
       "    </tr>\n",
       "    <tr>\n",
       "      <td>9954</td>\n",
       "      <td>768.0</td>\n",
       "      <td>1.55</td>\n",
       "      <td>-416.73</td>\n",
       "      <td>18.0</td>\n",
       "      <td>42.0</td>\n",
       "    </tr>\n",
       "    <tr>\n",
       "      <td>10112</td>\n",
       "      <td>3709.0</td>\n",
       "      <td>0.56</td>\n",
       "      <td>434.43</td>\n",
       "      <td>68.0</td>\n",
       "      <td>23.0</td>\n",
       "    </tr>\n",
       "    <tr>\n",
       "      <td>10121</td>\n",
       "      <td>738.0</td>\n",
       "      <td>0.53</td>\n",
       "      <td>365.19</td>\n",
       "      <td>17.0</td>\n",
       "      <td>38.0</td>\n",
       "    </tr>\n",
       "    <tr>\n",
       "      <td>10152</td>\n",
       "      <td>1750.0</td>\n",
       "      <td>0.61</td>\n",
       "      <td>293.17</td>\n",
       "      <td>18.0</td>\n",
       "      <td>38.0</td>\n",
       "    </tr>\n",
       "  </tbody>\n",
       "</table>\n",
       "<p>206 rows × 5 columns</p>\n",
       "</div>"
      ],
      "text/plain": [
       "       Gross Monthly Salary  Claims Rate  Customer Monetary Value   Age  \\\n",
       "13                   1043.0         1.06                   -75.12  16.0   \n",
       "44                   1065.0         1.19                  -128.68  26.0   \n",
       "51                   3234.0        25.36                -14714.08  50.0   \n",
       "112                  2354.0        15.65                 -8719.04  37.0   \n",
       "135                  2176.0        14.80                -10198.91  28.0   \n",
       "...                     ...          ...                      ...   ...   \n",
       "9936                  918.0         0.20                   738.24  17.0   \n",
       "9954                  768.0         1.55                  -416.73  18.0   \n",
       "10112                3709.0         0.56                   434.43  68.0   \n",
       "10121                 738.0         0.53                   365.19  17.0   \n",
       "10152                1750.0         0.61                   293.17  18.0   \n",
       "\n",
       "       Fidelity  \n",
       "13         33.0  \n",
       "44         31.0  \n",
       "51         34.0  \n",
       "112        19.0  \n",
       "135        19.0  \n",
       "...         ...  \n",
       "9936       27.0  \n",
       "9954       42.0  \n",
       "10112      23.0  \n",
       "10121      38.0  \n",
       "10152      38.0  \n",
       "\n",
       "[206 rows x 5 columns]"
      ]
     },
     "execution_count": 254,
     "metadata": {},
     "output_type": "execute_result"
    }
   ],
   "source": [
    "cust_clust_o = insurance_outliers[customer].loc[:,insurance_outliers[customer].columns != \"Customer Identity\"]\n",
    "cust_clust_o"
   ]
  },
  {
   "cell_type": "code",
   "execution_count": 255,
   "metadata": {},
   "outputs": [],
   "source": [
    "scaler = StandardScaler()\n",
    "CA_Norm = scaler.fit_transform(cust_clust_o)\n",
    "CA_Norm = pd.DataFrame(CA_Norm, columns = cust_clust_o.columns)\n",
    "Z = linkage(CA_Norm,\n",
    "            method = 'ward')\n",
    "Z\n",
    "kmeans = KMeans(n_clusters= 3, \n",
    "                random_state=0,\n",
    "                n_init = 5,\n",
    "                max_iter = 200).fit(CA_Norm)\n",
    "idk = np.argsort(kmeans.labels_)\n",
    "# print(pd.DataFrame(prem_clust.index[idk],kmeans.labels_[idk]))\n",
    "# print(kmeans.transform(prem_clust))\n",
    "# Printing the cluster Customer per \n",
    "# print(pd.crosstab(prem_clust.index[idk],kmeans.labels_))\n",
    "\n"
   ]
  },
  {
   "cell_type": "code",
   "execution_count": 256,
   "metadata": {},
   "outputs": [
    {
     "name": "stdout",
     "output_type": "stream",
     "text": [
      "Gross Monthly Salary       4.127684e+09\n",
      "Claims Rate                8.455391e+04\n",
      "Customer Monetary Value    3.755818e+10\n",
      "Age                        5.912884e+04\n",
      "Fidelity                   9.829170e+03\n",
      "dtype: float64\n",
      "0    169\n",
      "1     36\n",
      "2      1\n",
      "dtype: int64\n",
      "   Gross Monthly Salary  Claims Rate  Customer Monetary Value        Age  \\\n",
      "0           1088.899408     1.237988               -92.999822  20.887574   \n",
      "1           5702.888889     8.480556             -4549.279167  62.555556   \n",
      "2           1086.000000   256.200000           -165680.420000  27.000000   \n",
      "\n",
      "    Fidelity  \n",
      "0  29.639053  \n",
      "1  30.555556  \n",
      "2  26.000000  \n",
      "Gross Monthly Salary       6.324710e+08\n",
      "Claims Rate                6.560303e+04\n",
      "Customer Monetary Value    2.761815e+10\n",
      "Age                        5.152909e+04\n",
      "Fidelity                   3.929877e+01\n",
      "dtype: float64\n",
      "Gross Monthly Salary       0.153227\n",
      "Claims Rate                0.775872\n",
      "Customer Monetary Value    0.735343\n",
      "Age                        0.871471\n",
      "Fidelity                   0.003998\n",
      "dtype: float64\n"
     ]
    }
   ],
   "source": [
    "m = cust_clust_o.mean()\n",
    "m\n",
    "# TSS (total sum of squares)\n",
    "TSS = cust_clust_o.shape[0]*cust_clust_o.var(ddof=0)\n",
    "print(TSS)\n",
    "#c onditional groups size\n",
    "gb = cust_clust_o.groupby(kmeans.labels_)\n",
    "nk = gb.size()\n",
    "print(nk)\n",
    "#conditional means\n",
    "mk = gb.mean()\n",
    "print(mk)\n",
    "#square(difference between cond. means and overall mean)\n",
    "EMk = (mk-m)**2\n",
    "#weighted by the size of the groups\n",
    "EM = EMk.multiply(nk,axis=0)\n",
    "BSS = np.sum(EM,axis=0)\n",
    "print(BSS)\n",
    "#square of the correlation ratio\n",
    "#i.e. proportion of variance explained\n",
    "#for each variable\n",
    "R2 = BSS/TSS\n",
    "print(R2)"
   ]
  },
  {
   "cell_type": "code",
   "execution_count": null,
   "metadata": {},
   "outputs": [],
   "source": [
    "prem_clust_o = insurance_outliers[premiums].loc[:,insurance_outliers[premiums].columns != \"Customer Identity\"]\n",
    "prem_clust_o \n"
   ]
  },
  {
   "cell_type": "code",
   "execution_count": null,
   "metadata": {},
   "outputs": [],
   "source": [
    "scaler = StandardScaler()\n",
    "CA_Norm = scaler.fit_transform(prem_clust_o)\n",
    "CA_Norm = pd.DataFrame(CA_Norm, columns = prem_clust_o.columns)\n",
    "Z = linkage(CA_Norm,\n",
    "            method = 'ward')\n",
    "Z\n",
    "kmeans = KMeans(n_clusters= 2, \n",
    "                random_state=0,\n",
    "                n_init = 5,\n",
    "                max_iter = 200).fit(CA_Norm)\n",
    "idk = np.argsort(kmeans.labels_)\n",
    "# print(pd.DataFrame(prem_clust.index[idk],kmeans.labels_[idk]))\n",
    "# print(kmeans.transform(prem_clust))\n",
    "# Printing the cluster Customer per \n",
    "# print(pd.crosstab(prem_clust.index[idk],kmeans.labels_))\n",
    "\n"
   ]
  },
  {
   "cell_type": "code",
   "execution_count": null,
   "metadata": {},
   "outputs": [],
   "source": [
    "m = prem_clust_o.mean()\n",
    "m\n",
    "# TSS (total sum of squares)\n",
    "TSS = prem_clust_o.shape[0]*prem_clust_o.var(ddof=0)\n",
    "print(TSS)\n",
    "#c onditional groups size\n",
    "gb = prem_clust_o.groupby(kmeans.labels_)\n",
    "nk = gb.size()\n",
    "print(nk)\n",
    "#conditional means\n",
    "mk = gb.mean()\n",
    "print(mk)\n",
    "#square(difference between cond. means and overall mean)\n",
    "EMk = (mk-m)**2\n",
    "#weighted by the size of the groups\n",
    "EM = EMk.multiply(nk,axis=0)\n",
    "BSS = np.sum(EM,axis=0)\n",
    "print(BSS)\n",
    "#square of the correlation ratio\n",
    "#i.e. proportion of variance explained\n",
    "#for each variable\n",
    "R2 = BSS/TSS\n",
    "print(R2)"
   ]
  },
  {
   "cell_type": "markdown",
   "metadata": {},
   "source": [
    "Decision Tree"
   ]
  },
  {
   "cell_type": "code",
   "execution_count": 327,
   "metadata": {},
   "outputs": [],
   "source": [
    "import pandas as pd\n",
    "from sklearn.tree import DecisionTreeClassifier # Import Decision Tree Classifier\n",
    "from sklearn.model_selection import train_test_split # Import train_test_split function\n",
    "from sklearn import metrics\n",
    "prima = dff"
   ]
  },
  {
   "cell_type": "code",
   "execution_count": 303,
   "metadata": {},
   "outputs": [
    {
     "data": {
      "text/plain": [
       "Index(['Premiums in LOB: Motor', 'Premiums in LOB: Household',\n",
       "       'Premiums in LOB: Health', 'Premiums in LOB:  Life',\n",
       "       'Premiums in LOB: Work Compensations', 'P_Label',\n",
       "       'Gross Monthly Salary', 'Claims Rate', 'Customer Monetary Value',\n",
       "       'Client Spend', 'Fidelity', 'Age', 'C_Label', 'Educational Degree',\n",
       "       'Geographic Living Area', 'Has Children (Y=1)', 'N_Label', 'F_label'],\n",
       "      dtype='object')"
      ]
     },
     "execution_count": 303,
     "metadata": {},
     "output_type": "execute_result"
    }
   ],
   "source": [
    "prima.columns"
   ]
  },
  {
   "cell_type": "code",
   "execution_count": 328,
   "metadata": {},
   "outputs": [],
   "source": [
    "prima = prima.dropna()"
   ]
  },
  {
   "cell_type": "code",
   "execution_count": 331,
   "metadata": {},
   "outputs": [
    {
     "name": "stdout",
     "output_type": "stream",
     "text": [
      "Accuracy: 0.19831346321605117\n"
     ]
    }
   ],
   "source": [
    "\n",
    "X = prima[['Premiums in LOB: Motor', 'Premiums in LOB: Household',\n",
    "       'Premiums in LOB: Health', 'Premiums in LOB:  Life',\n",
    "       'Premiums in LOB: Work Compensations','Gross Monthly Salary', 'Claims Rate', 'Customer Monetary Value',\n",
    "       'Client Spend', 'Fidelity','Age']]\n",
    "y = prima['F_label']\n",
    "y\n",
    "\n",
    "X_train, X_test, y_train, y_test = train_test_split(X, y, test_size=0.35, random_state=1)\n",
    "clf = DecisionTreeClassifier()\n",
    "clf = clf.fit(X_train,y_train)\n",
    "y_pred = clf.predict(X_test)\n",
    "print(\"Accuracy:\",metrics.accuracy_score(y_test, y_pred))\n",
    "\n"
   ]
  },
  {
   "cell_type": "code",
   "execution_count": 347,
   "metadata": {},
   "outputs": [],
   "source": [
    "# from sklearn.datasets import load_iris\n",
    "# from sklearn import tree\n",
    "# X, y = load_iris(return_X_y=True)\n",
    "# clf = tree.DecisionTreeClassifier()\n",
    "# clf = clf.fit(X,y)\n"
   ]
  },
  {
   "cell_type": "code",
   "execution_count": 338,
   "metadata": {},
   "outputs": [
    {
     "data": {
      "text/plain": [
       "[Text(167.4, 199.32, 'X[3] <= 0.8\\nentropy = 0.667\\nsamples = 150\\nvalue = [50, 50, 50]'),\n",
       " Text(141.64615384615385, 163.07999999999998, 'entropy = 0.0\\nsamples = 50\\nvalue = [50, 0, 0]'),\n",
       " Text(193.15384615384616, 163.07999999999998, 'X[3] <= 1.75\\nentropy = 0.5\\nsamples = 100\\nvalue = [0, 50, 50]'),\n",
       " Text(103.01538461538462, 126.83999999999999, 'X[2] <= 4.95\\nentropy = 0.168\\nsamples = 54\\nvalue = [0, 49, 5]'),\n",
       " Text(51.50769230769231, 90.6, 'X[3] <= 1.65\\nentropy = 0.041\\nsamples = 48\\nvalue = [0, 47, 1]'),\n",
       " Text(25.753846153846155, 54.359999999999985, 'entropy = 0.0\\nsamples = 47\\nvalue = [0, 47, 0]'),\n",
       " Text(77.26153846153846, 54.359999999999985, 'entropy = 0.0\\nsamples = 1\\nvalue = [0, 0, 1]'),\n",
       " Text(154.52307692307693, 90.6, 'X[3] <= 1.55\\nentropy = 0.444\\nsamples = 6\\nvalue = [0, 2, 4]'),\n",
       " Text(128.76923076923077, 54.359999999999985, 'entropy = 0.0\\nsamples = 3\\nvalue = [0, 0, 3]'),\n",
       " Text(180.27692307692308, 54.359999999999985, 'X[2] <= 5.45\\nentropy = 0.444\\nsamples = 3\\nvalue = [0, 2, 1]'),\n",
       " Text(154.52307692307693, 18.119999999999976, 'entropy = 0.0\\nsamples = 2\\nvalue = [0, 2, 0]'),\n",
       " Text(206.03076923076924, 18.119999999999976, 'entropy = 0.0\\nsamples = 1\\nvalue = [0, 0, 1]'),\n",
       " Text(283.2923076923077, 126.83999999999999, 'X[2] <= 4.85\\nentropy = 0.043\\nsamples = 46\\nvalue = [0, 1, 45]'),\n",
       " Text(257.53846153846155, 90.6, 'X[1] <= 3.1\\nentropy = 0.444\\nsamples = 3\\nvalue = [0, 1, 2]'),\n",
       " Text(231.7846153846154, 54.359999999999985, 'entropy = 0.0\\nsamples = 2\\nvalue = [0, 0, 2]'),\n",
       " Text(283.2923076923077, 54.359999999999985, 'entropy = 0.0\\nsamples = 1\\nvalue = [0, 1, 0]'),\n",
       " Text(309.04615384615386, 90.6, 'entropy = 0.0\\nsamples = 43\\nvalue = [0, 0, 43]')]"
      ]
     },
     "execution_count": 338,
     "metadata": {},
     "output_type": "execute_result"
    },
    {
     "data": {
      "image/png": "[encoded data removed]",
      "text/plain": [
       "<Figure size 432x288 with 1 Axes>"
      ]
     },
     "metadata": {},
     "output_type": "display_data"
    }
   ],
   "source": [
    "tree.plot_tree(clf.fit(X,y)) "
   ]
  },
  {
   "cell_type": "code",
   "execution_count": null,
   "metadata": {},
   "outputs": [],
   "source": []
  },
  {
   "cell_type": "markdown",
   "metadata": {},
   "source": [
    "<hr>\n",
    "<b style='color: ##154360;font-size:19px' id=\"references\">References</b><br>\n",
    "\n",
    "<ul>\n",
    "    <li>Smart Vision Europe. <i>What is the CRISP-DM methodology? </i> Available from: <a href=\"https://www.sv-europe.com/crisp-dm-methodology/\" target=\"_blank\">https://www.sv-europe.com/crisp-dm-methodology/</a></li>\n",
    "    <li>website. <i>title</i>. Available from: <a href=\"url\" target=\"_blank\">url</a></li>\n",
    "</ul>\n"
   ]
  },
  {
   "cell_type": "code",
   "execution_count": null,
   "metadata": {},
   "outputs": [],
   "source": []
  },
  {
   "cell_type": "code",
   "execution_count": null,
   "metadata": {},
   "outputs": [],
   "source": []
  },
  {
   "cell_type": "raw",
   "metadata": {},
   "source": []
  }
 ],
 "metadata": {
  "kernelspec": {
   "display_name": "Python 3",
   "language": "python",
   "name": "python3"
  },
  "language_info": {
   "codemirror_mode": {
    "name": "ipython",
    "version": 3
   },
   "file_extension": ".py",
   "mimetype": "text/x-python",
   "name": "python",
   "nbconvert_exporter": "python",
   "pygments_lexer": "ipython3",
   "version": "3.7.3"
  }
 },
 "nbformat": 4,
 "nbformat_minor": 2
}
