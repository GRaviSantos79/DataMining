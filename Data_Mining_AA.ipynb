{
 "cells": [
  {
   "cell_type": "markdown",
   "metadata": {},
   "source": [
    "## <center><h1 style='color: ##154360; font-size: 70px'>Data Mining</h1></center>\n",
    "<center><h2 style='color: #FFC300'>Group Project</h2></center>\n",
    "<center><h3 style='color: #FF5733'>Group AA </h3></center>\n",
    "<center><h5 style='font-weight:normal; font-style: normal;'>Abdallah Zaher, M20190684</h5></center>\n",
    "<center><h5 style='font-weight:normal; font-style: normal;'>Cristina Mousinho, M20190303</h5></center>\n",
    "<center><h5 style='font-weight:normal; font-style: normal;'>Gabriel Ravi, M20190925</h5></center>\n",
    "\n",
    "<b style='color: ##154360;font-size:19px'>Table of contents</b>\n",
    "<ul>\n",
    "    <li><a href=\"#intro\">Introduction</a></li>\n",
    "    <li><a href=\"#understanding\">Business Understanding</a></li>\n",
    "    <li><a href=\"#understanding\">Data Understanding </a></li>\n",
    "    <li><a href=\"#references\">References </a></li>\n",
    "</ul>"
   ]
  },
  {
   "cell_type": "markdown",
   "metadata": {},
   "source": [
    "<hr>\n",
    "<b style='color: ##154360;font-size:19px' id=\"intro\"> Introduction</b>"
   ]
  },
  {
   "cell_type": "markdown",
   "metadata": {},
   "source": [
    "As part of the 2019 Data Mining course for the Master in Data Sience and Advanced Analytics, we were challenged to see ourselves as part of a fictional insurance company located in Portugal. \n",
    "We were given a data set to work with, from each we are expected to find different costumers' profiles, to group them and to recommend marketing approachs based on those clusters.\n",
    "\n",
    "By the end of this report, we should not only have an understanding of how our costumers' behave and how we can group them, but also a way to explain our findings and what could be done with them to the Marketing Department of our company. \n",
    "\n",
    "We will begin by understading the business we were asked to imagine ourselves in. After we feel confortable with our knowledge on the subject, we will move on to getting to know the provided data. An analysis of each factor will be conducted. In this first stage, we will most likely face problems with our data. If so, the next step will be to take a closer look at those problems and find solutions for each of them. "
   ]
  },
  {
   "cell_type": "markdown",
   "metadata": {},
   "source": [
    "<hr>\n",
    "<b style='color: ##154360;font-size:19px' id=\"understanding\">Business Understanding </b>"
   ]
  },
  {
   "cell_type": "markdown",
   "metadata": {},
   "source": [
    "<b style=\"color:#FF5733\">Setting bussiness goals</b>"
   ]
  },
  {
   "cell_type": "markdown",
   "metadata": {},
   "source": [
    "As stated already, the aim is to deliver insights to the Marketing Departament of the ensurance company. <br>\n",
    "We know the end goal for a company is always to generate more profit. <br>\n",
    "So even though our job is to group costumers into clusters, it is very important to keep in mind which clients bring us more profits (higher customer monetary value), and smaller losses (lower claim rates). <br>\n",
    "Eventually we will want to target new costumers, but the ones we already have may also become interested in new premiums, so we definetly can't forget them!"
   ]
  },
  {
   "cell_type": "markdown",
   "metadata": {},
   "source": [
    "<b style=\"color:#FF5733\">Setting data mining goals</b>"
   ]
  },
  {
   "cell_type": "markdown",
   "metadata": {},
   "source": [
    "<p style='color:red; font-size:20px'>\" define the criteria for a successful outcome to the project in technical terms—for example, a certain level of predictive accuracy or a propensity-to-purchase profile with a given degree of “lift.” As with business success criteria, it may be necessary to describe these in subjective terms, in which case the person or persons making the subjective judgment should be identified. \"</p>"
   ]
  },
  {
   "cell_type": "markdown",
   "metadata": {},
   "source": [
    "<hr>\n",
    "<b style='color: ##154360;font-size:19px' id=\"understanding\">Data Understanding </b>"
   ]
  },
  {
   "cell_type": "markdown",
   "metadata": {},
   "source": [
    "<b style=\"color:#FF5733\">Getting to know the data</b>"
   ]
  },
  {
   "cell_type": "code",
   "execution_count": 1,
   "metadata": {},
   "outputs": [
    {
     "name": "stderr",
     "output_type": "stream",
     "text": [
      "C:\\Users\\User\\Anaconda3\\lib\\site-packages\\statsmodels\\compat\\pandas.py:23: FutureWarning:\n",
      "\n",
      "The Panel class is removed from pandas. Accessing it from the top-level namespace will also be removed in the next version\n",
      "\n"
     ]
    }
   ],
   "source": [
    "import numpy as np\n",
    "import pandas as pd \n",
    "import matplotlib.pyplot as plt\n",
    "%matplotlib inline\n",
    "import seaborn as sns\n",
    "import plotly.express as px\n",
    "\n",
    "import statsmodels.api as sm\n",
    "from sklearn import linear_model\n",
    "from copy import deepcopy"
   ]
  },
  {
   "cell_type": "code",
   "execution_count": 2,
   "metadata": {},
   "outputs": [
    {
     "data": {
      "text/html": [
       "<div>\n",
       "<style scoped>\n",
       "    .dataframe tbody tr th:only-of-type {\n",
       "        vertical-align: middle;\n",
       "    }\n",
       "\n",
       "    .dataframe tbody tr th {\n",
       "        vertical-align: top;\n",
       "    }\n",
       "\n",
       "    .dataframe thead th {\n",
       "        text-align: right;\n",
       "    }\n",
       "</style>\n",
       "<table border=\"1\" class=\"dataframe\">\n",
       "  <thead>\n",
       "    <tr style=\"text-align: right;\">\n",
       "      <th></th>\n",
       "      <th>Customer Identity</th>\n",
       "      <th>First Policy´s Year</th>\n",
       "      <th>Brithday Year</th>\n",
       "      <th>Educational Degree</th>\n",
       "      <th>Gross Monthly Salary</th>\n",
       "      <th>Geographic Living Area</th>\n",
       "      <th>Has Children (Y=1)</th>\n",
       "      <th>Customer Monetary Value</th>\n",
       "      <th>Claims Rate</th>\n",
       "      <th>Premiums in LOB: Motor</th>\n",
       "      <th>Premiums in LOB: Household</th>\n",
       "      <th>Premiums in LOB: Health</th>\n",
       "      <th>Premiums in LOB:  Life</th>\n",
       "      <th>Premiums in LOB: Work Compensations</th>\n",
       "    </tr>\n",
       "  </thead>\n",
       "  <tbody>\n",
       "    <tr>\n",
       "      <td>0</td>\n",
       "      <td>1</td>\n",
       "      <td>1985.0</td>\n",
       "      <td>1982.0</td>\n",
       "      <td>2 - High School</td>\n",
       "      <td>2177.0</td>\n",
       "      <td>1.0</td>\n",
       "      <td>1.0</td>\n",
       "      <td>380.97</td>\n",
       "      <td>0.39</td>\n",
       "      <td>375.85</td>\n",
       "      <td>79.45</td>\n",
       "      <td>146.36</td>\n",
       "      <td>47.01</td>\n",
       "      <td>16.89</td>\n",
       "    </tr>\n",
       "    <tr>\n",
       "      <td>1</td>\n",
       "      <td>2</td>\n",
       "      <td>1981.0</td>\n",
       "      <td>1995.0</td>\n",
       "      <td>2 - High School</td>\n",
       "      <td>677.0</td>\n",
       "      <td>4.0</td>\n",
       "      <td>1.0</td>\n",
       "      <td>-131.13</td>\n",
       "      <td>1.12</td>\n",
       "      <td>77.46</td>\n",
       "      <td>416.20</td>\n",
       "      <td>116.69</td>\n",
       "      <td>194.48</td>\n",
       "      <td>106.13</td>\n",
       "    </tr>\n",
       "    <tr>\n",
       "      <td>2</td>\n",
       "      <td>3</td>\n",
       "      <td>1991.0</td>\n",
       "      <td>1970.0</td>\n",
       "      <td>1 - Basic</td>\n",
       "      <td>2277.0</td>\n",
       "      <td>3.0</td>\n",
       "      <td>0.0</td>\n",
       "      <td>504.67</td>\n",
       "      <td>0.28</td>\n",
       "      <td>206.15</td>\n",
       "      <td>224.50</td>\n",
       "      <td>124.58</td>\n",
       "      <td>86.35</td>\n",
       "      <td>99.02</td>\n",
       "    </tr>\n",
       "    <tr>\n",
       "      <td>3</td>\n",
       "      <td>4</td>\n",
       "      <td>1990.0</td>\n",
       "      <td>1981.0</td>\n",
       "      <td>3 - BSc/MSc</td>\n",
       "      <td>1099.0</td>\n",
       "      <td>4.0</td>\n",
       "      <td>1.0</td>\n",
       "      <td>-16.99</td>\n",
       "      <td>0.99</td>\n",
       "      <td>182.48</td>\n",
       "      <td>43.35</td>\n",
       "      <td>311.17</td>\n",
       "      <td>35.34</td>\n",
       "      <td>28.34</td>\n",
       "    </tr>\n",
       "    <tr>\n",
       "      <td>4</td>\n",
       "      <td>5</td>\n",
       "      <td>1986.0</td>\n",
       "      <td>1973.0</td>\n",
       "      <td>3 - BSc/MSc</td>\n",
       "      <td>1763.0</td>\n",
       "      <td>4.0</td>\n",
       "      <td>1.0</td>\n",
       "      <td>35.23</td>\n",
       "      <td>0.90</td>\n",
       "      <td>338.62</td>\n",
       "      <td>47.80</td>\n",
       "      <td>182.59</td>\n",
       "      <td>18.78</td>\n",
       "      <td>41.45</td>\n",
       "    </tr>\n",
       "  </tbody>\n",
       "</table>\n",
       "</div>"
      ],
      "text/plain": [
       "   Customer Identity  First Policy´s Year  Brithday Year Educational Degree  \\\n",
       "0                  1               1985.0         1982.0    2 - High School   \n",
       "1                  2               1981.0         1995.0    2 - High School   \n",
       "2                  3               1991.0         1970.0          1 - Basic   \n",
       "3                  4               1990.0         1981.0        3 - BSc/MSc   \n",
       "4                  5               1986.0         1973.0        3 - BSc/MSc   \n",
       "\n",
       "   Gross Monthly Salary  Geographic Living Area  Has Children (Y=1)  \\\n",
       "0                2177.0                     1.0                 1.0   \n",
       "1                 677.0                     4.0                 1.0   \n",
       "2                2277.0                     3.0                 0.0   \n",
       "3                1099.0                     4.0                 1.0   \n",
       "4                1763.0                     4.0                 1.0   \n",
       "\n",
       "   Customer Monetary Value  Claims Rate  Premiums in LOB: Motor  \\\n",
       "0                   380.97         0.39                  375.85   \n",
       "1                  -131.13         1.12                   77.46   \n",
       "2                   504.67         0.28                  206.15   \n",
       "3                   -16.99         0.99                  182.48   \n",
       "4                    35.23         0.90                  338.62   \n",
       "\n",
       "   Premiums in LOB: Household  Premiums in LOB: Health  \\\n",
       "0                       79.45                   146.36   \n",
       "1                      416.20                   116.69   \n",
       "2                      224.50                   124.58   \n",
       "3                       43.35                   311.17   \n",
       "4                       47.80                   182.59   \n",
       "\n",
       "   Premiums in LOB:  Life  Premiums in LOB: Work Compensations  \n",
       "0                   47.01                                16.89  \n",
       "1                  194.48                               106.13  \n",
       "2                   86.35                                99.02  \n",
       "3                   35.34                                28.34  \n",
       "4                   18.78                                41.45  "
      ]
     },
     "execution_count": 2,
     "metadata": {},
     "output_type": "execute_result"
    }
   ],
   "source": [
    "insurance_df = pd.read_csv('A2Z_Insurance.csv', index_col = ['Customer Identity']) # Loading the provided data\n",
    "insurance_df = insurance_df.reset_index()\n",
    "insurance_df.head() # Checking features and the first 5 rows\n"
   ]
  },
  {
   "cell_type": "code",
   "execution_count": 3,
   "metadata": {
    "scrolled": true
   },
   "outputs": [
    {
     "name": "stdout",
     "output_type": "stream",
     "text": [
      "<class 'pandas.core.frame.DataFrame'>\n",
      "RangeIndex: 10296 entries, 0 to 10295\n",
      "Data columns (total 14 columns):\n",
      "Customer Identity                      10296 non-null int64\n",
      "First Policy´s Year                    10266 non-null float64\n",
      "Brithday Year                          10279 non-null float64\n",
      "Educational Degree                     10279 non-null object\n",
      "Gross Monthly Salary                   10260 non-null float64\n",
      "Geographic Living Area                 10295 non-null float64\n",
      "Has Children (Y=1)                     10275 non-null float64\n",
      "Customer Monetary Value                10296 non-null float64\n",
      "Claims Rate                            10296 non-null float64\n",
      "Premiums in LOB: Motor                 10262 non-null float64\n",
      "Premiums in LOB: Household             10296 non-null float64\n",
      "Premiums in LOB: Health                10253 non-null float64\n",
      "Premiums in LOB:  Life                 10192 non-null float64\n",
      "Premiums in LOB: Work Compensations    10210 non-null float64\n",
      "dtypes: float64(12), int64(1), object(1)\n",
      "memory usage: 1.1+ MB\n"
     ]
    }
   ],
   "source": [
    "insurance_df.info() # Checking columns and their types"
   ]
  },
  {
   "cell_type": "markdown",
   "metadata": {},
   "source": [
    "Even though only one of our columns is categorized as an object, it is important to keep in mind that some of the others are categorical and not numerical variables. To make sure we don't get confused, let's list our variables and their type of measurement scale: <br>\n",
    "\n",
    "<b> Categorical: nominal </b>\n",
    "<ul><li>Educational Degree</li>\n",
    "    <li>Geographic Living Area</li>\n",
    "    <li>Has Children (Y=1)</li></ul>\n",
    "    \n",
    "<b> Numerical: ratio </b>\n",
    "<ul><li>First Policy´s Year</li>\n",
    "    <li>Brithday Year</li>\n",
    "    <li>Gross Monthly Salary</li>\n",
    "    <li>Claims Rate</li>\n",
    "    <li>Customer Monetary Value</li>\n",
    "    <li>Premiums in LOB: Motor</li>\n",
    "    <li>Premiums in LOB: Household</li>\n",
    "    <li>Premiums in LOB: Health</li>\n",
    "    <li>Premiums in LOB: Life</li>\n",
    "    <li>Premiums in LOB: Work Compensations</li></ul>\n",
    "    \n",
    "And for practical reasons make another list of types os variables: \n"
   ]
  },
  {
   "cell_type": "code",
   "execution_count": 4,
   "metadata": {},
   "outputs": [],
   "source": [
    "#We acknowledge that we have two types of Data so we decided to split them \n",
    "nominal = ['Educational Degree','Geographic Living Area','Has Children (Y=1)']\n",
    "ratio = ['First Policy´s Year','Brithday Year','Gross Monthly Salary','Claims Rate','Customer Monetary Value',\n",
    "         'Premiums in LOB: Motor','Premiums in LOB: Household','Premiums in LOB: Health','Premiums in LOB:  Life',\n",
    "         'Premiums in LOB: Work Compensations']"
   ]
  },
  {
   "cell_type": "code",
   "execution_count": 5,
   "metadata": {},
   "outputs": [],
   "source": [
    "#Split the ratio into three parts\n",
    "customer = ['Customer Identity','Gross Monthly Salary','Claims Rate','Customer Monetary Value']\n",
    "premiums = ['Customer Identity','Premiums in LOB: Motor','Premiums in LOB: Household','Premiums in LOB: Health',\n",
    "         'Premiums in LOB:  Life','Premiums in LOB: Work Compensations']\n",
    "nominal = ['Customer Identity','Educational Degree','Geographic Living Area','Has Children (Y=1)']"
   ]
  },
  {
   "cell_type": "markdown",
   "metadata": {},
   "source": [
    "<b style=\"color:#FF5733\">Exploring the data and verifying its quality</b>"
   ]
  },
  {
   "cell_type": "code",
   "execution_count": 6,
   "metadata": {},
   "outputs": [
    {
     "data": {
      "text/html": [
       "<div>\n",
       "<style scoped>\n",
       "    .dataframe tbody tr th:only-of-type {\n",
       "        vertical-align: middle;\n",
       "    }\n",
       "\n",
       "    .dataframe tbody tr th {\n",
       "        vertical-align: top;\n",
       "    }\n",
       "\n",
       "    .dataframe thead th {\n",
       "        text-align: right;\n",
       "    }\n",
       "</style>\n",
       "<table border=\"1\" class=\"dataframe\">\n",
       "  <thead>\n",
       "    <tr style=\"text-align: right;\">\n",
       "      <th></th>\n",
       "      <th>Customer Identity</th>\n",
       "      <th>Educational Degree</th>\n",
       "      <th>Geographic Living Area</th>\n",
       "      <th>Has Children (Y=1)</th>\n",
       "    </tr>\n",
       "  </thead>\n",
       "  <tbody>\n",
       "    <tr>\n",
       "      <td>count</td>\n",
       "      <td>10296</td>\n",
       "      <td>10279</td>\n",
       "      <td>10295.0</td>\n",
       "      <td>10275.0</td>\n",
       "    </tr>\n",
       "    <tr>\n",
       "      <td>unique</td>\n",
       "      <td>10296</td>\n",
       "      <td>4</td>\n",
       "      <td>4.0</td>\n",
       "      <td>2.0</td>\n",
       "    </tr>\n",
       "    <tr>\n",
       "      <td>top</td>\n",
       "      <td>10296</td>\n",
       "      <td>3 - BSc/MSc</td>\n",
       "      <td>4.0</td>\n",
       "      <td>1.0</td>\n",
       "    </tr>\n",
       "    <tr>\n",
       "      <td>freq</td>\n",
       "      <td>1</td>\n",
       "      <td>4799</td>\n",
       "      <td>4145.0</td>\n",
       "      <td>7262.0</td>\n",
       "    </tr>\n",
       "  </tbody>\n",
       "</table>\n",
       "</div>"
      ],
      "text/plain": [
       "        Customer Identity Educational Degree  Geographic Living Area  \\\n",
       "count               10296              10279                 10295.0   \n",
       "unique              10296                  4                     4.0   \n",
       "top                 10296        3 - BSc/MSc                     4.0   \n",
       "freq                    1               4799                  4145.0   \n",
       "\n",
       "        Has Children (Y=1)  \n",
       "count              10275.0  \n",
       "unique                 2.0  \n",
       "top                    1.0  \n",
       "freq                7262.0  "
      ]
     },
     "execution_count": 6,
     "metadata": {},
     "output_type": "execute_result"
    }
   ],
   "source": [
    "# Getting information on nominal variables\n",
    "insurance_df[nominal] = insurance_df[nominal].astype(object)\n",
    "insurance_df[nominal] = insurance_df[nominal].reset_index(drop=True)\n",
    "insurance_df[nominal].describe(include='all')"
   ]
  },
  {
   "cell_type": "code",
   "execution_count": 7,
   "metadata": {},
   "outputs": [
    {
     "data": {
      "text/html": [
       "<div>\n",
       "<style scoped>\n",
       "    .dataframe tbody tr th:only-of-type {\n",
       "        vertical-align: middle;\n",
       "    }\n",
       "\n",
       "    .dataframe tbody tr th {\n",
       "        vertical-align: top;\n",
       "    }\n",
       "\n",
       "    .dataframe thead th {\n",
       "        text-align: right;\n",
       "    }\n",
       "</style>\n",
       "<table border=\"1\" class=\"dataframe\">\n",
       "  <thead>\n",
       "    <tr style=\"text-align: right;\">\n",
       "      <th></th>\n",
       "      <th>First Policy´s Year</th>\n",
       "      <th>Brithday Year</th>\n",
       "      <th>Gross Monthly Salary</th>\n",
       "      <th>Customer Monetary Value</th>\n",
       "      <th>Claims Rate</th>\n",
       "      <th>Premiums in LOB: Motor</th>\n",
       "      <th>Premiums in LOB: Household</th>\n",
       "      <th>Premiums in LOB: Health</th>\n",
       "      <th>Premiums in LOB:  Life</th>\n",
       "      <th>Premiums in LOB: Work Compensations</th>\n",
       "    </tr>\n",
       "  </thead>\n",
       "  <tbody>\n",
       "    <tr>\n",
       "      <td>count</td>\n",
       "      <td>10266.000000</td>\n",
       "      <td>10279.000000</td>\n",
       "      <td>10260.000000</td>\n",
       "      <td>10296.000000</td>\n",
       "      <td>10296.000000</td>\n",
       "      <td>10262.000000</td>\n",
       "      <td>10296.000000</td>\n",
       "      <td>10253.000000</td>\n",
       "      <td>10192.000000</td>\n",
       "      <td>10210.000000</td>\n",
       "    </tr>\n",
       "    <tr>\n",
       "      <td>mean</td>\n",
       "      <td>1991.062634</td>\n",
       "      <td>1968.007783</td>\n",
       "      <td>2506.667057</td>\n",
       "      <td>177.892605</td>\n",
       "      <td>0.742772</td>\n",
       "      <td>300.470252</td>\n",
       "      <td>210.431192</td>\n",
       "      <td>171.580833</td>\n",
       "      <td>41.855782</td>\n",
       "      <td>41.277514</td>\n",
       "    </tr>\n",
       "    <tr>\n",
       "      <td>std</td>\n",
       "      <td>511.267913</td>\n",
       "      <td>19.709476</td>\n",
       "      <td>1157.449634</td>\n",
       "      <td>1945.811505</td>\n",
       "      <td>2.916964</td>\n",
       "      <td>211.914997</td>\n",
       "      <td>352.595984</td>\n",
       "      <td>296.405976</td>\n",
       "      <td>47.480632</td>\n",
       "      <td>51.513572</td>\n",
       "    </tr>\n",
       "    <tr>\n",
       "      <td>min</td>\n",
       "      <td>1974.000000</td>\n",
       "      <td>1028.000000</td>\n",
       "      <td>333.000000</td>\n",
       "      <td>-165680.420000</td>\n",
       "      <td>0.000000</td>\n",
       "      <td>-4.110000</td>\n",
       "      <td>-75.000000</td>\n",
       "      <td>-2.110000</td>\n",
       "      <td>-7.000000</td>\n",
       "      <td>-12.000000</td>\n",
       "    </tr>\n",
       "    <tr>\n",
       "      <td>25%</td>\n",
       "      <td>1980.000000</td>\n",
       "      <td>1953.000000</td>\n",
       "      <td>1706.000000</td>\n",
       "      <td>-9.440000</td>\n",
       "      <td>0.390000</td>\n",
       "      <td>190.590000</td>\n",
       "      <td>49.450000</td>\n",
       "      <td>111.800000</td>\n",
       "      <td>9.890000</td>\n",
       "      <td>10.670000</td>\n",
       "    </tr>\n",
       "    <tr>\n",
       "      <td>50%</td>\n",
       "      <td>1986.000000</td>\n",
       "      <td>1968.000000</td>\n",
       "      <td>2501.500000</td>\n",
       "      <td>186.870000</td>\n",
       "      <td>0.720000</td>\n",
       "      <td>298.610000</td>\n",
       "      <td>132.800000</td>\n",
       "      <td>162.810000</td>\n",
       "      <td>25.560000</td>\n",
       "      <td>25.670000</td>\n",
       "    </tr>\n",
       "    <tr>\n",
       "      <td>75%</td>\n",
       "      <td>1992.000000</td>\n",
       "      <td>1983.000000</td>\n",
       "      <td>3290.250000</td>\n",
       "      <td>399.777500</td>\n",
       "      <td>0.980000</td>\n",
       "      <td>408.300000</td>\n",
       "      <td>290.050000</td>\n",
       "      <td>219.820000</td>\n",
       "      <td>57.790000</td>\n",
       "      <td>56.790000</td>\n",
       "    </tr>\n",
       "    <tr>\n",
       "      <td>max</td>\n",
       "      <td>53784.000000</td>\n",
       "      <td>2001.000000</td>\n",
       "      <td>55215.000000</td>\n",
       "      <td>11875.890000</td>\n",
       "      <td>256.200000</td>\n",
       "      <td>11604.420000</td>\n",
       "      <td>25048.800000</td>\n",
       "      <td>28272.000000</td>\n",
       "      <td>398.300000</td>\n",
       "      <td>1988.700000</td>\n",
       "    </tr>\n",
       "  </tbody>\n",
       "</table>\n",
       "</div>"
      ],
      "text/plain": [
       "       First Policy´s Year  Brithday Year  Gross Monthly Salary  \\\n",
       "count         10266.000000   10279.000000          10260.000000   \n",
       "mean           1991.062634    1968.007783           2506.667057   \n",
       "std             511.267913      19.709476           1157.449634   \n",
       "min            1974.000000    1028.000000            333.000000   \n",
       "25%            1980.000000    1953.000000           1706.000000   \n",
       "50%            1986.000000    1968.000000           2501.500000   \n",
       "75%            1992.000000    1983.000000           3290.250000   \n",
       "max           53784.000000    2001.000000          55215.000000   \n",
       "\n",
       "       Customer Monetary Value   Claims Rate  Premiums in LOB: Motor  \\\n",
       "count             10296.000000  10296.000000            10262.000000   \n",
       "mean                177.892605      0.742772              300.470252   \n",
       "std                1945.811505      2.916964              211.914997   \n",
       "min             -165680.420000      0.000000               -4.110000   \n",
       "25%                  -9.440000      0.390000              190.590000   \n",
       "50%                 186.870000      0.720000              298.610000   \n",
       "75%                 399.777500      0.980000              408.300000   \n",
       "max               11875.890000    256.200000            11604.420000   \n",
       "\n",
       "       Premiums in LOB: Household  Premiums in LOB: Health  \\\n",
       "count                10296.000000             10253.000000   \n",
       "mean                   210.431192               171.580833   \n",
       "std                    352.595984               296.405976   \n",
       "min                    -75.000000                -2.110000   \n",
       "25%                     49.450000               111.800000   \n",
       "50%                    132.800000               162.810000   \n",
       "75%                    290.050000               219.820000   \n",
       "max                  25048.800000             28272.000000   \n",
       "\n",
       "       Premiums in LOB:  Life  Premiums in LOB: Work Compensations  \n",
       "count            10192.000000                         10210.000000  \n",
       "mean                41.855782                            41.277514  \n",
       "std                 47.480632                            51.513572  \n",
       "min                 -7.000000                           -12.000000  \n",
       "25%                  9.890000                            10.670000  \n",
       "50%                 25.560000                            25.670000  \n",
       "75%                 57.790000                            56.790000  \n",
       "max                398.300000                          1988.700000  "
      ]
     },
     "execution_count": 7,
     "metadata": {},
     "output_type": "execute_result"
    }
   ],
   "source": [
    "# Getting information on numerical variables\n",
    "insurance_df.describe() "
   ]
  },
  {
   "cell_type": "code",
   "execution_count": 8,
   "metadata": {},
   "outputs": [
    {
     "data": {
      "text/plain": [
       "Customer Identity                        0\n",
       "First Policy´s Year                     30\n",
       "Brithday Year                           17\n",
       "Educational Degree                      17\n",
       "Gross Monthly Salary                    36\n",
       "Geographic Living Area                   1\n",
       "Has Children (Y=1)                      21\n",
       "Customer Monetary Value                  0\n",
       "Claims Rate                              0\n",
       "Premiums in LOB: Motor                  34\n",
       "Premiums in LOB: Household               0\n",
       "Premiums in LOB: Health                 43\n",
       "Premiums in LOB:  Life                 104\n",
       "Premiums in LOB: Work Compensations     86\n",
       "dtype: int64"
      ]
     },
     "execution_count": 8,
     "metadata": {},
     "output_type": "execute_result"
    }
   ],
   "source": [
    "insurance_df.isna().sum()"
   ]
  },
  {
   "cell_type": "markdown",
   "metadata": {},
   "source": [
    "Just by a simple overlook of our data, we can already detect some mistakes present in it: the first policy's year takes numbers up to 53784, a year which we are clearly very far away from reaching, and there's at least one costumer born in 1028, which is just impossible.<br>\n",
    "Also, we have a lot of missing information.<br>\n",
    "Let's start by solving these problems. "
   ]
  },
  {
   "cell_type": "markdown",
   "metadata": {},
   "source": [
    "<hr>\n",
    "<b style='color: ##154360;font-size:19px' id=\"preparation\">Data Preparation</b>"
   ]
  },
  {
   "cell_type": "markdown",
   "metadata": {},
   "source": [
    "Since we only have 13 features and all of them can influence our final results, we won't get rid of any of them. \n",
    "In this step, we will start by creating new features from the existent ones.<br>"
   ]
  },
  {
   "cell_type": "markdown",
   "metadata": {},
   "source": [
    "<b style=\"color:#FF5733\">Creating features</b>"
   ]
  },
  {
   "cell_type": "code",
   "execution_count": 9,
   "metadata": {},
   "outputs": [
    {
     "data": {
      "text/html": [
       "<div>\n",
       "<style scoped>\n",
       "    .dataframe tbody tr th:only-of-type {\n",
       "        vertical-align: middle;\n",
       "    }\n",
       "\n",
       "    .dataframe tbody tr th {\n",
       "        vertical-align: top;\n",
       "    }\n",
       "\n",
       "    .dataframe thead th {\n",
       "        text-align: right;\n",
       "    }\n",
       "</style>\n",
       "<table border=\"1\" class=\"dataframe\">\n",
       "  <thead>\n",
       "    <tr style=\"text-align: right;\">\n",
       "      <th></th>\n",
       "      <th>Customer Identity</th>\n",
       "      <th>First Policy´s Year</th>\n",
       "      <th>Brithday Year</th>\n",
       "      <th>Educational Degree</th>\n",
       "      <th>Gross Monthly Salary</th>\n",
       "      <th>Geographic Living Area</th>\n",
       "      <th>Has Children (Y=1)</th>\n",
       "      <th>Customer Monetary Value</th>\n",
       "      <th>Claims Rate</th>\n",
       "      <th>Premiums in LOB: Motor</th>\n",
       "      <th>Premiums in LOB: Household</th>\n",
       "      <th>Premiums in LOB: Health</th>\n",
       "      <th>Premiums in LOB:  Life</th>\n",
       "      <th>Premiums in LOB: Work Compensations</th>\n",
       "      <th>Age when doing first policy</th>\n",
       "    </tr>\n",
       "  </thead>\n",
       "  <tbody>\n",
       "    <tr>\n",
       "      <td>0</td>\n",
       "      <td>1</td>\n",
       "      <td>1985.0</td>\n",
       "      <td>1982.0</td>\n",
       "      <td>2 - High School</td>\n",
       "      <td>2177.0</td>\n",
       "      <td>1</td>\n",
       "      <td>1</td>\n",
       "      <td>380.97</td>\n",
       "      <td>0.39</td>\n",
       "      <td>375.85</td>\n",
       "      <td>79.45</td>\n",
       "      <td>146.36</td>\n",
       "      <td>47.01</td>\n",
       "      <td>16.89</td>\n",
       "      <td>3.0</td>\n",
       "    </tr>\n",
       "    <tr>\n",
       "      <td>1</td>\n",
       "      <td>2</td>\n",
       "      <td>1981.0</td>\n",
       "      <td>1995.0</td>\n",
       "      <td>2 - High School</td>\n",
       "      <td>677.0</td>\n",
       "      <td>4</td>\n",
       "      <td>1</td>\n",
       "      <td>-131.13</td>\n",
       "      <td>1.12</td>\n",
       "      <td>77.46</td>\n",
       "      <td>416.20</td>\n",
       "      <td>116.69</td>\n",
       "      <td>194.48</td>\n",
       "      <td>106.13</td>\n",
       "      <td>-14.0</td>\n",
       "    </tr>\n",
       "    <tr>\n",
       "      <td>2</td>\n",
       "      <td>3</td>\n",
       "      <td>1991.0</td>\n",
       "      <td>1970.0</td>\n",
       "      <td>1 - Basic</td>\n",
       "      <td>2277.0</td>\n",
       "      <td>3</td>\n",
       "      <td>0</td>\n",
       "      <td>504.67</td>\n",
       "      <td>0.28</td>\n",
       "      <td>206.15</td>\n",
       "      <td>224.50</td>\n",
       "      <td>124.58</td>\n",
       "      <td>86.35</td>\n",
       "      <td>99.02</td>\n",
       "      <td>21.0</td>\n",
       "    </tr>\n",
       "    <tr>\n",
       "      <td>3</td>\n",
       "      <td>4</td>\n",
       "      <td>1990.0</td>\n",
       "      <td>1981.0</td>\n",
       "      <td>3 - BSc/MSc</td>\n",
       "      <td>1099.0</td>\n",
       "      <td>4</td>\n",
       "      <td>1</td>\n",
       "      <td>-16.99</td>\n",
       "      <td>0.99</td>\n",
       "      <td>182.48</td>\n",
       "      <td>43.35</td>\n",
       "      <td>311.17</td>\n",
       "      <td>35.34</td>\n",
       "      <td>28.34</td>\n",
       "      <td>9.0</td>\n",
       "    </tr>\n",
       "    <tr>\n",
       "      <td>4</td>\n",
       "      <td>5</td>\n",
       "      <td>1986.0</td>\n",
       "      <td>1973.0</td>\n",
       "      <td>3 - BSc/MSc</td>\n",
       "      <td>1763.0</td>\n",
       "      <td>4</td>\n",
       "      <td>1</td>\n",
       "      <td>35.23</td>\n",
       "      <td>0.90</td>\n",
       "      <td>338.62</td>\n",
       "      <td>47.80</td>\n",
       "      <td>182.59</td>\n",
       "      <td>18.78</td>\n",
       "      <td>41.45</td>\n",
       "      <td>13.0</td>\n",
       "    </tr>\n",
       "  </tbody>\n",
       "</table>\n",
       "</div>"
      ],
      "text/plain": [
       "  Customer Identity  First Policy´s Year  Brithday Year Educational Degree  \\\n",
       "0                 1               1985.0         1982.0    2 - High School   \n",
       "1                 2               1981.0         1995.0    2 - High School   \n",
       "2                 3               1991.0         1970.0          1 - Basic   \n",
       "3                 4               1990.0         1981.0        3 - BSc/MSc   \n",
       "4                 5               1986.0         1973.0        3 - BSc/MSc   \n",
       "\n",
       "   Gross Monthly Salary Geographic Living Area Has Children (Y=1)  \\\n",
       "0                2177.0                      1                  1   \n",
       "1                 677.0                      4                  1   \n",
       "2                2277.0                      3                  0   \n",
       "3                1099.0                      4                  1   \n",
       "4                1763.0                      4                  1   \n",
       "\n",
       "   Customer Monetary Value  Claims Rate  Premiums in LOB: Motor  \\\n",
       "0                   380.97         0.39                  375.85   \n",
       "1                  -131.13         1.12                   77.46   \n",
       "2                   504.67         0.28                  206.15   \n",
       "3                   -16.99         0.99                  182.48   \n",
       "4                    35.23         0.90                  338.62   \n",
       "\n",
       "   Premiums in LOB: Household  Premiums in LOB: Health  \\\n",
       "0                       79.45                   146.36   \n",
       "1                      416.20                   116.69   \n",
       "2                      224.50                   124.58   \n",
       "3                       43.35                   311.17   \n",
       "4                       47.80                   182.59   \n",
       "\n",
       "   Premiums in LOB:  Life  Premiums in LOB: Work Compensations  \\\n",
       "0                   47.01                                16.89   \n",
       "1                  194.48                               106.13   \n",
       "2                   86.35                                99.02   \n",
       "3                   35.34                                28.34   \n",
       "4                   18.78                                41.45   \n",
       "\n",
       "   Age when doing first policy  \n",
       "0                          3.0  \n",
       "1                        -14.0  \n",
       "2                         21.0  \n",
       "3                          9.0  \n",
       "4                         13.0  "
      ]
     },
     "execution_count": 9,
     "metadata": {},
     "output_type": "execute_result"
    }
   ],
   "source": [
    "insurance_df['Age when doing first policy'] = insurance_df['First Policy´s Year']-insurance_df['Brithday Year']\n",
    "insurance_df.head()"
   ]
  },
  {
   "cell_type": "code",
   "execution_count": 10,
   "metadata": {},
   "outputs": [
    {
     "data": {
      "text/plain": [
       "count    10252.000000\n",
       "mean        23.052087\n",
       "std        512.199471\n",
       "min        -27.000000\n",
       "25%          3.000000\n",
       "50%         18.000000\n",
       "75%         33.000000\n",
       "max      51836.000000\n",
       "Name: Age when doing first policy, dtype: float64"
      ]
     },
     "execution_count": 10,
     "metadata": {},
     "output_type": "execute_result"
    }
   ],
   "source": [
    "insurance_df['Age when doing first policy'].describe() "
   ]
  },
  {
   "cell_type": "markdown",
   "metadata": {},
   "source": [
    "More problems for us: some clients \"were\" -27 years when doing their first policy, which is obviously an error. <br>\n",
    "Also, looks like 25% of our clients were 3 or less years old when doing their first policy, which is again totally impossible. \n",
    "\n",
    "Let's remove this column for now, in order to not have it influence our missing values count (since it is a direct result of two of our columns)"
   ]
  },
  {
   "cell_type": "code",
   "execution_count": 11,
   "metadata": {},
   "outputs": [],
   "source": [
    "insurance_df.drop('Age when doing first policy', axis = 1, inplace=True)"
   ]
  },
  {
   "cell_type": "markdown",
   "metadata": {},
   "source": [
    "Calculating the age and droping the year of the policy that was made."
   ]
  },
  {
   "cell_type": "code",
   "execution_count": 12,
   "metadata": {
    "scrolled": true
   },
   "outputs": [
    {
     "data": {
      "text/html": [
       "<div>\n",
       "<style scoped>\n",
       "    .dataframe tbody tr th:only-of-type {\n",
       "        vertical-align: middle;\n",
       "    }\n",
       "\n",
       "    .dataframe tbody tr th {\n",
       "        vertical-align: top;\n",
       "    }\n",
       "\n",
       "    .dataframe thead th {\n",
       "        text-align: right;\n",
       "    }\n",
       "</style>\n",
       "<table border=\"1\" class=\"dataframe\">\n",
       "  <thead>\n",
       "    <tr style=\"text-align: right;\">\n",
       "      <th></th>\n",
       "      <th>Customer Identity</th>\n",
       "      <th>First Policy´s Year</th>\n",
       "      <th>Brithday Year</th>\n",
       "      <th>Educational Degree</th>\n",
       "      <th>Gross Monthly Salary</th>\n",
       "      <th>Geographic Living Area</th>\n",
       "      <th>Has Children (Y=1)</th>\n",
       "      <th>Customer Monetary Value</th>\n",
       "      <th>Claims Rate</th>\n",
       "      <th>Premiums in LOB: Motor</th>\n",
       "      <th>Premiums in LOB: Household</th>\n",
       "      <th>Premiums in LOB: Health</th>\n",
       "      <th>Premiums in LOB:  Life</th>\n",
       "      <th>Premiums in LOB: Work Compensations</th>\n",
       "      <th>Age</th>\n",
       "    </tr>\n",
       "  </thead>\n",
       "  <tbody>\n",
       "    <tr>\n",
       "      <td>0</td>\n",
       "      <td>1</td>\n",
       "      <td>1985.0</td>\n",
       "      <td>1982.0</td>\n",
       "      <td>2 - High School</td>\n",
       "      <td>2177.0</td>\n",
       "      <td>1</td>\n",
       "      <td>1</td>\n",
       "      <td>380.97</td>\n",
       "      <td>0.39</td>\n",
       "      <td>375.85</td>\n",
       "      <td>79.45</td>\n",
       "      <td>146.36</td>\n",
       "      <td>47.01</td>\n",
       "      <td>16.89</td>\n",
       "      <td>34.0</td>\n",
       "    </tr>\n",
       "    <tr>\n",
       "      <td>1</td>\n",
       "      <td>2</td>\n",
       "      <td>1981.0</td>\n",
       "      <td>1995.0</td>\n",
       "      <td>2 - High School</td>\n",
       "      <td>677.0</td>\n",
       "      <td>4</td>\n",
       "      <td>1</td>\n",
       "      <td>-131.13</td>\n",
       "      <td>1.12</td>\n",
       "      <td>77.46</td>\n",
       "      <td>416.20</td>\n",
       "      <td>116.69</td>\n",
       "      <td>194.48</td>\n",
       "      <td>106.13</td>\n",
       "      <td>21.0</td>\n",
       "    </tr>\n",
       "    <tr>\n",
       "      <td>2</td>\n",
       "      <td>3</td>\n",
       "      <td>1991.0</td>\n",
       "      <td>1970.0</td>\n",
       "      <td>1 - Basic</td>\n",
       "      <td>2277.0</td>\n",
       "      <td>3</td>\n",
       "      <td>0</td>\n",
       "      <td>504.67</td>\n",
       "      <td>0.28</td>\n",
       "      <td>206.15</td>\n",
       "      <td>224.50</td>\n",
       "      <td>124.58</td>\n",
       "      <td>86.35</td>\n",
       "      <td>99.02</td>\n",
       "      <td>46.0</td>\n",
       "    </tr>\n",
       "    <tr>\n",
       "      <td>3</td>\n",
       "      <td>4</td>\n",
       "      <td>1990.0</td>\n",
       "      <td>1981.0</td>\n",
       "      <td>3 - BSc/MSc</td>\n",
       "      <td>1099.0</td>\n",
       "      <td>4</td>\n",
       "      <td>1</td>\n",
       "      <td>-16.99</td>\n",
       "      <td>0.99</td>\n",
       "      <td>182.48</td>\n",
       "      <td>43.35</td>\n",
       "      <td>311.17</td>\n",
       "      <td>35.34</td>\n",
       "      <td>28.34</td>\n",
       "      <td>35.0</td>\n",
       "    </tr>\n",
       "    <tr>\n",
       "      <td>4</td>\n",
       "      <td>5</td>\n",
       "      <td>1986.0</td>\n",
       "      <td>1973.0</td>\n",
       "      <td>3 - BSc/MSc</td>\n",
       "      <td>1763.0</td>\n",
       "      <td>4</td>\n",
       "      <td>1</td>\n",
       "      <td>35.23</td>\n",
       "      <td>0.90</td>\n",
       "      <td>338.62</td>\n",
       "      <td>47.80</td>\n",
       "      <td>182.59</td>\n",
       "      <td>18.78</td>\n",
       "      <td>41.45</td>\n",
       "      <td>43.0</td>\n",
       "    </tr>\n",
       "  </tbody>\n",
       "</table>\n",
       "</div>"
      ],
      "text/plain": [
       "  Customer Identity  First Policy´s Year  Brithday Year Educational Degree  \\\n",
       "0                 1               1985.0         1982.0    2 - High School   \n",
       "1                 2               1981.0         1995.0    2 - High School   \n",
       "2                 3               1991.0         1970.0          1 - Basic   \n",
       "3                 4               1990.0         1981.0        3 - BSc/MSc   \n",
       "4                 5               1986.0         1973.0        3 - BSc/MSc   \n",
       "\n",
       "   Gross Monthly Salary Geographic Living Area Has Children (Y=1)  \\\n",
       "0                2177.0                      1                  1   \n",
       "1                 677.0                      4                  1   \n",
       "2                2277.0                      3                  0   \n",
       "3                1099.0                      4                  1   \n",
       "4                1763.0                      4                  1   \n",
       "\n",
       "   Customer Monetary Value  Claims Rate  Premiums in LOB: Motor  \\\n",
       "0                   380.97         0.39                  375.85   \n",
       "1                  -131.13         1.12                   77.46   \n",
       "2                   504.67         0.28                  206.15   \n",
       "3                   -16.99         0.99                  182.48   \n",
       "4                    35.23         0.90                  338.62   \n",
       "\n",
       "   Premiums in LOB: Household  Premiums in LOB: Health  \\\n",
       "0                       79.45                   146.36   \n",
       "1                      416.20                   116.69   \n",
       "2                      224.50                   124.58   \n",
       "3                       43.35                   311.17   \n",
       "4                       47.80                   182.59   \n",
       "\n",
       "   Premiums in LOB:  Life  Premiums in LOB: Work Compensations   Age  \n",
       "0                   47.01                                16.89  34.0  \n",
       "1                  194.48                               106.13  21.0  \n",
       "2                   86.35                                99.02  46.0  \n",
       "3                   35.34                                28.34  35.0  \n",
       "4                   18.78                                41.45  43.0  "
      ]
     },
     "execution_count": 12,
     "metadata": {},
     "output_type": "execute_result"
    }
   ],
   "source": [
    "insurance_df['Age'] = 2016 - insurance_df['Brithday Year']\n",
    "insurance_df.head()"
   ]
  },
  {
   "cell_type": "code",
   "execution_count": 13,
   "metadata": {},
   "outputs": [
    {
     "data": {
      "text/plain": [
       "count    10279.000000\n",
       "mean        47.992217\n",
       "std         19.709476\n",
       "min         15.000000\n",
       "25%         33.000000\n",
       "50%         48.000000\n",
       "75%         63.000000\n",
       "max        988.000000\n",
       "Name: Age, dtype: float64"
      ]
     },
     "execution_count": 13,
     "metadata": {},
     "output_type": "execute_result"
    }
   ],
   "source": [
    "insurance_df['Age'].describe() "
   ]
  },
  {
   "cell_type": "code",
   "execution_count": 14,
   "metadata": {},
   "outputs": [],
   "source": [
    "insurance_df[insurance_df['Age'] > 100]\n",
    "#We only have one customer that has age more than 100 which is 991 so we decided to remove it\n",
    "insurance_df.drop(insurance_df[insurance_df['Age'] >100].index, inplace=True)\n",
    "ratio.append('Age')\n"
   ]
  },
  {
   "cell_type": "markdown",
   "metadata": {},
   "source": [
    "<b style=\"color:#FF5733\">Taking care of premiums missing values</b>"
   ]
  },
  {
   "cell_type": "code",
   "execution_count": 15,
   "metadata": {
    "scrolled": false
   },
   "outputs": [
    {
     "name": "stdout",
     "output_type": "stream",
     "text": [
      "--------------- Premiums in LOB: Motor\n",
      "Empty DataFrame\n",
      "Columns: [Customer Identity, First Policy´s Year, Brithday Year, Educational Degree, Gross Monthly Salary, Geographic Living Area, Has Children (Y=1), Customer Monetary Value, Claims Rate, Premiums in LOB: Motor, Premiums in LOB: Household, Premiums in LOB: Health, Premiums in LOB:  Life, Premiums in LOB: Work Compensations, Age]\n",
      "Index: []\n",
      "--------------- Premiums in LOB: Health\n",
      "Empty DataFrame\n",
      "Columns: [Customer Identity, First Policy´s Year, Brithday Year, Educational Degree, Gross Monthly Salary, Geographic Living Area, Has Children (Y=1), Customer Monetary Value, Claims Rate, Premiums in LOB: Motor, Premiums in LOB: Household, Premiums in LOB: Health, Premiums in LOB:  Life, Premiums in LOB: Work Compensations, Age]\n",
      "Index: []\n",
      "--------------- Premiums in LOB: Life\n",
      "Empty DataFrame\n",
      "Columns: [Customer Identity, First Policy´s Year, Brithday Year, Educational Degree, Gross Monthly Salary, Geographic Living Area, Has Children (Y=1), Customer Monetary Value, Claims Rate, Premiums in LOB: Motor, Premiums in LOB: Household, Premiums in LOB: Health, Premiums in LOB:  Life, Premiums in LOB: Work Compensations, Age]\n",
      "Index: []\n",
      "--------------- Premiums in LOB: Work Compensations\n",
      "Empty DataFrame\n",
      "Columns: [Customer Identity, First Policy´s Year, Brithday Year, Educational Degree, Gross Monthly Salary, Geographic Living Area, Has Children (Y=1), Customer Monetary Value, Claims Rate, Premiums in LOB: Motor, Premiums in LOB: Household, Premiums in LOB: Health, Premiums in LOB:  Life, Premiums in LOB: Work Compensations, Age]\n",
      "Index: []\n"
     ]
    }
   ],
   "source": [
    "print('--------------- Premiums in LOB: Motor')\n",
    "print(insurance_df.loc[insurance_df['Premiums in LOB: Motor'] == 0])\n",
    "print('--------------- Premiums in LOB: Health')\n",
    "print(insurance_df.loc[insurance_df['Premiums in LOB: Health'] == 0])\n",
    "print('--------------- Premiums in LOB: Life')\n",
    "print(insurance_df.loc[insurance_df['Premiums in LOB:  Life'] == 0])\n",
    "print('--------------- Premiums in LOB: Work Compensations')\n",
    "print(insurance_df.loc[insurance_df['Premiums in LOB: Work Compensations'] == 0])"
   ]
  },
  {
   "cell_type": "markdown",
   "metadata": {},
   "source": [
    "Even though there's still a possibility all this data is actually missing, it does seem like the missing data in these columns represent unexistence of premium contracts and not lack of information. Because of that, let's fill those non-existenting values with 0. "
   ]
  },
  {
   "cell_type": "code",
   "execution_count": 16,
   "metadata": {
    "scrolled": true
   },
   "outputs": [
    {
     "data": {
      "text/plain": [
       "Customer Identity                       0\n",
       "First Policy´s Year                    30\n",
       "Brithday Year                          17\n",
       "Educational Degree                     17\n",
       "Gross Monthly Salary                   36\n",
       "Geographic Living Area                  1\n",
       "Has Children (Y=1)                     21\n",
       "Customer Monetary Value                 0\n",
       "Claims Rate                             0\n",
       "Premiums in LOB: Motor                  0\n",
       "Premiums in LOB: Household              0\n",
       "Premiums in LOB: Health                 0\n",
       "Premiums in LOB:  Life                  0\n",
       "Premiums in LOB: Work Compensations     0\n",
       "Age                                    17\n",
       "dtype: int64"
      ]
     },
     "execution_count": 16,
     "metadata": {},
     "output_type": "execute_result"
    }
   ],
   "source": [
    "insurance_df[['Premiums in LOB: Motor', 'Premiums in LOB: Health',\n",
    "              'Premiums in LOB:  Life',\n",
    "              'Premiums in LOB: Work Compensations']] = insurance_df[['Premiums in LOB: Motor', \n",
    "                                                                      'Premiums in LOB: Health',\n",
    "                                                                      'Premiums in LOB:  Life',\n",
    "                                                                      'Premiums in LOB: Work Compensations']].fillna(value=0)\n",
    "insurance_df.isna().sum()"
   ]
  },
  {
   "cell_type": "markdown",
   "metadata": {},
   "source": [
    "<b style=\"color:#FF5733\">Making the Transformations</b>"
   ]
  },
  {
   "cell_type": "code",
   "execution_count": 17,
   "metadata": {},
   "outputs": [],
   "source": [
    "insurance_df[nominal] = insurance_df[nominal].fillna(insurance_df[nominal].mode().iloc[0])"
   ]
  },
  {
   "cell_type": "code",
   "execution_count": 18,
   "metadata": {},
   "outputs": [
    {
     "data": {
      "text/plain": [
       "Customer Identity                       0\n",
       "First Policy´s Year                    30\n",
       "Brithday Year                          17\n",
       "Educational Degree                      0\n",
       "Gross Monthly Salary                   36\n",
       "Geographic Living Area                  0\n",
       "Has Children (Y=1)                      0\n",
       "Customer Monetary Value                 0\n",
       "Claims Rate                             0\n",
       "Premiums in LOB: Motor                  0\n",
       "Premiums in LOB: Household              0\n",
       "Premiums in LOB: Health                 0\n",
       "Premiums in LOB:  Life                  0\n",
       "Premiums in LOB: Work Compensations     0\n",
       "Age                                    17\n",
       "dtype: int64"
      ]
     },
     "execution_count": 18,
     "metadata": {},
     "output_type": "execute_result"
    }
   ],
   "source": [
    "insurance_df.isna().sum()"
   ]
  },
  {
   "cell_type": "code",
   "execution_count": 19,
   "metadata": {},
   "outputs": [
    {
     "data": {
      "text/html": [
       "<div>\n",
       "<style scoped>\n",
       "    .dataframe tbody tr th:only-of-type {\n",
       "        vertical-align: middle;\n",
       "    }\n",
       "\n",
       "    .dataframe tbody tr th {\n",
       "        vertical-align: top;\n",
       "    }\n",
       "\n",
       "    .dataframe thead th {\n",
       "        text-align: right;\n",
       "    }\n",
       "</style>\n",
       "<table border=\"1\" class=\"dataframe\">\n",
       "  <thead>\n",
       "    <tr style=\"text-align: right;\">\n",
       "      <th></th>\n",
       "      <th>Customer Identity</th>\n",
       "      <th>First Policy´s Year</th>\n",
       "      <th>Brithday Year</th>\n",
       "      <th>Educational Degree</th>\n",
       "      <th>Gross Monthly Salary</th>\n",
       "      <th>Geographic Living Area</th>\n",
       "      <th>Has Children (Y=1)</th>\n",
       "      <th>Customer Monetary Value</th>\n",
       "      <th>Claims Rate</th>\n",
       "      <th>Premiums in LOB: Motor</th>\n",
       "      <th>Premiums in LOB: Household</th>\n",
       "      <th>Premiums in LOB: Health</th>\n",
       "      <th>Premiums in LOB:  Life</th>\n",
       "      <th>Premiums in LOB: Work Compensations</th>\n",
       "      <th>Age</th>\n",
       "    </tr>\n",
       "  </thead>\n",
       "  <tbody>\n",
       "    <tr>\n",
       "      <td>0</td>\n",
       "      <td>1</td>\n",
       "      <td>1985.0</td>\n",
       "      <td>1982.0</td>\n",
       "      <td>2 - High School</td>\n",
       "      <td>2177.0</td>\n",
       "      <td>1.0</td>\n",
       "      <td>1.0</td>\n",
       "      <td>380.97</td>\n",
       "      <td>0.39</td>\n",
       "      <td>375.85</td>\n",
       "      <td>79.45</td>\n",
       "      <td>146.36</td>\n",
       "      <td>47.01</td>\n",
       "      <td>16.89</td>\n",
       "      <td>34.0</td>\n",
       "    </tr>\n",
       "    <tr>\n",
       "      <td>1</td>\n",
       "      <td>2</td>\n",
       "      <td>1981.0</td>\n",
       "      <td>1995.0</td>\n",
       "      <td>2 - High School</td>\n",
       "      <td>677.0</td>\n",
       "      <td>4.0</td>\n",
       "      <td>1.0</td>\n",
       "      <td>-131.13</td>\n",
       "      <td>1.12</td>\n",
       "      <td>77.46</td>\n",
       "      <td>416.20</td>\n",
       "      <td>116.69</td>\n",
       "      <td>194.48</td>\n",
       "      <td>106.13</td>\n",
       "      <td>21.0</td>\n",
       "    </tr>\n",
       "    <tr>\n",
       "      <td>2</td>\n",
       "      <td>3</td>\n",
       "      <td>1991.0</td>\n",
       "      <td>1970.0</td>\n",
       "      <td>1 - Basic</td>\n",
       "      <td>2277.0</td>\n",
       "      <td>3.0</td>\n",
       "      <td>0.0</td>\n",
       "      <td>504.67</td>\n",
       "      <td>0.28</td>\n",
       "      <td>206.15</td>\n",
       "      <td>224.50</td>\n",
       "      <td>124.58</td>\n",
       "      <td>86.35</td>\n",
       "      <td>99.02</td>\n",
       "      <td>46.0</td>\n",
       "    </tr>\n",
       "    <tr>\n",
       "      <td>3</td>\n",
       "      <td>4</td>\n",
       "      <td>1990.0</td>\n",
       "      <td>1981.0</td>\n",
       "      <td>3 - BSc/MSc</td>\n",
       "      <td>1099.0</td>\n",
       "      <td>4.0</td>\n",
       "      <td>1.0</td>\n",
       "      <td>-16.99</td>\n",
       "      <td>0.99</td>\n",
       "      <td>182.48</td>\n",
       "      <td>43.35</td>\n",
       "      <td>311.17</td>\n",
       "      <td>35.34</td>\n",
       "      <td>28.34</td>\n",
       "      <td>35.0</td>\n",
       "    </tr>\n",
       "    <tr>\n",
       "      <td>4</td>\n",
       "      <td>5</td>\n",
       "      <td>1986.0</td>\n",
       "      <td>1973.0</td>\n",
       "      <td>3 - BSc/MSc</td>\n",
       "      <td>1763.0</td>\n",
       "      <td>4.0</td>\n",
       "      <td>1.0</td>\n",
       "      <td>35.23</td>\n",
       "      <td>0.90</td>\n",
       "      <td>338.62</td>\n",
       "      <td>47.80</td>\n",
       "      <td>182.59</td>\n",
       "      <td>18.78</td>\n",
       "      <td>41.45</td>\n",
       "      <td>43.0</td>\n",
       "    </tr>\n",
       "  </tbody>\n",
       "</table>\n",
       "</div>"
      ],
      "text/plain": [
       "   Customer Identity  First Policy´s Year  Brithday Year Educational Degree  \\\n",
       "0                  1               1985.0         1982.0    2 - High School   \n",
       "1                  2               1981.0         1995.0    2 - High School   \n",
       "2                  3               1991.0         1970.0          1 - Basic   \n",
       "3                  4               1990.0         1981.0        3 - BSc/MSc   \n",
       "4                  5               1986.0         1973.0        3 - BSc/MSc   \n",
       "\n",
       "   Gross Monthly Salary  Geographic Living Area  Has Children (Y=1)  \\\n",
       "0                2177.0                     1.0                 1.0   \n",
       "1                 677.0                     4.0                 1.0   \n",
       "2                2277.0                     3.0                 0.0   \n",
       "3                1099.0                     4.0                 1.0   \n",
       "4                1763.0                     4.0                 1.0   \n",
       "\n",
       "   Customer Monetary Value  Claims Rate  Premiums in LOB: Motor  \\\n",
       "0                   380.97         0.39                  375.85   \n",
       "1                  -131.13         1.12                   77.46   \n",
       "2                   504.67         0.28                  206.15   \n",
       "3                   -16.99         0.99                  182.48   \n",
       "4                    35.23         0.90                  338.62   \n",
       "\n",
       "   Premiums in LOB: Household  Premiums in LOB: Health  \\\n",
       "0                       79.45                   146.36   \n",
       "1                      416.20                   116.69   \n",
       "2                      224.50                   124.58   \n",
       "3                       43.35                   311.17   \n",
       "4                       47.80                   182.59   \n",
       "\n",
       "   Premiums in LOB:  Life  Premiums in LOB: Work Compensations   Age  \n",
       "0                   47.01                                16.89  34.0  \n",
       "1                  194.48                               106.13  21.0  \n",
       "2                   86.35                                99.02  46.0  \n",
       "3                   35.34                                28.34  35.0  \n",
       "4                   18.78                                41.45  43.0  "
      ]
     },
     "execution_count": 19,
     "metadata": {},
     "output_type": "execute_result"
    }
   ],
   "source": [
    "# 1 is basic\n",
    "# 2 is high school \n",
    "# 3 is for BSC/MSC \n",
    "# 4 is for PHD\n",
    "\n",
    "#Unique to know all the available values in the DF.\n",
    "insurance_df['Educational Degree'].unique() \n",
    "\n",
    "#Changing the Educational Degree to a digit\n",
    "#??? insurance_df['Educational Degree'] = insurance_df['Educational Degree'].astype(str).str[0]\n",
    "insurance_df.head(5)"
   ]
  },
  {
   "cell_type": "markdown",
   "metadata": {},
   "source": [
    "#### Client Spend = Sum(Premiums)"
   ]
  },
  {
   "cell_type": "markdown",
   "metadata": {},
   "source": [
    "We are building a new variable that means how much the client spends"
   ]
  },
  {
   "cell_type": "code",
   "execution_count": 20,
   "metadata": {
    "scrolled": true
   },
   "outputs": [],
   "source": [
    "insurance_df['Client_Spend'] = insurance_df['Premiums in LOB: Motor']+insurance_df['Premiums in LOB: Household']+insurance_df[\"Premiums in LOB: Health\"] +insurance_df[\"Premiums in LOB:  Life\"]  +insurance_df[\"Premiums in LOB: Work Compensations\"]"
   ]
  },
  {
   "cell_type": "code",
   "execution_count": 21,
   "metadata": {},
   "outputs": [
    {
     "data": {
      "text/plain": [
       "0         665.56\n",
       "1         910.96\n",
       "2         740.60\n",
       "3         600.68\n",
       "4         629.24\n",
       "          ...   \n",
       "10291     641.56\n",
       "10292    1430.60\n",
       "10293     696.24\n",
       "10294     774.92\n",
       "10295     669.56\n",
       "Name: Client_Spend, Length: 10295, dtype: float64"
      ]
     },
     "execution_count": 21,
     "metadata": {},
     "output_type": "execute_result"
    }
   ],
   "source": [
    "insurance_df['Client_Spend']"
   ]
  },
  {
   "cell_type": "markdown",
   "metadata": {},
   "source": [
    "#### Fidelity"
   ]
  },
  {
   "cell_type": "code",
   "execution_count": 22,
   "metadata": {},
   "outputs": [
    {
     "data": {
      "text/plain": [
       "28.0    512\n",
       "22.0    475\n",
       "23.0    472\n",
       "27.0    466\n",
       "32.0    464\n",
       "30.0    458\n",
       "39.0    453\n",
       "38.0    453\n",
       "24.0    451\n",
       "26.0    449\n",
       "21.0    445\n",
       "35.0    445\n",
       "34.0    444\n",
       "37.0    443\n",
       "20.0    440\n",
       "29.0    438\n",
       "40.0    433\n",
       "36.0    432\n",
       "25.0    430\n",
       "31.0    429\n",
       "33.0    423\n",
       "41.0    285\n",
       "19.0    271\n",
       "42.0    141\n",
       "18.0    112\n",
       "Name: Fidelity, dtype: int64"
      ]
     },
     "execution_count": 22,
     "metadata": {},
     "output_type": "execute_result"
    }
   ],
   "source": [
    "insurance_df['Fidelity'] = 2016 - insurance_df['First Policy´s Year']\n",
    "insurance_df['Fidelity'] \n",
    "insurance_df['Fidelity'].value_counts() #There is one value equal to -51768.0\n",
    "insurance_df = insurance_df[insurance_df['Fidelity'] > 0 ] #Removing the dirty data\n",
    "insurance_df['Fidelity'].value_counts()"
   ]
  },
  {
   "cell_type": "code",
   "execution_count": 23,
   "metadata": {},
   "outputs": [],
   "source": [
    "customer = ['Customer Identity','Gross Monthly Salary','Claims Rate','Customer Monetary Value','Client_Spend','Fidelity', 'Age']\n",
    "premiums = ['Customer Identity','Premiums in LOB: Motor','Premiums in LOB: Household','Premiums in LOB: Health',\n",
    "         'Premiums in LOB:  Life','Premiums in LOB: Work Compensations']\n",
    "nominal = ['Customer Identity','Educational Degree','Geographic Living Area','Has Children (Y=1)']"
   ]
  },
  {
   "cell_type": "markdown",
   "metadata": {},
   "source": [
    "<b style=\"color:#FF5733\">Fiding missing values</b>"
   ]
  },
  {
   "cell_type": "code",
   "execution_count": 24,
   "metadata": {},
   "outputs": [
    {
     "name": "stdout",
     "output_type": "stream",
     "text": [
      "0.5% of rows have values missing\n"
     ]
    },
    {
     "data": {
      "text/plain": [
       "(10264, 17)"
      ]
     },
     "execution_count": 24,
     "metadata": {},
     "output_type": "execute_result"
    }
   ],
   "source": [
    "list_missing_data = {}\n",
    "l = len([i for i in (insurance_df.isnull().sum(axis=1)/insurance_df.shape[1]).tolist() if i > 0.0])\n",
    "print(str(round(l/insurance_df.shape[0],3)*100)+\"% of rows have values missing\")\n",
    "\n",
    "insurance_df.shape"
   ]
  },
  {
   "cell_type": "markdown",
   "metadata": {},
   "source": [
    "<b style=\"color:#FF5733\">Filling missing values</b>"
   ]
  },
  {
   "cell_type": "markdown",
   "metadata": {},
   "source": [
    "Using only the rows with no missing data, we will take 75% of them and use them to make predictions on the other 25%. <br>"
   ]
  },
  {
   "cell_type": "code",
   "execution_count": 25,
   "metadata": {},
   "outputs": [
    {
     "name": "stdout",
     "output_type": "stream",
     "text": [
      "[4152, 9730, 2589, 1442, 746, 6464, 776, 4272, 1368, 2294, 7696, 4206, 6088, 4242, 73, 5815, 3108, 1366, 3623, 3727, 8501, 9805, 151, 6805, 258, 8740, 8725, 8625, 5598, 7877, 9137, 4387, 437, 8461, 7429, 2364, 7255, 8248, 907, 8747, 7557, 7833, 7475, 1755, 6990, 3332, 7284, 5573, 9120, 1977, 8554, 6324, 1019, 2855, 4133, 1315, 3970, 2718, 1109, 7894, 4482, 5530, 3029, 5531, 6850, 1182, 9760, 2549, 7816, 1844, 3199, 6053, 1057, 4253, 438, 673, 10011, 1116, 8253, 8535, 4414, 10282, 3517, 1065, 19, 3758, 9038, 10044, 1907, 8988, 395, 8074, 578, 8261, 9676, 5411, 5231, 499, 281, 5243, 5428, 8421, 1167, 47, 7497, 327, 6417, 5291, 6532, 365, 1793, 4464, 4277, 967, 3629, 7963, 2636, 6021, 4170, 110, 9292, 203, 4970, 9440, 1188, 3413, 7386, 3803, 1604, 963, 4611, 7629, 7409, 241, 9206, 5496, 9604, 9212, 3485, 6212, 1949, 2064, 4092, 5594, 2506, 1541, 6944, 7079, 1832, 3665, 7305, 4287, 4313, 5584, 3794, 7140, 10049, 2699, 1417, 2733, 7367, 1573, 3703, 1293, 5804, 3044, 8365, 10019, 9510, 3356, 5510, 6712, 5901, 7937, 6529, 8709, 1737, 9828, 9175, 9665, 3114, 7795, 9359, 2517, 5440, 7574, 4713, 7998, 8514, 4570, 2289, 3312, 9482, 9214, 738, 7275, 2174, 847, 5192, 3999, 4552, 1273, 1819, 914, 6638, 3722, 1325, 5663, 8944, 4111, 6889, 507, 9174, 287, 8931, 4671, 7115, 3105, 10124, 940, 796, 1916, 7007, 4725, 704, 2420, 4354, 1265, 7413, 3626, 7260, 9419, 954, 4204, 264, 10084, 4463, 1435, 9282, 1771, 8235, 8630, 7415, 4718, 4578, 10227, 2079, 4075, 8142, 2779, 8592, 8752, 6274, 6270, 6577, 4063, 2662, 3692, 4224, 1497, 4959, 7013, 5752, 7311, 4680, 2620, 3387, 7036, 8001, 3831, 7695, 8304, 2939, 2081, 3890, 1638, 8046, 4041, 10080, 655, 3103, 2256, 7428, 10053, 6672, 4002, 1227, 1590, 1613, 671, 295, 7768, 6659, 8738, 9928, 6520, 5785, 2236, 7544, 10182, 1425, 4225, 1403, 8671, 5688, 494, 4251, 8128, 2336, 4648, 7281, 5824, 7264, 5513, 8565, 6906, 104, 8002, 2048, 3581, 8983, 9537, 524, 4335, 824, 686, 899, 5983, 8061, 2354, 5050, 2423, 9587, 6139, 4383, 4639, 1701, 2522, 2713, 4338, 5729, 71, 3506, 555, 8070, 5524, 10175, 2006, 975, 2824, 8545, 3591, 4740, 1150, 1395, 8961, 5711, 7485, 3030, 7482, 4953, 8707, 7735, 7120, 587, 7233, 9229, 8464, 271, 596, 6814, 3157, 7189, 7737, 9749, 3265, 3904, 1114, 857, 6644, 4400, 3445, 8452, 6125, 7350, 874, 6093, 5071, 5429, 3089, 7141, 7679, 6313, 2208, 4141, 1860, 4530, 7157, 1854, 7955, 859, 2469, 1782, 7540, 400, 8849, 5361, 1889, 4359, 834, 8659, 7812, 3977, 1980, 6331, 320, 7246, 3628, 10265, 1840, 7534, 5315, 1400, 4814, 9019, 3201, 2106, 7961, 9689, 9367, 4421, 7180, 2756, 5101, 1029, 853, 1284, 3510, 7416, 1888, 4329, 1429, 9591, 10063, 7743, 6227, 3435, 8238, 5009, 5748, 7517, 515, 3449, 1228, 7338, 3417, 4143, 6304, 8927, 2836, 8176, 5765, 7930, 8476, 1060, 3018, 2099, 448, 5552, 5383, 3249, 5867, 6588, 2861, 9070, 5011, 2978, 1369, 1987, 3988, 8218, 9492, 1803, 10200, 1633, 3852, 8552, 2310, 4750, 9115, 570, 6856, 5820, 1173, 9186, 8872, 6454, 3681, 675, 4159, 3253, 7951, 6766, 6347, 7366, 2683, 8228, 1705, 5899, 7006, 6190, 4564, 3361, 2963, 2301, 4429, 2981, 9190, 669, 6198, 7598, 2454, 4790, 910, 3614, 9500, 572, 10162, 797, 9969, 3058, 8512, 9350, 9849, 5341, 5132, 9800, 7232, 6143, 4806, 1449, 1922, 8688, 301, 8098, 8413, 640, 3007, 2622, 7938, 1127, 3004, 8786, 6797, 1790, 7638, 6724, 4702, 6515, 5352, 3533, 6068, 6942, 8693, 7936, 5441, 2877, 2542, 5964, 8720, 8107, 8073, 4773, 10236, 3642, 543, 9562, 3159, 8357, 2361, 90, 4514, 1040, 8330, 3635, 7240, 5534, 1595, 9949, 1481, 2945, 4512, 461, 5774, 9875, 4762, 6645, 7273, 5232, 1333, 7286, 7507, 10210, 8594, 2918, 4035, 3556, 4091, 2198, 5654, 7015, 661, 337, 1017, 9362, 5370, 9146, 4494, 3204, 6079, 692, 9693, 1038, 10105, 2482, 8782, 7163, 10228, 4608, 2384, 128, 8694, 3627, 1709, 171, 6607, 1924, 4728, 4190, 4807, 8863, 7495, 7848, 5582, 633, 4342, 10006, 3544, 3621, 9305, 9478, 135, 9057, 5613, 454, 9272, 9392, 3672, 4561, 6165, 8210, 1939, 2439, 8099, 2880, 8818, 8932, 9598, 4783, 4068, 1959, 1339, 6749, 9002, 5705, 6559, 4461, 1850, 9851, 3770, 8507, 4477, 2933, 9013, 1193, 4597, 6925, 9, 8045, 8847, 7776, 4860, 5658, 2638, 2541, 757, 8920, 5578, 8742, 7245, 4243, 279, 7977, 6769, 1074, 998, 7870, 2446, 1998, 5437, 3697, 5735, 6482, 523, 6827, 8802, 6899, 6158, 3523, 5556, 6189, 7451, 7146, 6356, 4195, 7511, 6058, 1817, 8730, 2755, 8026, 8472, 7156, 4912, 4285, 123, 9582, 2500, 9248, 2903, 6188, 7052, 4435, 7666, 9285, 1622, 2765, 8687, 682, 8174, 7376, 4571, 2935, 5651, 10206, 6250, 8127, 7983, 5335, 976, 10203, 7317, 69, 7981, 9226, 9933, 1985, 5458, 7700, 9076, 6373, 6483, 2459, 376, 3123, 1512, 3704, 8792, 921, 9824, 6284, 3337, 1270, 4200, 4486, 5851, 9518, 10085, 5642, 4736, 3892, 880, 3807, 3732, 9838, 2088, 1307, 4032, 6474, 7028, 6864, 9874, 2820, 1044, 672, 5503, 9715, 1973, 2040, 2720, 4650, 5413, 2508, 622, 7092, 4176, 4822, 5566, 3229, 2264, 1032, 5102, 1621, 3989, 7975, 1511, 4880, 2795, 5686, 10126, 4128, 1501, 3728, 5453, 3869, 4317, 3616, 3721, 5003, 2817, 6632, 700, 10048, 3182, 2410, 9465, 6084, 1566, 7906, 4326, 6407, 9852, 9345, 8481, 8834, 4260, 7204, 2621, 7558, 5306, 406, 1445, 3456, 9506, 6241, 368, 723, 323, 3244, 3186, 2407, 7065, 8559, 8323, 8530, 1768, 4100, 5869, 536, 3471, 316, 8078, 4148, 2872, 67, 8269, 7215, 4140, 5890, 155, 8606, 8376, 1321, 6120, 1976, 3431, 4932, 5756, 20, 10141, 4210, 7897, 6584, 9460, 4981, 8000, 26, 2038, 930, 712, 4362, 10083, 239, 3490, 10273, 8135, 7070, 8609, 1189, 7630, 4392, 1568, 3645, 582, 6527, 6696, 4887, 5208, 10266, 2209, 2697, 1523, 6548, 9627, 6176, 5500, 4569, 544, 6825, 7589, 124, 1464, 3236, 7473, 3266, 122, 1351, 9514, 6395, 573, 6370, 4196, 4465, 6661, 6949, 5506, 9310, 3639, 2607, 226, 6683, 346, 6118, 4781, 9752, 3026, 5906, 7086, 3851, 2002, 7196, 737, 948, 9737, 8083, 3391, 2892, 2013, 4879, 526, 2386, 4766, 7684, 3200, 1154, 1172, 1341, 5103, 9306, 2946, 4427, 4547, 4353, 2808, 2576, 4640, 4550, 9466, 3125, 6016, 7484, 8683, 5157, 5608, 5620, 7867, 3926, 7731, 3037, 5310, 2136, 8345, 2532, 2427, 6341, 7029, 1909, 6472, 8887, 7467, 6371, 5894, 1769, 8207, 6382, 3915, 1323, 8680, 9364, 898, 4352, 6876, 3333, 2271, 7714, 1317, 8568, 1538, 5803, 1620, 8581, 9240, 1077, 3779, 4980, 8254, 6157, 7545, 8280, 1011, 3095, 1960, 9307, 9579, 994, 5185, 1048, 4829, 9697, 4315, 6310, 219, 7825, 8471, 1320, 2019, 10215, 3121, 3564, 4794, 5516, 6236, 9375, 2709, 4161, 934, 1828, 5359, 10231, 8615, 2284, 9215, 6307, 5695, 382, 9567, 6229, 5687, 8110, 1443, 6163, 1078, 6018, 8132, 658, 6958, 1674, 1071, 3694, 9755, 2022, 8772, 2593, 3608, 1839, 2762, 4264, 1195, 229, 7047, 2349, 2317, 423, 4085, 9993, 8307, 803, 2383, 3619, 557, 4044, 2266, 956, 9056, 472, 7593, 175, 4765, 10113, 6735, 2190, 103, 8661, 892, 1580, 1881, 4888, 6776, 7609, 1990, 2652, 1767, 9647, 6660, 8190, 2543, 3529, 10147, 8038, 3444, 10201, 3976, 1673, 2681, 3746, 5221, 9716, 1092, 375, 3078, 3496, 9073, 2484, 7879, 3622, 9844, 2250, 9666, 2375, 9522, 8290, 5692, 7859, 833, 7040, 2238, 2196, 2218, 4824, 1214, 1131, 8362, 4958, 6508, 4283, 8520, 3958, 6841, 6136, 1643, 1117, 5393, 4065, 9727, 9887, 2286, 6519, 3137, 5522, 7172, 5288, 3943, 5460, 4616, 5550, 2225, 3882, 7754, 8965, 3342, 430, 1022, 8640, 2605, 525, 2737, 17, 9414, 9334, 4241, 2327, 4222, 588, 4825, 8561, 2071, 10209, 2509, 8089, 2564, 4300, 7989, 2380, 4668, 4686, 4182, 1069, 3215, 2578, 4605, 8387, 8243, 4131, 2481, 209, 5572, 2095, 4110, 9242, 7863, 9424, 5419, 4069, 3610, 9171, 3079, 2223, 4787, 60, 4590, 1799, 7424, 3565, 4458, 8085, 5987, 6523, 1332, 1399, 7487, 7944, 1125, 3743, 7774, 3924, 2161, 4830, 6854, 6480, 5378, 3609, 8841, 2717, 4295, 4628, 10114, 8165, 4397, 10041, 8069, 10056, 2391, 7761, 6073, 7719, 8744, 9764, 3607, 7815, 7198, 2722, 6862, 10291, 1446, 5603, 2524, 6709, 5181, 8644, 8278, 8731, 5338, 688, 1710, 7210, 666, 2324, 7216, 3975, 4270, 6774, 6348, 6810, 8403, 8102, 9220, 7262, 7632, 7670, 1462, 9156, 2347, 6431, 1890, 7978, 2567, 8837, 932, 2344, 10274, 6333, 5321, 7798, 168, 8482, 2497, 3657, 8185, 8986, 8366, 2270, 3198, 1971, 2115, 2287, 2368, 950, 8342, 50, 9273, 5749, 6119, 4911, 2128, 2304, 1856, 6911, 3001, 3390, 7171, 8684, 3246, 5086, 9105, 4697, 9996, 9912, 8832, 1281, 6963, 6389, 5033, 935, 3068, 9134, 1252, 5559, 7962, 8373, 9934, 9988, 7908, 9409, 4246, 4081, 9074, 7994, 9868, 3810, 6202, 8839, 1248, 1702, 7535, 6614, 5439, 5168, 6931, 721, 9663, 5714, 4532, 1456, 2591, 1923, 7108, 5811, 5079, 2486, 9067, 8170, 1075, 9611, 6748, 9658, 541, 7898, 5312, 731, 6811, 7563, 5558, 2624, 9486, 4498, 7058, 8118, 8602, 3331, 9618, 5724, 285, 939, 157, 10061, 8189, 5827, 7708, 3767, 5227, 6400, 2084, 3615, 8580, 4842, 1536, 687, 9976, 1773, 4158, 10064, 8299, 1190, 6253, 6682, 10093, 7681, 4088, 2598, 6045, 1824, 9413, 9061, 9763, 818, 7388, 5743, 10157, 648, 10149, 1706, 1451, 8209, 7234, 8930, 2450, 7746, 7685, 5481, 1646, 6960, 188, 10047, 352, 10189, 1557, 7356, 1427, 9578, 547, 6859, 6457, 3710, 8223, 10185, 7347, 10028, 9415, 1155, 7526, 5719, 571, 10264, 602, 7452, 1884, 3350, 1722, 1266, 8432, 4918, 742, 2034, 527, 7973, 10276, 719, 1314, 5762, 8956, 6770, 9438, 7706, 37, 8479, 8465, 9997, 4869, 8906, 6473, 4854, 3392, 1094, 10013, 736, 4012, 1921, 5555, 9790, 9880, 9876, 3785, 7582, 3820, 1559, 2980, 1, 131, 399, 6917, 2239, 6680, 6091, 1241, 2207, 8216, 919, 3329, 3682, 1181, 4017, 4565, 8035, 2049, 3875, 4473, 9638, 2583, 3028, 427, 6126, 3176, 5721, 8820, 850, 10151, 7667, 1187, 431, 70, 3165, 319, 2546, 8130, 8657, 6232, 5666, 9814, 5068, 2525, 689, 987, 5415, 6601, 4323, 2656, 7970, 3220, 7789, 9860, 6406, 4934, 3908, 3206, 5922, 8337, 8884, 6962, 616, 9628, 4488, 2201, 1397, 7390, 6538, 325, 4019, 9303, 5336, 5147, 5959, 8510, 7532, 5436, 4886, 8646, 4772, 1141, 6575, 5273, 518, 9008, 2944, 1610, 8219, 5779, 380, 6149, 9967, 5152, 4066, 6076, 6360, 4454, 5275, 163, 10128, 1515, 6796, 4604, 322, 1750, 1028, 10283, 3850, 9780, 2833, 1805, 8591, 5196, 422, 741, 9402, 614, 9544, 3947, 6440, 944, 4266, 9390, 4038, 7132, 8886, 4047, 2432, 5126, 6279, 8990, 8079, 7624, 2105, 10027, 2521, 9681, 5482, 9405, 4577, 9971, 6452, 5614, 8623, 7756, 5627, 5242, 7543, 1432, 116, 8619, 1002, 7603, 1023, 6000, 3853, 9097, 3950, 6280, 1110, 592, 5976, 97, 8490, 8909, 2431, 332, 6882, 5062, 1862, 413, 5309, 3918, 1810, 6981, 9784, 4376, 610, 7707, 5589, 4533, 160, 5384, 5773, 7940, 7596, 261, 3800, 4368, 9757, 10146, 3049, 7758, 7322, 7463, 10099, 3245, 8062, 2358, 3734, 3554, 249, 85, 2085, 7732, 7784, 10281, 1892, 7055, 5070, 5137, 6450, 7912, 1343, 4425, 6153, 5873, 1375, 8352, 6408, 7976, 1591, 628, 710, 1163, 1274, 6254, 5504, 6355, 7918, 4235, 2080, 5720, 10226, 556, 356, 9029, 6729, 8929, 4033, 3466, 5141, 6506, 4113, 6883, 9425, 1010, 8122, 6231, 3052, 5989, 4455, 1521, 2764, 7525, 8702, 10205, 1288, 1581, 6003, 2405, 1900, 4179, 2635, 4944, 2772, 2839, 7075, 8641, 2153, 6802, 5868, 2395, 2645, 7425, 1326, 2671, 7807, 3570, 2777, 8575, 1526, 5926, 9319, 2329, 2111, 9771, 5150, 2527, 8121, 2477, 4334, 787, 9512, 6113, 2107, 5884, 6215, 1468, 7595, 7577, 5981, 1138, 5005, 1305, 9539, 1635, 297, 3093, 7, 4039, 2675, 6469, 3437, 4518, 8601, 7335, 8626, 2666, 5492, 8361, 1414, 53, 511, 5472, 1388, 7194, 9564, 8865, 8979, 2062, 8972, 1879, 1361, 5045, 595, 901, 9459, 4996, 1362, 4874, 4124, 5845, 8721, 3781, 5286, 7740, 7104, 5495, 8282, 6716, 6789, 2222, 3389, 756, 1732, 8435, 7276, 7559, 9911, 3773, 5980, 369, 5777, 3872, 5167, 2157, 2351, 4594, 6377, 5521, 4522, 9523, 5114, 4139, 8256, 3939, 439, 4769, 7450, 7009, 3144, 8522, 3887, 9919, 5723, 7741, 1467, 5303, 8879, 2914, 6217, 2721, 7279, 9052, 5836, 7162, 6867, 2616, 8557, 711, 3101, 5886, 2556, 922, 8639, 2715, 6251, 1614, 3707, 5349, 4867, 348, 4672, 9527, 2474, 4700, 2074, 6337, 29, 5135, 6135, 8260, 4796, 9245, 3700, 5008, 5956, 635, 293, 7252, 8966, 6201, 1107, 9167, 1156, 450, 9164, 6249, 1897, 7778, 42, 6612, 5766, 2087, 3484, 6993, 4593, 8987, 4118, 2886, 1144, 1115, 743, 2677, 1145, 9184, 6987, 6059, 9704, 9429, 1796, 7537, 489, 6258, 4632, 7652, 7959, 9021, 167, 4205, 8457, 7304, 8473, 1527, 6681, 7592, 4453, 3854, 513, 6541, 2355, 1120, 1418, 2802, 9472, 231, 7331, 10191, 3705, 6641, 1577, 1218, 9406, 4601, 3013, 981, 8177, 9443, 8921, 307, 6717, 9050, 8686, 39, 228, 6296, 9270, 1148, 1605, 2360, 9269, 1420, 9524, 5570, 8024, 1792, 4145, 8681, 7762, 6870, 6161, 8412, 4056, 5368, 3098, 6047, 5281, 6746, 1748, 1965, 7518, 4662, 7438, 2678, 2495, 1304, 3381, 2016, 6235, 3081, 1130, 7782, 9717, 7828, 2754, 7872, 1448, 3326, 7664, 7167, 6376, 3827, 9983, 4678, 983, 1875, 89, 6129, 6056, 4839, 3110, 3143, 4658, 6459, 10224, 7426, 9833, 27, 3008, 313, 5755, 579, 1831, 10108, 8788, 4126, 3428, 8140, 820, 9161, 1774, 3461, 6082, 8576, 10103, 876, 8701, 3489, 1229, 2362, 4377, 5480, 10216, 3197, 1723, 3225, 1143, 4356, 4440, 8042, 1194, 3884, 1016, 8526, 2674, 158, 5234, 4838, 8714, 2202, 8785, 1833, 4406, 1088, 8812, 5526, 8628, 909, 4883, 9776, 4045, 2291, 552, 7493, 9382, 1482, 5113, 1113, 3963, 7637, 87, 2744, 4591, 4209, 3951, 2381, 1000, 1518, 6851, 5248, 5896, 1387, 7805, 1837, 5717, 9723, 528, 1811, 1475, 900, 6932, 2629, 9450, 6256, 6343, 95, 3816, 2363, 1349, 6656, 3032, 9289, 4581, 9694, 8169, 2121, 7082, 6742, 1170, 1772, 9649, 28, 3776, 1009, 9856, 4197, 9328, 2942, 9924, 9104, 6707, 558, 2644, 8009, 10127, 8097, 5250, 1324, 7515, 1438, 8237, 652, 10014, 9767, 5253, 2490, 6013, 4439, 4919, 4949, 7374, 5699, 6895, 7003, 613, 6773, 10171, 5099, 5893, 8682, 2162, 6443, 7178, 2710, 9117, 5263, 9378, 3042, 8491, 119, 2411, 5373, 8195, 6983, 7449, 246, 8991, 7348, 5536, 31, 2595, 1178, 6708, 1672, 937, 2749, 1882, 3822, 5136, 8424, 4823, 4268, 9163, 9331, 3655, 9499, 2659, 476, 5768, 8668, 5410, 8287, 8131, 5454, 8819, 2670, 1608, 3193, 5143, 4290, 4669, 9813, 7565, 2055, 3319, 7817, 8380, 9049, 1623, 10263, 3494, 2001, 4950, 6977, 6518, 6819, 8997, 3584, 9744, 3264, 10156, 5198, 4549, 5739, 9974, 8824, 7466, 4097, 7597, 10087, 10262, 4897, 6878, 2640, 10207, 7239, 6117, 381, 6970, 6637, 3967, 2643, 4, 9700, 5037, 4985, 8340, 3399, 5389, 2204, 2240, 3514, 5007, 5963, 4748, 9142, 6193, 4792, 3508, 3397, 2882, 3968, 6566, 2242, 4261, 5909, 8106, 8621, 2953, 7440, 9040, 2557, 4191, 5982, 6138, 252, 6846, 9964, 3073, 5115, 7838, 9973, 1421, 5623, 9808, 140, 5254, 1984, 8434, 1766, 2971, 7512, 6639, 10075, 3648, 7843, 10120, 3183, 5672, 2898, 8779, 10102, 4764, 8444, 9125, 8056, 8638, 650, 1989, 9557, 10018, 9599, 6263, 10194, 2528, 2539, 2206, 7025, 7211, 4001, 1845, 1957, 7933, 3432, 3669, 9551, 3917, 2137, 8060, 6968, 7631, 8733, 8033, 3292, 8777, 5287, 974, 10198, 9042, 2458, 4923, 7039, 1717, 2050, 389, 5670, 2600, 1835, 7818, 5219, 9442, 5461, 2096, 6590, 7319, 8758, 364, 5327, 7883, 1269, 2297, 1393, 550, 6199, 2321, 10059, 7217, 3386, 9497, 3521, 481, 9030, 2948, 6339, 5612, 4459, 4855, 4517, 2219, 6664, 992, 3709, 6221, 5249, 6289, 1827, 3667, 8145, 7790, 211, 2130, 4882, 8368, 3290, 8181, 995, 7227, 9088, 1233, 8203, 3948, 8312, 6220, 6628, 3024, 9530, 2068, 5344, 7085, 696, 4968, 8436, 9447, 7329, 3927, 890, 2627, 10279, 744, 1495, 7502, 3849, 2244, 6386, 357, 2126, 7687, 8968, 3542, 715, 8138, 10038, 7435, 3488, 3126, 3187, 3649, 2402, 808, 1331, 6338, 8232, 5879, 51, 10168, 3541, 5585, 5892, 3211, 5360, 8116, 86, 10052, 9734, 5557, 5511, 1848, 4043, 6036, 7001, 9213, 8649, 4157, 2505, 4051, 4603, 3036, 3662, 6208, 1662, 5924, 6553, 9218, 8828, 7993, 7114, 7699, 1640, 6570, 3116, 199, 3905, 3912, 7813, 4534, 1502, 99, 535, 172, 1081, 7400, 7722, 1617, 1179, 4600, 4868, 5706, 7043, 7242, 6558, 3842, 6992, 2618, 1237, 6602, 8973, 9719, 10040, 3132, 7050, 1999, 5544, 7253, 2039, 1104, 7270, 3806, 6947, 2195, 349, 3870, 2037, 8652, 2663, 7214, 4060, 2896, 6951, 3404, 601, 7224, 6517, 959, 6479, 8926, 10163, 8321, 1535, 64, 8563, 2399, 452, 7764, 8101, 7183, 2988, 9936, 9529, 3191, 7531, 386, 8669, 179, 4771, 9418, 1128, 5395, 2035, 7690, 4183, 4013, 3151, 8620, 3674, 1719, 2258, 1930, 8183, 6980, 1007, 1689, 235, 6130, 9553, 4900, 3801, 7045, 3871, 1151, 1478, 1337, 2412, 3828, 65, 5809, 3696, 7261, 9950, 1099, 4149, 7709, 96, 58, 1419, 409, 1654, 6514, 5236, 4943, 8867, 4014, 8804, 1035, 8096, 464, 8, 3572, 4237, 5176, 4627, 6803, 6526, 3846, 3914, 1797, 7327, 3973, 4621, 3458, 8384, 3817, 8556, 10288, 927, 8658, 1576, 6182, 3928, 7190, 6404, 8044, 5207, 8874, 5483, 8959, 9573, 1630, 1550, 3996, 10235, 4249, 2340, 3281, 435, 7927, 6840, 478, 923, 6622, 2288, 9349, 6655, 4046, 1487, 4399, 7271, 5252, 3434, 2862, 7289, 7431, 4688, 3021, 8020, 3532, 6929, 5032, 9883, 6599, 7136, 10259, 9619, 2606, 1428, 9770, 3353, 7320, 5416, 978, 8823, 2969, 8672, 6713, 566, 7002, 510, 10174, 9000, 7985, 4737, 7296, 4470, 8129, 1554, 8735, 3512, 7399, 519, 3583, 848, 0, 6107, 2782, 361, 9256, 3347, 2118, 3839, 10186, 498, 5109, 2231, 7956, 4339, 1453, 748, 9014, 5055, 1547, 3660, 6437, 2120, 277, 9199, 6478, 8637, 1896, 542, 6396, 4674, 9590, 6132, 4042, 8084, 5095, 1657, 2646, 9648, 9059, 6401, 4120, 10212, 4172, 5134, 7551, 916, 2017, 5187, 5680, 2856, 9576, 2189, 8851, 5583, 6922, 9966, 7341, 3403, 7736, 2803, 7346, 6754, 6679, 2342, 3202, 6487, 3122, 8811, 2010, 8781, 643, 8271, 6425, 9081, 5704, 3557, 4036, 8789, 7713, 9706, 6394, 1895, 5508, 5177, 7875, 66, 2159, 7342, 943, 4286, 5362, 1267, 6957, 5163, 2602, 6297, 9380, 2453, 6986, 6096, 842, 5649, 2811, 417, 195, 1379, 396, 10139, 2053, 4259, 493, 3840, 7979, 2027, 6528, 8494, 903, 505, 2974, 9043, 9891, 1382, 5069, 2693, 1829, 7821, 6562, 6160, 7421, 10022, 9126, 2117, 9132, 5883, 9494, 8394, 9151, 9020, 9149, 7503, 4147, 7088, 7618, 779, 2794, 5442, 2907, 7799, 1319, 10034, 2012, 4274, 677, 7480, 1079, 9311, 6572, 4612, 1206, 7358, 5529, 583, 1280, 1592, 4553, 6006, 7339, 7576, 8868, 6589, 2318, 9789, 3547, 3741, 3427, 7643, 1676, 3507, 8113, 2091, 1433, 4641, 4797, 3630, 4679, 9179, 5211, 432, 5377, 8372, 1681, 330, 8508, 2471, 6953, 2550, 4391, 379, 7394, 5645, 3676, 5604, 8027, 3419, 5671, 4926, 8822, 3436, 4908, 1226, 7965, 6897, 5331, 7037, 6065, 3457, 4299, 1254, 9001, 5787, 5832, 7021, 829, 5129, 1302, 727, 9239, 3335, 9519, 670, 4630, 2581, 5277, 8996, 2916, 7873, 8050, 6780, 1744, 6415, 9230, 5319, 9012, 4319, 5024, 82, 6839, 3131, 1054, 4229, 5740, 5255, 359, 292, 9586, 5120, 5992, 9907, 9322, 3647, 5034, 7528, 8191, 1470, 3678, 7770, 1789, 6620, 286, 1975, 2878, 2102, 9592, 8037, 8922, 9742, 873, 3587, 2042, 1102, 1046, 634, 10241, 7382, 3238, 9487, 9173, 5340, 4462, 1073, 946, 1063, 3833, 5970, 2623, 6237, 4452, 9455, 390, 6172, 2934, 1667, 8351, 2637, 8242, 918, 4617, 6755, 1625, 7049, 5997, 9935, 4058, 6855, 2131, 8729, 2725, 1424, 1903, 8885, 455, 7093, 8708, 9069, 5444, 7947, 4859, 4398, 538, 4536, 7251, 8487, 5355, 3986, 8768, 1947, 9639, 9327, 623, 3883, 8447, 8951, 6516, 660, 8149, 1121, 4417, 2413, 1386, 5712, 8485, 9227, 5108, 982, 7520, 55, 4767, 9234, 2261, 763, 647, 1692, 6391, 6666, 4293, 5866, 4681, 6502, 3348, 8945, 2724, 5519, 2847, 9053, 9634, 5127, 4169, 7995, 8039, 7145, 79, 3938, 48, 3702, 9819, 4613, 9839, 3636, 6728, 683, 1539, 1279, 589, 3343, 1232, 9613, 7572, 2168, 5908, 8952, 7017, 2265, 5854, 5215, 3764, 559, 9581, 1731, 3048, 6226, 1268, 7622, 783, 10133, 1098, 9596, 4858, 2698, 8013, 2554, 1996, 10208, 7011, 8908, 267, 63, 9710, 5088, 4696, 6123, 2424, 3322, 2530, 9401, 2494, 4588, 2959, 3003, 9914, 9707, 871, 5100, 6375, 1407, 3313, 6726, 8736, 4939, 4699, 10042, 4930, 3889, 7842, 1256, 6909, 758, 8692, 5348, 8667, 4811, 4582, 9165, 3784, 2586, 6714, 9823, 3378, 6175, 5072, 6492, 7514, 2251, 5592, 5825, 5876, 7126, 4917, 917, 8911, 6060, 5491, 5754, 659, 4479, 9714, 1540, 6658, 5266, 7793, 2846, 4230, 8942, 1055, 7053, 9462, 4557, 8382, 2313, 8509, 7934, 3830, 5554, 8710, 3014, 564, 5657, 8460, 2854, 3865, 826, 4935, 4265, 3096, 1651, 7300, 8462, 9528, 176, 3479, 1742, 767, 8318, 693, 9923, 8734, 2397, 9977, 4542, 8166, 690, 8830, 1062, 5118, 5035, 863, 2998, 895, 8964, 5586, 4187, 809, 8797, 7831, 7943, 420, 864, 591, 6318, 10178, 6351, 6741, 8805, 5216, 6544, 10140, 6290, 7411, 2906, 9938, 7659, 7150, 8354, 8723, 1572, 7218, 6678, 9809, 814, 9051, 10036, 8292, 4967, 1615, 3051, 3737, 5660, 7871, 3540, 7325, 6635, 2608, 3420, 1066, 2672, 7363, 8406, 644, 663, 657, 4411, 2956, 9265, 1986, 6941, 3797, 9271, 8296, 7219, 1408, 1958, 1450, 3765, 603, 2633, 6111, 5299, 7432, 8010, 3394, 4543, 2790, 6904, 6097, 3071, 4484, 8718, 3545, 9548, 460, 2371, 2151, 444, 4896, 882, 1838, 10074, 98, 3845, 5182, 2346, 1972, 3992, 9794, 3969, 56, 3345, 3714, 353, 9926, 5351, 1982, 7117, 8817, 9584, 5049, 5974, 1660, 6974, 443, 1124, 4184, 6924, 6809, 4213, 2563, 4306, 5209, 2642, 1095, 3528, 10035, 9803, 7203, 7128, 6071, 522, 869, 5553, 4649, 7851, 7546, 6675, 4415, 8861, 6278, 1632, 8126, 8794, 5624, 9606, 2538, 3443, 5652, 2955, 8156, 9383, 9854, 2082, 6861, 8255, 5244, 1367, 4956, 1564, 2504, 2689, 6077, 9332, 7663, 4257, 9066, 2442, 7932, 1601, 8322, 9196, 4716, 1344, 3838, 183, 9318, 8356, 10245, 7691, 8438, 3057, 1058, 2938, 9701, 8776, 1594, 9436, 4168, 4080, 10039, 790, 958, 1747, 8018, 4610, 8456, 1565, 4836, 196, 7903, 152, 62, 4086, 9965, 2076, 5634, 7954, 8978, 2799, 3748, 3602, 2778, 3379, 4136, 8445, 426, 2805, 3300, 7822, 2574, 8186, 7142, 8055, 7785, 5060, 13, 2330, 4731, 4915, 5123, 4777, 1885, 8538, 8762, 10046, 9445, 7456, 7806, 2841, 3038, 1961, 2669, 2428, 1749, 5696, 2498, 6012, 5406, 5313, 2920, 8470, 6959, 6372, 486, 6860, 8933, 4378, 9927, 4976, 7858, 312, 8634, 8903, 9325, 8347, 2267, 9533, 4232, 7005, 2973, 560, 7349, 1933, 2967, 5931, 10217, 10249, 2807, 3552, 1492, 7642, 3677, 10131, 10243, 4420, 6359, 2460, 1611, 7654, 8359, 3909, 580, 10286, 6028, 2026, 2954, 6180, 3548, 3383, 22, 8981, 6554, 3119, 25, 9556, 6422, 1983, 9559, 7604, 4646, 8577, 7012, 8272, 7803, 6276, 4341, 9394, 6537, 1562, 6038, 2780, 9861, 3074, 11, 5186, 8309, 2829, 9370, 2869, 8152, 6323, 9015, 2842, 3693, 5715, 6272, 3981, 1656, 6801, 10188, 4567, 872, 2387, 3263, 480, 5726, 1509, 8250, 2425, 9872, 2089, 7780, 5116, 6436, 1108, 3757, 7154, 6615, 3090, 811, 3414, 2046, 8763, 2899, 4304, 9468, 1024, 8751, 9016, 9216, 7587, 5432, 1159, 8571, 7529, 9342, 1779, 5988, 4623, 3242, 10232, 2897, 2149, 1552, 3294, 5905, 6050, 4538, 7548, 5910, 141, 8025, 4743, 2708, 9449, 9299, 7730, 3520, 7468, 7600, 6345, 2729, 7971, 8109, 4211, 7837, 457, 4135, 8041, 1820, 5497, 6181, 1259, 4410, 5106, 9352, 2421, 3843, 1037, 3476, 3774, 2263, 532, 4955, 2186, 3470, 5098, 9453, 2769, 10280, 134, 600, 4188, 156, 9652, 6946, 9166, 3301, 10242, 8870, 10284, 208, 7272, 3083, 3832, 5289, 1161, 8008, 5078, 5139, 6378, 5872, 8750, 321, 9899, 5862, 2873, 4436, 4009, 7952, 2488, 3141, 7247, 7997, 4563, 3393, 642, 5841, 6026, 2210, 8877, 5201, 8864, 4373, 4666, 6385, 1272, 9547, 807, 6223, 5535, 12, 9384, 3153, 8937, 8790, 4782, 9491, 1759, 2875, 5385, 9144, 6475, 2499, 4747, 8636, 8696, 8285, 3450, 6374, 5855, 9957, 955, 4166, 9341, 7852, 1952, 2773, 3582, 3771, 8483, 1084, 8900, 594, 831, 8857, 8943, 5224, 5973, 291, 1800, 9605, 5833, 6291, 2197, 4483, 3158, 8051, 565, 2784, 5422, 4753, 6670, 9170, 4711, 1708, 6727, 9513, 3065, 6335, 3311, 6758, 4388, 6484, 8063, 7412, 9810, 7084, 5343, 7665, 4928, 4846, 3983, 5295, 9454, 2065, 9082, 485, 2181, 2032, 867, 9625, 7060, 1436, 7373, 3679, 7547, 2235, 1685, 7550, 2752, 2452, 3360, 109, 4509, 2228, 6955, 3180, 8395, 6608, 4004, 7865, 5218, 6890, 6330, 6080, 3689, 9397, 6046, 2141, 5300, 6247, 10032, 3511, 6438, 4024, 474, 6090, 8360, 2848, 8379, 6534, 3009, 10170, 215, 792, 3156, 8108, 1808, 5096, 8463, 8230, 6845, 8208, 4146, 5791, 416, 2596, 3555, 4049, 1992, 7505, 9672, 5936, 3384, 3916, 3763, 8193, 1804, 10104, 4318, 7657, 9314, 9251, 1196, 4022, 7616, 1169, 5006, 2057, 5353, 4074, 6563, 2908, 8067, 6790, 836, 3561, 6503, 3223, 9713, 1208, 4913, 5317, 5369, 701, 5056, 674, 9232, 4015, 8302, 3306, 10116, 8161, 8158, 840, 6151, 8175, 4954, 2475, 8377, 2103, 5539, 384, 851, 9280, 5643, 9379, 4961, 3726, 5020, 724, 185, 6915, 951, 2891, 2154, 5978, 5563, 88, 3190, 7344, 4231, 7298, 40, 9696, 2110, 4921, 1285, 581, 3271, 1519, 9471, 1784, 6067, 3605, 2255, 194, 8136, 8172, 1593, 3497, 2325, 8605, 8791, 2339, 5499, 6144, 5795, 7556, 2316, 4521, 7301, 6197, 8894, 45, 2863, 1076, 1384, 6252, 5226, 236, 8329, 3742, 7628, 4622, 5259, 4984, 6723, 3706, 8516, 2051, 3321, 4973, 5128, 891, 5728, 502, 6303, 2704, 9989, 1292, 1943, 1118, 10195, 9688, 7853, 363, 6785, 2932, 4812, 5112, 7020, 5938, 3252, 5121, 1373, 6858, 806, 7915, 1171, 6314, 5162, 3790, 9981, 7257, 884, 7152, 4119, 9722, 7389, 3066, 3374, 5371, 6379, 2664, 5379, 9683, 3033, 4694, 2544, 306, 6501, 6731, 10257, 4273, 6965, 1997, 3618, 2191, 3984, 7292, 1430, 8391, 6551, 9033, 2512, 3258, 4729, 7091, 8569, 1390, 773, 8036, 2229, 6908, 9796, 813, 2818, 3858, 9039, 6868, 2023, 4510, 2826, 9937, 5456, 6765, 9457, 4372, 2166, 1802, 16, 5090, 5710, 5296, 6112, 9600, 2290, 10172, 9867, 4755, 4238, 8422, 1392, 1849, 7486, 8882, 3903, 9690, 5784, 8153, 1585, 4502, 9731, 6507, 3446, 6737, 9662, 7364, 1013, 9139, 2949, 10012, 7018, 7207, 6690, 3000, 949, 6893, 5995, 3309, 4345, 632, 9614, 2156, 3410, 9550, 9574, 1929, 7882, 7676, 344, 2063, 5921, 2192, 8826, 4163, 7125, 6549, 7458, 3230, 1165, 3256, 7368, 3349, 2673, 646, 6449, 490, 6525, 1727, 161, 2245, 10110, 1794, 10123, 3633, 4651, 8755, 3596, 8333, 897, 9408, 9682, 4123, 4695, 7922, 567, 54, 9991, 3756, 3099, 1045, 5607, 8611, 4848, 5043, 6975, 2059, 6918, 8759, 9626, 8040, 1920, 81, 10031, 8650, 2213, 2408, 336, 8629, 3684, 9651, 6162, 2083, 9005, 9918, 2169, 3104, 5998, 8274, 718, 933, 5222, 8427, 8585, 1567, 7100, 1354, 5443, 5808, 1602, 3318, 192, 1974, 2850, 5346, 3039, 1746, 6815, 4240, 7661, 4180, 7258, 407, 1865, 3910, 6317, 5498, 988, 2303, 1655, 243, 10289, 283, 3259, 4634, 3430, 4310, 3567, 8449, 5302, 4904, 2295, 9837, 4468, 9787, 2278, 8584, 7783, 3307, 2273, 3901, 33, 2865, 9758, 2613, 3010, 8889, 6365, 1431, 3499, 509, 8939, 668, 5184, 3055, 7591, 4258, 7797, 1030, 5402, 4938, 5447, 9674, 6308, 100, 5161, 5270, 10204, 2845, 8104, 2937, 8314, 8691, 5376, 561, 3173, 3712, 8608, 6346, 8167, 9558, 3115, 1714, 5403, 8876, 4278, 4738, 8418, 7282, 6816, 2883, 4490, 9970, 9169, 8949, 9054, 4207, 5733, 9150, 516, 1357, 8023, 7131, 10173, 2515, 2972, 4029, 9193, 6956, 3604, 7471, 608, 9286, 4566, 3740, 1740, 3534, 970, 3218, 3553, 5996, 6576, 8251, 8500, 9095, 6697, 4322, 4515, 9131, 3408, 434, 2832, 4447, 9633, 1596, 7212, 2843, 4558, 8993, 8666, 1733, 5903, 9317, 8713, 9090, 2148, 8231, 245, 9243, 447, 6751, 8171, 7004, 6354, 462, 4137, 2766, 9955, 2328, 6762, 2445, 9745, 9644, 7330, 9845, 251, 7521, 4220, 5537, 2895, 9921, 3027, 8905, 5575, 7888, 302, 8320, 4667, 5916, 6049, 2302, 8252, 7876, 2533, 1328, 8453, 4070, 8562, 10055, 9947, 6649, 6699, 8088, 3388, 1683, 5322, 2178, 10253, 4053, 8519, 5801, 5180, 810, 6146, 4583, 8288, 7590, 5282, 705, 10069, 1364, 2931, 4832, 8431, 2680, 962, 2203, 6834, 2560, 2582, 4008, 3716, 1483, 9004, 6420, 745, 1253, 9194, 385, 4555, 4245, 3113, 7901, 621, 6838, 2041, 4101, 7201, 4263, 8756, 733, 3257, 8225, 1473, 6429, 1619, 4816, 3597, 4969, 1213, 3956, 8317, 9785, 7820, 5788, 7477, 4706, 5727, 9423, 7636, 2067, 754, 9895, 1454, 6432, 4312, 2030, 2073, 5025, 2254, 5094, 2496, 8319, 6971, 4442, 877, 4433, 9395, 3433, 2457, 1041, 912, 7683, 977, 4478, 6750, 2997, 6410, 1106, 5097, 6844, 4028, 9561, 9124, 9503, 10090, 8722, 4067, 2730, 1377, 7836, 7948, 10179, 3818, 6743, 5356, 10278, 2630, 6334, 8596, 1628, 10132, 7087, 262, 3995, 2665, 4311, 3025, 280, 5859, 5934, 3100, 2390, 2518, 6101, 4155, 1993, 6269, 9228, 8392, 2747, 3857, 9045, 6439, 9972, 7625, 5932, 5140, 3060, 3961, 4975, 1863, 7334, 1089, 6585, 4972, 1051, 59, 1858, 1684, 8205, 1574, 1014, 7177, 4826, 9473, 4412, 8531, 8542, 1670, 7370, 186, 9368, 9884, 8267, 3688, 4508, 6561, 8367, 7829, 5326, 3960, 6833, 4989, 3530, 8540, 9975, 5418, 4741, 8970, 6657, 2575, 631, 2870, 8995, 1525, 8902, 6759, 7138, 5019, 4535, 5669, 3291, 7288, 1898, 9133, 149, 9200, 3888, 8414, 3695, 8054, 6531, 9583, 6412, 8057, 6786, 43, 2771, 5464, 6994, 7610, 4974, 5206, 2526, 8343, 2470, 8774, 8624, 1968, 5852, 6617, 5241, 5542, 7443, 6652, 8080, 3280, 586, 4971, 8846, 1729, 4595, 405, 4995, 6087, 6089, 3075, 5847, 6043, 1096, 7586, 2129, 10246, 9657, 6109, 7753, 2792, 9871, 1006, 3711, 2070, 7077, 4308, 6997, 7112, 789, 8862, 3834, 7840, 142, 8201, 980, 1153, 466, 3327, 6923, 3426, 10054, 8450, 6147, 5433, 6468, 7674, 7869, 725, 7173, 8273, 1978, 10078, 1917, 3513, 2927, 3460, 3459, 968, 6568, 2615, 4192, 10251, 3128, 2928, 838, 5588, 9028, 8712, 4481, 338, 1583, 8543, 9857, 1641, 7717, 5217, 8451, 5933, 2155, 8313, 268, 1894, 749, 5026, 1726, 6822, 482, 9365, 1532, 9978, 4106, 3719, 1589, 3340, 5059, 1380, 7027, 4340, 7010, 3753, 2467, 1347, 2987, 800, 4691, 6002, 8866, 5354, 310, 7042, 707, 2187, 3385, 7153, 6495, 8586, 7578, 703, 1925, 7972, 2345, 1938, 8766, 3127, 9820, 1956, 4922, 8105, 5031, 2124, 7068, 6550, 6467, 2180, 1342, 4768, 3251, 7266, 9464, 9475, 6267, 6964, 5835, 6902, 9275, 8825, 3641, 7602, 6557, 8370, 9183, 7423, 3034, 7343, 2292, 6891, 8276, 9138, 9083, 2555, 9505, 7081, 9339, 1948, 2966, 6826, 991, 8388, 7987, 4491, 893, 521, 9560, 4282, 6892, 5580, 1687, 3243, 3685, 3644, 1488, 624, 9089, 6014, 6804, 8653, 8521, 9684, 681, 6651, 7123, 3087, 698, 722, 1360, 6623, 3777, 1946, 926, 7200, 6936, 8748, 2661, 372, 1991, 6648, 5265, 9111, 1537, 3447, 529, 780, 6705, 6194, 7328, 83, 36, 111, 6152, 6239, 6736, 5823, 7541, 7656, 7880, 7465, 1575, 5597, 425, 6326, 6214, 6340, 3493, 6322, 5339, 6019, 3455, 9705, 924, 5758, 9910, 2066, 2211, 9308, 8971, 676, 4104, 9396, 5307, 273, 6281, 9469, 627, 9493, 9439, 1666, 9479, 4966, 1563, 1197, 5939, 1198, 9316, 10293, 9177, 7074, 7841, 8719, 6465, 10180, 3946, 3091, 132, 7588, 7259, 7278, 9189, 2493, 9943, 4003, 7923, 3133, 7745, 3504, 343, 6546, 2503, 3580, 4834, 1291, 7926, 8064, 3752, 8760, 8914, 3346, 3701, 6928, 1426, 4892, 4138, 4025, 7414, 1359, 248, 2952, 8488, 2776, 8977, 4809, 9792, 3864, 7101, 823, 5294, 5764, 10058, 8587, 1437, 366, 3759, 3498, 575, 3780, 2514, 10290, 3941, 8821, 4256, 7062, 4745, 2789, 5698, 1517, 730, 8833, 4059, 2961, 4390, 8703, 5457, 6831, 1735, 1219, 7599, 9484, 7769, 6979, 7982, 7647, 2440, 6444, 1499, 10067, 653, 7105, 5792, 5828, 1494, 9201, 8704, 6114, 5238, 1503, 2922, 350, 7457, 3896, 3375, 9743, 6040, 9781, 8192, 5661, 5725, 5417, 3354, 1995, 335, 4878, 159, 6782, 3860, 4965, 8935, 9509, 468, 8226, 1336, 5452, 7083, 4438, 2796, 4445, 4162, 2177, 540, 2871, 9748, 6676, 2904, 3423, 4165, 1087, 6357, 5408, 5455, 5697, 3161, 6920, 1306, 1694, 10072, 4933, 1134, 3288, 9254, 5937, 4819, 5900, 2463, 4661, 3222, 3138, 1370, 2885, 4689, 10092, 8598, 8301, 6650, 1544, 6996, 720, 4744, 8551, 3920, 5159, 9347, 8674, 8437, 7269, 6011, 849, 8728, 5887, 1847, 8399, 3072, 8141, 4656, 5466, 467, 9158, 6015, 46, 2122, 5709, 2293, 1025, 8852, 6879, 4761, 9219, 1463, 6662, 6309, 1391, 8532, 6083, 1263, 9191, 6451, 5476, 240, 1484, 3835, 5628, 5486, 8029, 3179, 5961, 7738, 9448, 6820, 4698, 6791, 2379, 6494, 9422, 9372, 7069, 7668, 6784, 6761, 7725, 2584, 5810, 404, 4551, 108, 415, 1119, 4719, 2687, 5405, 8244, 8157, 9011, 8468, 1405, 2667, 9818, 8685, 4983, 6871, 182, 6910, 10002, 6285, 7244, 4929, 1355, 2437, 598, 6245, 7076, 8600, 6453, 8960, 7375, 2819, 3788, 10183, 8281, 6255, 3276, 5052, 4637, 9917, 9160, 2814, 8848, 10060, 1555, 3134, 2864, 9774, 8396, 6186, 2711, 10050, 2365, 6362, 562, 7945, 10134, 9534, 7617, 9288, 8614, 7804, 9026, 5485, 2337, 6155, 412, 7613, 6564, 5730, 6292, 2995, 9661, 6311, 4380, 9437, 1371, 4618, 4853, 5601, 9751, 6869, 6647, 4746, 5564, 6262, 9140, 7819, 2569, 7222, 3987, 5414, 769, 5274, 641, 2374, 3454, 8550, 3097, 3262, 1211, 993, 7176, 5639, 4469, 9866, 9569, 4116, 10213, 1981, 10199, 4529, 9100, 4516, 8793, 9107, 7941, 3687, 5734, 1005, 9078, 514, 4720, 5380, 7648, 8984, 9123, 259, 7437, 3855, 1899, 2604, 7302, 5382, 8807, 3836, 6539, 3224, 5064, 7801, 9832, 1713, 3124, 6169, 2400, 4660, 5545, 9176, 6610, 7166, 120, 9385, 1739, 4504, 6489, 7185, 6493, 3401, 3593, 3416, 8635, 1843, 9671, 8548, 6029, 6105, 8969, 9277, 144, 3643, 8346, 3286, 9858, 8875, 7144, 213, 9326, 5195, 4693, 1217, 1301, 6497, 6103, 8178, 3886, 10066, 9025, 7623, 4495, 4099, 1955, 3304, 8139, 8558, 3407, 6710, 6701, 2804, 3568, 4633, 734, 6183, 4670, 4676, 8697, 8502, 6927, 8590, 1944, 446, 3084, 3550, 1814, 8011, 2296, 4443, 4636, 3369, 10184, 2552, 5685, 3895, 6358, 10150, 3594, 7221, 651, 7715, 6901, 3560, 6763, 9496, 9467, 232, 9621, 2915, 5509, 1139, 4451, 5913, 5979, 15, 3372, 5394, 4177, 6063, 3308, 10237, 2890, 2308, 9786, 1012, 5678, 1245, 2976, 4946, 5191, 1781, 2739, 324, 6075, 220, 6032, 9932, 5262, 5040, 8604, 920, 2835, 9738, 3536, 654, 2370, 442, 2682, 2009, 6142, 6500, 7655, 202, 4644, 6133, 9031, 5426, 9703, 6363, 2501, 1905, 9101, 7909, 3287, 9931, 7263, 2619, 10225, 250, 3686, 7675, 2262, 2800, 6470, 5772, 8311, 9725, 3357, 3047, 3107, 2356, 10223, 5427, 1867, 1809, 5392, 4150, 3192, 2887, 8840, 6419, 193, 7143, 6496, 2813, 1486, 7671, 7208, 2513, 2455, 3632, 4890, 6565, 5366, 8844, 3755, 1912, 8499, 984, 9434, 347, 1834, 4709, 10187, 5984, 2660, 5164, 8699, 4321, 49, 9526, 4324, 8536, 7996, 10142, 5700, 5736, 4810, 7606, 1690, 9782, 6952, 3723, 24, 1345, 10117, 1313, 224, 1703, 6092, 5073, 3543, 4363, 9461, 5830, 5596, 4548, 8236, 9452, 2651, 9842, 5965, 7874, 5870, 6430, 6667, 4343, 1846, 3196, 5629, 5363, 7064, 6205, 638, 9266, 2924, 1338, 9555, 1174, 8724, 9432, 4142, 5897, 1724, 7935, 8125, 4132, 4871, 370, 7549, 7395, 8897, 1132, 402, 9096, 7019, 5761, 5425, 3873, 8706, 1571, 6757, 8408, 4064, 2745, 1461, 5058, 4757, 4739, 2366, 8941, 3778, 860, 6025, 7059, 2827, 5952, 9902, 2104, 6817, 7884, 7310, 4657, 2277, 7750, 3268, 5021, 9640, 8222, 3522, 7107, 8761, 3809, 8094, 8963, 3768, 2108, 129, 2860, 5844, 4899, 8809, 4784, 10222, 6434, 2248, 360, 7984, 8919, 5818, 1783, 4703, 10193, 2529, 6509, 6211, 8913, 2, 10003, 6582, 7823, 568, 1945, 5540, 4348, 133, 8233, 6939, 10045, 2551, 913, 7098, 6122, 10096, 9925, 3226, 3194, 8100, 2743, 7886, 1506, 5051, 428, 8291, 5374, 5325, 986, 4325, 5742, 6145, 4332, 1698, 2092, 7881, 6327, 9804, 4227, 5708, 1201, 10145, 1122, 4986, 6005, 1260, 5731, 2246, 207, 9202, 6900, 8117, 4856, 5144, 410, 7844, 3295, 6574, 181, 7553, 1309, 9037, 6640, 6, 8433, 5223, 9702, 1650, 9065, 3289, 717, 7968, 2634, 7448, 3749, 5358, 2043, 9267, 7236, 961, 10062, 4833, 9990, 1082, 8881, 2894, 3364, 4927, 4952, 8164, 1806, 7161, 233, 4084, 5505, 4351, 1754, 5880, 227, 6752, 38, 5347, 3142, 1246, 6991, 3172, 7179, 9237, 154, 7199, 3139, 4071, 6982, 841, 6948, 506, 5532, 5479, 6663, 266, 311, 5175, 3174, 2247, 8180, 9754, 5292, 5424, 5677, 5290, 4687, 2985, 9807, 3932, 2612, 5484, 4006, 7913, 4861, 10234, 10001, 7929, 1439, 5179, 1352, 3617, 1893, 8378, 3474, 5002, 1597, 9536, 4573, 6643, 2416, 4413, 6207, 5957, 1964, 925, 6692, 5653, 1101, 1637, 1015, 7809, 4503, 10214, 9036, 8912, 4780, 778, 4171, 5153, 6367, 8440, 6033, 4606, 7794, 9121, 238, 636, 6775, 3402, 9103, 7857, 9631, 4653, 604, 8675, 2193, 3232, 5667, 225, 6209, 4909, 2810, 2547, 9712, 5966, 9353, 3473, 1303, 5421, 1866, 6127, 9834, 8533, 3823, 6369, 9295, 2852, 2464, 3798, 1059, 4831, 3998, 6950, 9846, 9675, 5605, 470, 3841, 5702, 2004, 9260, 9817, 8891, 3380, 4817, 4776, 1385, 4907, 3148, 8765, 2999, 6865, 7291, 4895, 7188, 6513, 2648, 1927, 9346, 7192, 5689, 3213, 5722, 1788, 5781, 8119, 2639, 6760, 5994, 6017, 7318, 270, 5780, 9944, 9905, 9708, 6393, 2876, 6907, 491, 3675, 1878, 531, 2775, 9695, 57, 684, 8511, 9793, 9930, 8745, 2732, 1491, 1498, 9963, 2113, 4450, 5904, 590, 5741, 326, 1052, 2838, 3080, 2510, 9435, 6275, 6074, 8289, 6499, 440, 6556, 5489, 2015, 1586, 4707, 6627, 3978, 9119, 317, 2333, 9217, 4115, 667, 6485, 2376, 3772, 2215, 858, 4574, 989, 1472, 441, 9728, 4050, 3465, 9850, 9797, 8052, 4507, 3439, 1765, 7950, 973, 7677, 9898, 1477, 7134, 5819, 9554, 1669, 265, 1249, 5646, 3221, 8480, 7552, 4330, 3061, 5235, 8795, 4924, 8328, 2226, 7067, 9116, 10270, 4382, 9608, 1401, 1440, 9154, 8316, 7703, 2418, 6137, 5560, 6552, 7682, 9258, 7345, 2393, 3336, 3537, 2163, 7306, 7504, 8348, 2282, 5239, 6875, 2257, 9244, 7313, 484, 6116, 3815, 7206, 3482, 1940, 3579, 5469, 8976, 4821, 1715, 2700, 2913, 7826, 915, 6240, 5549, 5057, 4055, 2571, 10267, 5501, 6783, 8474, 8770, 1027, 9252, 1906, 6998, 2078, 630, 4112, 5053, 569, 9257, 6061, 5041, 2996, 9580, 8297, 290, 3429, 3166, 8217, 2396, 1962, 1289, 1712, 6455, 1350, 8327, 9602, 10029, 9939, 6078, 856, 546, 7946, 2867, 8678, 6086, 10071, 2112, 5898, 4181, 2414, 32, 3169, 8496, 9343, 9896, 9420, 4527, 8572, 4476, 7766, 5199, 7407, 4193, 9962, 6619, 3955, 6847, 2179, 216, 6654, 3900, 1459, 1091, 3339, 3362, 7542, 1730, 8028, 2649, 887, 7280, 7096, 7583, 5630, 5468, 9456, 6837, 6885, 5713, 1020, 403, 2056, 3475, 3438, 7383, 791, 6200, 3601, 2768, 5616, 3690, 9869, 9517, 3793, 7905, 1212, 8115, 10030, 7864, 1358, 5971, 6286, 9386, 118, 1652, 4587, 3324, 9615, 2753, 4269, 6421, 9637, 3464, 214, 6004, 3411, 3923, 9354, 7110, 4386, 7191, 1111, 7359, 5514, 5853, 7689, 9060, 5409, 2540, 7811, 1294, 2791, 234, 5308, 9246, 3698, 5600, 10192, 6246, 7581, 1911, 2394, 6571, 1988, 4252, 8660, 8895, 2611, 6849, 9293, 8854, 1822, 8617, 5233, 7237, 1067, 5048, 8901, 7919, 8858, 952, 2594, 4708, 4202, 7686, 4520, 5954, 8446, 844, 10294, 5786, 456, 7567, 1629, 4395, 9416, 9952, 7564, 2069, 6673, 5767, 2135, 5381, 4877, 2840, 2008, 8796, 1693, 7847, 4760, 2173, 1316, 6604, 7056, 886, 5473, 4102, 5895, 3063, 8497, 1423, 5960, 1551, 2579, 6540, 7781, 8689, 5133, 9699, 3210, 8148, 4309, 9224, 3974, 4305, 8076, 9901, 7434, 2005, 6630, 9829, 5636, 340, 449, 5446, 3267, 6887, 7459, 6352, 75, 8806, 5617, 10255, 3171, 3031, 4375, 9765, 2086, 7964, 6148, 5397, 4298, 5525, 4284, 8206, 6034, 7949, 2183, 4979, 3713, 6104, 979, 7834, 9298, 7650, 383, 7742, 1950, 7824, 3954, 9673, 304, 611, 5928, 2893, 2960, 4802, 9058, 5404, 5261, 2684, 2986, 7748, 5650, 6613, 9091, 496, 3463, 7290, 68, 6778, 1549, 8801, 5790, 492, 4057, 3015, 7771, 7094, 4130, 3189, 5776, 5130, 2403, 10144, 5017, 6733, 5579, 3352, 2990, 8924, 1682, 7885, 9187, 1579, 2626, 3376, 7111, 3150, 9197, 9007, 5985, 843, 4992, 3302, 2655, 275, 7538, 9180, 9304, 378, 9223, 2176, 3035, 7462, 6332, 2968, 3328, 1476, 9508, 4993, 1763, 7139, 4105, 7361, 10169, 2422, 2781, 255, 8940, 4156, 9841, 4506, 1203, 2133, 8441, 8843, 9278, 8335, 3140, 6238, 5036, 5075, 2654, 5694, 8160, 8528, 2940, 2694, 6688, 2279, 3382, 6230, 8196, 8404, 4262, 2537, 2185, 1133, 4185, 8381, 6842, 9563, 9281, 5834, 7147, 1207, 5962, 6510, 8466, 10269, 1126, 5146, 1166, 6853, 6426, 106, 1853, 762, 3962, 9893, 3094, 3492, 7845, 2392, 1103, 9886, 4525, 3147, 9003, 8015, 4337, 2957, 4218, 9068, 5451, 2570, 5817, 7476, 2828, 1745, 1376, 7404, 10221, 4361, 7441, 7868, 6807, 5330, 2889, 5858, 8188, 10051, 3837, 1471, 7220, 7653, 5197, 10167, 680, 10159, 308, 9982, 747, 8947, 4089, 4663, 508, 6764, 5156, 2734, 7680, 5214, 4117, 3217, 8928, 9417, 664, 2837, 837, 7377, 5471, 2759, 4864, 1815, 3631, 10065, 342, 5386, 7693, 6066, 3237, 3002, 5054, 878, 9075, 6798, 6244, 4519, 9575, 4434, 5609, 8065, 3880, 3425, 205, 7433, 5092, 3260, 4215, 3929, 832, 5131, 953, 1257, 9859, 8397, 3092, 8306, 9412, 2404, 2491, 7165, 4885, 5737, 4795, 3325, 7332, 351, 2742, 2647, 2746, 10112, 3516, 1600, 5387, 6007, 5435, 6387, 4307, 774, 5423, 3718, 3979, 9501, 9313, 4151, 7420, 10100, 7651, 4526, 4199, 6830, 9635, 9632, 8047, 5388, 4800, 9941, 1711, 8007, 1415, 906, 2167, 5528, 339, 911, 593, 5520, 8835, 759, 3045, 3152, 10077, 10111, 9203, 4364, 9182, 1298, 9235, 3163, 9250, 1209, 4174, 8498, 9538, 6687, 9762, 3944, 5311, 3022, 2696, 9747, 4018, 1668, 2139, 9153, 4487, 1812, 7354, 3844, 8124, 6668, 5431, 1221, 706, 4052, 8578, 6593, 9488, 6477, 5200, 6057, 9152, 3344, 735, 10098, 5561, 3935, 3277, 6739, 5977, 4475, 1264, 2798, 3847, 6721, 6295, 7182, 2905, 4544, 5593, 9953, 7554, 2735, 9959, 5881, 4303, 4016, 9954, 781, 772, 4154, 6888, 6124, 5240, 2767, 5246, 7209, 6685, 80, 7678, 3118, 9720, 1149, 114, 8962, 2003, 6504, 2350, 6403, 2000, 2011, 9407, 9291, 9290, 300, 10153, 5251, 9241, 187, 1146, 3299, 5716, 3953, 9018, 1389, 9870, 2435, 9403, 10082, 8567, 7315, 6704, 5154, 6366, 200, 9894, 10161, 4444, 4250, 7980, 8859, 9756, 9320, 4523, 35, 5993, 7612, 5747, 2322, 2125, 10004, 9909, 7986, 7461, 2844, 866, 8757, 2253, 533, 7890, 2821, 9525, 9023, 1762, 4916, 5111, 8618, 1534, 3902, 8310, 7046, 1836, 7314, 5183, 6460, 7303, 7889, 3248, 4749, 729, 3285, 9238, 5621, 5718, 9609, 10091, 3796, 5802, 4726, 6233, 2989, 6427, 8294, 4203, 4905, 504, 1329, 7900, 6976, 6633, 2750, 7522, 1460, 3371, 4997, 3990, 2116, 8700, 333, 5684, 6530, 8283, 401, 7633, 2631, 2109, 8599, 6913, 1545, 9877, 3168, 6392, 7555, 8727, 2165, 574, 10229, 2451, 3747, 6600, 3538, 2378, 7205, 4031, 865, 8547, 6048, 6380, 1340, 6578, 6446, 619, 3129, 9168, 8643, 2793, 2145, 8249, 7734, 5515, 5074, 7385, 9262, 2184, 1570, 9999, 4437, 1528, 3316, 7777, 2398, 2020, 3563, 8286, 5915, 2389, 7705, 4314, 8989, 4732, 9825, 5691, 6466, 10000, 3235, 8783, 5470, 1261, 2472, 10190, 7751, 6767, 6706, 6603, 1861, 8698, 2962, 694, 9668, 1070, 4620, 2094, 5770, 4083, 4754, 4717, 1760, 7130, 945, 8364, 9888, 3209, 1919, 1914, 9546, 8147, 3203, 3146, 3942, 4873, 5445, 6618, 1147, 3524, 794, 7129, 9654, 8582, 6937, 4849, 61, 6414, 9783, 4820, 7439, 6390, 4572, 8992, 1857, 7796, 5864, 3067, 1648, 5257, 4153, 8240, 1953, 1489, 7256, 6397, 9885, 9010, 3167, 2272, 1296, 4589, 9178, 10008, 4093, 6030, 3814, 4643, 9297, 821, 6070, 7726, 3745, 8284, 1647, 433, 3358, 1609, 6934, 7649, 9678, 9391, 761, 868, 4134, 8416, 3744, 4779, 4865, 9906, 139, 1679, 8842, 5968, 8143, 2199, 9231, 8014, 3500, 5329, 4872, 8799, 2719, 1770, 1918, 870, 10202, 752, 2144, 7238, 845, 3085, 8495, 7312, 9087, 6294, 2531, 3046, 2912, 1244, 1234, 3808, 7920, 4023, 9795, 6543, 5172, 5568, 1140, 4501, 5324, 3957, 6966, 318, 5606, 4714, 7000, 4374, 3791, 5448, 1825, 3109, 8341, 9404, 6167, 1500, 7035, 1105, 999, 9679, 9127, 908, 8831, 2352, 10020, 9338, 5986, 9259, 2822, 1240, 4336, 2456, 5681, 2679, 5843, 222, 2761, 7099, 8726, 3162, 4945, 7992, 1410, 8265, 9759, 3670, 1627, 4005, 3467, 3792, 7127, 9329, 7860, 1891, 517, 2150, 7478, 8780, 8916, 7181, 9222, 9268, 9446, 760, 3272, 6010, 2429, 8234, 1603, 4988, 6259, 4301, 8123, 5023, 7109, 1413, 4803, 1721, 1951, 8034, 6954, 4828, 7658, 6720, 1061, 4302, 7119, 5783, 6368, 2568, 8980, 2716, 34, 2367, 7393, 473, 8715, 1175, 10256, 107, 8771, 2763, 4751, 10143, 5565, 9641, 3750, 8749, 1942, 10073, 5065, 2983, 4683, 3228, 10165, 4763, 2142, 4556, 6914, 6702, 8091, 7362, 9225, 1003, 3646, 2950, 3971, 2382, 1994, 8224, 4857, 6402, 3282, 1402, 8048, 1513, 5923, 5004, 6216, 10239, 4408, 6242, 8077, 4129, 9431, 3016, 6192, 1935, 463, 8358, 10247, 7839, 8298, 3982, 3351, 1372, 2686, 1434, 52, 3980, 3396, 3638, 3671, 5450, 1624, 8642, 1677, 2259, 7575, 9811, 10043, 3320, 775, 2858, 5178, 7283, 9048, 5117, 5320, 6512, 4432, 9622, 5877, 6916, 4236, 7640, 5434, 3145, 629, 8544, 6413, 7287, 2487, 7662, 9929, 1941, 2866, 6933, 7014, 7095, 5237, 8385, 3799, 3239, 8295, 2465, 4078, 3997, 5149, 3640, 7397, 4941, 4428, 1299, 5546, 8155, 3922, 6409, 3668, 4541, 4094, 9283, 9261, 5213, 5228, 7916, 3930, 3913, 5912, 7023, 5647, 5285, 9333, 7755, 7337, 9568, 8475, 9692, 1072, 2650, 9913, 4584, 4511, 3666, 7988, 6174, 3856, 8737, 1874, 9593, 625, 7594, 8492, 2072, 4987, 4496, 8883, 6671, 3076, 477, 5637, 2909, 7184, 3409, 6961, 9489, 2690, 2982, 5676, 8504, 6740, 4635, 1018, 7054, 1505, 2331, 1883, 8095, 6418, 6912, 1636, 6669, 1322, 8716, 9055, 7566, 3011, 584, 3819, 6812, 4690, 1278, 5345, 9130, 8534, 8398, 3729, 1004, 7800, 7856, 9113, 4903, 3659, 7569, 1686, 6243, 4369, 7103, 4048, 1967, 3451, 5849, 2502, 5944, 6257, 429, 8632, 714, 7243, 5462, 6835, 5925, 5063, 4818, 9766, 8478, 10129, 6462, 8162, 7295, 2478, 223, 5878, 4592, 7061, 2098, 1510, 9879, 4843, 10024, 8134, 8936, 7460, 4730, 289, 9388, 5280, 825, 4360, 328, 8401, 1645, 4863, 1216, 2785, 929, 3650, 3421, 3359, 1704, 8315, 8151, 1560, 7444, 7688, 3334, 8353, 1053, 6166, 9761, 3298, 8215, 9992, 4061, 4528, 7193, 374, 93, 5091, 7159, 6969, 828, 2024, 1507, 4401, 284, 7090, 3611, 5917, 4396, 4121, 3761, 617, 8022, 2123, 5813, 5799, 2462, 242, 4723, 358, 9427, 5271, 678, 5885, 5247, 7516, 9733, 9085, 5793, 3945, 1785, 7455, 2221, 414, 9777, 3825, 2260, 424, 9998, 7767, 5655, 5875, 2947, 180, 7508, 6350, 6328, 190, 6744, 4598, 2707, 3117, 5093, 9377, 3663, 7324, 1162, 4758, 7469, 1556, 2281, 2444, 615, 8419, 5690, 6325, 9221, 1813, 4198, 8518, 6999, 8589, 8553, 4280, 9570, 4837, 7855, 5, 5110, 5297, 3216, 4276, 4505, 5972, 883, 3911, 9398, 2127, 8541, 6732, 2443, 3005, 6711, 7914, 8899, 2676, 7513, 7481, 10197, 7991, 9667, 2152, 5230, 4219, 191, 5548, 7891, 78, 10095, 2921, 2220, 4350, 3519, 4920, 7041, 10017, 6433, 7527, 697, 3177, 5061, 1222, 4647, 938, 1728, 145, 5027, 8407, 5951, 1738, 3558, 4062, 9034, 7197, 8211, 5342, 691, 1152, 4785, 8375, 2758, 7939, 4214, 8717, 6940, 7621, 4480, 4247, 9655, 7969, 3894, 8032, 9046, 4655, 1869, 1335, 9788, 1582, 1353, 8803, 6591, 3395, 6051, 4576, 9483, 8860, 7827, 4281, 1215, 5010, 1457, 5193, 599, 4474, 7716, 4221, 4791, 3566, 1522, 1954, 5390, 3453, 3241, 7447, 9603, 6447, 9358, 8004, 1001, 10268, 4964, 7174, 9677, 7267, 137, 8767, 6800, 4960, 7957, 6894, 6973, 3278, 6624, 9502, 1634, 1310, 2951, 3526, 965, 520, 3535, 4942, 5474, 9616, 5562, 1979, 9735, 4144, 8349, 4499, 4234]\n"
     ]
    }
   ],
   "source": [
    "# Randomizing the two sets \n",
    "insurance_df_sets = insurance_df.copy(deep=True)\n",
    "insurance_df_sets = insurance_df_sets.dropna()\n",
    "insurance_df_trainingset = insurance_df_sets.sample(frac = 0.75)\n",
    "print(insurance_df_trainingset.index.tolist())"
   ]
  },
  {
   "cell_type": "markdown",
   "metadata": {},
   "source": [
    "## Automatically fill in with a measure of central tendency (i.e. mean, median, mode);"
   ]
  },
  {
   "cell_type": "code",
   "execution_count": 26,
   "metadata": {
    "scrolled": true
   },
   "outputs": [],
   "source": [
    "insurance_df_ct = insurance_df.copy(deep=True)\n",
    "insurance_df_ct[premiums] = insurance_df_ct[premiums].fillna(insurance_df[premiums].mean())\n",
    "insurance_df_ct[customer] = insurance_df_ct[customer].fillna(insurance_df[customer].mean())\n"
   ]
  },
  {
   "cell_type": "code",
   "execution_count": 27,
   "metadata": {},
   "outputs": [],
   "source": [
    "insurance_df_ct[nominal] = insurance_df_ct[nominal].fillna(insurance_df[nominal].mode().iloc[0])"
   ]
  },
  {
   "cell_type": "markdown",
   "metadata": {},
   "source": [
    "## To fill in with values from similar individuals (nearest neighbours);"
   ]
  },
  {
   "cell_type": "code",
   "execution_count": 28,
   "metadata": {},
   "outputs": [],
   "source": [
    "insurance_df_nn = insurance_df.sort_values(by=insurance_df.columns.tolist()).fillna(method = 'ffill')"
   ]
  },
  {
   "cell_type": "code",
   "execution_count": 29,
   "metadata": {},
   "outputs": [
    {
     "data": {
      "text/plain": [
       "Customer Identity                       0\n",
       "First Policy´s Year                     0\n",
       "Brithday Year                          14\n",
       "Educational Degree                      0\n",
       "Gross Monthly Salary                    0\n",
       "Geographic Living Area                  0\n",
       "Has Children (Y=1)                      0\n",
       "Customer Monetary Value                 0\n",
       "Claims Rate                             0\n",
       "Premiums in LOB: Motor                  0\n",
       "Premiums in LOB: Household              0\n",
       "Premiums in LOB: Health                 0\n",
       "Premiums in LOB:  Life                  0\n",
       "Premiums in LOB: Work Compensations     0\n",
       "Age                                     0\n",
       "Client_Spend                            0\n",
       "Fidelity                                0\n",
       "dtype: int64"
      ]
     },
     "execution_count": 29,
     "metadata": {},
     "output_type": "execute_result"
    }
   ],
   "source": [
    "insurance_df_ct.isna().sum()"
   ]
  },
  {
   "cell_type": "code",
   "execution_count": 30,
   "metadata": {},
   "outputs": [
    {
     "data": {
      "text/html": [
       "<div>\n",
       "<style scoped>\n",
       "    .dataframe tbody tr th:only-of-type {\n",
       "        vertical-align: middle;\n",
       "    }\n",
       "\n",
       "    .dataframe tbody tr th {\n",
       "        vertical-align: top;\n",
       "    }\n",
       "\n",
       "    .dataframe thead th {\n",
       "        text-align: right;\n",
       "    }\n",
       "</style>\n",
       "<table border=\"1\" class=\"dataframe\">\n",
       "  <thead>\n",
       "    <tr style=\"text-align: right;\">\n",
       "      <th></th>\n",
       "      <th>Customer Identity</th>\n",
       "      <th>First Policy´s Year</th>\n",
       "      <th>Brithday Year</th>\n",
       "      <th>Gross Monthly Salary</th>\n",
       "      <th>Geographic Living Area</th>\n",
       "      <th>Has Children (Y=1)</th>\n",
       "      <th>Customer Monetary Value</th>\n",
       "      <th>Claims Rate</th>\n",
       "      <th>Premiums in LOB: Motor</th>\n",
       "      <th>Premiums in LOB: Household</th>\n",
       "      <th>Premiums in LOB: Health</th>\n",
       "      <th>Premiums in LOB:  Life</th>\n",
       "      <th>Premiums in LOB: Work Compensations</th>\n",
       "      <th>Age</th>\n",
       "      <th>Client_Spend</th>\n",
       "      <th>Fidelity</th>\n",
       "    </tr>\n",
       "  </thead>\n",
       "  <tbody>\n",
       "    <tr>\n",
       "      <td>count</td>\n",
       "      <td>10264.000000</td>\n",
       "      <td>10264.000000</td>\n",
       "      <td>10250.000000</td>\n",
       "      <td>10264.000000</td>\n",
       "      <td>10264.000000</td>\n",
       "      <td>10264.000000</td>\n",
       "      <td>10264.000000</td>\n",
       "      <td>10264.000000</td>\n",
       "      <td>10264.000000</td>\n",
       "      <td>10264.000000</td>\n",
       "      <td>10264.000000</td>\n",
       "      <td>10264.000000</td>\n",
       "      <td>10264.000000</td>\n",
       "      <td>10264.000000</td>\n",
       "      <td>10264.000000</td>\n",
       "      <td>10264.000000</td>\n",
       "    </tr>\n",
       "    <tr>\n",
       "      <td>mean</td>\n",
       "      <td>5146.873733</td>\n",
       "      <td>1986.016368</td>\n",
       "      <td>1968.112098</td>\n",
       "      <td>2506.042326</td>\n",
       "      <td>2.711808</td>\n",
       "      <td>0.707424</td>\n",
       "      <td>177.832220</td>\n",
       "      <td>0.742979</td>\n",
       "      <td>299.353979</td>\n",
       "      <td>210.609226</td>\n",
       "      <td>170.902972</td>\n",
       "      <td>41.458489</td>\n",
       "      <td>40.968609</td>\n",
       "      <td>47.887902</td>\n",
       "      <td>763.293275</td>\n",
       "      <td>29.983632</td>\n",
       "    </tr>\n",
       "    <tr>\n",
       "      <td>std</td>\n",
       "      <td>2972.431932</td>\n",
       "      <td>6.612072</td>\n",
       "      <td>17.393777</td>\n",
       "      <td>1156.230577</td>\n",
       "      <td>1.266171</td>\n",
       "      <td>0.454968</td>\n",
       "      <td>1948.804173</td>\n",
       "      <td>2.921449</td>\n",
       "      <td>212.454860</td>\n",
       "      <td>352.981445</td>\n",
       "      <td>296.424679</td>\n",
       "      <td>47.454151</td>\n",
       "      <td>51.481052</td>\n",
       "      <td>17.381910</td>\n",
       "      <td>473.258079</td>\n",
       "      <td>6.612072</td>\n",
       "    </tr>\n",
       "    <tr>\n",
       "      <td>min</td>\n",
       "      <td>1.000000</td>\n",
       "      <td>1974.000000</td>\n",
       "      <td>1935.000000</td>\n",
       "      <td>333.000000</td>\n",
       "      <td>1.000000</td>\n",
       "      <td>0.000000</td>\n",
       "      <td>-165680.420000</td>\n",
       "      <td>0.000000</td>\n",
       "      <td>-4.110000</td>\n",
       "      <td>-75.000000</td>\n",
       "      <td>-2.110000</td>\n",
       "      <td>-7.000000</td>\n",
       "      <td>-12.000000</td>\n",
       "      <td>15.000000</td>\n",
       "      <td>0.000000</td>\n",
       "      <td>18.000000</td>\n",
       "    </tr>\n",
       "    <tr>\n",
       "      <td>25%</td>\n",
       "      <td>2571.750000</td>\n",
       "      <td>1980.000000</td>\n",
       "      <td>1953.000000</td>\n",
       "      <td>1706.750000</td>\n",
       "      <td>1.000000</td>\n",
       "      <td>0.000000</td>\n",
       "      <td>-9.440000</td>\n",
       "      <td>0.390000</td>\n",
       "      <td>189.590000</td>\n",
       "      <td>49.450000</td>\n",
       "      <td>110.910000</td>\n",
       "      <td>9.890000</td>\n",
       "      <td>10.000000</td>\n",
       "      <td>33.000000</td>\n",
       "      <td>626.532500</td>\n",
       "      <td>24.000000</td>\n",
       "    </tr>\n",
       "    <tr>\n",
       "      <td>50%</td>\n",
       "      <td>5145.500000</td>\n",
       "      <td>1986.000000</td>\n",
       "      <td>1968.000000</td>\n",
       "      <td>2504.500000</td>\n",
       "      <td>3.000000</td>\n",
       "      <td>1.000000</td>\n",
       "      <td>187.035000</td>\n",
       "      <td>0.720000</td>\n",
       "      <td>298.280000</td>\n",
       "      <td>132.800000</td>\n",
       "      <td>162.030000</td>\n",
       "      <td>25.450000</td>\n",
       "      <td>25.560000</td>\n",
       "      <td>48.000000</td>\n",
       "      <td>697.680000</td>\n",
       "      <td>30.000000</td>\n",
       "    </tr>\n",
       "    <tr>\n",
       "      <td>75%</td>\n",
       "      <td>7721.250000</td>\n",
       "      <td>1992.000000</td>\n",
       "      <td>1983.000000</td>\n",
       "      <td>3289.000000</td>\n",
       "      <td>4.000000</td>\n",
       "      <td>1.000000</td>\n",
       "      <td>399.402500</td>\n",
       "      <td>0.980000</td>\n",
       "      <td>407.437500</td>\n",
       "      <td>290.600000</td>\n",
       "      <td>219.040000</td>\n",
       "      <td>57.010000</td>\n",
       "      <td>56.010000</td>\n",
       "      <td>63.000000</td>\n",
       "      <td>824.212500</td>\n",
       "      <td>36.000000</td>\n",
       "    </tr>\n",
       "    <tr>\n",
       "      <td>max</td>\n",
       "      <td>10296.000000</td>\n",
       "      <td>1998.000000</td>\n",
       "      <td>2001.000000</td>\n",
       "      <td>55215.000000</td>\n",
       "      <td>4.000000</td>\n",
       "      <td>1.000000</td>\n",
       "      <td>11875.890000</td>\n",
       "      <td>256.200000</td>\n",
       "      <td>11604.420000</td>\n",
       "      <td>25048.800000</td>\n",
       "      <td>28272.000000</td>\n",
       "      <td>398.300000</td>\n",
       "      <td>1988.700000</td>\n",
       "      <td>81.000000</td>\n",
       "      <td>29331.320000</td>\n",
       "      <td>42.000000</td>\n",
       "    </tr>\n",
       "  </tbody>\n",
       "</table>\n",
       "</div>"
      ],
      "text/plain": [
       "       Customer Identity  First Policy´s Year  Brithday Year  \\\n",
       "count       10264.000000         10264.000000   10250.000000   \n",
       "mean         5146.873733          1986.016368    1968.112098   \n",
       "std          2972.431932             6.612072      17.393777   \n",
       "min             1.000000          1974.000000    1935.000000   \n",
       "25%          2571.750000          1980.000000    1953.000000   \n",
       "50%          5145.500000          1986.000000    1968.000000   \n",
       "75%          7721.250000          1992.000000    1983.000000   \n",
       "max         10296.000000          1998.000000    2001.000000   \n",
       "\n",
       "       Gross Monthly Salary  Geographic Living Area  Has Children (Y=1)  \\\n",
       "count          10264.000000            10264.000000        10264.000000   \n",
       "mean            2506.042326                2.711808            0.707424   \n",
       "std             1156.230577                1.266171            0.454968   \n",
       "min              333.000000                1.000000            0.000000   \n",
       "25%             1706.750000                1.000000            0.000000   \n",
       "50%             2504.500000                3.000000            1.000000   \n",
       "75%             3289.000000                4.000000            1.000000   \n",
       "max            55215.000000                4.000000            1.000000   \n",
       "\n",
       "       Customer Monetary Value   Claims Rate  Premiums in LOB: Motor  \\\n",
       "count             10264.000000  10264.000000            10264.000000   \n",
       "mean                177.832220      0.742979              299.353979   \n",
       "std                1948.804173      2.921449              212.454860   \n",
       "min             -165680.420000      0.000000               -4.110000   \n",
       "25%                  -9.440000      0.390000              189.590000   \n",
       "50%                 187.035000      0.720000              298.280000   \n",
       "75%                 399.402500      0.980000              407.437500   \n",
       "max               11875.890000    256.200000            11604.420000   \n",
       "\n",
       "       Premiums in LOB: Household  Premiums in LOB: Health  \\\n",
       "count                10264.000000             10264.000000   \n",
       "mean                   210.609226               170.902972   \n",
       "std                    352.981445               296.424679   \n",
       "min                    -75.000000                -2.110000   \n",
       "25%                     49.450000               110.910000   \n",
       "50%                    132.800000               162.030000   \n",
       "75%                    290.600000               219.040000   \n",
       "max                  25048.800000             28272.000000   \n",
       "\n",
       "       Premiums in LOB:  Life  Premiums in LOB: Work Compensations  \\\n",
       "count            10264.000000                         10264.000000   \n",
       "mean                41.458489                            40.968609   \n",
       "std                 47.454151                            51.481052   \n",
       "min                 -7.000000                           -12.000000   \n",
       "25%                  9.890000                            10.000000   \n",
       "50%                 25.450000                            25.560000   \n",
       "75%                 57.010000                            56.010000   \n",
       "max                398.300000                          1988.700000   \n",
       "\n",
       "                Age  Client_Spend      Fidelity  \n",
       "count  10264.000000  10264.000000  10264.000000  \n",
       "mean      47.887902    763.293275     29.983632  \n",
       "std       17.381910    473.258079      6.612072  \n",
       "min       15.000000      0.000000     18.000000  \n",
       "25%       33.000000    626.532500     24.000000  \n",
       "50%       48.000000    697.680000     30.000000  \n",
       "75%       63.000000    824.212500     36.000000  \n",
       "max       81.000000  29331.320000     42.000000  "
      ]
     },
     "execution_count": 30,
     "metadata": {},
     "output_type": "execute_result"
    }
   ],
   "source": [
    "insurance_df_ct.describe()"
   ]
  },
  {
   "cell_type": "markdown",
   "metadata": {},
   "source": [
    "## Predictive model (linear regression, multiple linear regression);"
   ]
  },
  {
   "cell_type": "code",
   "execution_count": 31,
   "metadata": {
    "scrolled": true
   },
   "outputs": [],
   "source": [
    "null_data = {}\n",
    "to_check = []\n",
    "\n",
    "for col in insurance_df[ratio].columns.tolist():\n",
    "    null_data[col] = insurance_df[insurance_df[col].isnull()].index.tolist()\n",
    "    to_check += insurance_df[insurance_df[col].isnull()].index.tolist()\n",
    "\n",
    "\n",
    "to_check = list(dict.fromkeys([i for i in to_check if to_check.count(i) >= 2])) # Rows with more than one value missing\n",
    "\n",
    "for col in null_data:\n",
    "    for i in range (len(null_data[col])-1,-1, -1):\n",
    "        if null_data[col][i] in to_check:\n",
    "            null_data[col].remove(null_data[col][i])"
   ]
  },
  {
   "cell_type": "code",
   "execution_count": 32,
   "metadata": {
    "scrolled": true
   },
   "outputs": [
    {
     "data": {
      "text/html": [
       "<div>\n",
       "<style scoped>\n",
       "    .dataframe tbody tr th:only-of-type {\n",
       "        vertical-align: middle;\n",
       "    }\n",
       "\n",
       "    .dataframe tbody tr th {\n",
       "        vertical-align: top;\n",
       "    }\n",
       "\n",
       "    .dataframe thead th {\n",
       "        text-align: right;\n",
       "    }\n",
       "</style>\n",
       "<table border=\"1\" class=\"dataframe\">\n",
       "  <thead>\n",
       "    <tr style=\"text-align: right;\">\n",
       "      <th></th>\n",
       "      <th>Customer Identity</th>\n",
       "      <th>First Policy´s Year</th>\n",
       "      <th>Brithday Year</th>\n",
       "      <th>Gross Monthly Salary</th>\n",
       "      <th>Geographic Living Area</th>\n",
       "      <th>Has Children (Y=1)</th>\n",
       "      <th>Customer Monetary Value</th>\n",
       "      <th>Claims Rate</th>\n",
       "      <th>Premiums in LOB: Motor</th>\n",
       "      <th>Premiums in LOB: Household</th>\n",
       "      <th>Premiums in LOB: Health</th>\n",
       "      <th>Premiums in LOB:  Life</th>\n",
       "      <th>Premiums in LOB: Work Compensations</th>\n",
       "      <th>Age</th>\n",
       "      <th>Client_Spend</th>\n",
       "      <th>Fidelity</th>\n",
       "    </tr>\n",
       "  </thead>\n",
       "  <tbody>\n",
       "    <tr>\n",
       "      <td>count</td>\n",
       "      <td>10264.000000</td>\n",
       "      <td>10264.000000</td>\n",
       "      <td>10264.000000</td>\n",
       "      <td>10264.000000</td>\n",
       "      <td>10264.000000</td>\n",
       "      <td>10264.000000</td>\n",
       "      <td>10264.000000</td>\n",
       "      <td>10264.000000</td>\n",
       "      <td>10264.000000</td>\n",
       "      <td>10264.000000</td>\n",
       "      <td>10264.000000</td>\n",
       "      <td>10264.000000</td>\n",
       "      <td>10264.000000</td>\n",
       "      <td>10264.000000</td>\n",
       "      <td>10264.000000</td>\n",
       "      <td>10264.000000</td>\n",
       "    </tr>\n",
       "    <tr>\n",
       "      <td>mean</td>\n",
       "      <td>5146.873733</td>\n",
       "      <td>1986.016368</td>\n",
       "      <td>1968.112098</td>\n",
       "      <td>2505.889059</td>\n",
       "      <td>2.711808</td>\n",
       "      <td>0.707424</td>\n",
       "      <td>177.832220</td>\n",
       "      <td>0.742979</td>\n",
       "      <td>299.353979</td>\n",
       "      <td>210.609226</td>\n",
       "      <td>170.902972</td>\n",
       "      <td>41.458489</td>\n",
       "      <td>40.968609</td>\n",
       "      <td>47.887902</td>\n",
       "      <td>763.293275</td>\n",
       "      <td>29.983632</td>\n",
       "    </tr>\n",
       "    <tr>\n",
       "      <td>std</td>\n",
       "      <td>2972.431932</td>\n",
       "      <td>6.612072</td>\n",
       "      <td>17.381910</td>\n",
       "      <td>1157.580512</td>\n",
       "      <td>1.266171</td>\n",
       "      <td>0.454968</td>\n",
       "      <td>1948.804173</td>\n",
       "      <td>2.921449</td>\n",
       "      <td>212.454860</td>\n",
       "      <td>352.981445</td>\n",
       "      <td>296.424679</td>\n",
       "      <td>47.454151</td>\n",
       "      <td>51.481052</td>\n",
       "      <td>17.381910</td>\n",
       "      <td>473.258079</td>\n",
       "      <td>6.612072</td>\n",
       "    </tr>\n",
       "    <tr>\n",
       "      <td>min</td>\n",
       "      <td>1.000000</td>\n",
       "      <td>1974.000000</td>\n",
       "      <td>1935.000000</td>\n",
       "      <td>333.000000</td>\n",
       "      <td>1.000000</td>\n",
       "      <td>0.000000</td>\n",
       "      <td>-165680.420000</td>\n",
       "      <td>0.000000</td>\n",
       "      <td>-4.110000</td>\n",
       "      <td>-75.000000</td>\n",
       "      <td>-2.110000</td>\n",
       "      <td>-7.000000</td>\n",
       "      <td>-12.000000</td>\n",
       "      <td>15.000000</td>\n",
       "      <td>0.000000</td>\n",
       "      <td>18.000000</td>\n",
       "    </tr>\n",
       "    <tr>\n",
       "      <td>25%</td>\n",
       "      <td>2571.750000</td>\n",
       "      <td>1980.000000</td>\n",
       "      <td>1953.000000</td>\n",
       "      <td>1704.750000</td>\n",
       "      <td>1.000000</td>\n",
       "      <td>0.000000</td>\n",
       "      <td>-9.440000</td>\n",
       "      <td>0.390000</td>\n",
       "      <td>189.590000</td>\n",
       "      <td>49.450000</td>\n",
       "      <td>110.910000</td>\n",
       "      <td>9.890000</td>\n",
       "      <td>10.000000</td>\n",
       "      <td>33.000000</td>\n",
       "      <td>626.532500</td>\n",
       "      <td>24.000000</td>\n",
       "    </tr>\n",
       "    <tr>\n",
       "      <td>50%</td>\n",
       "      <td>5145.500000</td>\n",
       "      <td>1986.000000</td>\n",
       "      <td>1968.000000</td>\n",
       "      <td>2500.000000</td>\n",
       "      <td>3.000000</td>\n",
       "      <td>1.000000</td>\n",
       "      <td>187.035000</td>\n",
       "      <td>0.720000</td>\n",
       "      <td>298.280000</td>\n",
       "      <td>132.800000</td>\n",
       "      <td>162.030000</td>\n",
       "      <td>25.450000</td>\n",
       "      <td>25.560000</td>\n",
       "      <td>48.000000</td>\n",
       "      <td>697.680000</td>\n",
       "      <td>30.000000</td>\n",
       "    </tr>\n",
       "    <tr>\n",
       "      <td>75%</td>\n",
       "      <td>7721.250000</td>\n",
       "      <td>1992.000000</td>\n",
       "      <td>1983.000000</td>\n",
       "      <td>3291.000000</td>\n",
       "      <td>4.000000</td>\n",
       "      <td>1.000000</td>\n",
       "      <td>399.402500</td>\n",
       "      <td>0.980000</td>\n",
       "      <td>407.437500</td>\n",
       "      <td>290.600000</td>\n",
       "      <td>219.040000</td>\n",
       "      <td>57.010000</td>\n",
       "      <td>56.010000</td>\n",
       "      <td>63.000000</td>\n",
       "      <td>824.212500</td>\n",
       "      <td>36.000000</td>\n",
       "    </tr>\n",
       "    <tr>\n",
       "      <td>max</td>\n",
       "      <td>10296.000000</td>\n",
       "      <td>1998.000000</td>\n",
       "      <td>2001.000000</td>\n",
       "      <td>55215.000000</td>\n",
       "      <td>4.000000</td>\n",
       "      <td>1.000000</td>\n",
       "      <td>11875.890000</td>\n",
       "      <td>256.200000</td>\n",
       "      <td>11604.420000</td>\n",
       "      <td>25048.800000</td>\n",
       "      <td>28272.000000</td>\n",
       "      <td>398.300000</td>\n",
       "      <td>1988.700000</td>\n",
       "      <td>81.000000</td>\n",
       "      <td>29331.320000</td>\n",
       "      <td>42.000000</td>\n",
       "    </tr>\n",
       "  </tbody>\n",
       "</table>\n",
       "</div>"
      ],
      "text/plain": [
       "       Customer Identity  First Policy´s Year  Brithday Year  \\\n",
       "count       10264.000000         10264.000000   10264.000000   \n",
       "mean         5146.873733          1986.016368    1968.112098   \n",
       "std          2972.431932             6.612072      17.381910   \n",
       "min             1.000000          1974.000000    1935.000000   \n",
       "25%          2571.750000          1980.000000    1953.000000   \n",
       "50%          5145.500000          1986.000000    1968.000000   \n",
       "75%          7721.250000          1992.000000    1983.000000   \n",
       "max         10296.000000          1998.000000    2001.000000   \n",
       "\n",
       "       Gross Monthly Salary  Geographic Living Area  Has Children (Y=1)  \\\n",
       "count          10264.000000            10264.000000        10264.000000   \n",
       "mean            2505.889059                2.711808            0.707424   \n",
       "std             1157.580512                1.266171            0.454968   \n",
       "min              333.000000                1.000000            0.000000   \n",
       "25%             1704.750000                1.000000            0.000000   \n",
       "50%             2500.000000                3.000000            1.000000   \n",
       "75%             3291.000000                4.000000            1.000000   \n",
       "max            55215.000000                4.000000            1.000000   \n",
       "\n",
       "       Customer Monetary Value   Claims Rate  Premiums in LOB: Motor  \\\n",
       "count             10264.000000  10264.000000            10264.000000   \n",
       "mean                177.832220      0.742979              299.353979   \n",
       "std                1948.804173      2.921449              212.454860   \n",
       "min             -165680.420000      0.000000               -4.110000   \n",
       "25%                  -9.440000      0.390000              189.590000   \n",
       "50%                 187.035000      0.720000              298.280000   \n",
       "75%                 399.402500      0.980000              407.437500   \n",
       "max               11875.890000    256.200000            11604.420000   \n",
       "\n",
       "       Premiums in LOB: Household  Premiums in LOB: Health  \\\n",
       "count                10264.000000             10264.000000   \n",
       "mean                   210.609226               170.902972   \n",
       "std                    352.981445               296.424679   \n",
       "min                    -75.000000                -2.110000   \n",
       "25%                     49.450000               110.910000   \n",
       "50%                    132.800000               162.030000   \n",
       "75%                    290.600000               219.040000   \n",
       "max                  25048.800000             28272.000000   \n",
       "\n",
       "       Premiums in LOB:  Life  Premiums in LOB: Work Compensations  \\\n",
       "count            10264.000000                         10264.000000   \n",
       "mean                41.458489                            40.968609   \n",
       "std                 47.454151                            51.481052   \n",
       "min                 -7.000000                           -12.000000   \n",
       "25%                  9.890000                            10.000000   \n",
       "50%                 25.450000                            25.560000   \n",
       "75%                 57.010000                            56.010000   \n",
       "max                398.300000                          1988.700000   \n",
       "\n",
       "                Age  Client_Spend      Fidelity  \n",
       "count  10264.000000  10264.000000  10264.000000  \n",
       "mean      47.887902    763.293275     29.983632  \n",
       "std       17.381910    473.258079      6.612072  \n",
       "min       15.000000      0.000000     18.000000  \n",
       "25%       33.000000    626.532500     24.000000  \n",
       "50%       48.000000    697.680000     30.000000  \n",
       "75%       63.000000    824.212500     36.000000  \n",
       "max       81.000000  29331.320000     42.000000  "
      ]
     },
     "execution_count": 32,
     "metadata": {},
     "output_type": "execute_result"
    }
   ],
   "source": [
    "X = [i for i in null_data.keys() if len(null_data[i])>0]\n",
    "dict_models = {}\n",
    "\n",
    "for i in range(0,len(X)):\n",
    "    dict_models[X[i]] = deepcopy(ratio)\n",
    "    dict_models[X[i]].remove(X[i])\n",
    "\n",
    "aux_df = insurance_df.dropna()\n",
    "lm = linear_model.LinearRegression()\n",
    "predictions = {}\n",
    "\n",
    "for mod in dict_models:\n",
    "    x = pd.DataFrame(aux_df[dict_models[mod]])\n",
    "    y = pd.DataFrame(aux_df[mod])\n",
    "    model = lm.fit(x,y)\n",
    "    pred = insurance_df[dict_models[mod]].loc[null_data[mod]]\n",
    "    predictions[mod] = lm.predict(pred).tolist()\n",
    "\n",
    "\n",
    "insurance_df_mrm = insurance_df.copy(deep=True)\n",
    "\n",
    "for prediction in predictions:\n",
    "    for i in range(0,len(predictions[prediction])):\n",
    "        insurance_df_mrm.loc[null_data[prediction][i],prediction] = round(predictions[prediction][i][0],1)\n",
    "\n",
    "        \n",
    "# insurance_df_mrm['Age when doing first policy'] = insurance_df_mrm['First Policy´s Year']-insurance_df_mrm['Brithday Year']\n",
    "insurance_df_mrm[ratio] = insurance_df_mrm[ratio].fillna(insurance_df_mrm.mean())\n",
    "insurance_df_mrm[nominal] = insurance_df_mrm[nominal].fillna(insurance_df_mrm.mode().iloc[0])\n",
    "insurance_df_mrm.describe()"
   ]
  },
  {
   "cell_type": "markdown",
   "metadata": {},
   "source": [
    "<b style=\"color:#FF5733\">Fiding outliers</b>"
   ]
  },
  {
   "cell_type": "code",
   "execution_count": 33,
   "metadata": {
    "scrolled": false
   },
   "outputs": [
    {
     "data": {
      "text/plain": [
       "<matplotlib.axes._subplots.AxesSubplot at 0x1dc9cd0c9e8>"
      ]
     },
     "execution_count": 33,
     "metadata": {},
     "output_type": "execute_result"
    },
    {
     "data": {
      "image/png": "[encoded data removed]",
      "text/plain": [
       "<Figure size 1080x2160 with 8 Axes>"
      ]
     },
     "metadata": {
      "needs_background": "light"
     },
     "output_type": "display_data"
    }
   ],
   "source": [
    "fig = plt.figure(figsize=(15,30))\n",
    "grid = plt.GridSpec(ncols=2, nrows=5)\n",
    "ax1 = fig.add_subplot(grid[0, 0])\n",
    "ax2 = fig.add_subplot(grid[0, 1])\n",
    "ax3 = fig.add_subplot(grid[1, 0])\n",
    "ax4 = fig.add_subplot(grid[1, 1])\n",
    "ax5 = fig.add_subplot(grid[2, 0])\n",
    "ax6 = fig.add_subplot(grid[2, 1])\n",
    "ax7 = fig.add_subplot(grid[3, 0])\n",
    "ax8 = fig.add_subplot(grid[3, 1])\n",
    "# ax9 = fig.add_subplot(grid[8, 0])\n",
    "\n",
    "sns.boxplot(x='Age', data=insurance_df, whis = 1.5, color= '#154360', ax=ax1)\n",
    "sns.boxplot(x='Gross Monthly Salary', data=insurance_df, whis = 1.5, color= '#FFC300', ax=ax2)\n",
    "sns.boxplot(x='Customer Monetary Value', data=insurance_df, whis = 1.5, color= '#DAF7A6', ax=ax3)\n",
    "sns.boxplot(x='Claims Rate', data=insurance_df, whis = 1.5, color= '#BEE080', ax=ax4)\n",
    "sns.boxplot(x='Premiums in LOB: Motor', data=insurance_df, whis = 1.5, color= '#566D2D', ax=ax5)\n",
    "sns.boxplot(x='Premiums in LOB: Household', data=insurance_df, whis = 1.5, color= '#C70039', ax=ax6)\n",
    "sns.boxplot(x='Premiums in LOB: Health', data=insurance_df, whis = 1.5, color= '#900C3F', ax=ax7)\n",
    "sns.boxplot(x='Premiums in LOB:  Life', data=insurance_df, whis = 1.5, color= '#2D87C0', ax=ax8)\n",
    "# sns.boxplot(x='Premiums in LOB: Work Compensations', data=insurance_df, color= '#91CDF4', whis = 1.5, ax=ax9)\n",
    "# sns.boxplot(x='Age when doing first policy', data=insurance_df, color= '#91CDF4', whis = 1.5, ax=ax11);"
   ]
  },
  {
   "cell_type": "markdown",
   "metadata": {},
   "source": [
    "For these boxplots, outliers are a little harder to conclude on. For example, looking at the premium in LOB: Health, the amount of outliers is huge, and that's normal, since the premiums depend on a lot of diferent variables. <br>\n",
    "As for the gross monetary value... Who's to say we don't have a client that earns more than 5000 a month? We can't be sure, and although that value is unusual, it's definetly possible. \n",
    "Let's consider the logarithm of these variables and re-check their bloxplots after that transformation."
   ]
  },
  {
   "cell_type": "code",
   "execution_count": 34,
   "metadata": {},
   "outputs": [],
   "source": [
    "# def to_log(dataframe,variable):\n",
    "#     min_val = dataframe[variable].min()\n",
    "#     newdataframe = dataframe # Creating a copy so we don't change the original\n",
    "#     if min_val > 1: # Meaning no complications in doing the logarithm\n",
    "#         newdataframe[variable] = np.log(newdataframe[variable])\n",
    "#     else:\n",
    "#         newdataframe[variable] = newdataframe[variable] + round(min_val+1,1)\n",
    "#         newdataframe[variable] = np.log(newdataframe[variable])\n",
    "        \n",
    "#     return newdataframe\n",
    "\n",
    "# fig = plt.figure(figsize=(20,40))\n",
    "# grid = plt.GridSpec(ncols=1, nrows=11)\n",
    "# ax1 = fig.add_subplot(grid[0, 0])\n",
    "# ax2 = fig.add_subplot(grid[1, 0])\n",
    "# ax3 = fig.add_subplot(grid[2, 0])\n",
    "# ax4 = fig.add_subplot(grid[3, 0])\n",
    "# ax5 = fig.add_subplot(grid[4, 0])\n",
    "# ax6 = fig.add_subplot(grid[5, 0])\n",
    "# ax7 = fig.add_subplot(grid[6, 0])\n",
    "# ax8 = fig.add_subplot(grid[7, 0])\n",
    "# ax9 = fig.add_subplot(grid[8, 0])\n",
    "# ax10 = fig.add_subplot(grid[9, 0])\n",
    "# ax11 = fig.add_subplot(grid[10, 0])   \n",
    "    \n",
    "# to_log(insurance_df,'Gross Monthly Salary')\n",
    "# to_log(insurance_df,'Customer Monetary Value')\n",
    "# to_log(insurance_df,'Claims Rate')\n",
    "# sns.boxplot(x='Gross Monthly Salary', data=insurance_df, whis = 1.5, color= '#FFC300', ax=ax3)\n",
    "# sns.boxplot(x='Customer Monetary Value', data=insurance_df, whis = 1.5, color= '#DAF7A6', ax=ax4)\n",
    "# sns.boxplot(x='Claims Rate', data=insurance_df, whis = 1.5, color= '#BEE080', ax=ax5)\n",
    "# sns.boxplot(x='Premiums in LOB: Motor', data=insurance_df, whis = 1.5, color= '#566D2D', ax=ax6)\n",
    "# sns.boxplot(x='Premiums in LOB: Household', data=insurance_df, whis = 1.5, color= '#C70039', ax=ax7)\n",
    "# sns.boxplot(x='Premiums in LOB: Health', data=insurance_df, whis = 1.5, color= '#900C3F', ax=ax8)\n",
    "# sns.boxplot(x='Premiums in LOB:  Life', data=insurance_df, whis = 1.5, color= '#2D87C0', ax=ax9)\n",
    "# sns.boxplot(x='Premiums in LOB: Work Compensations', data=insurance_df, color= '#91CDF4', whis = 1.5, ax=ax10)"
   ]
  },
  {
   "cell_type": "markdown",
   "metadata": {},
   "source": [
    "After that checking out each one of the new boxplots, It's noticiable that there are still outliers in most part of out database. We will use Z-score function defined in scipy library to detect the outliers."
   ]
  },
  {
   "cell_type": "code",
   "execution_count": 35,
   "metadata": {},
   "outputs": [
    {
     "data": {
      "text/plain": [
       "Customer Identity                        int64\n",
       "First Policy´s Year                    float64\n",
       "Brithday Year                          float64\n",
       "Educational Degree                      object\n",
       "Gross Monthly Salary                   float64\n",
       "Geographic Living Area                 float64\n",
       "Has Children (Y=1)                     float64\n",
       "Customer Monetary Value                float64\n",
       "Claims Rate                            float64\n",
       "Premiums in LOB: Motor                 float64\n",
       "Premiums in LOB: Household             float64\n",
       "Premiums in LOB: Health                float64\n",
       "Premiums in LOB:  Life                 float64\n",
       "Premiums in LOB: Work Compensations    float64\n",
       "Age                                    float64\n",
       "Client_Spend                           float64\n",
       "Fidelity                               float64\n",
       "dtype: object"
      ]
     },
     "execution_count": 35,
     "metadata": {},
     "output_type": "execute_result"
    }
   ],
   "source": [
    "insurance_df.columns\n",
    "insurance_df.dtypes\n",
    "# We will transform all variables into float to make to ZScore Transformation"
   ]
  },
  {
   "cell_type": "code",
   "execution_count": 36,
   "metadata": {},
   "outputs": [],
   "source": [
    "from scipy import stats\n",
    "import numpy as np\n",
    "\n",
    "zvariables = insurance_df_ct[['Customer Monetary Value',\n",
    " 'Claims Rate',\n",
    " 'Premiums in LOB: Motor',\n",
    " 'Premiums in LOB: Household',\n",
    " 'Premiums in LOB: Health',\n",
    " 'Premiums in LOB:  Life',\n",
    " 'Premiums in LOB: Work Compensations',\n",
    "                             'Gross Monthly Salary']]\n",
    "#'Age'\n",
    "                             \n",
    "zvariables\n",
    "                 \n",
    "z = np.abs(stats.zscore(zvariables))\n",
    "z\n",
    "\n",
    "threshold = 3\n",
    "# np.where(z > 3) # We noticed that there are outliers in each one of the variables"
   ]
  },
  {
   "cell_type": "markdown",
   "metadata": {},
   "source": [
    "<b style=\"color:#FF5733\">Treating the Ouliers from our database</b>"
   ]
  },
  {
   "cell_type": "code",
   "execution_count": 37,
   "metadata": {},
   "outputs": [
    {
     "data": {
      "text/plain": [
       "['Customer Identity',\n",
       " 'First Policy´s Year',\n",
       " 'Brithday Year',\n",
       " 'Educational Degree',\n",
       " 'Gross Monthly Salary',\n",
       " 'Geographic Living Area',\n",
       " 'Has Children (Y=1)',\n",
       " 'Customer Monetary Value',\n",
       " 'Claims Rate',\n",
       " 'Premiums in LOB: Motor',\n",
       " 'Premiums in LOB: Household',\n",
       " 'Premiums in LOB: Health',\n",
       " 'Premiums in LOB:  Life',\n",
       " 'Premiums in LOB: Work Compensations',\n",
       " 'Age',\n",
       " 'Client_Spend',\n",
       " 'Fidelity']"
      ]
     },
     "execution_count": 37,
     "metadata": {},
     "output_type": "execute_result"
    }
   ],
   "source": [
    "list(insurance_df_ct.columns)"
   ]
  },
  {
   "cell_type": "markdown",
   "metadata": {},
   "source": [
    "We saw how one can detect the outlier using Z-score but now we want to remove the outliers and get the clean data. "
   ]
  },
  {
   "cell_type": "code",
   "execution_count": 38,
   "metadata": {},
   "outputs": [
    {
     "name": "stdout",
     "output_type": "stream",
     "text": [
      "(10264, 8)\n",
      "(10058, 8)\n"
     ]
    }
   ],
   "source": [
    "# Now we are going to clean out outliers based on the Z scores\n",
    "\n",
    "zvariables1 = zvariables[(z < 3.8).all(axis=1)]\n",
    "\n",
    "print(zvariables.shape)\n",
    "print(zvariables1.shape)\n",
    "index1 = zvariables1.index"
   ]
  },
  {
   "cell_type": "code",
   "execution_count": 39,
   "metadata": {},
   "outputs": [
    {
     "data": {
      "text/html": [
       "<div>\n",
       "<style scoped>\n",
       "    .dataframe tbody tr th:only-of-type {\n",
       "        vertical-align: middle;\n",
       "    }\n",
       "\n",
       "    .dataframe tbody tr th {\n",
       "        vertical-align: top;\n",
       "    }\n",
       "\n",
       "    .dataframe thead th {\n",
       "        text-align: right;\n",
       "    }\n",
       "</style>\n",
       "<table border=\"1\" class=\"dataframe\">\n",
       "  <thead>\n",
       "    <tr style=\"text-align: right;\">\n",
       "      <th></th>\n",
       "      <th>Customer Monetary Value</th>\n",
       "      <th>Claims Rate</th>\n",
       "      <th>Premiums in LOB: Motor</th>\n",
       "      <th>Premiums in LOB: Household</th>\n",
       "      <th>Premiums in LOB: Health</th>\n",
       "      <th>Premiums in LOB:  Life</th>\n",
       "      <th>Premiums in LOB: Work Compensations</th>\n",
       "      <th>Gross Monthly Salary</th>\n",
       "    </tr>\n",
       "  </thead>\n",
       "  <tbody>\n",
       "    <tr>\n",
       "      <td>0</td>\n",
       "      <td>380.97</td>\n",
       "      <td>0.39</td>\n",
       "      <td>375.85</td>\n",
       "      <td>79.45</td>\n",
       "      <td>146.36</td>\n",
       "      <td>47.01</td>\n",
       "      <td>16.89</td>\n",
       "      <td>2177.0</td>\n",
       "    </tr>\n",
       "    <tr>\n",
       "      <td>1</td>\n",
       "      <td>-131.13</td>\n",
       "      <td>1.12</td>\n",
       "      <td>77.46</td>\n",
       "      <td>416.20</td>\n",
       "      <td>116.69</td>\n",
       "      <td>194.48</td>\n",
       "      <td>106.13</td>\n",
       "      <td>677.0</td>\n",
       "    </tr>\n",
       "    <tr>\n",
       "      <td>2</td>\n",
       "      <td>504.67</td>\n",
       "      <td>0.28</td>\n",
       "      <td>206.15</td>\n",
       "      <td>224.50</td>\n",
       "      <td>124.58</td>\n",
       "      <td>86.35</td>\n",
       "      <td>99.02</td>\n",
       "      <td>2277.0</td>\n",
       "    </tr>\n",
       "    <tr>\n",
       "      <td>3</td>\n",
       "      <td>-16.99</td>\n",
       "      <td>0.99</td>\n",
       "      <td>182.48</td>\n",
       "      <td>43.35</td>\n",
       "      <td>311.17</td>\n",
       "      <td>35.34</td>\n",
       "      <td>28.34</td>\n",
       "      <td>1099.0</td>\n",
       "    </tr>\n",
       "    <tr>\n",
       "      <td>4</td>\n",
       "      <td>35.23</td>\n",
       "      <td>0.90</td>\n",
       "      <td>338.62</td>\n",
       "      <td>47.80</td>\n",
       "      <td>182.59</td>\n",
       "      <td>18.78</td>\n",
       "      <td>41.45</td>\n",
       "      <td>1763.0</td>\n",
       "    </tr>\n",
       "    <tr>\n",
       "      <td>...</td>\n",
       "      <td>...</td>\n",
       "      <td>...</td>\n",
       "      <td>...</td>\n",
       "      <td>...</td>\n",
       "      <td>...</td>\n",
       "      <td>...</td>\n",
       "      <td>...</td>\n",
       "      <td>...</td>\n",
       "    </tr>\n",
       "    <tr>\n",
       "      <td>10291</td>\n",
       "      <td>-0.11</td>\n",
       "      <td>0.96</td>\n",
       "      <td>393.74</td>\n",
       "      <td>49.45</td>\n",
       "      <td>173.81</td>\n",
       "      <td>9.78</td>\n",
       "      <td>14.78</td>\n",
       "      <td>3188.0</td>\n",
       "    </tr>\n",
       "    <tr>\n",
       "      <td>10292</td>\n",
       "      <td>1405.60</td>\n",
       "      <td>0.00</td>\n",
       "      <td>133.58</td>\n",
       "      <td>1035.75</td>\n",
       "      <td>143.25</td>\n",
       "      <td>12.89</td>\n",
       "      <td>105.13</td>\n",
       "      <td>2431.0</td>\n",
       "    </tr>\n",
       "    <tr>\n",
       "      <td>10293</td>\n",
       "      <td>524.10</td>\n",
       "      <td>0.21</td>\n",
       "      <td>403.63</td>\n",
       "      <td>132.80</td>\n",
       "      <td>142.25</td>\n",
       "      <td>12.67</td>\n",
       "      <td>4.89</td>\n",
       "      <td>2918.0</td>\n",
       "    </tr>\n",
       "    <tr>\n",
       "      <td>10294</td>\n",
       "      <td>250.05</td>\n",
       "      <td>0.65</td>\n",
       "      <td>188.59</td>\n",
       "      <td>211.15</td>\n",
       "      <td>198.37</td>\n",
       "      <td>63.90</td>\n",
       "      <td>112.91</td>\n",
       "      <td>1971.0</td>\n",
       "    </tr>\n",
       "    <tr>\n",
       "      <td>10295</td>\n",
       "      <td>463.75</td>\n",
       "      <td>0.27</td>\n",
       "      <td>414.08</td>\n",
       "      <td>94.45</td>\n",
       "      <td>141.25</td>\n",
       "      <td>6.89</td>\n",
       "      <td>12.89</td>\n",
       "      <td>2815.0</td>\n",
       "    </tr>\n",
       "  </tbody>\n",
       "</table>\n",
       "<p>10058 rows × 8 columns</p>\n",
       "</div>"
      ],
      "text/plain": [
       "       Customer Monetary Value  Claims Rate  Premiums in LOB: Motor  \\\n",
       "0                       380.97         0.39                  375.85   \n",
       "1                      -131.13         1.12                   77.46   \n",
       "2                       504.67         0.28                  206.15   \n",
       "3                       -16.99         0.99                  182.48   \n",
       "4                        35.23         0.90                  338.62   \n",
       "...                        ...          ...                     ...   \n",
       "10291                    -0.11         0.96                  393.74   \n",
       "10292                  1405.60         0.00                  133.58   \n",
       "10293                   524.10         0.21                  403.63   \n",
       "10294                   250.05         0.65                  188.59   \n",
       "10295                   463.75         0.27                  414.08   \n",
       "\n",
       "       Premiums in LOB: Household  Premiums in LOB: Health  \\\n",
       "0                           79.45                   146.36   \n",
       "1                          416.20                   116.69   \n",
       "2                          224.50                   124.58   \n",
       "3                           43.35                   311.17   \n",
       "4                           47.80                   182.59   \n",
       "...                           ...                      ...   \n",
       "10291                       49.45                   173.81   \n",
       "10292                     1035.75                   143.25   \n",
       "10293                      132.80                   142.25   \n",
       "10294                      211.15                   198.37   \n",
       "10295                       94.45                   141.25   \n",
       "\n",
       "       Premiums in LOB:  Life  Premiums in LOB: Work Compensations  \\\n",
       "0                       47.01                                16.89   \n",
       "1                      194.48                               106.13   \n",
       "2                       86.35                                99.02   \n",
       "3                       35.34                                28.34   \n",
       "4                       18.78                                41.45   \n",
       "...                       ...                                  ...   \n",
       "10291                    9.78                                14.78   \n",
       "10292                   12.89                               105.13   \n",
       "10293                   12.67                                 4.89   \n",
       "10294                   63.90                               112.91   \n",
       "10295                    6.89                                12.89   \n",
       "\n",
       "       Gross Monthly Salary  \n",
       "0                    2177.0  \n",
       "1                     677.0  \n",
       "2                    2277.0  \n",
       "3                    1099.0  \n",
       "4                    1763.0  \n",
       "...                     ...  \n",
       "10291                3188.0  \n",
       "10292                2431.0  \n",
       "10293                2918.0  \n",
       "10294                1971.0  \n",
       "10295                2815.0  \n",
       "\n",
       "[10058 rows x 8 columns]"
      ]
     },
     "execution_count": 39,
     "metadata": {},
     "output_type": "execute_result"
    }
   ],
   "source": [
    "zvariables1"
   ]
  },
  {
   "cell_type": "code",
   "execution_count": 40,
   "metadata": {},
   "outputs": [
    {
     "ename": "ValueError",
     "evalue": "Could not interpret input 'Age'",
     "output_type": "error",
     "traceback": [
      "\u001b[1;31m---------------------------------------------------------------------------\u001b[0m",
      "\u001b[1;31mValueError\u001b[0m                                Traceback (most recent call last)",
      "\u001b[1;32m<ipython-input-40-4a5ddc10e71d>\u001b[0m in \u001b[0;36m<module>\u001b[1;34m\u001b[0m\n\u001b[0;32m     10\u001b[0m \u001b[0max8\u001b[0m \u001b[1;33m=\u001b[0m \u001b[0mfig\u001b[0m\u001b[1;33m.\u001b[0m\u001b[0madd_subplot\u001b[0m\u001b[1;33m(\u001b[0m\u001b[0mgrid\u001b[0m\u001b[1;33m[\u001b[0m\u001b[1;36m3\u001b[0m\u001b[1;33m,\u001b[0m \u001b[1;36m1\u001b[0m\u001b[1;33m]\u001b[0m\u001b[1;33m)\u001b[0m\u001b[1;33m\u001b[0m\u001b[1;33m\u001b[0m\u001b[0m\n\u001b[0;32m     11\u001b[0m \u001b[1;33m\u001b[0m\u001b[0m\n\u001b[1;32m---> 12\u001b[1;33m \u001b[0msns\u001b[0m\u001b[1;33m.\u001b[0m\u001b[0mboxplot\u001b[0m\u001b[1;33m(\u001b[0m\u001b[0mx\u001b[0m\u001b[1;33m=\u001b[0m\u001b[1;34m'Age'\u001b[0m\u001b[1;33m,\u001b[0m \u001b[0mdata\u001b[0m\u001b[1;33m=\u001b[0m\u001b[0mzvariables1\u001b[0m\u001b[1;33m,\u001b[0m \u001b[0mwhis\u001b[0m \u001b[1;33m=\u001b[0m \u001b[1;36m1.5\u001b[0m\u001b[1;33m,\u001b[0m \u001b[0mcolor\u001b[0m\u001b[1;33m=\u001b[0m \u001b[1;34m'#154360'\u001b[0m\u001b[1;33m,\u001b[0m \u001b[0max\u001b[0m\u001b[1;33m=\u001b[0m\u001b[0max1\u001b[0m\u001b[1;33m)\u001b[0m\u001b[1;33m\u001b[0m\u001b[1;33m\u001b[0m\u001b[0m\n\u001b[0m\u001b[0;32m     13\u001b[0m \u001b[0msns\u001b[0m\u001b[1;33m.\u001b[0m\u001b[0mboxplot\u001b[0m\u001b[1;33m(\u001b[0m\u001b[0mx\u001b[0m\u001b[1;33m=\u001b[0m\u001b[1;34m'Gross Monthly Salary'\u001b[0m\u001b[1;33m,\u001b[0m \u001b[0mdata\u001b[0m\u001b[1;33m=\u001b[0m\u001b[0mzvariables1\u001b[0m\u001b[1;33m,\u001b[0m \u001b[0mwhis\u001b[0m \u001b[1;33m=\u001b[0m \u001b[1;36m1.5\u001b[0m\u001b[1;33m,\u001b[0m \u001b[0mcolor\u001b[0m\u001b[1;33m=\u001b[0m \u001b[1;34m'#FFC300'\u001b[0m\u001b[1;33m,\u001b[0m \u001b[0max\u001b[0m\u001b[1;33m=\u001b[0m\u001b[0max2\u001b[0m\u001b[1;33m)\u001b[0m\u001b[1;33m\u001b[0m\u001b[1;33m\u001b[0m\u001b[0m\n\u001b[0;32m     14\u001b[0m \u001b[1;31m# sns.boxplot(x='Premiums in LOB: Motor', data=zvariables1, whis = 1.5, color= '#566D2D', ax=ax1)\u001b[0m\u001b[1;33m\u001b[0m\u001b[1;33m\u001b[0m\u001b[1;33m\u001b[0m\u001b[0m\n",
      "\u001b[1;32m~\\Anaconda3\\lib\\site-packages\\seaborn\\categorical.py\u001b[0m in \u001b[0;36mboxplot\u001b[1;34m(x, y, hue, data, order, hue_order, orient, color, palette, saturation, width, dodge, fliersize, linewidth, whis, notch, ax, **kwargs)\u001b[0m\n\u001b[0;32m   2229\u001b[0m     plotter = _BoxPlotter(x, y, hue, data, order, hue_order,\n\u001b[0;32m   2230\u001b[0m                           \u001b[0morient\u001b[0m\u001b[1;33m,\u001b[0m \u001b[0mcolor\u001b[0m\u001b[1;33m,\u001b[0m \u001b[0mpalette\u001b[0m\u001b[1;33m,\u001b[0m \u001b[0msaturation\u001b[0m\u001b[1;33m,\u001b[0m\u001b[1;33m\u001b[0m\u001b[1;33m\u001b[0m\u001b[0m\n\u001b[1;32m-> 2231\u001b[1;33m                           width, dodge, fliersize, linewidth)\n\u001b[0m\u001b[0;32m   2232\u001b[0m \u001b[1;33m\u001b[0m\u001b[0m\n\u001b[0;32m   2233\u001b[0m     \u001b[1;32mif\u001b[0m \u001b[0max\u001b[0m \u001b[1;32mis\u001b[0m \u001b[1;32mNone\u001b[0m\u001b[1;33m:\u001b[0m\u001b[1;33m\u001b[0m\u001b[1;33m\u001b[0m\u001b[0m\n",
      "\u001b[1;32m~\\Anaconda3\\lib\\site-packages\\seaborn\\categorical.py\u001b[0m in \u001b[0;36m__init__\u001b[1;34m(self, x, y, hue, data, order, hue_order, orient, color, palette, saturation, width, dodge, fliersize, linewidth)\u001b[0m\n\u001b[0;32m    444\u001b[0m                  width, dodge, fliersize, linewidth):\n\u001b[0;32m    445\u001b[0m \u001b[1;33m\u001b[0m\u001b[0m\n\u001b[1;32m--> 446\u001b[1;33m         \u001b[0mself\u001b[0m\u001b[1;33m.\u001b[0m\u001b[0mestablish_variables\u001b[0m\u001b[1;33m(\u001b[0m\u001b[0mx\u001b[0m\u001b[1;33m,\u001b[0m \u001b[0my\u001b[0m\u001b[1;33m,\u001b[0m \u001b[0mhue\u001b[0m\u001b[1;33m,\u001b[0m \u001b[0mdata\u001b[0m\u001b[1;33m,\u001b[0m \u001b[0morient\u001b[0m\u001b[1;33m,\u001b[0m \u001b[0morder\u001b[0m\u001b[1;33m,\u001b[0m \u001b[0mhue_order\u001b[0m\u001b[1;33m)\u001b[0m\u001b[1;33m\u001b[0m\u001b[1;33m\u001b[0m\u001b[0m\n\u001b[0m\u001b[0;32m    447\u001b[0m         \u001b[0mself\u001b[0m\u001b[1;33m.\u001b[0m\u001b[0mestablish_colors\u001b[0m\u001b[1;33m(\u001b[0m\u001b[0mcolor\u001b[0m\u001b[1;33m,\u001b[0m \u001b[0mpalette\u001b[0m\u001b[1;33m,\u001b[0m \u001b[0msaturation\u001b[0m\u001b[1;33m)\u001b[0m\u001b[1;33m\u001b[0m\u001b[1;33m\u001b[0m\u001b[0m\n\u001b[0;32m    448\u001b[0m \u001b[1;33m\u001b[0m\u001b[0m\n",
      "\u001b[1;32m~\\Anaconda3\\lib\\site-packages\\seaborn\\categorical.py\u001b[0m in \u001b[0;36mestablish_variables\u001b[1;34m(self, x, y, hue, data, orient, order, hue_order, units)\u001b[0m\n\u001b[0;32m    153\u001b[0m                 \u001b[1;32mif\u001b[0m \u001b[0misinstance\u001b[0m\u001b[1;33m(\u001b[0m\u001b[0minput\u001b[0m\u001b[1;33m,\u001b[0m \u001b[0mstring_types\u001b[0m\u001b[1;33m)\u001b[0m\u001b[1;33m:\u001b[0m\u001b[1;33m\u001b[0m\u001b[1;33m\u001b[0m\u001b[0m\n\u001b[0;32m    154\u001b[0m                     \u001b[0merr\u001b[0m \u001b[1;33m=\u001b[0m \u001b[1;34m\"Could not interpret input '{}'\"\u001b[0m\u001b[1;33m.\u001b[0m\u001b[0mformat\u001b[0m\u001b[1;33m(\u001b[0m\u001b[0minput\u001b[0m\u001b[1;33m)\u001b[0m\u001b[1;33m\u001b[0m\u001b[1;33m\u001b[0m\u001b[0m\n\u001b[1;32m--> 155\u001b[1;33m                     \u001b[1;32mraise\u001b[0m \u001b[0mValueError\u001b[0m\u001b[1;33m(\u001b[0m\u001b[0merr\u001b[0m\u001b[1;33m)\u001b[0m\u001b[1;33m\u001b[0m\u001b[1;33m\u001b[0m\u001b[0m\n\u001b[0m\u001b[0;32m    156\u001b[0m \u001b[1;33m\u001b[0m\u001b[0m\n\u001b[0;32m    157\u001b[0m             \u001b[1;31m# Figure out the plotting orientation\u001b[0m\u001b[1;33m\u001b[0m\u001b[1;33m\u001b[0m\u001b[1;33m\u001b[0m\u001b[0m\n",
      "\u001b[1;31mValueError\u001b[0m: Could not interpret input 'Age'"
     ]
    },
    {
     "data": {
      "image/png": "[encoded data removed]",
      "text/plain": [
       "<Figure size 1080x2160 with 8 Axes>"
      ]
     },
     "metadata": {
      "needs_background": "light"
     },
     "output_type": "display_data"
    }
   ],
   "source": [
    "fig = plt.figure(figsize=(15,30))\n",
    "grid = plt.GridSpec(ncols=2, nrows=5)\n",
    "ax1 = fig.add_subplot(grid[0, 0])\n",
    "ax2 = fig.add_subplot(grid[0, 1])\n",
    "ax3 = fig.add_subplot(grid[1, 0])\n",
    "ax4 = fig.add_subplot(grid[1, 1])\n",
    "ax5 = fig.add_subplot(grid[2, 0])\n",
    "ax6 = fig.add_subplot(grid[2, 1])\n",
    "ax7 = fig.add_subplot(grid[3, 0])\n",
    "ax8 = fig.add_subplot(grid[3, 1])\n",
    "\n",
    "sns.boxplot(x='Age', data=zvariables1, whis = 1.5, color= '#154360', ax=ax1)\n",
    "sns.boxplot(x='Gross Monthly Salary', data=zvariables1, whis = 1.5, color= '#FFC300', ax=ax2)\n",
    "# sns.boxplot(x='Premiums in LOB: Motor', data=zvariables1, whis = 1.5, color= '#566D2D', ax=ax1)\n",
    "# sns.boxplot(x='Premiums in LOB: Household', data=zvariables1, whis = 1.5, color= '#C70039', ax=ax2)\n",
    "sns.boxplot(x='Premiums in LOB: Health', data=zvariables1, whis = 1.5, color= '#900C3F', ax=ax3)\n",
    "sns.boxplot(x='Premiums in LOB:  Life', data=zvariables1, whis = 1.5, color= '#2D87C0', ax=ax4)\n",
    "sns.boxplot(x='Premiums in LOB: Work Compensations', data=zvariables1, color= '#91CDF4', whis = 1.5, ax=ax5)\n",
    "sns.boxplot(x='Claims Rate', data=zvariables1, color= '#91CDF4', whis = 1.5, ax=ax6)\n",
    "sns.boxplot(x='Gross Monthly Salary', data=zvariables1, color= '#91CDF4', whis = 1.5, ax=ax7)"
   ]
  },
  {
   "cell_type": "markdown",
   "metadata": {},
   "source": [
    "Now we will build the new dataFrame without the outliers "
   ]
  },
  {
   "cell_type": "code",
   "execution_count": null,
   "metadata": {},
   "outputs": [],
   "source": [
    "index1.size # I want those indexs from my original database \n",
    "insurance_df_ct.index.size\n",
    "insurance_df_ct\n",
    "\n",
    "insurance_dff = insurance_df_ct[insurance_df_ct.index.isin(index1)] # DataFrame Without the Outliears\n",
    "print(insurance_dff.shape)\n",
    "insurance_outliers = insurance_df_ct[insurance_df_ct.index.isin(index1) == False] # DataFrame Without the Outliers\n",
    "print(insurance_outliers.shape)"
   ]
  },
  {
   "cell_type": "code",
   "execution_count": null,
   "metadata": {},
   "outputs": [],
   "source": [
    "insurance_df_ct = insurance_dff\n",
    "insurance_df_ct"
   ]
  },
  {
   "cell_type": "markdown",
   "metadata": {},
   "source": [
    "## 2. Methodology\n"
   ]
  },
  {
   "cell_type": "code",
   "execution_count": null,
   "metadata": {},
   "outputs": [],
   "source": [
    "insurance_df_ct.describe()"
   ]
  },
  {
   "cell_type": "markdown",
   "metadata": {},
   "source": [
    "## 3. Univariate Analysis"
   ]
  },
  {
   "cell_type": "code",
   "execution_count": null,
   "metadata": {},
   "outputs": [],
   "source": [
    "# Chaging styles\n",
    "colors = [\"#154360\",\"#FF5733\",\"#FFC300\",\"#DAF7A6\"]\n",
    "sns.set_palette(sns.color_palette(colors))\n",
    "sns.set_style('whitegrid')\n"
   ]
  },
  {
   "cell_type": "markdown",
   "metadata": {},
   "source": [
    "   ##### Educational Degree"
   ]
  },
  {
   "cell_type": "code",
   "execution_count": null,
   "metadata": {},
   "outputs": [],
   "source": [
    "insurance_df['Educational Degree'].value_counts().sum() #No NA's\n",
    "insurance_df['Educational Degree'].value_counts()"
   ]
  },
  {
   "cell_type": "markdown",
   "metadata": {},
   "source": [
    "##### Has Children"
   ]
  },
  {
   "cell_type": "code",
   "execution_count": null,
   "metadata": {},
   "outputs": [],
   "source": [
    "insurance_df['Has Children (Y=1)'].value_counts().sum() #No NA's\n",
    "insurance_df['Has Children (Y=1)'].value_counts()"
   ]
  },
  {
   "cell_type": "markdown",
   "metadata": {},
   "source": [
    "#### Geographic Living Area"
   ]
  },
  {
   "cell_type": "code",
   "execution_count": null,
   "metadata": {},
   "outputs": [],
   "source": [
    "insurance_df['Geographic Living Area'].value_counts().sum() #No NA's\n",
    "insurance_df['Geographic Living Area'].value_counts()"
   ]
  },
  {
   "cell_type": "code",
   "execution_count": null,
   "metadata": {},
   "outputs": [],
   "source": [
    "fig = plt.figure(figsize=(16,3))\n",
    "grid = plt.GridSpec(ncols=3, nrows=1)\n",
    "ax1 = fig.add_subplot(grid[0, 0])\n",
    "ax2 = fig.add_subplot(grid[0, 1])\n",
    "ax3 = fig.add_subplot(grid[0, 2])\n",
    "sns.countplot(x='Educational Degree', data=insurance_df, ax=ax1)\n",
    "sns.countplot(x='Has Children (Y=1)', data=insurance_df,ax=ax2)\n",
    "sns.countplot(x='Geographic Living Area', data=insurance_df, ax=ax3)"
   ]
  },
  {
   "cell_type": "markdown",
   "metadata": {},
   "source": [
    "#### BirthDate"
   ]
  },
  {
   "cell_type": "code",
   "execution_count": null,
   "metadata": {},
   "outputs": [],
   "source": [
    "sns.distplot(insurance_df['Age'],bins=30,kde=False,color='RoyalBlue')"
   ]
  },
  {
   "cell_type": "markdown",
   "metadata": {},
   "source": [
    "#### Gross Monthly Salary"
   ]
  },
  {
   "cell_type": "code",
   "execution_count": null,
   "metadata": {},
   "outputs": [],
   "source": [
    "insurance_df['Gross Monthly Salary']\n",
    "insurance_df['Gross Monthly Salary'].describe()\n",
    "sum(insurance_df['Gross Monthly Salary'].isnull()) # 34 NA's\n",
    "insurance_df['Gross Monthly Salary'].describe()\n",
    "insurance_df['Gross Monthly Salary'].fillna(0)"
   ]
  },
  {
   "cell_type": "code",
   "execution_count": null,
   "metadata": {},
   "outputs": [],
   "source": [
    "sns.distplot(insurance_df['Gross Monthly Salary'], kde=False,color='red', bins=30) "
   ]
  },
  {
   "cell_type": "markdown",
   "metadata": {},
   "source": [
    "#### Premiums (Euros) "
   ]
  },
  {
   "cell_type": "code",
   "execution_count": null,
   "metadata": {},
   "outputs": [],
   "source": [
    "insurance_df.info()\n",
    "insurance_df['Premiums in LOB: Motor']\n",
    "insurance_df['Premiums in LOB: Household']\n",
    "insurance_df['Premiums in LOB: Health']\n",
    "insurance_df['Premiums in LOB:  Life']\n",
    "insurance_df['Premiums in LOB: Work Compensations']"
   ]
  },
  {
   "cell_type": "markdown",
   "metadata": {},
   "source": [
    "## 4. Multivariate Analysis"
   ]
  },
  {
   "cell_type": "code",
   "execution_count": null,
   "metadata": {},
   "outputs": [],
   "source": [
    "#Let's understand what is happening in our database"
   ]
  },
  {
   "cell_type": "code",
   "execution_count": null,
   "metadata": {
    "scrolled": true
   },
   "outputs": [],
   "source": [
    "insurance_df.info()\n"
   ]
  },
  {
   "cell_type": "markdown",
   "metadata": {},
   "source": [
    "Lets study the correlation between each one of the ratio variables"
   ]
  },
  {
   "cell_type": "code",
   "execution_count": null,
   "metadata": {},
   "outputs": [],
   "source": [
    "insurance_corr = insurance_df[premiums].corr()\n",
    "insurance_corr\n",
    "#Correlation plot\n",
    "mask = np.zeros_like(insurance_corr, dtype=np.bool)\n",
    "mask[np.triu_indices_from(mask)] = True\n",
    "\n",
    "#  #Colors\n",
    "cmap = sns.diverging_palette(240, 10, n=9)\n",
    "# # #Plotting the heatmap\n",
    "sns.heatmap(insurance_corr, mask=mask, linewidths=.5, cmap = [\"#154360\",\"#2575a7\",\"#96c9e8\",\"#c1dff0\",\"#eaf4fa\",\"#ffeae6\",\"#ffc1b3\",\"#ff8266\",\"#FF5733\"]\n",
    ")\n",
    "#Low correlations but we can consider a small correlation between \n",
    "#\"Premiums in LOB: Motor\" and Premiums in LOB: Work Compensations"
   ]
  },
  {
   "cell_type": "code",
   "execution_count": null,
   "metadata": {},
   "outputs": [],
   "source": [
    "insurance_corr = insurance_df[customer].corr()\n",
    "insurance_corr\n",
    "#Correlation plot\n",
    "mask = np.zeros_like(insurance_corr, dtype=np.bool)\n",
    "mask[np.triu_indices_from(mask)] = True\n",
    "\n",
    "#  #Colors\n",
    "cmap = sns.diverging_palette(240, 10, n=9)\n",
    "# # #Plotting the heatmap\n",
    "sns.heatmap(insurance_corr, mask=mask, linewidths=.5, cmap=cmap)"
   ]
  },
  {
   "cell_type": "markdown",
   "metadata": {},
   "source": [
    "We noticed that there's no high correlation between each one the Premiums, so we'll keep working on others creations.\n",
    "We will calculate the Contingency coefficient of each one the Categorical variables with the continuous variables."
   ]
  },
  {
   "cell_type": "code",
   "execution_count": null,
   "metadata": {},
   "outputs": [],
   "source": [
    "#nominals = insurance_df[['Educational Degree','Geographic Living Area','Has Children (Y=1)']]"
   ]
  },
  {
   "cell_type": "code",
   "execution_count": null,
   "metadata": {},
   "outputs": [],
   "source": [
    "from scipy.stats import chisquare\n",
    "\n",
    "#Educational Degree and Geographic Living Area\n",
    "data_crosstab1 = pd.crosstab(insurance_df['Educational Degree'], insurance_df['Geographic Living Area'] , \n",
    "                               margins = False) \n",
    "print(data_crosstab1) \n",
    "\n",
    "print(chisquare(data_crosstab1))\n",
    "\n",
    "#Educational Degree and Has Children\n",
    "data_crosstab2 = pd.crosstab(insurance_df['Educational Degree'], insurance_df['Has Children (Y=1)'] , \n",
    "                               margins = False) \n",
    "print(data_crosstab2) \n",
    "\n",
    "print(chisquare(data_crosstab2))\n",
    "\n",
    "#Geographic Living Area and Has Children\n",
    "data_crosstab3 = pd.crosstab(insurance_df['Geographic Living Area'], insurance_df['Has Children (Y=1)'] , \n",
    "                               margins = False) \n",
    "print(data_crosstab3) \n",
    "\n",
    "print(chisquare(data_crosstab3))"
   ]
  },
  {
   "cell_type": "markdown",
   "metadata": {},
   "source": [
    "## 5. Clustering"
   ]
  },
  {
   "cell_type": "markdown",
   "metadata": {},
   "source": [
    "#### K- MEANS AND K-MODES AND HIERARCHICAL\n"
   ]
  },
  {
   "cell_type": "markdown",
   "metadata": {},
   "source": [
    "#### Customers"
   ]
  },
  {
   "cell_type": "code",
   "execution_count": null,
   "metadata": {},
   "outputs": [],
   "source": [
    "cust_clust = insurance_df_ct[customer].loc[:,insurance_df_ct[customer].columns != \"Customer Identity\"]"
   ]
  },
  {
   "cell_type": "code",
   "execution_count": null,
   "metadata": {},
   "outputs": [],
   "source": [
    "list(cust_clust)"
   ]
  },
  {
   "cell_type": "code",
   "execution_count": null,
   "metadata": {},
   "outputs": [],
   "source": [
    "from scipy.cluster.hierarchy import dendrogram, linkage\n",
    "from sklearn.preprocessing import StandardScaler\n",
    "\n",
    "           \n",
    "scaler = StandardScaler()\n",
    "CA_Norm = scaler.fit_transform(cust_clust)\n",
    "CA_Norm = pd.DataFrame(CA_Norm, columns = cust_clust.columns)\n",
    "Z = linkage(CA_Norm,\n",
    "            method = 'ward')\n",
    "\n",
    "plt.figure(figsize=(7,7))\n",
    "dendrogram(Z,\n",
    "            #truncate_mode='none',\n",
    "            truncate_mode='lastp',\n",
    "            p=40,\n",
    "            orientation = 'top',\n",
    "            leaf_rotation=45.,\n",
    "            leaf_font_size=10.,\n",
    "            show_contracted=True,\n",
    "            show_leaf_counts=True, color_threshold=50, above_threshold_color='k')\n",
    "\n",
    "\n",
    "plt.title('Truncated Hierarchical Clustering Dendrogram')\n",
    "plt.xlabel('Cluster Size')\n",
    "plt.ylabel('Distance')\n",
    "plt.axhline(y=105)\n",
    "plt.show()"
   ]
  },
  {
   "cell_type": "markdown",
   "metadata": {},
   "source": [
    "Because of the hierarchical dendogram, we observed that we need two clusters to describe our data related to the \"customers\""
   ]
  },
  {
   "cell_type": "code",
   "execution_count": null,
   "metadata": {},
   "outputs": [],
   "source": [
    "#KMEANS For Customers\n",
    "from sklearn.preprocessing import StandardScaler\n",
    "scaler = StandardScaler()\n",
    "CA_Norm = scaler.fit_transform(cust_clust)\n",
    "CA_Norm = pd.DataFrame(CA_Norm, columns = cust_clust.columns)\n",
    "\n",
    "from sklearn.cluster import KMeans\n",
    "n_clusters_for_customers = 3\n",
    "\n",
    "kmeans = KMeans(n_clusters= 3, \n",
    "                random_state=0,\n",
    "                n_init = 5,\n",
    "                max_iter = 200).fit(CA_Norm)\n",
    "\n",
    "\n",
    "my_clusters = kmeans.cluster_centers_\n",
    "\n",
    "scaler.inverse_transform( X = my_clusters)\n",
    "my_clusters = pd.DataFrame(scaler.inverse_transform(X = my_clusters), columns = cust_clust.columns)\n",
    "# Check the Clusters\n",
    "\n",
    "Sum_of_squared_distances = []\n",
    "K = range(1,15)\n",
    "for k in K:\n",
    "    km = KMeans(n_clusters=k)\n",
    "    km = km.fit(CA_Norm)\n",
    "    Sum_of_squared_distances.append(km.inertia_)\n",
    "\n",
    "import pandas as pd\n",
    "from sklearn.datasets.samples_generator import make_blobs\n",
    "from sklearn.cluster import KMeans\n",
    "\n",
    "# 'First Policy´s Year','Brithday Year','Gross Monthly Salary','Claims Rate','Customer Monetary Value',\n",
    "y = kmeans.fit_predict(cust_clust)\n",
    "\n",
    "insurance_df_ct['Cluster'] = y\n",
    "\n",
    "kmeansC = kmeans\n",
    "\n",
    "#Plot Elbow Method\n",
    "plt.plot(K, Sum_of_squared_distances, 'bx-', color='#FF5733')\n",
    "plt.xlabel('k')\n",
    "plt.ylabel('Sum of squared distances')\n",
    "plt.title('Elbow Method For Optimal k')\n",
    "plt.show()\n"
   ]
  },
  {
   "cell_type": "code",
   "execution_count": null,
   "metadata": {},
   "outputs": [],
   "source": [
    "from sklearn.metrics import silhouette_samples\n",
    "from sklearn.metrics import silhouette_score\n",
    "\n",
    "silhouette_avg = silhouette_score(CA_Norm, kmeans.labels_)\n",
    "print(\"For n_clusters =\", n_clusters_for_customers,\n",
    "          \"The average silhouette_score is :\", silhouette_avg)\n",
    "\n",
    "# Compute the silhouette scores for each sample\n",
    "sample_silhouette_values = silhouette_samples(CA_Norm, kmeans.labels_)\n",
    "\n",
    "cluster_labels = kmeans.labels_\n",
    "\n",
    "import matplotlib.cm as cm\n",
    "y_lower = 100\n",
    "\n",
    "fig = plt.figure()\n",
    "ax1 = fig.add_subplot(111)\n",
    "\n",
    "for i in range(n_clusters_for_customers):\n",
    "    ith_cluster_silhouette_values = sample_silhouette_values[cluster_labels == i]\n",
    "    ith_cluster_silhouette_values.sort()\n",
    "    size_cluster_i=ith_cluster_silhouette_values. shape[0]\n",
    "    y_upper = y_lower + size_cluster_i\n",
    "    y_upper = y_lower + size_cluster_i\n",
    "    color = cm.nipy_spectral(float(i) / n_clusters_for_customers)\n",
    "    ax1.fill_betweenx(np.arange(y_lower, y_upper),\n",
    "                          0, ith_cluster_silhouette_values,\n",
    "                          facecolor=color, edgecolor=color, alpha=0.7)\n",
    "\n",
    "    # Label the silhouette plots with their cluster numbers at the middle\n",
    "    ax1.text(-0.05, y_lower + 0.5 * size_cluster_i, str(i))\n",
    "\n",
    "    # Compute the new y_lower for next plot\n",
    "    y_lower = y_upper + 10  # 10 for the 0 samples"
   ]
  },
  {
   "cell_type": "markdown",
   "metadata": {},
   "source": [
    "#### Premium"
   ]
  },
  {
   "cell_type": "code",
   "execution_count": null,
   "metadata": {},
   "outputs": [],
   "source": [
    "from scipy.cluster.hierarchy import dendrogram, linkage\n",
    "from sklearn.preprocessing import StandardScaler\n",
    "\n",
    "prem_clust = insurance_df_ct[premiums].loc[:,insurance_df_ct[premiums].columns != \"Customer Identity\"]\n",
    "\n",
    "scaler = StandardScaler()\n",
    "CA_Norm = scaler.fit_transform(prem_clust)\n",
    "CA_Norm = pd.DataFrame(CA_Norm, columns = prem_clust.columns)\n",
    "Z = linkage(CA_Norm,\n",
    "            method = 'ward')\n",
    "plt.figure(figsize=(7,7))\n",
    "dendrogram(Z,\n",
    "            #truncate_mode='none',\n",
    "            truncate_mode='lastp',\n",
    "            p=40,\n",
    "            orientation = 'top',\n",
    "            leaf_rotation=45.,\n",
    "            leaf_font_size=10.,\n",
    "            show_contracted=True,\n",
    "            show_leaf_counts=True, color_threshold=50, above_threshold_color='k')\n",
    "\n",
    "\n",
    "plt.title('Truncated Hierarchical Clustering Dendrogram')\n",
    "plt.xlabel('Cluster Size')\n",
    "plt.ylabel('Distance')\n",
    "plt.axhline(y=100)\n",
    "plt.show()"
   ]
  },
  {
   "cell_type": "code",
   "execution_count": null,
   "metadata": {},
   "outputs": [],
   "source": [
    "#KMEANS For Premiums\n",
    "from sklearn.preprocessing import StandardScaler\n",
    "scaler = StandardScaler()\n",
    "CA_Norm = scaler.fit_transform(prem_clust)\n",
    "CA_Norm = pd.DataFrame(CA_Norm, columns = prem_clust.columns)\n",
    "\n",
    "from sklearn.cluster import KMeans\n",
    "n_clusters_for_customers = 2\n",
    "\n",
    "kmeans = KMeans(n_clusters= 2, \n",
    "                random_state=0,\n",
    "                n_init = 5,\n",
    "                max_iter = 200).fit(CA_Norm)\n",
    "\n",
    "\n",
    "my_clusters = kmeans.cluster_centers_\n",
    "\n",
    "scaler.inverse_transform( X = my_clusters)\n",
    "my_clusters = pd.DataFrame(scaler.inverse_transform(X = my_clusters), columns = prem_clust.columns)\n",
    "# Check the Clusters\n",
    "kmeansP = kmeans\n",
    "Sum_of_squared_distances = []\n",
    "K = range(1,15)\n",
    "for k in K:\n",
    "    km = KMeans(n_clusters=k)\n",
    "    km = km.fit(CA_Norm)\n",
    "    Sum_of_squared_distances.append(km.inertia_)\n",
    "\n",
    "import pandas as pd\n",
    "from sklearn.datasets.samples_generator import make_blobs\n",
    "from sklearn.cluster import KMeans\n",
    "\n",
    "y = kmeans.fit_predict(prem_clust)\n",
    "\n",
    "insurance_df_ct['Cluster'] = y\n",
    "\n",
    "\n",
    "\n",
    "#Plot Elbow Method\n",
    "\n",
    "plt.plot(K, Sum_of_squared_distances, 'bx-', color='#FF5733')\n",
    "plt.xlabel('k')\n",
    "plt.ylabel('Sum of squared distances')\n",
    "plt.title('Elbow Method For Optimal k')\n",
    "plt.show()\n"
   ]
  },
  {
   "cell_type": "code",
   "execution_count": null,
   "metadata": {},
   "outputs": [],
   "source": [
    "from sklearn.metrics import silhouette_samples\n",
    "from sklearn.metrics import silhouette_score\n",
    "\n",
    "silhouette_avg = silhouette_score(CA_Norm, kmeans.labels_)\n",
    "print(\"For n_clusters =\", n_clusters_for_customers,\n",
    "          \"The average silhouette_score is :\", silhouette_avg)\n",
    "\n",
    "# Compute the silhouette scores for each sample\n",
    "sample_silhouette_values = silhouette_samples(CA_Norm, kmeans.labels_)\n",
    "\n",
    "cluster_labels = kmeans.labels_\n",
    "\n",
    "import matplotlib.cm as cm\n",
    "y_lower = 100\n",
    "\n",
    "fig = plt.figure()\n",
    "ax1 = fig.add_subplot(111)\n",
    "\n",
    "for i in range(n_clusters_for_customers):\n",
    "    ith_cluster_silhouette_values = sample_silhouette_values[cluster_labels == i]\n",
    "    ith_cluster_silhouette_values.sort()\n",
    "    size_cluster_i=ith_cluster_silhouette_values. shape[0]\n",
    "    y_upper = y_lower + size_cluster_i\n",
    "    y_upper = y_lower + size_cluster_i\n",
    "    color = cm.nipy_spectral(float(i) / n_clusters_for_customers)\n",
    "    ax1.fill_betweenx(np.arange(y_lower, y_upper),\n",
    "                          0, ith_cluster_silhouette_values,\n",
    "                          facecolor=color, edgecolor=color, alpha=0.7)\n",
    "\n",
    "    # Label the silhouette plots with their cluster numbers at the middle\n",
    "    ax1.text(-0.05, y_lower + 0.5 * size_cluster_i, str(i))\n",
    "\n",
    "    # Compute the new y_lower for next plot\n",
    "    y_lower = y_upper + 10  # 10 for the 0 samples"
   ]
  },
  {
   "cell_type": "code",
   "execution_count": null,
   "metadata": {},
   "outputs": [],
   "source": [
    "# plt.scatter(X[:,0],X[:,1], c=kmeans.labels_, cmap='rainbow')\n",
    "# plt.scatter(kmeans.cluster_centers_[:,0] ,kmeans.cluster_centers_[:,1], color='black')"
   ]
  },
  {
   "cell_type": "code",
   "execution_count": null,
   "metadata": {},
   "outputs": [],
   "source": [
    "len(X)"
   ]
  },
  {
   "cell_type": "markdown",
   "metadata": {},
   "source": [
    "#### Clusterization of the Nominal of the costumers"
   ]
  },
  {
   "cell_type": "code",
   "execution_count": null,
   "metadata": {},
   "outputs": [],
   "source": [
    "nominal_clust = insurance_df_ct[nominal].loc[:,insurance_df_ct[nominal].columns != \"Customer Identity\"]"
   ]
  },
  {
   "cell_type": "code",
   "execution_count": null,
   "metadata": {},
   "outputs": [],
   "source": [
    "#KMODES for Nominal\n",
    "from kmodes.kmodes import KModes\n",
    "VE_Cat = insurance_df_ct[['Educational Degree','Geographic Living Area','Has Children (Y=1)']].astype('str')\n",
    "\n",
    "# for j in list(VE_Cat):\n",
    "#     for i in range(VE_Cat.shape[0]):\n",
    "#         if VE_Cat.loc[i,j] =='':\n",
    "#             VE_Cat.loc[i,j] = 'Missing'\n",
    "\n",
    "km = KModes(n_clusters=3, init='random', n_init=50, verbose=1)\n",
    "\n",
    "clusters = km.fit_predict(VE_Cat)\n",
    "\n",
    "kmodesD = km \n",
    "\n",
    "# Print the cluster centroids\n",
    "print(km.cluster_centroids_)\n",
    "cat_centroids = pd.DataFrame(km.cluster_centroids_,\n",
    "                             columns = ['Educational Degree','Geographic Living Area','Has Children (Y=1)'])\n",
    "\n",
    "unique, counts = np.unique(km.labels_, return_counts=True)\n",
    "\n",
    "cat_counts = pd.DataFrame(np.asarray((unique, counts)).T, columns = ['Label','Number'])\n",
    "\n",
    "cat_centroids = pd.concat([cat_centroids, cat_counts], axis = 1)"
   ]
  },
  {
   "cell_type": "code",
   "execution_count": null,
   "metadata": {},
   "outputs": [],
   "source": [
    "cat_centroids "
   ]
  },
  {
   "cell_type": "markdown",
   "metadata": {},
   "source": [
    "### Self Organizing Maps ###"
   ]
  },
  {
   "cell_type": "markdown",
   "metadata": {},
   "source": [
    "#### Customer ####"
   ]
  },
  {
   "cell_type": "code",
   "execution_count": null,
   "metadata": {},
   "outputs": [],
   "source": [
    "from sompy.sompy import SOMFactory\n",
    "from sompy.visualization.plot_tools import plot_hex_map\n",
    "import logging\n",
    "from sklearn.preprocessing import StandardScaler\n",
    "\n",
    "scaler = StandardScaler()\n",
    "\n",
    "CA_Norm = scaler.fit_transform(insurance_df_ct[customer])\n",
    "CA_Norm = pd.DataFrame(CA_Norm, columns = insurance_df_ct[customer].columns)\n",
    "\n",
    "X = CA_Norm.values\n",
    "X\n",
    "\n",
    "sm = SOMFactory().build(data = X,\n",
    "               mapsize=(10,10), #size of the neurons\n",
    "               normalization = 'var',\n",
    "               initialization='random',#'random', 'pca'\n",
    "               lattice='hexa',#'rect','hexa'\n",
    "               training ='seq' )#'seq','batch'\n",
    "\n",
    "sm.train(n_job=4,\n",
    "         verbose='info',\n",
    "         train_rough_len=30,\n",
    "         train_finetune_len=100)\n",
    "\n",
    "final_clusters = pd.DataFrame(sm._data, columns = insurance_df_ct[customer].columns)\n",
    "\n",
    "my_labels = pd.DataFrame(sm._bmu[0])\n",
    "    \n",
    "final_clusters = pd.concat([final_clusters,my_labels], axis = 1)\n"
   ]
  },
  {
   "cell_type": "code",
   "execution_count": null,
   "metadata": {},
   "outputs": [],
   "source": []
  },
  {
   "cell_type": "code",
   "execution_count": null,
   "metadata": {},
   "outputs": [],
   "source": [
    "# # Graphs\n",
    "# from sompy.visualization.mapview import View2D\n",
    "# view2D  = View2D(10,10,\"\", text_size=7)\n",
    "# view2D.show(sm, col_sz=5, what = 'codebook',)#which_dim=\"all\", denormalize=True)\n",
    "# plt.show()\n",
    "\n",
    "\n",
    "# from sompy.visualization.bmuhits import BmuHitsView\n",
    "# vhts  = BmuHitsView(12,12,\"Hits Map\",text_size=7)\n",
    "# vhts.show(sm, anotate=True, onlyzeros=False, labelsize=10, cmap=\"autumn\", logaritmic=False)\n",
    "\n",
    "\n",
    "\n",
    "\n",
    "# K-Means Clustering\n",
    "from sompy.visualization.hitmap import HitMapView\n",
    "sm.cluster(3)\n",
    "hits  = HitMapView(10,10,\"Clustering\",text_size=7)\n",
    "a=hits.show(sm, labelsize=12,cmap='autumn')\n"
   ]
  },
  {
   "cell_type": "markdown",
   "metadata": {},
   "source": [
    "#### Premium ####"
   ]
  },
  {
   "cell_type": "code",
   "execution_count": null,
   "metadata": {},
   "outputs": [],
   "source": [
    "from sompy.sompy import SOMFactory\n",
    "from sompy.visualization.plot_tools import plot_hex_map\n",
    "import logging\n",
    "from sklearn.preprocessing import StandardScaler\n",
    "\n",
    "scaler = StandardScaler()\n",
    "\n",
    "CA_Norm = scaler.fit_transform(insurance_df_ct[premiums])\n",
    "CA_Norm = pd.DataFrame(CA_Norm, columns = insurance_df_ct[premiums].columns)\n",
    "\n",
    "X = CA_Norm.values\n",
    "X\n",
    "\n",
    "sm = SOMFactory().build(data = X,\n",
    "               mapsize=(10,10), #size of the neurons\n",
    "               normalization = 'var',\n",
    "               initialization='random',#'random', 'pca'\n",
    "               lattice='hexa',#'rect','hexa'\n",
    "               training ='seq' )#'seq','batch'\n",
    "\n",
    "sm.train(n_job=4,\n",
    "         verbose='info',\n",
    "         train_rough_len=30,\n",
    "         train_finetune_len=100)\n",
    "\n",
    "final_clusters = pd.DataFrame(sm._data, columns = insurance_df_ct[premiums].columns)\n",
    "\n",
    "my_labels = pd.DataFrame(sm._bmu[0])\n",
    "    \n",
    "final_clusters = pd.concat([final_clusters,my_labels], axis = 1)\n"
   ]
  },
  {
   "cell_type": "code",
   "execution_count": null,
   "metadata": {},
   "outputs": [],
   "source": [
    "# Graphs Premium\n",
    "from sompy.visualization.mapview import View2D\n",
    "view2D  = View2D(10,10,\"\", text_size=7)\n",
    "view2D.show(sm, col_sz=5, what = 'codebook',)#which_dim=\"all\", denormalize=True)\n",
    "plt.show()\n",
    "\n",
    "\n",
    "from sompy.visualization.bmuhits import BmuHitsView\n",
    "vhts  = BmuHitsView(12,12,\"Hits Map\",text_size=7)\n",
    "vhts.show(sm, anotate=True, onlyzeros=False, labelsize=10, cmap=\"autumn\", logaritmic=False)\n",
    "\n",
    "\n",
    "\n",
    "# K-Means Clustering\n",
    "from sompy.visualization.hitmap import HitMapView\n",
    "sm.cluster(3)\n",
    "hits  = HitMapView(10,10,\"Clustering\",text_size=7)\n",
    "a=hits.show(sm, labelsize=12,cmap='autumn')\n"
   ]
  },
  {
   "cell_type": "markdown",
   "metadata": {},
   "source": [
    "### DB Scan ###"
   ]
  },
  {
   "cell_type": "markdown",
   "metadata": {},
   "source": [
    "#### Customer  ####"
   ]
  },
  {
   "cell_type": "code",
   "execution_count": null,
   "metadata": {},
   "outputs": [],
   "source": [
    "from sklearn.preprocessing import StandardScaler\n",
    "from sklearn.cluster import DBSCAN\n",
    "from sklearn import metrics\n",
    "\n",
    "scaler = StandardScaler()\n",
    "\n",
    "CA_Norm = scaler.fit_transform(insurance_df_ct[customer])\n",
    "CA_Norm = pd.DataFrame(CA_Norm, columns = insurance_df_ct[customer].columns)\n",
    "\n",
    "X = CA_Norm.values\n",
    "X\n",
    "\n",
    "db = DBSCAN(eps= 1, #Tamanho dos meus eps (define a quantidade de clusters)\n",
    "            min_samples=10).fit(CA_Norm)\n",
    "\n",
    "labels = db.labels_\n",
    "\n",
    "n_clusters_ = len(set(labels)) - (1 if -1 in labels else 0)\n",
    "\n",
    "unique_clusters, counts_clusters = np.unique(db.labels_, return_counts = True)\n",
    "print(np.asarray((unique_clusters, counts_clusters))) # Two Clusters\n",
    "\n",
    "#Applying PCA To plot the clusterization\n",
    "\n",
    "from sklearn.decomposition import PCA\n",
    "pca = PCA(n_components=2).fit(CA_Norm)\n",
    "pca_2d = pca.transform(CA_Norm)\n",
    "\n",
    "for i in range(0, pca_2d.shape[0]):\n",
    "    if db.labels_[i] == 0:\n",
    "        c1 = plt.scatter(pca_2d[i,0],pca_2d[i,1],c='orangered',marker='+')\n",
    "    elif db.labels_[i] == 1:\n",
    "        c2 = plt.scatter(pca_2d[i,0],pca_2d[i,1],c='yellowgreen',marker='o')\n",
    "    elif db.labels_[i] == 2:\n",
    "        c4 = plt.scatter(pca_2d[i,0],pca_2d[i,1],c='gold',marker='v')\n",
    "    elif db.labels_[i] == 3:\n",
    "        c5 = plt.scatter(pca_2d[i,0],pca_2d[i,1],c='lightcoral',marker='s')\n",
    "    elif db.labels_[i] == 4:\n",
    "        c6 = plt.scatter(pca_2d[i,0],pca_2d[i,1],c='lightskyblue',marker='p')\n",
    "    elif db.labels_[i] == 5:\n",
    "        c7 = plt.scatter(pca_2d[i,0],pca_2d[i,1],c='crimson',marker='H')\n",
    "    elif db.labels_[i] == -1:\n",
    "        c3 = plt.scatter(pca_2d[i,0],pca_2d[i,1],c='darkslategrey',marker='*')\n",
    "\n",
    "\n",
    "plt.legend([c1,c3], ['Cluster 1','Noise'])\n",
    "plt.title('DBSCAN finds 2 clusters and noise')\n",
    "plt.show()\n"
   ]
  },
  {
   "cell_type": "markdown",
   "metadata": {},
   "source": [
    "there are unbalanced Clusters with this technique"
   ]
  },
  {
   "cell_type": "markdown",
   "metadata": {},
   "source": [
    "#### Premiums ####"
   ]
  },
  {
   "cell_type": "code",
   "execution_count": null,
   "metadata": {},
   "outputs": [],
   "source": [
    "from sklearn.preprocessing import StandardScaler\n",
    "from sklearn.cluster import DBSCAN\n",
    "from sklearn import metrics\n",
    "\n",
    "scaler = StandardScaler()\n",
    "\n",
    "CA_Norm = scaler.fit_transform(insurance_df_ct[premiums])\n",
    "CA_Norm = pd.DataFrame(CA_Norm, columns = insurance_df_ct[premiums].columns)\n",
    "\n",
    "X = CA_Norm.values\n",
    "X\n",
    "\n",
    "db = DBSCAN(eps= 1, #Tamanho dos meus eps (define a quantidade de clusters)\n",
    "            min_samples=10).fit(CA_Norm)\n",
    "\n",
    "labels = db.labels_\n",
    "\n",
    "n_clusters_ = len(set(labels)) - (1 if -1 in labels else 0)\n",
    "\n",
    "unique_clusters, counts_clusters = np.unique(db.labels_, return_counts = True)\n",
    "print(np.asarray((unique_clusters, counts_clusters))) # Two Clusters\n",
    "\n",
    "#Applying PCA To plot the clusterization\n",
    "\n",
    "from sklearn.decomposition import PCA\n",
    "pca = PCA(n_components=2).fit(CA_Norm)\n",
    "pca_2d = pca.transform(CA_Norm)\n",
    "\n",
    "for i in range(0, pca_2d.shape[0]):\n",
    "    if db.labels_[i] == 0:\n",
    "        c1 = plt.scatter(pca_2d[i,0],pca_2d[i,1],c='orangered',marker='+')\n",
    "    elif db.labels_[i] == 1:\n",
    "        c2 = plt.scatter(pca_2d[i,0],pca_2d[i,1],c='yellowgreen',marker='o')\n",
    "    elif db.labels_[i] == 2:\n",
    "        c4 = plt.scatter(pca_2d[i,0],pca_2d[i,1],c='gold',marker='v')\n",
    "    elif db.labels_[i] == 3:\n",
    "        c5 = plt.scatter(pca_2d[i,0],pca_2d[i,1],c='lightcoral',marker='s')\n",
    "    elif db.labels_[i] == 4:\n",
    "        c6 = plt.scatter(pca_2d[i,0],pca_2d[i,1],c='lightskyblue',marker='p')\n",
    "    elif db.labels_[i] == 5:\n",
    "        c7 = plt.scatter(pca_2d[i,0],pca_2d[i,1],c='crimson',marker='H')\n",
    "    elif db.labels_[i] == -1:\n",
    "        c3 = plt.scatter(pca_2d[i,0],pca_2d[i,1],c='darkslategrey',marker='*')\n",
    "\n",
    "plt.legend([c1, c2, c3], ['Cluster 1', 'Cluster 2','Noise'])\n",
    "plt.title('DBSCAN finds 2 clusters and noise')\n",
    "plt.show()\n"
   ]
  },
  {
   "cell_type": "markdown",
   "metadata": {},
   "source": [
    "there are unbalanced Clusters with this technique as well (because we have a continuous dataset)"
   ]
  },
  {
   "cell_type": "markdown",
   "metadata": {},
   "source": [
    "### Mean Shift ###"
   ]
  },
  {
   "cell_type": "markdown",
   "metadata": {},
   "source": [
    "#### Customer ####"
   ]
  },
  {
   "cell_type": "code",
   "execution_count": null,
   "metadata": {},
   "outputs": [],
   "source": [
    "from sklearn.cluster import MeanShift, estimate_bandwidth\n",
    "\n",
    "scaler = StandardScaler()\n",
    "\n",
    "CA_Norm = scaler.fit_transform(insurance_df_ct[customer])\n",
    "CA_Norm = pd.DataFrame(CA_Norm, columns = insurance_df_ct[customer].columns)\n",
    "\n",
    "\n",
    "to_MS = CA_Norm\n",
    "# The following bandwidth can be automatically detected using\n",
    "my_bandwidth = estimate_bandwidth(to_MS,\n",
    "                               quantile=0.2,\n",
    "                               n_samples=1000)\n",
    "\n",
    "ms = MeanShift(bandwidth=my_bandwidth,\n",
    "               #bandwidth=0.15,\n",
    "               bin_seeding=True)\n",
    "\n",
    "ms.fit(to_MS)\n",
    "labels = ms.labels_\n",
    "cluster_centers = ms.cluster_centers_\n",
    "\n",
    "labels_unique = np.unique(labels)\n",
    "n_clusters_ = len(labels_unique)\n",
    "\n",
    "\n",
    "#Values\n",
    "scaler.inverse_transform(X=cluster_centers)\n",
    "\n",
    "#Count\n",
    "unique, counts = np.unique(labels, return_counts=True)\n",
    "\n",
    "print(np.asarray((unique, counts)).T)\n",
    "\n",
    "# lets check our are they distributed\n",
    "\n",
    "from sklearn.decomposition import PCA\n",
    "pca = PCA(n_components=2).fit(to_MS)\n",
    "pca_2d = pca.transform(to_MS)\n",
    "for i in range(0, pca_2d.shape[0]):\n",
    "    if labels[i] == 0:\n",
    "        c1 = plt.scatter(pca_2d[i,0],pca_2d[i,1],c='orangered',marker='+')\n",
    "    elif labels[i] == 1:\n",
    "        c2 = plt.scatter(pca_2d[i,0],pca_2d[i,1],c='yellowgreen',marker='o')\n",
    "    elif labels[i] == 2:\n",
    "        c3 = plt.scatter(pca_2d[i,0],pca_2d[i,1],c='darkslategrey',marker='*')\n",
    "\n",
    "\n",
    "plt.legend([c1, c2, c3], ['Cluster 1', 'Cluster 2','Noise'])\n",
    "plt.title('Mean Shift found 3 clusters')\n",
    "plt.show()\n"
   ]
  },
  {
   "cell_type": "markdown",
   "metadata": {},
   "source": [
    "#### Premiums ####\n"
   ]
  },
  {
   "cell_type": "code",
   "execution_count": null,
   "metadata": {},
   "outputs": [],
   "source": [
    "from sklearn.cluster import MeanShift, estimate_bandwidth\n",
    "\n",
    "scaler = StandardScaler()\n",
    "\n",
    "CA_Norm = scaler.fit_transform(insurance_df_ct[premiums])\n",
    "CA_Norm = pd.DataFrame(CA_Norm, columns = insurance_df_ct[premiums].columns)\n",
    "\n",
    "to_MS = CA_Norm\n",
    "# The following bandwidth can be automatically detected using\n",
    "my_bandwidth = estimate_bandwidth(to_MS,\n",
    "                               quantile=0.2,\n",
    "                               n_samples=1000)\n",
    "\n",
    "ms = MeanShift(bandwidth=my_bandwidth,\n",
    "               #bandwidth=0.15,\n",
    "               bin_seeding=True)\n",
    "\n",
    "ms.fit(to_MS)\n",
    "labels = ms.labels_\n",
    "cluster_centers = ms.cluster_centers_\n",
    "\n",
    "labels_unique = np.unique(labels)\n",
    "n_clusters_ = len(labels_unique)\n",
    "\n",
    "\n",
    "#Values\n",
    "scaler.inverse_transform(X=cluster_centers)\n",
    "\n",
    "#Count\n",
    "unique, counts = np.unique(labels, return_counts=True)\n",
    "\n",
    "print(np.asarray((unique, counts)).T)\n",
    "\n",
    "# lets check our are they distributed\n",
    "\n",
    "from sklearn.decomposition import PCA\n",
    "pca = PCA(n_components=2).fit(to_MS)\n",
    "pca_2d = pca.transform(to_MS)\n",
    "for i in range(0, pca_2d.shape[0]):\n",
    "    if labels[i] == 0:\n",
    "        c1 = plt.scatter(pca_2d[i,0],pca_2d[i,1],c='orangered',marker='+')\n",
    "    elif labels[i] == 1:\n",
    "        c2 = plt.scatter(pca_2d[i,0],pca_2d[i,1],c='yellowgreen',marker='o')\n",
    "    elif labels[i] == 2:\n",
    "        c3 = plt.scatter(pca_2d[i,0],pca_2d[i,1],c='darkslategrey',marker='*')\n",
    "\n",
    "plt.legend([c1, c2, c3], ['Cluster 1', 'Cluster 2','Cluster 3 '])\n",
    "plt.title('Mean Shift found 3 clusters')\n",
    "plt.show()\n",
    "\n"
   ]
  },
  {
   "cell_type": "markdown",
   "metadata": {},
   "source": [
    "We didn't got balanced clusters with this technique in both databases (continuous data)"
   ]
  },
  {
   "cell_type": "markdown",
   "metadata": {},
   "source": [
    "### Clustering merging ###"
   ]
  },
  {
   "cell_type": "code",
   "execution_count": null,
   "metadata": {},
   "outputs": [],
   "source": [
    "def clust_num(df,n):\n",
    "    \n",
    "    cluster_test = df.loc[:, df.columns !='Customer Identity']\n",
    "    scaler = preprocessing.MinMaxScaler()\n",
    "    cluster = scaler.fit_transform(cluster_test)\n",
    "    cluster = pd.DataFrame(cluster, columns = cluster_test.columns)\n",
    "    \n",
    "    kmeans = KMeans(n_cluster = n,\n",
    "                    random_state = 0,\n",
    "                    n_init = 5,\n",
    "                    max_iter = 200).fit(cluster)\n",
    "    \n",
    "    my_clusters = kmeans.cluster_centers_\n",
    "    centers_norm = my_clusters\n",
    "    my_clusters = scaler.inverse_transform(X = my_clusters)\n",
    "    num_centroids = pd.DataFrame(my_clusters, columns = cluster_test.columns)\n",
    "    centers_norm = pd.DataFrame(centers_norm, columns = cluster_test.columns)\n",
    "    \n",
    "    kmeans_list = kmeans.fit_predict(cluster_test)\n",
    "    \n",
    "    unique, counts = np.unique(kmeans.labels_, return_counts = True)\n",
    "    num_counts = pd.DataFrame(np.asarray((unique,counts)).T,columns = ['Label','Number'])\n",
    "    \n",
    "    merged = pd.merge(df, pd.DataFrame(kmeans_list), right_index = True, left_index = True)\n",
    "    \n",
    "    return merged, num_counts, num_centroids, centers_norm"
   ]
  },
  {
   "cell_type": "markdown",
   "metadata": {},
   "source": [
    "### Cluster Labeling ###"
   ]
  },
  {
   "cell_type": "code",
   "execution_count": null,
   "metadata": {},
   "outputs": [],
   "source": [
    "insurance_premium = insurance_df_ct[premiums]\n",
    "insurance_customer = insurance_df_ct[customer]\n",
    "insurance_nominal = insurance_df_ct[nominal]"
   ]
  },
  {
   "cell_type": "markdown",
   "metadata": {},
   "source": [
    "### Premium ###"
   ]
  },
  {
   "cell_type": "code",
   "execution_count": null,
   "metadata": {},
   "outputs": [],
   "source": [
    "Affinity_P = pd.DataFrame(pd.concat([insurance_premium, pd.DataFrame(kmeansP.labels_)],axis=1))\n",
    "Affinity_P\n",
    "Affinity_P.columns =  ['Customer Identity','Premiums in LOB: Motor', 'Premiums in LOB: Household',\n",
    "       'Premiums in LOB: Health', 'Premiums in LOB:  Life',\n",
    "       'Premiums in LOB: Work Compensations', 'P_Label']\n",
    "# Affinity_P['P_Label'].value_counts()\n"
   ]
  },
  {
   "cell_type": "markdown",
   "metadata": {},
   "source": [
    "### Customer ###"
   ]
  },
  {
   "cell_type": "code",
   "execution_count": null,
   "metadata": {},
   "outputs": [],
   "source": [
    "insurance_customer.columns"
   ]
  },
  {
   "cell_type": "code",
   "execution_count": null,
   "metadata": {},
   "outputs": [],
   "source": [
    "Affinity_C = pd.DataFrame(pd.concat([insurance_customer, pd.DataFrame(kmeansC.labels_)],axis=1))\n",
    "Affinity_C\n",
    "Affinity_C.columns =  ['Customer Identity', 'Gross Monthly Salary', 'Claims Rate',\n",
    "       'Customer Monetary Value', 'Client Spend','Fidelity','Age','C_Label']\n",
    "Affinity_C['C_Label'].value_counts()\n"
   ]
  },
  {
   "cell_type": "markdown",
   "metadata": {},
   "source": []
  },
  {
   "cell_type": "markdown",
   "metadata": {},
   "source": [
    "### Nominal ###"
   ]
  },
  {
   "cell_type": "code",
   "execution_count": null,
   "metadata": {},
   "outputs": [],
   "source": [
    "insurance_nominal.columns"
   ]
  },
  {
   "cell_type": "code",
   "execution_count": null,
   "metadata": {},
   "outputs": [],
   "source": [
    "Affinity_N = pd.DataFrame(pd.concat([insurance_nominal, pd.DataFrame(kmodesD.labels_)],axis=1))\n",
    "Affinity_N\n",
    "Affinity_N.columns =  ['Customer Identity', 'Educational Degree', 'Geographic Living Area',\n",
    "       'Has Children (Y=1)','N_Label']\n",
    "sum(Affinity_N['N_Label'].isna())\n",
    "Affinity_N['N_Label'].value_counts()\n"
   ]
  },
  {
   "cell_type": "code",
   "execution_count": null,
   "metadata": {},
   "outputs": [],
   "source": [
    "# We got all the databases\n",
    "Affinity_P\n",
    "Affinity_C\n",
    "Affinity_N\n",
    "# Let's reset those indexes\n",
    "Affinity_P = Affinity_P.set_index('Customer Identity')\n",
    "Affinity_C = Affinity_C.set_index('Customer Identity')\n",
    "Affinity_N = Affinity_N.set_index('Customer Identity')\n"
   ]
  },
  {
   "cell_type": "code",
   "execution_count": null,
   "metadata": {
    "scrolled": false
   },
   "outputs": [],
   "source": [
    "Cluster = pd.concat([Affinity_P, Affinity_C,Affinity_N], axis=1)\n",
    "Cluster\n",
    "Cluster1 = Cluster[Cluster['P_Label'].isna() == False]\n",
    "Cluster1 \n",
    "# Cluster1.head(10058)\n",
    "#Shape (10058, 16)\n",
    "# Cluster2 = Cluster1[:10058]\n",
    "# Cluster2 \n",
    "# sum(Cluster1['P_Label'].isna())"
   ]
  },
  {
   "cell_type": "code",
   "execution_count": null,
   "metadata": {},
   "outputs": [],
   "source": [
    "# Transforming out labels in Categorized variables\n",
    "# Cluster1['C_Label'] = Cluster1['C_Label'].astype('category')\n",
    "# Cluster1['P_Label'] = Cluster1['P_Label'].astype('category')\n",
    "# Cluster1['N_Label'] = Cluster1['N_Label'].astype('category')\n",
    "# Cluster1"
   ]
  },
  {
   "cell_type": "code",
   "execution_count": null,
   "metadata": {},
   "outputs": [],
   "source": [
    "Cluster1.shape\n"
   ]
  },
  {
   "cell_type": "markdown",
   "metadata": {},
   "source": [
    "## Profiling"
   ]
  },
  {
   "cell_type": "markdown",
   "metadata": {},
   "source": [
    "Now that we have all of the DataSets, let's study all the clusters"
   ]
  },
  {
   "cell_type": "code",
   "execution_count": null,
   "metadata": {},
   "outputs": [],
   "source": [
    "Crosscluster1 = pd.crosstab(Cluster1['P_Label'], Cluster1['C_Label'], \n",
    "                               margins = False) \n",
    "Crosscluster1\n"
   ]
  },
  {
   "cell_type": "code",
   "execution_count": null,
   "metadata": {},
   "outputs": [],
   "source": [
    "Crosscluster2 = pd.crosstab(Cluster1['P_Label'], Cluster1['N_Label'], \n",
    "                               margins = False) \n",
    "Crosscluster2"
   ]
  },
  {
   "cell_type": "code",
   "execution_count": null,
   "metadata": {},
   "outputs": [],
   "source": [
    "Crosscluster3 = pd.crosstab(Cluster1['C_Label'], Cluster1['N_Label'], \n",
    "                               margins = False) \n",
    "Crosscluster3"
   ]
  },
  {
   "cell_type": "code",
   "execution_count": null,
   "metadata": {},
   "outputs": [],
   "source": [
    "crostab_f = pd.crosstab(Cluster1['C_Label'], [Cluster1['P_Label'], Cluster1['N_Label']])\n",
    "crostab_f"
   ]
  },
  {
   "cell_type": "markdown",
   "metadata": {},
   "source": [
    "#### Marketing Approach and decision"
   ]
  },
  {
   "cell_type": "markdown",
   "metadata": {},
   "source": [
    "Let's minimize the number of clusters based on the Crosstabs"
   ]
  },
  {
   "cell_type": "code",
   "execution_count": null,
   "metadata": {},
   "outputs": [],
   "source": [
    "dff = Cluster1\n",
    "dff.columns"
   ]
  },
  {
   "cell_type": "code",
   "execution_count": null,
   "metadata": {},
   "outputs": [],
   "source": [
    "Crosscluster1"
   ]
  },
  {
   "cell_type": "code",
   "execution_count": null,
   "metadata": {},
   "outputs": [],
   "source": [
    "pd.crosstab(dff['P_Label'], dff['C_Label'], \n",
    "                               margins = False) \n",
    "# pd.crosstab(dff['N_Label'], dff['C_Label'], \n",
    "#                                margins = False) \n",
    "# pd.crosstab(dff['P_Label'], dff['N_Label'], \n",
    "#                                margins = False) \n",
    "# dff['P_Label'].value_counts()"
   ]
  },
  {
   "cell_type": "markdown",
   "metadata": {},
   "source": [
    "Now that we will analyse each one the variables inside the clusters"
   ]
  },
  {
   "cell_type": "code",
   "execution_count": null,
   "metadata": {
    "scrolled": true
   },
   "outputs": [],
   "source": [
    "crostab_f"
   ]
  },
  {
   "cell_type": "markdown",
   "metadata": {},
   "source": [
    "#### Let's create the new DF with the clusters"
   ]
  },
  {
   "cell_type": "code",
   "execution_count": null,
   "metadata": {},
   "outputs": [],
   "source": [
    "dff[\"P_Label\"] = dff[\"P_Label\"].astype(str)\n",
    "dff[\"N_Label\"] = dff[\"N_Label\"].astype(str)\n",
    "dff[\"C_Label\"] = dff[\"C_Label\"].astype(str)\n",
    "dff[\"F_label\"] = (dff[\"P_Label\"] + dff[\"N_Label\"] + dff[\"C_Label\"])\n",
    "dff[\"F_label\"] .value_counts()\n",
    "\n",
    "# dff['F_label'].replace(to_replace = {\"0.00.00.0\" : \"Sub a\",   \n",
    "# \"0.00.01.0\"  : \"Sub b\"   ,\n",
    "# \"0.01.01.0\"     : \"Sub c\",\n",
    "# \"0.02.00.0\"      : \"Sub d\",\n",
    "# \"0.02.01.0\"     : \"Sub e\",\n",
    "# \"1.00.00.0\"      : \"Sub f\",\n",
    "# \"1.02.00.0\"      : \"Sub g\",\n",
    "# '1.01.01.0'      : \"Sub h\",\n",
    "# \"1.02.01.0\"      : \"Sub i\",\n",
    "# \"1.01.00.0\"      : \"Sub j\",\n",
    "# \"0.01.00.0\"       : \"Sub k\",\n",
    "# \"1.00.01.0\"    : \"Sub l\"\n",
    "    \n",
    "# }, inplace=True\n",
    "# )\n"
   ]
  },
  {
   "cell_type": "code",
   "execution_count": null,
   "metadata": {
    "scrolled": true
   },
   "outputs": [],
   "source": [
    "#Split the ratio into three parts\n",
    "customer = ['Customer Identity','Gross Monthly Salary','Claims Rate','Customer Monetary Value','Age','Fidelity']\n",
    "premiums = ['Customer Identity','Premiums in LOB: Motor','Premiums in LOB: Household','Premiums in LOB: Health',\n",
    "         'Premiums in LOB:  Life','Premiums in LOB: Work Compensations']\n",
    "nominal = ['Customer Identity','Educational Degree','Geographic Living Area','Has Children (Y=1)']"
   ]
  },
  {
   "cell_type": "code",
   "execution_count": null,
   "metadata": {},
   "outputs": [],
   "source": [
    "dff1 = dff\n",
    "ratio = ['F_label','Premiums in LOB: Motor','Premiums in LOB: Household','Premiums in LOB: Health',\n",
    "         'Premiums in LOB:  Life','Premiums in LOB: Work Compensations','Gross Monthly Salary','Claims Rate','Customer Monetary Value']\n",
    "categorical = ['F_label','Educational Degree','Geographic Living Area','Has Children (Y=1)']"
   ]
  },
  {
   "cell_type": "code",
   "execution_count": null,
   "metadata": {},
   "outputs": [],
   "source": [
    "dff2 = dff1[categorical]\n",
    "dff2\n",
    "pd.crosstab(dff2['F_label'], dff2['Educational Degree'], \n",
    "                               margins = False)\n",
    "pd.crosstab(dff2['F_label'], dff2['Geographic Living Area'], \n",
    "                               margins = False)\n",
    "pd.crosstab(dff2['F_label'], dff2['Has Children (Y=1)'], \n",
    "                               margins = False)"
   ]
  },
  {
   "cell_type": "code",
   "execution_count": null,
   "metadata": {},
   "outputs": [],
   "source": [
    "dff['F_label'].value_counts()"
   ]
  },
  {
   "cell_type": "code",
   "execution_count": null,
   "metadata": {},
   "outputs": [],
   "source": [
    "dff1 = dff\n",
    "ratio = ['F_label','Premiums in LOB: Motor','Premiums in LOB: Household','Premiums in LOB: Health',\n",
    "         'Premiums in LOB:  Life','Premiums in LOB: Work Compensations','Gross Monthly Salary','Claims Rate','Customer Monetary Value',\"Client Spend\"]\n",
    "categorical = ['F_label','Educational Degree','Geographic Living Area','Has Children (Y=1)']\n",
    "dff1"
   ]
  },
  {
   "cell_type": "code",
   "execution_count": null,
   "metadata": {},
   "outputs": [],
   "source": [
    "dff2 = dff1[categorical]\n",
    "dff2\n",
    "pd.crosstab(dff2['F_label'], dff2['Educational Degree'], \n",
    "                               margins = False)\n",
    "pd.crosstab(dff2['F_label'], dff2['Geographic Living Area'], \n",
    "                               margins = False)\n",
    "pd.crosstab(dff2['F_label'], dff2['Has Children (Y=1)'], \n",
    "                               margins = False)"
   ]
  },
  {
   "cell_type": "code",
   "execution_count": null,
   "metadata": {},
   "outputs": [],
   "source": [
    "dff1[ratio].groupby('F_label').mean()"
   ]
  },
  {
   "cell_type": "code",
   "execution_count": null,
   "metadata": {},
   "outputs": [],
   "source": []
  },
  {
   "cell_type": "markdown",
   "metadata": {},
   "source": [
    "### Plotting the Variables with the Clusters"
   ]
  },
  {
   "cell_type": "markdown",
   "metadata": {},
   "source": [
    "##### Gross Monthly Salary"
   ]
  },
  {
   "cell_type": "code",
   "execution_count": null,
   "metadata": {},
   "outputs": [],
   "source": [
    "ax = sns.boxplot(x=\"C_Label\", y=\"Gross Monthly Salary\", data=dff)\n",
    "\n",
    "# control x and y limits\n",
    "\n",
    "ax.set(ylim=(0, 10000))"
   ]
  },
  {
   "cell_type": "code",
   "execution_count": null,
   "metadata": {},
   "outputs": [],
   "source": [
    "ax = sns.boxplot(x=\"P_Label\", y=\"Gross Monthly Salary\", data=dff)\n",
    "ax.set(ylim=(0, 10000))"
   ]
  },
  {
   "cell_type": "code",
   "execution_count": null,
   "metadata": {},
   "outputs": [],
   "source": [
    "ax = sns.boxplot(x=\"N_Label\", y=\"Gross Monthly Salary\", data=dff)\n",
    "ax.set(ylim=(0, 10000))\n",
    "dff['N_Label'].value_counts()"
   ]
  },
  {
   "cell_type": "markdown",
   "metadata": {},
   "source": [
    "##### Has Children (Y=1)"
   ]
  },
  {
   "cell_type": "code",
   "execution_count": null,
   "metadata": {},
   "outputs": [],
   "source": [
    "pd.crosstab(dff['P_Label'], dff['Has Children (Y=1)'], \n",
    "                               margins = True) #Unbalanced"
   ]
  },
  {
   "cell_type": "code",
   "execution_count": null,
   "metadata": {},
   "outputs": [],
   "source": [
    "pd.crosstab(dff['C_Label'], dff['Has Children (Y=1)'], \n",
    "                               margins = True) #Balanced"
   ]
  },
  {
   "cell_type": "code",
   "execution_count": null,
   "metadata": {},
   "outputs": [],
   "source": [
    "pd.crosstab(dff['N_Label'], dff['Has Children (Y=1)'], \n",
    "                               margins = True) "
   ]
  },
  {
   "cell_type": "markdown",
   "metadata": {},
   "source": [
    "##### Educational Degree"
   ]
  },
  {
   "cell_type": "code",
   "execution_count": null,
   "metadata": {},
   "outputs": [],
   "source": [
    "pd.crosstab(dff['C_Label'], dff['Educational Degree'])\n"
   ]
  },
  {
   "cell_type": "code",
   "execution_count": null,
   "metadata": {},
   "outputs": [],
   "source": [
    "pd.crosstab(dff['C_Label'], dff['Educational Degree'])"
   ]
  },
  {
   "cell_type": "code",
   "execution_count": null,
   "metadata": {},
   "outputs": [],
   "source": [
    "pd.crosstab(dff['N_Label'], dff['Geographic Living Area'])"
   ]
  },
  {
   "cell_type": "markdown",
   "metadata": {},
   "source": [
    "##### Geographic Living Area"
   ]
  },
  {
   "cell_type": "code",
   "execution_count": null,
   "metadata": {},
   "outputs": [],
   "source": [
    "pd.crosstab(dff['P_Label'], dff['Geographic Living Area'])"
   ]
  },
  {
   "cell_type": "code",
   "execution_count": null,
   "metadata": {},
   "outputs": [],
   "source": [
    "pd.crosstab(dff['C_Label'], dff['Geographic Living Area'])"
   ]
  },
  {
   "cell_type": "code",
   "execution_count": null,
   "metadata": {},
   "outputs": [],
   "source": [
    "pd.crosstab(dff['N_Label'], dff['Geographic Living Area'])"
   ]
  },
  {
   "cell_type": "markdown",
   "metadata": {},
   "source": [
    "#### Premiums in LOB: Work Compensations"
   ]
  },
  {
   "cell_type": "code",
   "execution_count": null,
   "metadata": {},
   "outputs": [],
   "source": [
    "ax = sns.boxplot(x=\"C_Label\", y=\"Premiums in LOB: Work Compensations\", data=dff)\n",
    "\n",
    "# control x and y limits\n",
    "\n",
    "ax.set(ylim=(0, 200))"
   ]
  },
  {
   "cell_type": "code",
   "execution_count": null,
   "metadata": {},
   "outputs": [],
   "source": [
    "ax = sns.boxplot(x=\"P_Label\", y=\"Premiums in LOB: Work Compensations\", data=dff)\n",
    "\n",
    "# control x and y limits\n",
    "\n",
    "ax.set(ylim=(0, 200))"
   ]
  },
  {
   "cell_type": "code",
   "execution_count": null,
   "metadata": {},
   "outputs": [],
   "source": [
    "ax = sns.boxplot(x=\"N_Label\", y=\"Premiums in LOB: Work Compensations\", data=dff)\n",
    "\n",
    "# control x and y limits\n",
    "\n",
    "ax.set(ylim=(0, 200))"
   ]
  },
  {
   "cell_type": "code",
   "execution_count": null,
   "metadata": {},
   "outputs": [],
   "source": [
    "fig = px.box(dff, x=\"N_Label\", y=\"Premiums in LOB: Work Compensations\")\n",
    "fig.show()"
   ]
  },
  {
   "cell_type": "markdown",
   "metadata": {},
   "source": [
    "#### Customer Monetary Value"
   ]
  },
  {
   "cell_type": "code",
   "execution_count": null,
   "metadata": {},
   "outputs": [],
   "source": [
    "fig = px.box(dff, x=\"N_Label\", y=\"Customer Monetary Value\")\n",
    "fig.show()"
   ]
  },
  {
   "cell_type": "code",
   "execution_count": null,
   "metadata": {},
   "outputs": [],
   "source": [
    "dff.columns"
   ]
  },
  {
   "cell_type": "code",
   "execution_count": null,
   "metadata": {},
   "outputs": [],
   "source": [
    "dff['Gross Monthly Salary'].describe()"
   ]
  },
  {
   "cell_type": "code",
   "execution_count": null,
   "metadata": {},
   "outputs": [],
   "source": [
    "dff['Age'].describe()"
   ]
  },
  {
   "cell_type": "code",
   "execution_count": null,
   "metadata": {},
   "outputs": [],
   "source": [
    "dfc = dff\n"
   ]
  },
  {
   "cell_type": "code",
   "execution_count": null,
   "metadata": {},
   "outputs": [],
   "source": [
    "cut = pd.cut(dfc['Age'], bins=list(range(15,81,21)))\n",
    "grouped_df = dfc.groupby(cut)['Gross Monthly Salary'].mean().reset_index()\n",
    "grouped_df "
   ]
  },
  {
   "cell_type": "code",
   "execution_count": null,
   "metadata": {},
   "outputs": [],
   "source": []
  },
  {
   "cell_type": "markdown",
   "metadata": {},
   "source": [
    "### Cluster Selection (Second part)"
   ]
  },
  {
   "cell_type": "markdown",
   "metadata": {},
   "source": [
    "#### Customer\n"
   ]
  },
  {
   "cell_type": "code",
   "execution_count": null,
   "metadata": {},
   "outputs": [],
   "source": [
    "from matplotlib import pyplot as plt\n",
    "from sklearn import cluster\n",
    "from sklearn import preprocessing\n",
    "from scipy.cluster.hierarchy import dendrogram, linkage, fcluster\n",
    "from sklearn.preprocessing import StandardScaler"
   ]
  },
  {
   "cell_type": "code",
   "execution_count": null,
   "metadata": {},
   "outputs": [],
   "source": [
    "scaler = StandardScaler()\n",
    "CA_Norm = scaler.fit_transform(cust_clust)\n",
    "CA_Norm = pd.DataFrame(CA_Norm, columns = cust_clust.columns)\n",
    "Z = linkage(CA_Norm,\n",
    "            method = 'ward')\n",
    "Z"
   ]
  },
  {
   "cell_type": "code",
   "execution_count": null,
   "metadata": {},
   "outputs": [],
   "source": [
    "kmeans = KMeans(n_clusters= 3, \n",
    "                random_state=0,\n",
    "                n_init = 5,\n",
    "                max_iter = 200).fit(CA_Norm)\n",
    "idk = np.argsort(kmeans.labels_)\n",
    "print(pd.DataFrame(cust_clust.index[idk],kmeans.labels_[idk]))\n",
    "print(kmeans.transform(cust_clust))\n",
    "# Printing the cluster Customer per \n",
    "print(pd.crosstab(cust_clust.index[idk],kmeans.labels_))\n",
    "\n",
    "kmeansC = kmeans"
   ]
  },
  {
   "cell_type": "markdown",
   "metadata": {},
   "source": [
    "### Interpreting the Clusters"
   ]
  },
  {
   "cell_type": "code",
   "execution_count": null,
   "metadata": {},
   "outputs": [],
   "source": [
    "m = cust_clust.mean()\n",
    "m\n",
    "# TSS (total sum of squares)\n",
    "TSS = cust_clust.shape[0]*cust_clust.var(ddof=0)\n",
    "print(TSS)\n"
   ]
  },
  {
   "cell_type": "code",
   "execution_count": null,
   "metadata": {},
   "outputs": [],
   "source": [
    "#conditional groups size\n",
    "gb = cust_clust.groupby(kmeansC.labels_)\n",
    "nk = gb.size()\n",
    "print(nk)"
   ]
  },
  {
   "cell_type": "code",
   "execution_count": null,
   "metadata": {},
   "outputs": [],
   "source": [
    "#conditional means\n",
    "mk = gb.mean()\n",
    "print(mk)"
   ]
  },
  {
   "cell_type": "code",
   "execution_count": null,
   "metadata": {},
   "outputs": [],
   "source": [
    "#square(difference between cond. means and overall mean)\n",
    "EMk = (mk-m)**2\n",
    "#weighted by the size of the groups\n",
    "EM = EMk.multiply(nk,axis=0)\n",
    "BSS = np.sum(EM,axis=0)\n",
    "print(BSS)\n"
   ]
  },
  {
   "cell_type": "code",
   "execution_count": null,
   "metadata": {},
   "outputs": [],
   "source": [
    "#square of the correlation ratio\n",
    "#i.e. proportion of variance explained\n",
    "# #for each variable\n",
    "R2 = BSS/TSS\n",
    "print(R2)"
   ]
  },
  {
   "cell_type": "code",
   "execution_count": null,
   "metadata": {},
   "outputs": [],
   "source": [
    "### PCA\n",
    "\n",
    "from sklearn.decomposition import PCA\n",
    "acp = PCA(n_components=3).fit_transform(cust_clust)\n",
    "for couleur,k in zip(['orangered','yellowgreen','gold'],[0,1,2]):\n",
    "    plt.scatter(acp[kmeans.labels_==k,0],acp[kmeans.labels_==k,1],c=couleur)\n",
    "plt.show()    "
   ]
  },
  {
   "cell_type": "code",
   "execution_count": null,
   "metadata": {},
   "outputs": [],
   "source": [
    "#remove the instances corresponding to the group n°0 from the k-means\n",
    "cust_clust_subset = cust_clust.iloc[kmeans.labels_!=0,:]\n",
    "print(cust_clust_subset.shape)\n",
    "    \n",
    "#standardize the new version of the dataset\n",
    "cust_clust_subset_cr = preprocessing.scale(cust_clust_subset)\n",
    "\n",
    "#generate the linkage matrix\n",
    "Z_subset = linkage(cust_clust_subset_cr,method='ward',metric='euclidean')\n",
    "\n",
    "#hac and plotting the dendrogram\n",
    "plt.title(\"CAH\")\n",
    "dendrogram(Z_subset,labels=cust_clust_subset.index,orientation='left',color_threshold=7)\n",
    "plt.show()\n",
    "\n",
    "groupes_subset_cah = fcluster(Z_subset,t=7,criterion='distance')\n",
    "print(groupes_subset_cah)"
   ]
  },
  {
   "cell_type": "markdown",
   "metadata": {},
   "source": [
    "#### Premium"
   ]
  },
  {
   "cell_type": "code",
   "execution_count": null,
   "metadata": {},
   "outputs": [],
   "source": [
    "scaler = StandardScaler()\n",
    "CA_Norm = scaler.fit_transform(prem_clust)\n",
    "CA_Norm = pd.DataFrame(CA_Norm, columns = prem_clust.columns)\n",
    "Z = linkage(CA_Norm,\n",
    "            method = 'ward')\n",
    "Z\n",
    "kmeans = KMeans(n_clusters= 2, \n",
    "                random_state=0,\n",
    "                n_init = 5,\n",
    "                max_iter = 200).fit(CA_Norm)\n",
    "idk = np.argsort(kmeans.labels_)\n",
    "print(pd.DataFrame(prem_clust.index[idk],kmeans.labels_[idk]))\n",
    "print(kmeans.transform(prem_clust))\n",
    "# Printing the cluster Customer per \n",
    "print(pd.crosstab(prem_clust.index[idk],kmeans.labels_))\n",
    "kmeansP = kmeans"
   ]
  },
  {
   "cell_type": "code",
   "execution_count": null,
   "metadata": {},
   "outputs": [],
   "source": [
    "\n",
    "m = prem_clust.mean()\n",
    "m\n",
    "# TSS (total sum of squares)\n",
    "TSS = prem_clust.shape[0]*prem_clust.var(ddof=0)\n",
    "print(TSS)\n",
    "#c onditional groups size\n",
    "gb = prem_clust.groupby(kmeansP.labels_)\n",
    "nk = gb.size()\n",
    "print(nk)\n",
    "#conditional means\n",
    "mk = gb.mean()\n",
    "print(mk)\n",
    "#square(difference between cond. means and overall mean)\n",
    "EMk = (mk-m)**2\n",
    "#weighted by the size of the groups\n",
    "EM = EMk.multiply(nk,axis=0)\n",
    "BSS = np.sum(EM,axis=0)\n",
    "print(BSS)\n",
    "#square of the correlation ratio\n",
    "#i.e. proportion of variance explained\n",
    "#for each variable\n",
    "R2 = BSS/TSS\n",
    "print(R2)"
   ]
  },
  {
   "cell_type": "code",
   "execution_count": null,
   "metadata": {
    "scrolled": true
   },
   "outputs": [],
   "source": [
    "### PCA\n",
    "\n",
    "from sklearn.decomposition import PCA\n",
    "acp = PCA(n_components=3).fit_transform(cust_clust)\n",
    "for couleur,k in zip(['orangered','yellowgreen','gold'],[0,1,2,3]):\n",
    "    plt.scatter(acp[kmeans.labels_==k,0],acp[kmeans.labels_==k,1],c=couleur)\n",
    "plt.show()   "
   ]
  },
  {
   "cell_type": "markdown",
   "metadata": {},
   "source": [
    "#### Nominal"
   ]
  },
  {
   "cell_type": "code",
   "execution_count": null,
   "metadata": {},
   "outputs": [],
   "source": [
    "#KMODES for Nominal\n",
    "from kmodes.kmodes import KModes\n",
    "VE_Cat = insurance_df_ct[['Educational Degree','Geographic Living Area','Has Children (Y=1)']].astype('str')\n",
    "\n",
    "# for j in list(VE_Cat):\n",
    "#     for i in range(VE_Cat.shape[0]):\n",
    "#         if VE_Cat.loc[i,j] =='':\n",
    "#             VE_Cat.loc[i,j] = 'Missing'\n",
    "\n",
    "km = KModes(n_clusters=3, init='random', n_init=50, verbose=1)\n",
    "\n",
    "clusters = km.fit_predict(VE_Cat)\n",
    "\n",
    "kmodesD = km \n",
    "\n"
   ]
  },
  {
   "cell_type": "code",
   "execution_count": null,
   "metadata": {},
   "outputs": [],
   "source": [
    "idk = np.argsort(km.labels_)\n",
    "print(pd.DataFrame(VE_Cat.index[idk],km.labels_[idk]))\n",
    "# Printing the cluster Customer per \n",
    "print(pd.crosstab(VE_Cat.index[idk],km.labels_))"
   ]
  },
  {
   "cell_type": "code",
   "execution_count": null,
   "metadata": {},
   "outputs": [],
   "source": [
    "m = VE_Cat.mean()\n",
    "m\n",
    "# TSS (total sum of squares)\n",
    "TSS = VE_Cat.shape[0]*VE_Cat.var(ddof=0)\n",
    "print(TSS)\n",
    "#c onditional groups size\n",
    "gb = VE_Cat.groupby(km.labels_)\n",
    "nk = gb.size()\n",
    "print(nk)\n",
    "#conditional means\n",
    "mk = gb.count()\n",
    "print(mk)\n",
    "# #square(difference between cond. means and overall mean)\n",
    "# EMk = (mk-m)**2\n",
    "# #weighted by the size of the groups\n",
    "# EM = EMk.multiply(nk,axis=0)\n",
    "# BSS = np.sum(EM,axis=0)\n",
    "# print(BSS)\n",
    "# #square of the correlation ratio\n",
    "# #i.e. proportion of variance explained\n",
    "# #for each variable\n",
    "# R2 = BSS/TSS\n",
    "# print(R2)"
   ]
  },
  {
   "cell_type": "code",
   "execution_count": null,
   "metadata": {},
   "outputs": [],
   "source": [
    "Cluster1.columns"
   ]
  },
  {
   "cell_type": "code",
   "execution_count": null,
   "metadata": {},
   "outputs": [],
   "source": [
    "nominal"
   ]
  },
  {
   "cell_type": "code",
   "execution_count": null,
   "metadata": {
    "scrolled": true
   },
   "outputs": [],
   "source": [
    "pd.crosstab(Cluster1['N_Label'],Cluster1['Educational Degree'],margins=True)"
   ]
  },
  {
   "cell_type": "code",
   "execution_count": null,
   "metadata": {},
   "outputs": [],
   "source": [
    "pd.crosstab(Cluster1['N_Label'],Cluster1['Geographic Living Area'],margins=True)"
   ]
  },
  {
   "cell_type": "code",
   "execution_count": null,
   "metadata": {},
   "outputs": [],
   "source": [
    "pd.crosstab(Cluster1['N_Label'],Cluster1['Has Children (Y=1)'],margins=True)"
   ]
  },
  {
   "cell_type": "markdown",
   "metadata": {},
   "source": [
    "#### All Variables\n",
    "\n"
   ]
  },
  {
   "cell_type": "code",
   "execution_count": null,
   "metadata": {},
   "outputs": [],
   "source": [
    "Cluster1"
   ]
  },
  {
   "cell_type": "markdown",
   "metadata": {},
   "source": [
    "#### Building the new DataFrame with the labels"
   ]
  },
  {
   "cell_type": "code",
   "execution_count": null,
   "metadata": {},
   "outputs": [],
   "source": [
    "m = Cluster1.mean()\n",
    "m\n",
    "# TSS (total sum of squares)\n",
    "TSS = Cluster1.shape[0]*Cluster1.var(ddof=0)\n",
    "# print(TSS)\n",
    "#c onditional groups size\n",
    "gb = Cluster1.groupby(kmeans.labels_)\n",
    "nk = gb.size()\n",
    "print(nk)\n",
    "#conditional means\n",
    "mk = gb.mean()\n",
    "print(mk)\n",
    "#square(difference between cond. means and overall mean)\n",
    "EMk = (mk-m)**2\n",
    "#weighted by the size of the groups\n",
    "EM = EMk.multiply(nk,axis=0)\n",
    "BSS = np.sum(EM,axis=0)\n",
    "print(BSS)\n",
    "#square of the correlation ratio\n",
    "#i.e. proportion of variance explained\n",
    "#for each variable\n",
    "R2 = BSS/TSS\n",
    "print(R2)"
   ]
  },
  {
   "cell_type": "markdown",
   "metadata": {},
   "source": [
    " #### Outliers\n",
    " "
   ]
  },
  {
   "cell_type": "code",
   "execution_count": null,
   "metadata": {},
   "outputs": [],
   "source": [
    "cust_clust_o = insurance_outliers[customer].loc[:,insurance_outliers[customer].columns != \"Customer Identity\"]\n",
    "cust_clust_o"
   ]
  },
  {
   "cell_type": "code",
   "execution_count": null,
   "metadata": {},
   "outputs": [],
   "source": [
    "scaler = StandardScaler()\n",
    "CA_Norm = scaler.fit_transform(cust_clust_o)\n",
    "CA_Norm = pd.DataFrame(CA_Norm, columns = cust_clust_o.columns)\n",
    "Z = linkage(CA_Norm,\n",
    "            method = 'ward')\n",
    "Z\n",
    "kmeans = KMeans(n_clusters= 3, \n",
    "                random_state=0,\n",
    "                n_init = 5,\n",
    "                max_iter = 200).fit(CA_Norm)\n",
    "idk = np.argsort(kmeans.labels_)\n",
    "# print(pd.DataFrame(prem_clust.index[idk],kmeans.labels_[idk]))\n",
    "# print(kmeans.transform(prem_clust))\n",
    "# Printing the cluster Customer per \n",
    "# print(pd.crosstab(prem_clust.index[idk],kmeans.labels_))\n",
    "\n"
   ]
  },
  {
   "cell_type": "code",
   "execution_count": null,
   "metadata": {},
   "outputs": [],
   "source": [
    "m = cust_clust_o.mean()\n",
    "m\n",
    "# TSS (total sum of squares)\n",
    "TSS = cust_clust_o.shape[0]*cust_clust_o.var(ddof=0)\n",
    "print(TSS)\n",
    "#c onditional groups size\n",
    "gb = cust_clust_o.groupby(kmeans.labels_)\n",
    "nk = gb.size()\n",
    "print(nk)\n",
    "#conditional means\n",
    "mk = gb.mean()\n",
    "print(mk)\n",
    "#square(difference between cond. means and overall mean)\n",
    "EMk = (mk-m)**2\n",
    "#weighted by the size of the groups\n",
    "EM = EMk.multiply(nk,axis=0)\n",
    "BSS = np.sum(EM,axis=0)\n",
    "print(BSS)\n",
    "#square of the correlation ratio\n",
    "#i.e. proportion of variance explained\n",
    "#for each variable\n",
    "R2 = BSS/TSS\n",
    "print(R2)"
   ]
  },
  {
   "cell_type": "code",
   "execution_count": null,
   "metadata": {},
   "outputs": [],
   "source": [
    "prem_clust_o = insurance_outliers[premiums].loc[:,insurance_outliers[premiums].columns != \"Customer Identity\"]\n",
    "prem_clust_o \n"
   ]
  },
  {
   "cell_type": "code",
   "execution_count": null,
   "metadata": {},
   "outputs": [],
   "source": [
    "scaler = StandardScaler()\n",
    "CA_Norm = scaler.fit_transform(prem_clust_o)\n",
    "CA_Norm = pd.DataFrame(CA_Norm, columns = prem_clust_o.columns)\n",
    "Z = linkage(CA_Norm,\n",
    "            method = 'ward')\n",
    "Z\n",
    "kmeans = KMeans(n_clusters= 2, \n",
    "                random_state=0,\n",
    "                n_init = 5,\n",
    "                max_iter = 200).fit(CA_Norm)\n",
    "idk = np.argsort(kmeans.labels_)\n",
    "# print(pd.DataFrame(prem_clust.index[idk],kmeans.labels_[idk]))\n",
    "# print(kmeans.transform(prem_clust))\n",
    "# Printing the cluster Customer per \n",
    "# print(pd.crosstab(prem_clust.index[idk],kmeans.labels_))\n",
    "\n"
   ]
  },
  {
   "cell_type": "code",
   "execution_count": null,
   "metadata": {},
   "outputs": [],
   "source": [
    "m = prem_clust_o.mean()\n",
    "m\n",
    "# TSS (total sum of squares)\n",
    "TSS = prem_clust_o.shape[0]*prem_clust_o.var(ddof=0)\n",
    "print(TSS)\n",
    "#c onditional groups size\n",
    "gb = prem_clust_o.groupby(kmeans.labels_)\n",
    "nk = gb.size()\n",
    "print(nk)\n",
    "#conditional means\n",
    "mk = gb.mean()\n",
    "print(mk)\n",
    "#square(difference between cond. means and overall mean)\n",
    "EMk = (mk-m)**2\n",
    "#weighted by the size of the groups\n",
    "EM = EMk.multiply(nk,axis=0)\n",
    "BSS = np.sum(EM,axis=0)\n",
    "print(BSS)\n",
    "#square of the correlation ratio\n",
    "#i.e. proportion of variance explained\n",
    "#for each variable\n",
    "R2 = BSS/TSS\n",
    "print(R2)"
   ]
  },
  {
   "cell_type": "markdown",
   "metadata": {},
   "source": [
    "Decision Tree"
   ]
  },
  {
   "cell_type": "code",
   "execution_count": null,
   "metadata": {},
   "outputs": [],
   "source": [
    "import pandas as pd\n",
    "from sklearn.tree import DecisionTreeClassifier # Import Decision Tree Classifier\n",
    "from sklearn.model_selection import train_test_split # Import train_test_split function\n",
    "from sklearn import metrics\n",
    "prima = dff"
   ]
  },
  {
   "cell_type": "code",
   "execution_count": null,
   "metadata": {},
   "outputs": [],
   "source": [
    "prima.columns"
   ]
  },
  {
   "cell_type": "code",
   "execution_count": null,
   "metadata": {},
   "outputs": [],
   "source": [
    "prima = prima.dropna()"
   ]
  },
  {
   "cell_type": "code",
   "execution_count": null,
   "metadata": {},
   "outputs": [],
   "source": [
    "\n",
    "X = prima[['Premiums in LOB: Motor', 'Premiums in LOB: Household',\n",
    "       'Premiums in LOB: Health', 'Premiums in LOB:  Life',\n",
    "       'Premiums in LOB: Work Compensations','Gross Monthly Salary', 'Claims Rate', 'Customer Monetary Value',\n",
    "       'Client Spend', 'Fidelity','Age']]\n",
    "y = prima['F_label']\n",
    "y\n",
    "\n",
    "X_train, X_test, y_train, y_test = train_test_split(X, y, test_size=0.35, random_state=1)\n",
    "clf = DecisionTreeClassifier()\n",
    "clf = clf.fit(X_train,y_train)\n",
    "y_pred = clf.predict(X_test)\n",
    "print(\"Accuracy:\",metrics.accuracy_score(y_test, y_pred))\n",
    "\n"
   ]
  },
  {
   "cell_type": "code",
   "execution_count": null,
   "metadata": {},
   "outputs": [],
   "source": [
    "# from sklearn.datasets import load_iris\n",
    "# from sklearn import tree\n",
    "# X, y = load_iris(return_X_y=True)\n",
    "# clf = tree.DecisionTreeClassifier()\n",
    "# clf = clf.fit(X,y)\n"
   ]
  },
  {
   "cell_type": "code",
   "execution_count": null,
   "metadata": {},
   "outputs": [],
   "source": [
    "# tree.plot_tree(clf.fit(X,y)) "
   ]
  },
  {
   "cell_type": "markdown",
   "metadata": {},
   "source": [
    "<hr>\n",
    "<b style='color: ##154360;font-size:19px' id=\"references\">References</b><br>\n",
    "\n",
    "<ul>\n",
    "    <li>Smart Vision Europe. <i>What is the CRISP-DM methodology? </i> Available from: <a href=\"https://www.sv-europe.com/crisp-dm-methodology/\" target=\"_blank\">https://www.sv-europe.com/crisp-dm-methodology/</a></li>\n",
    "    <li>website. <i>title</i>. Available from: <a href=\"url\" target=\"_blank\">url</a></li>\n",
    "</ul>\n"
   ]
  },
  {
   "cell_type": "code",
   "execution_count": null,
   "metadata": {},
   "outputs": [],
   "source": []
  },
  {
   "cell_type": "code",
   "execution_count": null,
   "metadata": {},
   "outputs": [],
   "source": []
  },
  {
   "cell_type": "raw",
   "metadata": {},
   "source": []
  }
 ],
 "metadata": {
  "kernelspec": {
   "display_name": "Python 3",
   "language": "python",
   "name": "python3"
  },
  "language_info": {
   "codemirror_mode": {
    "name": "ipython",
    "version": 3
   },
   "file_extension": ".py",
   "mimetype": "text/x-python",
   "name": "python",
   "nbconvert_exporter": "python",
   "pygments_lexer": "ipython3",
   "version": "3.7.3"
  }
 },
 "nbformat": 4,
 "nbformat_minor": 2
}
